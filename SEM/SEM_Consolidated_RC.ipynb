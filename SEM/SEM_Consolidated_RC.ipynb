{
 "cells": [
  {
   "cell_type": "code",
   "execution_count": 1,
   "id": "a9ec38b2",
   "metadata": {},
   "outputs": [],
   "source": [
    "import semopy\n",
    "import pandas as pd\n",
    "import numpy as np\n",
    "import os\n",
    "from joblib import Parallel, delayed\n",
    "import pygsheets"
   ]
  },
  {
   "cell_type": "code",
   "execution_count": 2,
   "id": "a8607799",
   "metadata": {},
   "outputs": [],
   "source": [
    "google_client = pygsheets.authorize(service_file='idea-frm-500603810b1a.json')\n",
    "SEM_ModelEstimates_ConsolidatedRC_google_sheet = google_client.open('Model_Estimates_SEM_Consolidated_RC')\n",
    "SEM_Modelfit_Scores_ConsolidatedRC_google_sheet = google_client.open('ModelFit_Scores_SEM_Consolidated_RC')\n",
    "SEM_FactorScores_ConsolidatedRC_google_sheet = google_client.open('Factor_Scores_SEM_Consolidated_RC') "
   ]
  },
  {
   "cell_type": "code",
   "execution_count": 3,
   "id": "3b4e51c7",
   "metadata": {},
   "outputs": [],
   "source": [
    "consolidated_sem_input_rc = pd.read_csv('SEM_InputData/SEM_Input_Consolidated_5Years.csv')"
   ]
  },
  {
   "cell_type": "code",
   "execution_count": 5,
   "id": "817a4cc3",
   "metadata": {},
   "outputs": [],
   "source": [
    "consolidated_sem_input_rc_norm = pd.DataFrame()\n",
    "for column in consolidated_sem_input_rc.columns:\n",
    "    x = consolidated_sem_input_rc[column]\n",
    "    if column in ['object_id','district', 'revenue_cr']:\n",
    "        consolidated_sem_input_rc_norm[column] = x\n",
    "    else:\n",
    "        normalized = (x-min(x))/(max(x)-min(x))\n",
    "        consolidated_sem_input_rc_norm[column] = normalized"
   ]
  },
  {
   "cell_type": "code",
   "execution_count": 6,
   "id": "ddde027e",
   "metadata": {},
   "outputs": [],
   "source": [
    "structural_model_spec = \"\"\"\n",
    "# measurement model\n",
    "flood_proneness =~ Inundation + assam_dist_from_major_rivers_updated_3857 + sum + GCN250_ARCIII_average + strm_filled_slope_degrees + ndvi + srtm_filled_dem + assam_soil_silt + assam_soil_loamysand + assam_lith_neogene + assam_lith_paleogene + assam_lith_paleozoic + assam_lith_quaternary + assam_lith_tertiary + assam_lith_undevelopedprecambrian + landuse_rangeland + landuse_vegetation\n",
    "demography =~ ind_ppp_UNadj + aged + young + percaay + deprived + nophone + noSanitation + nodrinkingWater + totLivestock\n",
    "infra_access =~ ndbi + proximity_hosptial_rd + proximity_embankment_rd + proximity_rail_rd + proximity_local_rd + proximity_arterial_rd\n",
    "flood_impact =~ population_affected + human_lives_lost + roads_dam + bridges_dam + embankment_total\n",
    "preparedness =~ Count_Total + Count_SDRF + Count_SOPD + Count_RIDF + Sum_Total + Sum_RIDF + Sum_Erosion\n",
    "\n",
    "# regressions\n",
    "flood_impact ~ flood_proneness + demography + infra_access\n",
    "preparedness ~ flood_proneness + demography + infra_access + flood_impact\n",
    "\"\"\""
   ]
  },
  {
   "cell_type": "code",
   "execution_count": 7,
   "id": "f49e0830",
   "metadata": {},
   "outputs": [
    {
     "name": "stdout",
     "output_type": "stream",
     "text": [
      "Error for:  MLW\n"
     ]
    },
    {
     "name": "stderr",
     "output_type": "stream",
     "text": [
      "WARNING:root:Solver didnt converge, see SolverResult.\n",
      "WARNING:root:Solver didnt converge, see SolverResult.\n",
      "WARNING:root:Fisher Information Matrix is not PD.Moore-Penrose inverse will be used instead of Cholesky decomposition. See 10.1109/TSP.2012.2208105.\n"
     ]
    },
    {
     "name": "stdout",
     "output_type": "stream",
     "text": [
      "Error for:  GLS\n"
     ]
    }
   ],
   "source": [
    "for optimiser in ['MLW','ULS','DWLS','WLS','FIML','GLS']:\n",
    "    model = semopy.Model(structural_model_spec)\n",
    "    model.fit(consolidated_sem_input_rc_norm.fillna(0),\n",
    "         obj=optimiser,\n",
    "         solver='SLSQP',\n",
    "        )\n",
    "    \n",
    "    try:\n",
    "        coeff_df = model.inspect()\n",
    "        model_estimates_sheet = SEM_ModelEstimates_ConsolidatedRC_google_sheet.worksheet('title',optimiser)\n",
    "        model_estimates_sheet.clear()\n",
    "        model_estimates_sheet.set_dataframe(coeff_df,(1,1))\n",
    "    except:\n",
    "        print('Error for: ', optimiser)\n",
    "        pass\n",
    "    \n",
    "    try:\n",
    "        stats = semopy.calc_stats(model)\n",
    "        modelfit_scores_sheet = SEM_Modelfit_Scores_ConsolidatedRC_google_sheet.worksheet('title',optimiser)\n",
    "        modelfit_scores_sheet.clear()\n",
    "        modelfit_scores_sheet.set_dataframe(stats,(1,1))\n",
    "    except:\n",
    "        print('Error for: ', optimiser)\n",
    "        pass\n",
    "    \n",
    "    try:\n",
    "        factorScores = model.predict_factors(consolidated_sem_input_rc_norm.fillna(0))\n",
    "        factorscores_sheet = SEM_FactorScores_ConsolidatedRC_google_sheet.worksheet('title',optimiser)\n",
    "        factorscores_sheet.clear()\n",
    "        factorscores_sheet.set_dataframe(factorScores,(1,1))\n",
    "    except:\n",
    "        print('Error for: ', optimiser)\n",
    "        pass"
   ]
  },
  {
   "cell_type": "code",
   "execution_count": 8,
   "id": "9d80c714",
   "metadata": {},
   "outputs": [],
   "source": [
    "#RANDOM EFFECTS\n",
    "model_randomeffects = semopy.ModelEffects(structural_model_spec)\n",
    "model_randomeffects.fit(consolidated_sem_input_rc_norm.fillna(0), group='object_id')\n",
    "\n",
    "coeff_df = model_randomeffects.inspect()\n",
    "model_estimates_sheet = SEM_ModelEstimates_ConsolidatedRC_google_sheet.worksheet('title','RandomEffects')\n",
    "model_estimates_sheet.clear()\n",
    "model_estimates_sheet.set_dataframe(coeff_df,(1,1))\n",
    "\n",
    "factorScores = model_randomeffects.predict_factors(consolidated_sem_input_rc_norm.fillna(0))\n",
    "factorscores_sheet = SEM_FactorScores_ConsolidatedRC_google_sheet.worksheet('title','RandomEffects')\n",
    "factorscores_sheet.clear()\n",
    "factorscores_sheet.set_dataframe(factorScores,(1,1))"
   ]
  },
  {
   "cell_type": "code",
   "execution_count": null,
   "id": "2fc57294",
   "metadata": {},
   "outputs": [],
   "source": []
  }
 ],
 "metadata": {
  "kernelspec": {
   "display_name": "Python 3 (ipykernel)",
   "language": "python",
   "name": "python3"
  },
  "language_info": {
   "codemirror_mode": {
    "name": "ipython",
    "version": 3
   },
   "file_extension": ".py",
   "mimetype": "text/x-python",
   "name": "python",
   "nbconvert_exporter": "python",
   "pygments_lexer": "ipython3",
   "version": "3.9.13"
  }
 },
 "nbformat": 4,
 "nbformat_minor": 5
}
