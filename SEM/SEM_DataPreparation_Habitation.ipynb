{
 "cells": [
  {
   "cell_type": "code",
   "execution_count": 3,
   "id": "1b425e61",
   "metadata": {},
   "outputs": [],
   "source": [
    "import pandas as pd\n",
    "import os\n",
    "import glob\n",
    "import numpy as np\n",
    "import geopandas as gpd"
   ]
  },
  {
   "cell_type": "code",
   "execution_count": 6,
   "id": "2d263db2",
   "metadata": {},
   "outputs": [],
   "source": [
    "raw_input = r\"RawInputData\"\n",
    "points_directory = r\"RawInputData\\svm_points_dec\"\n",
    "sem_input = r\"SEM_InputData\""
   ]
  },
  {
   "cell_type": "code",
   "execution_count": 7,
   "id": "52d914d4",
   "metadata": {},
   "outputs": [],
   "source": [
    "assam_rcs_gdf = gpd.read_file(raw_input+r'/Assam_Revenue_Circles/assam_revenue_circle_nov2022.shp')"
   ]
  },
  {
   "cell_type": "code",
   "execution_count": 8,
   "id": "21d3fae7",
   "metadata": {},
   "outputs": [],
   "source": [
    "assam_habitations_gdf = gpd.read_file(raw_input+r'/Assam_habitation_geosadak/Habitation.shp')"
   ]
  },
  {
   "cell_type": "code",
   "execution_count": 225,
   "id": "13866d99",
   "metadata": {},
   "outputs": [],
   "source": [
    "assam_habitations_rc_gdf = gpd.sjoin(assam_rcs_gdf.to_crs('EPSG:4326'), assam_habitations_gdf.to_crs('EPSG:4326'),\n",
    "                  how='inner', predicate='contains')\n",
    "\n",
    "# Few Habitations are on border and are mapped to multiple reevnue circles. These are very few in number\n",
    "assam_habitations_rc_gdf = assam_habitations_rc_gdf.drop_duplicates(subset='HAB_ID')"
   ]
  },
  {
   "cell_type": "code",
   "execution_count": 197,
   "id": "06574689",
   "metadata": {},
   "outputs": [],
   "source": [
    "demography_pts_files = glob.glob(points_directory+r\"\\demography_pts*\")\n",
    "demography_pts_dfs = []\n",
    "for file in demography_pts_files:\n",
    "    demography_pts_dfs.append(pd.read_csv(file).fillna(0))\n",
    "demography_pts_df = pd.concat(demography_pts_dfs).drop(['x','y','Unnamed: 0'],axis=1)\n",
    "demography_pts_df = demography_pts_df[demography_pts_df.yr>=2018]\n",
    "#convert NA to 0"
   ]
  },
  {
   "cell_type": "code",
   "execution_count": 198,
   "id": "77361d8f",
   "metadata": {},
   "outputs": [],
   "source": [
    "infrastructure_pts_files = glob.glob(points_directory+r\"\\infrastructure_pts*\")\n",
    "infrastructure_pts_dfs = []\n",
    "for file in infrastructure_pts_files:\n",
    "    infrastructure_pts_dfs.append(pd.read_csv(file))\n",
    "infrastructure_pts_df = pd.concat(infrastructure_pts_dfs).drop(['x','y','Unnamed: 0'],axis=1)\n",
    "infrastructure_pts_df = infrastructure_pts_df[infrastructure_pts_df.yr>=2018]\n",
    "#convert NA to 0"
   ]
  },
  {
   "cell_type": "code",
   "execution_count": 199,
   "id": "9f1bf66a",
   "metadata": {},
   "outputs": [],
   "source": [
    "new_built_pts_files = glob.glob(points_directory+r\"\\new_built_pts*\")\n",
    "new_built_pts_dfs = []\n",
    "for file in new_built_pts_files:\n",
    "    new_built_pts_dfs.append(pd.read_csv(file))\n",
    "new_built_pts_df = pd.concat(new_built_pts_dfs).drop(['x','y','Unnamed: 0'],axis=1)"
   ]
  },
  {
   "cell_type": "code",
   "execution_count": 200,
   "id": "20bffcae",
   "metadata": {},
   "outputs": [],
   "source": [
    "new_drnDens_pts_files = glob.glob(points_directory+r\"\\new_drnDens_pts*\")\n",
    "new_drnDens_pts_dfs = []\n",
    "for file in new_drnDens_pts_files:\n",
    "    new_drnDens_pts_dfs.append(pd.read_csv(file))\n",
    "new_drnDens_pts_df = pd.concat(new_drnDens_pts_dfs).drop(['x','y','Unnamed: 0'],axis=1)"
   ]
  },
  {
   "cell_type": "code",
   "execution_count": 201,
   "id": "a47d759f",
   "metadata": {},
   "outputs": [],
   "source": [
    "new_elv_pts_files = glob.glob(points_directory+r\"\\new_elv_pts*\")\n",
    "new_elv_pts_dfs = []\n",
    "for file in new_elv_pts_files:\n",
    "    new_elv_pts_dfs.append(pd.read_csv(file))\n",
    "new_elv_pts_df = pd.concat(new_elv_pts_dfs).drop(['x','y','Unnamed: 0'],axis=1)"
   ]
  },
  {
   "cell_type": "code",
   "execution_count": 202,
   "id": "6253c115",
   "metadata": {},
   "outputs": [],
   "source": [
    "new_gcn_pts_files = glob.glob(points_directory+r\"\\new_gcn_pts*\")\n",
    "new_gcn_pts_dfs = []\n",
    "for file in new_gcn_pts_files:\n",
    "    new_gcn_pts_dfs.append(pd.read_csv(file))\n",
    "new_gcn_pts_df = pd.concat(new_gcn_pts_dfs).drop(['x','y','Unnamed: 0'],axis=1)"
   ]
  },
  {
   "cell_type": "code",
   "execution_count": 203,
   "id": "f1057d8c",
   "metadata": {},
   "outputs": [],
   "source": [
    "new_highfld_pts_files = glob.glob(points_directory+r\"\\new_highfld_01_pts*\")\n",
    "new_highfld_pts_dfs = []\n",
    "for file in new_highfld_pts_files:\n",
    "    new_highfld_pts_dfs.append(pd.read_csv(file))\n",
    "new_highfld_pts_df = pd.concat(new_highfld_pts_dfs).drop(['x','y','Unnamed: 0'],axis=1)\n",
    "#Need not take in the model."
   ]
  },
  {
   "cell_type": "code",
   "execution_count": 204,
   "id": "64d2324e",
   "metadata": {},
   "outputs": [],
   "source": [
    "new_inundation_pts_files = glob.glob(points_directory+r\"\\new_inundation_map_pts*\")\n",
    "new_inundation_pts_dfs = []\n",
    "for file in new_inundation_pts_files:\n",
    "    new_inundation_pts_dfs.append(pd.read_csv(file).fillna(0))\n",
    "new_inundation_pts_df = pd.concat(new_inundation_pts_dfs).drop(['x','y','Unnamed: 0'],axis=1)\n",
    "#convert NA to 0"
   ]
  },
  {
   "cell_type": "code",
   "execution_count": 205,
   "id": "122b4890",
   "metadata": {},
   "outputs": [],
   "source": [
    "new_lu_pts_files = glob.glob(points_directory+r\"\\new_lu_pts*\")\n",
    "new_lu_pts_dfs = []\n",
    "for file in new_lu_pts_files:\n",
    "    new_lu_pts_dfs.append(pd.read_csv(file))\n",
    "new_lu_pts_df = pd.concat(new_lu_pts_dfs).drop(['x','y','Unnamed: 0'],axis=1)"
   ]
  },
  {
   "cell_type": "code",
   "execution_count": 206,
   "id": "0c6df468",
   "metadata": {},
   "outputs": [],
   "source": [
    "new_rain_pts_files = glob.glob(points_directory+r\"\\new_rain_pts*\")\n",
    "new_rain_pts_dfs = []\n",
    "for file in new_rain_pts_files:\n",
    "    new_rain_pts_dfs.append(pd.read_csv(file))\n",
    "new_rain_pts_df = pd.concat(new_rain_pts_dfs).drop(['x','y','Unnamed: 0'],axis=1)"
   ]
  },
  {
   "cell_type": "code",
   "execution_count": 207,
   "id": "6fd42e13",
   "metadata": {},
   "outputs": [],
   "source": [
    "new_rivdist_pts_files = glob.glob(points_directory+r\"\\new_rivdist_pts*\")\n",
    "new_rivdist_pts_dfs = []\n",
    "for file in new_rivdist_pts_files:\n",
    "    new_rivdist_pts_dfs.append(pd.read_csv(file))\n",
    "new_rivdist_pts_df = pd.concat(new_rivdist_pts_dfs).drop(['x','y','Unnamed: 0'],axis=1)"
   ]
  },
  {
   "cell_type": "code",
   "execution_count": 208,
   "id": "6b3f4250",
   "metadata": {},
   "outputs": [],
   "source": [
    "new_slope_pts_files = glob.glob(points_directory+r\"\\new_slope_pts*\")\n",
    "new_slope_pts_dfs = []\n",
    "for file in new_slope_pts_files:\n",
    "    new_slope_pts_dfs.append(pd.read_csv(file))\n",
    "new_slope_pts_df = pd.concat(new_slope_pts_dfs).drop(['x','y','Unnamed: 0'],axis=1)"
   ]
  },
  {
   "cell_type": "code",
   "execution_count": 209,
   "id": "3e95d2e6",
   "metadata": {},
   "outputs": [],
   "source": [
    "new_soil_pts_files = glob.glob(points_directory+r\"\\new_soil_pts*\")\n",
    "new_soil_pts_dfs = []\n",
    "for file in new_soil_pts_files:\n",
    "    new_soil_pts_dfs.append(pd.read_csv(file))\n",
    "new_soil_pts_df = pd.concat(new_soil_pts_dfs).drop(['x','y','Unnamed: 0'],axis=1)"
   ]
  },
  {
   "cell_type": "code",
   "execution_count": 210,
   "id": "a3244ad2",
   "metadata": {},
   "outputs": [],
   "source": [
    "new_veg_pts_files = glob.glob(points_directory+r\"\\new_veg_pts*\")\n",
    "new_veg_pts_dfs = []\n",
    "for file in new_veg_pts_files:\n",
    "    new_veg_pts_dfs.append(pd.read_csv(file))\n",
    "new_veg_pts_df = pd.concat(new_veg_pts_dfs).drop(['x','y','Unnamed: 0'],axis=1)\n"
   ]
  },
  {
   "cell_type": "code",
   "execution_count": 211,
   "id": "b9e46e3f",
   "metadata": {},
   "outputs": [],
   "source": [
    "new_lith_pts_files = glob.glob(points_directory+r\"\\new_lith_pts*\")\n",
    "new_lith_pts_dfs = []\n",
    "for file in new_lith_pts_files:\n",
    "    new_lith_pts_dfs.append(pd.read_csv(file))\n",
    "new_lith_pts_df = pd.concat(new_lith_pts_dfs).drop(['x','y','Unnamed: 0'],axis=1)"
   ]
  },
  {
   "cell_type": "code",
   "execution_count": 441,
   "id": "1ac600ad",
   "metadata": {},
   "outputs": [],
   "source": [
    "list_dfs = [demography_pts_df, infrastructure_pts_df, new_built_pts_df, new_drnDens_pts_df, new_elv_pts_df, new_gcn_pts_df,\n",
    "            new_inundation_pts_df, new_lu_pts_df, new_rain_pts_df, new_rivdist_pts_df, new_slope_pts_df, new_soil_pts_df,\n",
    "            new_veg_pts_df, new_lith_pts_df]\n",
    "\n",
    "MASTER = pd.concat(list_dfs, axis=1)\n",
    "MASTER = MASTER.loc[:,~MASTER.columns.duplicated()].copy()\n",
    "MASTER= MASTER.replace('U/A', np.nan)\n",
    "MASTER= MASTER.astype(float)\n",
    "MASTER['HAB_ID'] = assam_habitations_gdf['HAB_ID']\n",
    "MASTER = MASTER.drop('ID',axis=1)"
   ]
  },
  {
   "cell_type": "code",
   "execution_count": 442,
   "id": "c79d6972",
   "metadata": {},
   "outputs": [],
   "source": [
    "MASTER = MASTER.merge(assam_habitations_rc_gdf[['revenue_cr','object_id','HAB_ID','TOT_POPULA']])"
   ]
  },
  {
   "cell_type": "code",
   "execution_count": 443,
   "id": "dd0625d4",
   "metadata": {},
   "outputs": [],
   "source": [
    "frims = pd.read_csv(raw_input+r'\\frims_damages.csv')\n",
    "#Only few damages details are available from 2018\n",
    "frims_rc = frims.groupby(['object_id','yr'])[['population_affected','crop_area_affected',\n",
    "                                         'human_lives_lost','roads_dam','bridges_dam',\n",
    "                                         'embankment_total']].sum().reset_index()"
   ]
  },
  {
   "cell_type": "code",
   "execution_count": 444,
   "id": "5198dc04",
   "metadata": {},
   "outputs": [],
   "source": [
    "MASTER_FRIMS = MASTER.merge(frims_rc,on=['object_id','yr'])"
   ]
  },
  {
   "cell_type": "code",
   "execution_count": 445,
   "id": "905b060e",
   "metadata": {},
   "outputs": [],
   "source": [
    "frims_per_habitation_dfs = []\n",
    "HAB_ID = MASTER_FRIMS.groupby(['object_id','yr']).apply(lambda x: x['HAB_ID']).reset_index().drop('level_2',axis=1)\n",
    "HAB_ID.columns = ['object_id','yr','HAB_ID']\n",
    "frims_per_habitation_dfs.append(HAB_ID)\n",
    "\n",
    "for col in ['population_affected','human_lives_lost', 'roads_dam', 'bridges_dam', 'embankment_total']:\n",
    "    damages_per_habitation = MASTER_FRIMS.groupby(['object_id','yr']).apply(lambda x: x[col]*x['TOT_POPULA']/x['TOT_POPULA'].sum()).reset_index().drop('level_2',axis=1)\n",
    "    damages_per_habitation.columns = ['object_id','yr', col]\n",
    "    frims_per_habitation_dfs.append(damages_per_habitation)"
   ]
  },
  {
   "cell_type": "code",
   "execution_count": 446,
   "id": "5785f2e7",
   "metadata": {},
   "outputs": [],
   "source": [
    "MASTER_FRIMS = pd.concat(frims_per_habitation_dfs,axis=1)\n",
    "MASTER_FRIMS = MASTER_FRIMS.loc[:,~MASTER_FRIMS.columns.duplicated()].copy()"
   ]
  },
  {
   "cell_type": "code",
   "execution_count": 448,
   "id": "c80939c0",
   "metadata": {},
   "outputs": [],
   "source": [
    "MASTER = MASTER.merge(MASTER_FRIMS.drop('object_id', axis=1),on=['HAB_ID','yr'])"
   ]
  },
  {
   "cell_type": "code",
   "execution_count": 449,
   "id": "08763a2b",
   "metadata": {},
   "outputs": [],
   "source": [
    "procurement = pd.read_csv(raw_input+r'\\procurement.csv')\n",
    "cols = ['Count_Roads_Bridges_Embankments', 'Sum_Roads_Bridges_Embankments',\n",
    "       'Count_Erosion', 'Sum_Erosion', 'Count_IM', 'Sum_IM', 'Count_new_const',\n",
    "       'Sum_new_const', 'Count_repair_rest_imp', 'Sum_repair_rest_imp',\n",
    "       'Count_relief_preparation', 'Sum_relief_preparation', 'Count_goods',\n",
    "       'Sum_goods', 'Count_Total', 'Sum_Total', 'Count_SDRF', 'Sum_SDRF',\n",
    "       'Count_SOPD', 'Sum_SOPD', 'Count_CIDF', 'Sum_CIDF', 'Count_LTIF',\n",
    "       'Sum_LTIF', 'Count_RIDF', 'Sum_RIDF']\n",
    "procurement_rc = procurement.groupby(['object_id','yr'])[cols].sum().reset_index()\n",
    "#Not every revenue circle has procurement done."
   ]
  },
  {
   "cell_type": "code",
   "execution_count": 450,
   "id": "5be87eb7",
   "metadata": {},
   "outputs": [],
   "source": [
    "MASTER_PROC = MASTER.merge(procurement_rc, on=['object_id','yr'],how='left')\n",
    "#Not every revenue circle has procurement done.\n",
    "MASTER_PROC = MASTER_PROC.fillna(0)"
   ]
  },
  {
   "cell_type": "code",
   "execution_count": 451,
   "id": "3a324053",
   "metadata": {},
   "outputs": [],
   "source": [
    "procurement_per_habitation_dfs = []\n",
    "HAB_ID = MASTER_PROC.groupby(['object_id','yr']).apply(lambda x: x['HAB_ID']).reset_index().drop('level_2',axis=1)\n",
    "HAB_ID.columns = ['object_id','yr','HAB_ID']\n",
    "procurement_per_habitation_dfs.append(HAB_ID)\n",
    "\n",
    "for col in cols:\n",
    "    proc_per_habitation = MASTER_PROC.groupby(['object_id','yr']).apply(lambda x: x[col]*x['TOT_POPULA']/x['TOT_POPULA'].sum()).reset_index().drop('level_2',axis=1)\n",
    "    proc_per_habitation.columns = ['object_id','yr', col]\n",
    "    procurement_per_habitation_dfs.append(proc_per_habitation)"
   ]
  },
  {
   "cell_type": "code",
   "execution_count": 452,
   "id": "7feb0ec0",
   "metadata": {},
   "outputs": [],
   "source": [
    "MASTER_PROC = pd.concat(procurement_per_habitation_dfs,axis=1)\n",
    "MASTER_PROC = MASTER_PROC.loc[:,~MASTER_PROC.columns.duplicated()].copy()"
   ]
  },
  {
   "cell_type": "code",
   "execution_count": 453,
   "id": "3525b1a5",
   "metadata": {},
   "outputs": [],
   "source": [
    "MASTER = MASTER.merge(MASTER_PROC.drop('object_id', axis=1),on=['HAB_ID','yr'])"
   ]
  },
  {
   "cell_type": "code",
   "execution_count": 457,
   "id": "da5844c8",
   "metadata": {},
   "outputs": [],
   "source": [
    "MASTER.to_csv(sem_input+r'/SEM_Input_HabitationLevel_yearly.csv',index=False)"
   ]
  },
  {
   "cell_type": "code",
   "execution_count": 538,
   "id": "c3958c23",
   "metadata": {},
   "outputs": [
    {
     "data": {
      "text/plain": [
       "0         2.0\n",
       "1         3.0\n",
       "2         2.0\n",
       "3         3.0\n",
       "4         3.0\n",
       "         ... \n",
       "196740    5.0\n",
       "196741    5.0\n",
       "196742    5.0\n",
       "196743    5.0\n",
       "196744    5.0\n",
       "Name: land use, Length: 196745, dtype: float64"
      ]
     },
     "execution_count": 538,
     "metadata": {},
     "output_type": "execute_result"
    }
   ],
   "source": [
    "#RF IMPUTATION\n",
    "MASTER['land use']"
   ]
  },
  {
   "cell_type": "code",
   "execution_count": null,
   "id": "a888e1e6",
   "metadata": {},
   "outputs": [],
   "source": []
  },
  {
   "cell_type": "code",
   "execution_count": null,
   "id": "7080b51d",
   "metadata": {},
   "outputs": [],
   "source": []
  },
  {
   "cell_type": "code",
   "execution_count": null,
   "id": "091d0cd9",
   "metadata": {},
   "outputs": [],
   "source": []
  },
  {
   "cell_type": "code",
   "execution_count": null,
   "id": "1281cae2",
   "metadata": {},
   "outputs": [],
   "source": []
  },
  {
   "cell_type": "code",
   "execution_count": null,
   "id": "44400630",
   "metadata": {},
   "outputs": [],
   "source": []
  },
  {
   "cell_type": "code",
   "execution_count": 465,
   "id": "378bf09b",
   "metadata": {},
   "outputs": [
    {
     "name": "stderr",
     "output_type": "stream",
     "text": [
      "C:\\Users\\saikr\\AppData\\Local\\Temp/ipykernel_6840/2861166275.py:2: FutureWarning: Indexing with multiple keys (implicitly converted to a tuple of keys) will be deprecated, use a list instead.\n",
      "  MASTER_FRIMS_PROC_CONOSLIDATED = MASTER.groupby('HAB_ID')['population_affected', 'human_lives_lost', 'roads_dam', 'bridges_dam',\n"
     ]
    }
   ],
   "source": [
    "# Consolidated SEM Input\n",
    "MASTER_FRIMS_PROC_CONSOLIDATED = MASTER.groupby('HAB_ID')['population_affected', 'human_lives_lost', 'roads_dam', 'bridges_dam',\n",
    "       'embankment_total', 'Count_Roads_Bridges_Embankments',\n",
    "       'Sum_Roads_Bridges_Embankments', 'Count_Erosion', 'Sum_Erosion',\n",
    "       'Count_IM', 'Sum_IM', 'Count_new_const', 'Sum_new_const',\n",
    "       'Count_repair_rest_imp', 'Sum_repair_rest_imp',\n",
    "       'Count_relief_preparation', 'Sum_relief_preparation', 'Count_goods',\n",
    "       'Sum_goods', 'Count_Total', 'Sum_Total', 'Count_SDRF', 'Sum_SDRF',\n",
    "       'Count_SOPD', 'Sum_SOPD', 'Count_CIDF', 'Sum_CIDF', 'Count_LTIF',\n",
    "       'Sum_LTIF', 'Count_RIDF', 'Sum_RIDF'].sum().reset_index()"
   ]
  },
  {
   "cell_type": "code",
   "execution_count": 469,
   "id": "7051b47b",
   "metadata": {},
   "outputs": [
    {
     "name": "stderr",
     "output_type": "stream",
     "text": [
      "C:\\Users\\saikr\\AppData\\Local\\Temp/ipykernel_6840/872187718.py:1: FutureWarning: Indexing with multiple keys (implicitly converted to a tuple of keys) will be deprecated, use a list instead.\n",
      "  MASTER_DEMOG_INFRA_FLOOD_CONSOLIDATED = MASTER.groupby('HAB_ID')['ind_ppp_UNadj', 'aged', 'young', 'sexratio', 'percaay', 'deprived',\n"
     ]
    }
   ],
   "source": [
    "MASTER_DEMOG_INFRA_FLOOD_CONSOLIDATED = MASTER.groupby('HAB_ID')['ind_ppp_UNadj', 'aged', 'young', 'sexratio', 'percaay', 'deprived',\n",
    "       'nophone', 'noSanitation', 'nodrinkingWater', 'totLivestock','proximity_hosptial_rd', 'proximity_embankment_rd', 'proximity_rail_rd',\n",
    "       'proximity_local_rd', 'proximity_arterial_rd', 'ndbi',\n",
    "       'gmted_drainage_density_without_1', 'srtm_filled_dem',\n",
    "       'GCN250_ARCIII_average', 'Inundation','sum',\n",
    "       'assam_dist_from_major_rivers_updated_3857',\n",
    "       'strm_filled_slope_degrees', 'ndvi','TOT_POPULA'].mean().reset_index()"
   ]
  },
  {
   "cell_type": "code",
   "execution_count": 480,
   "id": "6f0b1437",
   "metadata": {},
   "outputs": [
    {
     "ename": "IndexError",
     "evalue": "index 0 is out of bounds for axis 0 with size 0",
     "output_type": "error",
     "traceback": [
      "\u001b[1;31m---------------------------------------------------------------------------\u001b[0m",
      "\u001b[1;31mIndexError\u001b[0m                                Traceback (most recent call last)",
      "\u001b[1;32m~\\AppData\\Local\\Temp/ipykernel_6840/1475843214.py\u001b[0m in \u001b[0;36m<module>\u001b[1;34m\u001b[0m\n\u001b[0;32m      1\u001b[0m \u001b[1;32mfor\u001b[0m \u001b[0mcol\u001b[0m \u001b[1;32min\u001b[0m \u001b[1;33m[\u001b[0m\u001b[1;34m'HAB_ID'\u001b[0m\u001b[1;33m,\u001b[0m \u001b[1;34m'assam_soil'\u001b[0m\u001b[1;33m,\u001b[0m \u001b[1;34m'land use'\u001b[0m\u001b[1;33m,\u001b[0m \u001b[1;34m'assam_lith'\u001b[0m\u001b[1;33m]\u001b[0m\u001b[1;33m:\u001b[0m\u001b[1;33m\u001b[0m\u001b[1;33m\u001b[0m\u001b[0m\n\u001b[1;32m----> 2\u001b[1;33m     \u001b[0mc\u001b[0m \u001b[1;33m=\u001b[0m \u001b[0mMASTER\u001b[0m\u001b[1;33m.\u001b[0m\u001b[0mgroupby\u001b[0m\u001b[1;33m(\u001b[0m\u001b[1;34m'HAB_ID'\u001b[0m\u001b[1;33m)\u001b[0m\u001b[1;33m.\u001b[0m\u001b[0mapply\u001b[0m\u001b[1;33m(\u001b[0m\u001b[1;32mlambda\u001b[0m \u001b[0mx\u001b[0m\u001b[1;33m:\u001b[0m\u001b[0mx\u001b[0m\u001b[1;33m[\u001b[0m\u001b[0mcol\u001b[0m\u001b[1;33m]\u001b[0m\u001b[1;33m.\u001b[0m\u001b[0mvalue_counts\u001b[0m\u001b[1;33m(\u001b[0m\u001b[1;33m)\u001b[0m\u001b[1;33m.\u001b[0m\u001b[0mindex\u001b[0m\u001b[1;33m[\u001b[0m\u001b[1;36m0\u001b[0m\u001b[1;33m]\u001b[0m\u001b[1;33m)\u001b[0m\u001b[1;33m\u001b[0m\u001b[1;33m\u001b[0m\u001b[0m\n\u001b[0m",
      "\u001b[1;32m~\\anaconda3\\lib\\site-packages\\pandas\\core\\groupby\\groupby.py\u001b[0m in \u001b[0;36mapply\u001b[1;34m(self, func, *args, **kwargs)\u001b[0m\n\u001b[0;32m   1273\u001b[0m         \u001b[1;32mwith\u001b[0m \u001b[0moption_context\u001b[0m\u001b[1;33m(\u001b[0m\u001b[1;34m\"mode.chained_assignment\"\u001b[0m\u001b[1;33m,\u001b[0m \u001b[1;32mNone\u001b[0m\u001b[1;33m)\u001b[0m\u001b[1;33m:\u001b[0m\u001b[1;33m\u001b[0m\u001b[1;33m\u001b[0m\u001b[0m\n\u001b[0;32m   1274\u001b[0m             \u001b[1;32mtry\u001b[0m\u001b[1;33m:\u001b[0m\u001b[1;33m\u001b[0m\u001b[1;33m\u001b[0m\u001b[0m\n\u001b[1;32m-> 1275\u001b[1;33m                 \u001b[0mresult\u001b[0m \u001b[1;33m=\u001b[0m \u001b[0mself\u001b[0m\u001b[1;33m.\u001b[0m\u001b[0m_python_apply_general\u001b[0m\u001b[1;33m(\u001b[0m\u001b[0mf\u001b[0m\u001b[1;33m,\u001b[0m \u001b[0mself\u001b[0m\u001b[1;33m.\u001b[0m\u001b[0m_selected_obj\u001b[0m\u001b[1;33m)\u001b[0m\u001b[1;33m\u001b[0m\u001b[1;33m\u001b[0m\u001b[0m\n\u001b[0m\u001b[0;32m   1276\u001b[0m             \u001b[1;32mexcept\u001b[0m \u001b[0mTypeError\u001b[0m\u001b[1;33m:\u001b[0m\u001b[1;33m\u001b[0m\u001b[1;33m\u001b[0m\u001b[0m\n\u001b[0;32m   1277\u001b[0m                 \u001b[1;31m# gh-20949\u001b[0m\u001b[1;33m\u001b[0m\u001b[1;33m\u001b[0m\u001b[0m\n",
      "\u001b[1;32m~\\anaconda3\\lib\\site-packages\\pandas\\core\\groupby\\groupby.py\u001b[0m in \u001b[0;36m_python_apply_general\u001b[1;34m(self, f, data)\u001b[0m\n\u001b[0;32m   1307\u001b[0m             \u001b[0mdata\u001b[0m \u001b[0mafter\u001b[0m \u001b[0mapplying\u001b[0m \u001b[0mf\u001b[0m\u001b[1;33m\u001b[0m\u001b[1;33m\u001b[0m\u001b[0m\n\u001b[0;32m   1308\u001b[0m         \"\"\"\n\u001b[1;32m-> 1309\u001b[1;33m         \u001b[0mkeys\u001b[0m\u001b[1;33m,\u001b[0m \u001b[0mvalues\u001b[0m\u001b[1;33m,\u001b[0m \u001b[0mmutated\u001b[0m \u001b[1;33m=\u001b[0m \u001b[0mself\u001b[0m\u001b[1;33m.\u001b[0m\u001b[0mgrouper\u001b[0m\u001b[1;33m.\u001b[0m\u001b[0mapply\u001b[0m\u001b[1;33m(\u001b[0m\u001b[0mf\u001b[0m\u001b[1;33m,\u001b[0m \u001b[0mdata\u001b[0m\u001b[1;33m,\u001b[0m \u001b[0mself\u001b[0m\u001b[1;33m.\u001b[0m\u001b[0maxis\u001b[0m\u001b[1;33m)\u001b[0m\u001b[1;33m\u001b[0m\u001b[1;33m\u001b[0m\u001b[0m\n\u001b[0m\u001b[0;32m   1310\u001b[0m \u001b[1;33m\u001b[0m\u001b[0m\n\u001b[0;32m   1311\u001b[0m         return self._wrap_applied_output(\n",
      "\u001b[1;32m~\\anaconda3\\lib\\site-packages\\pandas\\core\\groupby\\ops.py\u001b[0m in \u001b[0;36mapply\u001b[1;34m(self, f, data, axis)\u001b[0m\n\u001b[0;32m    839\u001b[0m             \u001b[1;31m# group might be modified\u001b[0m\u001b[1;33m\u001b[0m\u001b[1;33m\u001b[0m\u001b[0m\n\u001b[0;32m    840\u001b[0m             \u001b[0mgroup_axes\u001b[0m \u001b[1;33m=\u001b[0m \u001b[0mgroup\u001b[0m\u001b[1;33m.\u001b[0m\u001b[0maxes\u001b[0m\u001b[1;33m\u001b[0m\u001b[1;33m\u001b[0m\u001b[0m\n\u001b[1;32m--> 841\u001b[1;33m             \u001b[0mres\u001b[0m \u001b[1;33m=\u001b[0m \u001b[0mf\u001b[0m\u001b[1;33m(\u001b[0m\u001b[0mgroup\u001b[0m\u001b[1;33m)\u001b[0m\u001b[1;33m\u001b[0m\u001b[1;33m\u001b[0m\u001b[0m\n\u001b[0m\u001b[0;32m    842\u001b[0m             \u001b[1;32mif\u001b[0m \u001b[1;32mnot\u001b[0m \u001b[0m_is_indexed_like\u001b[0m\u001b[1;33m(\u001b[0m\u001b[0mres\u001b[0m\u001b[1;33m,\u001b[0m \u001b[0mgroup_axes\u001b[0m\u001b[1;33m,\u001b[0m \u001b[0maxis\u001b[0m\u001b[1;33m)\u001b[0m\u001b[1;33m:\u001b[0m\u001b[1;33m\u001b[0m\u001b[1;33m\u001b[0m\u001b[0m\n\u001b[0;32m    843\u001b[0m                 \u001b[0mmutated\u001b[0m \u001b[1;33m=\u001b[0m \u001b[1;32mTrue\u001b[0m\u001b[1;33m\u001b[0m\u001b[1;33m\u001b[0m\u001b[0m\n",
      "\u001b[1;32m~\\AppData\\Local\\Temp/ipykernel_6840/1475843214.py\u001b[0m in \u001b[0;36m<lambda>\u001b[1;34m(x)\u001b[0m\n\u001b[0;32m      1\u001b[0m \u001b[1;32mfor\u001b[0m \u001b[0mcol\u001b[0m \u001b[1;32min\u001b[0m \u001b[1;33m[\u001b[0m\u001b[1;34m'HAB_ID'\u001b[0m\u001b[1;33m,\u001b[0m \u001b[1;34m'assam_soil'\u001b[0m\u001b[1;33m,\u001b[0m \u001b[1;34m'land use'\u001b[0m\u001b[1;33m,\u001b[0m \u001b[1;34m'assam_lith'\u001b[0m\u001b[1;33m]\u001b[0m\u001b[1;33m:\u001b[0m\u001b[1;33m\u001b[0m\u001b[1;33m\u001b[0m\u001b[0m\n\u001b[1;32m----> 2\u001b[1;33m     \u001b[0mc\u001b[0m \u001b[1;33m=\u001b[0m \u001b[0mMASTER\u001b[0m\u001b[1;33m.\u001b[0m\u001b[0mgroupby\u001b[0m\u001b[1;33m(\u001b[0m\u001b[1;34m'HAB_ID'\u001b[0m\u001b[1;33m)\u001b[0m\u001b[1;33m.\u001b[0m\u001b[0mapply\u001b[0m\u001b[1;33m(\u001b[0m\u001b[1;32mlambda\u001b[0m \u001b[0mx\u001b[0m\u001b[1;33m:\u001b[0m\u001b[0mx\u001b[0m\u001b[1;33m[\u001b[0m\u001b[0mcol\u001b[0m\u001b[1;33m]\u001b[0m\u001b[1;33m.\u001b[0m\u001b[0mvalue_counts\u001b[0m\u001b[1;33m(\u001b[0m\u001b[1;33m)\u001b[0m\u001b[1;33m.\u001b[0m\u001b[0mindex\u001b[0m\u001b[1;33m[\u001b[0m\u001b[1;36m0\u001b[0m\u001b[1;33m]\u001b[0m\u001b[1;33m)\u001b[0m\u001b[1;33m\u001b[0m\u001b[1;33m\u001b[0m\u001b[0m\n\u001b[0m",
      "\u001b[1;32m~\\anaconda3\\lib\\site-packages\\pandas\\core\\indexes\\base.py\u001b[0m in \u001b[0;36m__getitem__\u001b[1;34m(self, key)\u001b[0m\n\u001b[0;32m   4602\u001b[0m         \u001b[1;32mif\u001b[0m \u001b[0mis_scalar\u001b[0m\u001b[1;33m(\u001b[0m\u001b[0mkey\u001b[0m\u001b[1;33m)\u001b[0m\u001b[1;33m:\u001b[0m\u001b[1;33m\u001b[0m\u001b[1;33m\u001b[0m\u001b[0m\n\u001b[0;32m   4603\u001b[0m             \u001b[0mkey\u001b[0m \u001b[1;33m=\u001b[0m \u001b[0mcom\u001b[0m\u001b[1;33m.\u001b[0m\u001b[0mcast_scalar_indexer\u001b[0m\u001b[1;33m(\u001b[0m\u001b[0mkey\u001b[0m\u001b[1;33m,\u001b[0m \u001b[0mwarn_float\u001b[0m\u001b[1;33m=\u001b[0m\u001b[1;32mTrue\u001b[0m\u001b[1;33m)\u001b[0m\u001b[1;33m\u001b[0m\u001b[1;33m\u001b[0m\u001b[0m\n\u001b[1;32m-> 4604\u001b[1;33m             \u001b[1;32mreturn\u001b[0m \u001b[0mgetitem\u001b[0m\u001b[1;33m(\u001b[0m\u001b[0mkey\u001b[0m\u001b[1;33m)\u001b[0m\u001b[1;33m\u001b[0m\u001b[1;33m\u001b[0m\u001b[0m\n\u001b[0m\u001b[0;32m   4605\u001b[0m \u001b[1;33m\u001b[0m\u001b[0m\n\u001b[0;32m   4606\u001b[0m         \u001b[1;32mif\u001b[0m \u001b[0misinstance\u001b[0m\u001b[1;33m(\u001b[0m\u001b[0mkey\u001b[0m\u001b[1;33m,\u001b[0m \u001b[0mslice\u001b[0m\u001b[1;33m)\u001b[0m\u001b[1;33m:\u001b[0m\u001b[1;33m\u001b[0m\u001b[1;33m\u001b[0m\u001b[0m\n",
      "\u001b[1;31mIndexError\u001b[0m: index 0 is out of bounds for axis 0 with size 0"
     ]
    }
   ],
   "source": [
    "for col in ['assam_soil', 'land use', 'assam_lith']:\n",
    "    c = MASTER.groupby('HAB_ID').apply(lambda x:x[col].value_counts().index[0])"
   ]
  },
  {
   "cell_type": "code",
   "execution_count": 529,
   "id": "fd42a3bf",
   "metadata": {},
   "outputs": [],
   "source": [
    "l = MASTER[['land use','HAB_ID']].groupby('HAB_ID').agg(lambda x:x.value_counts().index[0])"
   ]
  },
  {
   "cell_type": "code",
   "execution_count": 530,
   "id": "a7056b58",
   "metadata": {},
   "outputs": [
    {
     "data": {
      "text/html": [
       "<div>\n",
       "<style scoped>\n",
       "    .dataframe tbody tr th:only-of-type {\n",
       "        vertical-align: middle;\n",
       "    }\n",
       "\n",
       "    .dataframe tbody tr th {\n",
       "        vertical-align: top;\n",
       "    }\n",
       "\n",
       "    .dataframe thead th {\n",
       "        text-align: right;\n",
       "    }\n",
       "</style>\n",
       "<table border=\"1\" class=\"dataframe\">\n",
       "  <thead>\n",
       "    <tr style=\"text-align: right;\">\n",
       "      <th></th>\n",
       "      <th>land use</th>\n",
       "    </tr>\n",
       "    <tr>\n",
       "      <th>HAB_ID</th>\n",
       "      <th></th>\n",
       "    </tr>\n",
       "  </thead>\n",
       "  <tbody>\n",
       "    <tr>\n",
       "      <th>1476</th>\n",
       "      <td>2.0</td>\n",
       "    </tr>\n",
       "    <tr>\n",
       "      <th>1481</th>\n",
       "      <td>2.0</td>\n",
       "    </tr>\n",
       "    <tr>\n",
       "      <th>1482</th>\n",
       "      <td>3.0</td>\n",
       "    </tr>\n",
       "    <tr>\n",
       "      <th>1487</th>\n",
       "      <td>2.0</td>\n",
       "    </tr>\n",
       "    <tr>\n",
       "      <th>1490</th>\n",
       "      <td>2.0</td>\n",
       "    </tr>\n",
       "    <tr>\n",
       "      <th>...</th>\n",
       "      <td>...</td>\n",
       "    </tr>\n",
       "    <tr>\n",
       "      <th>1399553</th>\n",
       "      <td>3.0</td>\n",
       "    </tr>\n",
       "    <tr>\n",
       "      <th>1399554</th>\n",
       "      <td>3.0</td>\n",
       "    </tr>\n",
       "    <tr>\n",
       "      <th>1399555</th>\n",
       "      <td>3.0</td>\n",
       "    </tr>\n",
       "    <tr>\n",
       "      <th>1399890</th>\n",
       "      <td>3.0</td>\n",
       "    </tr>\n",
       "    <tr>\n",
       "      <th>1403055</th>\n",
       "      <td>2.0</td>\n",
       "    </tr>\n",
       "  </tbody>\n",
       "</table>\n",
       "<p>39349 rows × 1 columns</p>\n",
       "</div>"
      ],
      "text/plain": [
       "         land use\n",
       "HAB_ID           \n",
       "1476          2.0\n",
       "1481          2.0\n",
       "1482          3.0\n",
       "1487          2.0\n",
       "1490          2.0\n",
       "...           ...\n",
       "1399553       3.0\n",
       "1399554       3.0\n",
       "1399555       3.0\n",
       "1399890       3.0\n",
       "1403055       2.0\n",
       "\n",
       "[39349 rows x 1 columns]"
      ]
     },
     "execution_count": 530,
     "metadata": {},
     "output_type": "execute_result"
    }
   ],
   "source": [
    "l"
   ]
  },
  {
   "cell_type": "code",
   "execution_count": 10,
   "id": "83ebcd98",
   "metadata": {},
   "outputs": [],
   "source": [
    "#Convert categorical variables using dictionary.\n",
    "\n",
    "lu_dict = {1: \"water\",\n",
    "           2: \"vegetation\",\n",
    "           3: \"built\",\n",
    "           4: \"range land\",\n",
    "           5: \"bare ground\"}\n",
    "\n",
    "soil_dict = {56: \"clay, loamy clay, sandy clay, silty clay\",\n",
    "            254: \"rocky, other non-soil categories\",\n",
    "            255: \"loamy sand, sand\",\n",
    "            230:\"loam, silt loam, silt, sandy loam\"}\n",
    "\n",
    "lith_dict = {1:\"water\",\n",
    "             2:\"metamorphic, mesozoic and paleozoic intusive\",\n",
    "             3:\"neogene sedimentary rock\",\n",
    "             4:\"undeveloped precambrian rock\",\n",
    "             5:\"paleogene sedementary rock\",\n",
    "             6:\"paleozoic rock\",\n",
    "             7:\"quaternary sediments\",\n",
    "             8:\"tertiary sedimentary rocks\"}\n",
    "\n",
    "MASTER = MASTER.replace({\"assam_soil\": soil_dict,\n",
    "                             \"assam_lith\":lith_dict,\n",
    "                            \"land use\":lu_dict})"
   ]
  },
  {
   "cell_type": "code",
   "execution_count": null,
   "id": "65b432e7",
   "metadata": {},
   "outputs": [],
   "source": []
  },
  {
   "cell_type": "code",
   "execution_count": 14,
   "id": "89e75692",
   "metadata": {},
   "outputs": [],
   "source": [
    "MASTER_2018 = MASTER[MASTER['yr']>=2018]\n",
    "MASTER_2018.to_csv('D:/Projects/IDEA-FRM/InputData/SEM_Input_2018.csv',index=False)"
   ]
  },
  {
   "cell_type": "code",
   "execution_count": null,
   "id": "35faf6c3",
   "metadata": {},
   "outputs": [],
   "source": [
    "one_hot_encoded_data = pd.get_dummies(MASTER_2018,\n",
    "                                      columns = ['assam_soil', 'assam_lith','land use'],\n",
    "                                      dummy_na=True,\n",
    "                                      drop_first=True)\n",
    "one_hot_encoded_data"
   ]
  },
  {
   "cell_type": "code",
   "execution_count": null,
   "id": "20b8447e",
   "metadata": {},
   "outputs": [],
   "source": [
    "#Ensuring OHE data represents Null values. \n",
    "one_hot_encoded_data.loc[one_hot_encoded_data.assam_soil_nan == 1,\n",
    "                         \n",
    "                         [#\"assam_soil_clay, loamy clay, sandy clay, silty clay\", reference\n",
    "                          \"assam_soil_loamy sand, sand\",\n",
    "                         \"assam_soil_rocky, other non-soil categories\",\n",
    "                         \"assam_soil_loam, silt loam, silt, sandy loam\"]\n",
    "                         \n",
    "                        ] = np.nan\n",
    "\n",
    "del one_hot_encoded_data[\"assam_soil_nan\"]\n",
    "\n",
    "\n",
    "one_hot_encoded_data.loc[one_hot_encoded_data.assam_lith_nan == 1,\n",
    "                         \n",
    "                         [#\"assam_lith_metamorphic, mesozoic and paleozoic intusive\", reference\n",
    "                          \"assam_lith_neogene sedimentary rock\",\n",
    "                          \"assam_lith_paleogene sedementary rock\",\n",
    "                          \"assam_lith_paleozoic rock\",\n",
    "                          \"assam_lith_undeveloped precambrian rock\",\n",
    "                          \"assam_lith_quaternary sediments\",\n",
    "                          \"assam_lith_tertiary sedimentary rocks\",\n",
    "                          \"assam_lith_water\"\n",
    "                         ]\n",
    "                         \n",
    "                        ] = np.nan\n",
    "\n",
    "del one_hot_encoded_data[\"assam_lith_nan\"]\n",
    "\n",
    "one_hot_encoded_data.loc[one_hot_encoded_data['land use_nan'] == 1,\n",
    "                         \n",
    "                         [#\"land use_bare ground\",reference\n",
    "                          \"land use_built\",\n",
    "                          \"land use_range land\",\n",
    "                          \"land use_vegetation\",\n",
    "                          \"land use_water\"\n",
    "                         ]\n",
    "                         \n",
    "                        ] = np.nan\n",
    "del one_hot_encoded_data[\"land use_nan\"]"
   ]
  },
  {
   "cell_type": "code",
   "execution_count": null,
   "id": "e9f4357f",
   "metadata": {},
   "outputs": [],
   "source": [
    "X = one_hot_encoded_data.drop(['ID','yr','x','y'],axis=1)"
   ]
  },
  {
   "cell_type": "code",
   "execution_count": null,
   "id": "c0f1cba9",
   "metadata": {},
   "outputs": [],
   "source": []
  },
  {
   "cell_type": "code",
   "execution_count": null,
   "id": "6992e454",
   "metadata": {},
   "outputs": [],
   "source": [
    "import random\n",
    "import sklearn.neighbors._base \n",
    "import sys\n",
    "sys.modules['sklearn.neighbors.base'] = sklearn.neighbors._base\n",
    "from missingpy import MissForest\n",
    "\n",
    "imputer = MissForest(random_state=1337) #miss forest\n",
    "X_imputed = imputer.fit_transform(X,cat_vars=np.array(range(76,90,1)))\n",
    "X_imputed = pd.DataFrame(X_imputed, columns = X.columns)"
   ]
  },
  {
   "cell_type": "code",
   "execution_count": null,
   "id": "c3998831",
   "metadata": {},
   "outputs": [],
   "source": [
    "from sklearn.preprocessing import StandardScaler\n",
    "cat_columns = np.array(range(10,27,1))\n",
    "X_train_cat = X_imputed.iloc[:,10:]\n",
    "X_train_con = X_imputed.iloc[:,:10]\n",
    "X_train_con = X_train_con.drop(['ID','yr'],axis=1)\n",
    "\n",
    "standardized_data = StandardScaler().fit_transform(X_train_con)\n",
    "\n",
    "X_train_con = pd.DataFrame(standardized_data,columns=X_train_con.columns)\n",
    "X_train = pd.concat([X_train_con,X_train_cat.reset_index(drop=True)],axis=1)\n",
    "X_train"
   ]
  },
  {
   "cell_type": "code",
   "execution_count": null,
   "id": "fd010b29",
   "metadata": {},
   "outputs": [],
   "source": [
    "input_df = one_hot_encoded_data"
   ]
  },
  {
   "cell_type": "code",
   "execution_count": null,
   "id": "39bc0b8b",
   "metadata": {},
   "outputs": [],
   "source": [
    "columns = list(input_df.columns)\n",
    "columns.remove('ID')\n",
    "columns.remove('yr')"
   ]
  },
  {
   "cell_type": "code",
   "execution_count": null,
   "id": "b3214c9b",
   "metadata": {},
   "outputs": [],
   "source": [
    "#CORRELATION MATRIX\n",
    "rcParams['figure.figsize'] = 15,15\n",
    "\n",
    "heatmap = sns.heatmap(input_df[columns].corr().round(2),\n",
    "        cmap=\"YlGnBu\",\n",
    "        annot=True).get_figure()\n",
    "\n",
    "heatmap.savefig(\"CorrelationMatrix.png\")"
   ]
  },
  {
   "cell_type": "code",
   "execution_count": null,
   "id": "1b32957b",
   "metadata": {},
   "outputs": [],
   "source": [
    "from statsmodels.stats.outliers_influence import variance_inflation_factor"
   ]
  },
  {
   "cell_type": "code",
   "execution_count": null,
   "id": "3747665c",
   "metadata": {},
   "outputs": [],
   "source": [
    "X = input_df[columns]\n",
    "  \n",
    "# VIF dataframe\n",
    "vif_data = pd.DataFrame()\n",
    "vif_data[\"feature\"] = X.columns\n",
    "  \n",
    "# calculating VIF for each feature\n",
    "vif_data[\"VIF\"] = [variance_inflation_factor(X.values, i)\n",
    "                          for i in range(len(X.columns))]"
   ]
  },
  {
   "cell_type": "code",
   "execution_count": null,
   "id": "bd60196c",
   "metadata": {},
   "outputs": [],
   "source": [
    "from sklearn.decomposition import PCA\n",
    "pca = PCA(n_components=2)\n",
    "principalComponents = pca.fit_transform(input_df)\n",
    "principalDf = pd.DataFrame(data = principalComponents,\n",
    "                           columns = ['principal component 1', 'principal component 2'])"
   ]
  },
  {
   "cell_type": "code",
   "execution_count": null,
   "id": "0040935f",
   "metadata": {},
   "outputs": [],
   "source": []
  },
  {
   "cell_type": "code",
   "execution_count": null,
   "id": "76284d8f",
   "metadata": {},
   "outputs": [],
   "source": []
  },
  {
   "cell_type": "code",
   "execution_count": 279,
   "id": "4eb91ede",
   "metadata": {},
   "outputs": [],
   "source": [
    "X_std_imputed = pd.read_csv('D:/Projects/IDEA-FRM2/InputData/SEM_X_Imputed_RemovedAnomalies.csv')"
   ]
  },
  {
   "cell_type": "code",
   "execution_count": 280,
   "id": "71b7efb2",
   "metadata": {},
   "outputs": [
    {
     "data": {
      "text/plain": [
       "Index(['ind_ppp_UNadj', 'aged', 'young', 'sexratio', 'percaay', 'deprived',\n",
       "       'nophone', 'noSanitation', 'nodrinkingWater', 'totLivestock',\n",
       "       'damage_POPULATION_AFFECTED', 'damage_humanliveslost',\n",
       "       'damage_animalsaffectedtotal', 'damage_animalsaffectedpoultry',\n",
       "       'damage_animalsaffectedbig', 'damage_animalsaffectedsmall',\n",
       "       'damage_animals_washed_total', 'damage_animals_washed_poultry',\n",
       "       'damage_animals_washed_big', 'damage_animals_washed_small',\n",
       "       'damage_Houses_damaged_fully', 'damage_Houses_damaged_partially',\n",
       "       'damage_croparea_AFFECTED', 'Embankment', 'Other', 'Road', 'Bridge',\n",
       "       'Rice', 'Salt', 'Oil', 'Dal', 'response_inmatesinReliefCamps',\n",
       "       'Relief_cam', 'Relief_dis', 'proximity_hosptial_rd',\n",
       "       'proximity_embankment_rd', 'proximity_rail_rd', 'proximity_local_rd',\n",
       "       'proximity_arterial_rd', 'ndbi', 'gmted_drainage_density_without_1',\n",
       "       'srtm_filled_dem', 'GCN250_ARCIII_average', 'Inundation', 'sum',\n",
       "       'assam_dist_from_major_rivers_updated_3857',\n",
       "       'strm_filled_slope_degrees', 'ndvi', 'Count_Road', 'Sum_Roads',\n",
       "       'Count_Erosion', 'Sum_Erosion', 'Count_IM', 'Sum_IM', 'Count_new',\n",
       "       'Sum_new', 'Count_repair', 'Sum_repair', 'Count_relief', 'Sum_relief',\n",
       "       'Count_goods', 'Sum_goods', 'Count_Total', 'Sum_Total', 'Count_SDRF',\n",
       "       'Sum_SDRF', 'Count_SOPD', 'Sum_SOPD', 'Count_CIDF', 'Sum_CIDF',\n",
       "       'Count_LTIF', 'Sum_LTIF', 'Count_RIDF', 'Sum_RIDF',\n",
       "       'assam_soil_loam_silt_loam_silt_sandy_loam',\n",
       "       'assam_soil_loamy_sand_sand',\n",
       "       'assam_soil_rocky_other_non-soil_categories',\n",
       "       'assam_lith_neogene_sedimentary_rock',\n",
       "       'assam_lith_paleogene_sedementary rock', 'assam_lith_paleozoic_rock',\n",
       "       'assam_lith_quaternary_sediments',\n",
       "       'assam_lith_tertiary_sedimentary_rocks',\n",
       "       'assam_lith_undeveloped_precambrian_rock', 'assam_lith_water',\n",
       "       'landuse_built', 'landuse_range_land', 'landuse_vegetation',\n",
       "       'landuse_water', 'x', 'y', 'yr', 'revenue_ci', 'revenue_ci_enc'],\n",
       "      dtype='object')"
      ]
     },
     "execution_count": 280,
     "metadata": {},
     "output_type": "execute_result"
    }
   ],
   "source": [
    "X_std_imputed.columns"
   ]
  },
  {
   "cell_type": "code",
   "execution_count": 191,
   "id": "e702c245",
   "metadata": {},
   "outputs": [],
   "source": []
  },
  {
   "cell_type": "code",
   "execution_count": 188,
   "id": "a7bef65c",
   "metadata": {},
   "outputs": [],
   "source": [
    "points = gpd.GeoDataFrame(X_std_imputed_drop[['x','y','yr']],\n",
    "                          geometry=gpd.points_from_xy(X_std_imputed_drop[['x']], X_std_imputed_drop[['y']])\n",
    "                         ).set_crs('EPSG:4326')"
   ]
  },
  {
   "cell_type": "code",
   "execution_count": 302,
   "id": "bf792ca6",
   "metadata": {},
   "outputs": [],
   "source": [
    "import geopandas as gpd\n",
    "object_id = gpd.read_file(r\"D:\\Projects\\assam-tender-scraper\\Assam_shapefiles\\Assam_RC/assam_revenue_circle_nov2022.shp\")"
   ]
  },
  {
   "cell_type": "code",
   "execution_count": 251,
   "id": "29f10c95",
   "metadata": {},
   "outputs": [
    {
     "name": "stderr",
     "output_type": "stream",
     "text": [
      "C:\\Users\\saikr\\anaconda3\\lib\\site-packages\\IPython\\core\\interactiveshell.py:3364: FutureWarning: The `op` parameter is deprecated and will be removed in a future release. Please use the `predicate` parameter instead.\n",
      "  if (await self.run_code(code, result,  async_=asy)):\n"
     ]
    },
    {
     "ename": "ValueError",
     "evalue": "'left_df' should be GeoDataFrame, got <class 'pandas.core.frame.DataFrame'>",
     "output_type": "error",
     "traceback": [
      "\u001b[1;31m---------------------------------------------------------------------------\u001b[0m",
      "\u001b[1;31mValueError\u001b[0m                                Traceback (most recent call last)",
      "\u001b[1;32m~\\AppData\\Local\\Temp/ipykernel_20632/4109473965.py\u001b[0m in \u001b[0;36m<module>\u001b[1;34m\u001b[0m\n\u001b[1;32m----> 1\u001b[1;33m \u001b[0mpoints\u001b[0m \u001b[1;33m=\u001b[0m \u001b[0mgpd\u001b[0m\u001b[1;33m.\u001b[0m\u001b[0msjoin\u001b[0m\u001b[1;33m(\u001b[0m\u001b[0mpoints\u001b[0m\u001b[1;33m,\u001b[0m \u001b[0mgpd\u001b[0m\u001b[1;33m.\u001b[0m\u001b[0mGeoDataFrame\u001b[0m\u001b[1;33m(\u001b[0m\u001b[0mobject_id\u001b[0m\u001b[1;33m)\u001b[0m\u001b[1;33m.\u001b[0m\u001b[0mto_crs\u001b[0m\u001b[1;33m(\u001b[0m\u001b[1;34m'EPSG:4326'\u001b[0m\u001b[1;33m)\u001b[0m\u001b[1;33m,\u001b[0m\u001b[0mhow\u001b[0m\u001b[1;33m=\u001b[0m\u001b[1;34m'left'\u001b[0m\u001b[1;33m,\u001b[0m\u001b[0mop\u001b[0m\u001b[1;33m=\u001b[0m\u001b[1;34m'within'\u001b[0m\u001b[1;33m)\u001b[0m\u001b[1;33m[\u001b[0m\u001b[1;33m[\u001b[0m\u001b[1;34m'x'\u001b[0m\u001b[1;33m,\u001b[0m\u001b[1;34m'y'\u001b[0m\u001b[1;33m,\u001b[0m\u001b[1;34m'yr'\u001b[0m\u001b[1;33m,\u001b[0m\u001b[1;34m'object_id'\u001b[0m\u001b[1;33m]\u001b[0m\u001b[1;33m]\u001b[0m\u001b[1;33m\u001b[0m\u001b[1;33m\u001b[0m\u001b[0m\n\u001b[0m",
      "\u001b[1;32m~\\anaconda3\\lib\\site-packages\\geopandas\\tools\\sjoin.py\u001b[0m in \u001b[0;36msjoin\u001b[1;34m(left_df, right_df, how, predicate, lsuffix, rsuffix, **kwargs)\u001b[0m\n\u001b[0;32m    120\u001b[0m         \u001b[1;32mraise\u001b[0m \u001b[0mTypeError\u001b[0m\u001b[1;33m(\u001b[0m\u001b[1;34mf\"sjoin() got an unexpected keyword argument '{first}'\"\u001b[0m\u001b[1;33m)\u001b[0m\u001b[1;33m\u001b[0m\u001b[1;33m\u001b[0m\u001b[0m\n\u001b[0;32m    121\u001b[0m \u001b[1;33m\u001b[0m\u001b[0m\n\u001b[1;32m--> 122\u001b[1;33m     \u001b[0m_basic_checks\u001b[0m\u001b[1;33m(\u001b[0m\u001b[0mleft_df\u001b[0m\u001b[1;33m,\u001b[0m \u001b[0mright_df\u001b[0m\u001b[1;33m,\u001b[0m \u001b[0mhow\u001b[0m\u001b[1;33m,\u001b[0m \u001b[0mlsuffix\u001b[0m\u001b[1;33m,\u001b[0m \u001b[0mrsuffix\u001b[0m\u001b[1;33m)\u001b[0m\u001b[1;33m\u001b[0m\u001b[1;33m\u001b[0m\u001b[0m\n\u001b[0m\u001b[0;32m    123\u001b[0m \u001b[1;33m\u001b[0m\u001b[0m\n\u001b[0;32m    124\u001b[0m     \u001b[0mindices\u001b[0m \u001b[1;33m=\u001b[0m \u001b[0m_geom_predicate_query\u001b[0m\u001b[1;33m(\u001b[0m\u001b[0mleft_df\u001b[0m\u001b[1;33m,\u001b[0m \u001b[0mright_df\u001b[0m\u001b[1;33m,\u001b[0m \u001b[0mpredicate\u001b[0m\u001b[1;33m)\u001b[0m\u001b[1;33m\u001b[0m\u001b[1;33m\u001b[0m\u001b[0m\n",
      "\u001b[1;32m~\\anaconda3\\lib\\site-packages\\geopandas\\tools\\sjoin.py\u001b[0m in \u001b[0;36m_basic_checks\u001b[1;34m(left_df, right_df, how, lsuffix, rsuffix)\u001b[0m\n\u001b[0;32m    148\u001b[0m     \"\"\"\n\u001b[0;32m    149\u001b[0m     \u001b[1;32mif\u001b[0m \u001b[1;32mnot\u001b[0m \u001b[0misinstance\u001b[0m\u001b[1;33m(\u001b[0m\u001b[0mleft_df\u001b[0m\u001b[1;33m,\u001b[0m \u001b[0mGeoDataFrame\u001b[0m\u001b[1;33m)\u001b[0m\u001b[1;33m:\u001b[0m\u001b[1;33m\u001b[0m\u001b[1;33m\u001b[0m\u001b[0m\n\u001b[1;32m--> 150\u001b[1;33m         raise ValueError(\n\u001b[0m\u001b[0;32m    151\u001b[0m             \u001b[1;34m\"'left_df' should be GeoDataFrame, got {}\"\u001b[0m\u001b[1;33m.\u001b[0m\u001b[0mformat\u001b[0m\u001b[1;33m(\u001b[0m\u001b[0mtype\u001b[0m\u001b[1;33m(\u001b[0m\u001b[0mleft_df\u001b[0m\u001b[1;33m)\u001b[0m\u001b[1;33m)\u001b[0m\u001b[1;33m\u001b[0m\u001b[1;33m\u001b[0m\u001b[0m\n\u001b[0;32m    152\u001b[0m         )\n",
      "\u001b[1;31mValueError\u001b[0m: 'left_df' should be GeoDataFrame, got <class 'pandas.core.frame.DataFrame'>"
     ]
    }
   ],
   "source": [
    "points = gpd.sjoin(points, gpd.GeoDataFrame(object_id).to_crs('EPSG:4326'),how='left',op='within')[['x','y','yr','object_id']]"
   ]
  },
  {
   "cell_type": "code",
   "execution_count": 253,
   "id": "b6eeffd3",
   "metadata": {},
   "outputs": [],
   "source": [
    "tender_files = glob.glob(r\"D:\\Projects\\assam-tender-scraper\\flood_tenders_filter/test_group_2*\")\n",
    "tender_dfs = []\n",
    "#convert NA to 0\n",
    "for file in tender_files:\n",
    "    tender_dfs.append(pd.read_csv(file))\n",
    "tender_df = pd.concat(tender_dfs)\n",
    "tender_df = tender_df[tender_df.year>=2018]"
   ]
  },
  {
   "cell_type": "code",
   "execution_count": 254,
   "id": "21e86d33",
   "metadata": {},
   "outputs": [],
   "source": [
    "tender_df_pts = points.merge(tender_df.drop(['revenue_ci','district'], axis=1),\n",
    "                     left_on=['object_id','yr'],\n",
    "                     right_on=['object_id','year'],\n",
    "                     how='left').fillna(0)\n",
    "tender_df_pts = tender_df_pts.drop(['year','object_id'],axis=1)"
   ]
  },
  {
   "cell_type": "code",
   "execution_count": 260,
   "id": "33c36730",
   "metadata": {},
   "outputs": [
    {
     "data": {
      "text/plain": [
       "Index(['x', 'y', 'yr', 'Count_Roads_Bridges_Embankments',\n",
       "       'Sum_Roads_Bridges_Embankments', 'Count_Erosion', 'Sum_Erosion',\n",
       "       'Count_IM', 'Sum_IM', 'Count_new_const', 'Sum_new_const',\n",
       "       'Count_repair_rest_imp', 'Sum_repair_rest_imp',\n",
       "       'Count_relief_preparation', 'Sum_relief_preparation', 'Count_goods',\n",
       "       'Sum_goods', 'Count_Total', 'Sum_Total', 'Count_SDRF', 'Sum_SDRF',\n",
       "       'Count_SOPD', 'Sum_SOPD', 'Count_CIDF', 'Sum_CIDF', 'Count_LTIF',\n",
       "       'Sum_LTIF', 'Count_RIDF', 'Sum_RIDF', 'revenue_cr'],\n",
       "      dtype='object')"
      ]
     },
     "execution_count": 260,
     "metadata": {},
     "output_type": "execute_result"
    }
   ],
   "source": [
    "tender_df_pts.columns"
   ]
  },
  {
   "cell_type": "code",
   "execution_count": 261,
   "id": "1d239c98",
   "metadata": {},
   "outputs": [],
   "source": [
    "tender_cols = ['Count_Roads_Bridges_Embankments',\n",
    "       'Sum_Roads_Bridges_Embankments', 'Count_Erosion', 'Sum_Erosion',\n",
    "       'Count_IM', 'Sum_IM', 'Count_new_const', 'Sum_new_const',\n",
    "       'Count_repair_rest_imp', 'Sum_repair_rest_imp',\n",
    "       'Count_relief_preparation', 'Sum_relief_preparation', 'Count_goods',\n",
    "       'Sum_goods', 'Count_Total', 'Sum_Total', 'Count_SDRF', 'Sum_SDRF',\n",
    "       'Count_SOPD', 'Sum_SOPD', 'Count_CIDF', 'Sum_CIDF', 'Count_LTIF',\n",
    "       'Sum_LTIF', 'Count_RIDF', 'Sum_RIDF']"
   ]
  },
  {
   "cell_type": "code",
   "execution_count": 262,
   "id": "d4346125",
   "metadata": {},
   "outputs": [
    {
     "data": {
      "text/plain": [
       "26"
      ]
     },
     "execution_count": 262,
     "metadata": {},
     "output_type": "execute_result"
    }
   ],
   "source": [
    "len(tender_cols)"
   ]
  },
  {
   "cell_type": "code",
   "execution_count": 263,
   "id": "28426c2b",
   "metadata": {},
   "outputs": [],
   "source": [
    "from sklearn.preprocessing import StandardScaler\n",
    "\n",
    "tenders_2018_2022_standardized = StandardScaler().fit_transform(tender_df_pts[tender_df_pts.yr>=2018][tender_cols])\n",
    "tenders_2018_2022_standardized = pd.DataFrame(tenders_2018_2022_standardized,columns =tender_cols )"
   ]
  },
  {
   "cell_type": "code",
   "execution_count": 264,
   "id": "42c40e44",
   "metadata": {},
   "outputs": [],
   "source": [
    "tenders_2018_2022_standardized = pd.concat([tenders_2018_2022_standardized,tender_df_pts[tender_df_pts.yr>=2018][['x','y','yr']].reset_index(drop=True)],axis=1)"
   ]
  },
  {
   "cell_type": "code",
   "execution_count": 265,
   "id": "2093f339",
   "metadata": {},
   "outputs": [],
   "source": [
    "X_std_imputed_drop = X_std_imputed.drop(['Count_Road', 'Sum_Roads',\n",
    "       'Count_Erosion', 'Sum_Erosion', 'Count_IM', 'Sum_IM', 'Count_new',\n",
    "       'Sum_new', 'Count_repair', 'Sum_repair', 'Count_relief', 'Sum_relief',\n",
    "       'Count_goods', 'Sum_goods', 'Count_Total', 'Sum_Total', 'Count_SDRF',\n",
    "       'Sum_SDRF', 'Count_SOPD', 'Sum_SOPD', 'Count_CIDF', 'Sum_CIDF',\n",
    "       'Count_LTIF', 'Sum_LTIF', 'Count_RIDF', 'Sum_RIDF'],axis=1)"
   ]
  },
  {
   "cell_type": "code",
   "execution_count": 266,
   "id": "f5cd8845",
   "metadata": {},
   "outputs": [
    {
     "data": {
      "text/html": [
       "<div>\n",
       "<style scoped>\n",
       "    .dataframe tbody tr th:only-of-type {\n",
       "        vertical-align: middle;\n",
       "    }\n",
       "\n",
       "    .dataframe tbody tr th {\n",
       "        vertical-align: top;\n",
       "    }\n",
       "\n",
       "    .dataframe thead th {\n",
       "        text-align: right;\n",
       "    }\n",
       "</style>\n",
       "<table border=\"1\" class=\"dataframe\">\n",
       "  <thead>\n",
       "    <tr style=\"text-align: right;\">\n",
       "      <th></th>\n",
       "      <th>ind_ppp_UNadj</th>\n",
       "      <th>aged</th>\n",
       "      <th>young</th>\n",
       "      <th>sexratio</th>\n",
       "      <th>percaay</th>\n",
       "      <th>deprived</th>\n",
       "      <th>nophone</th>\n",
       "      <th>noSanitation</th>\n",
       "      <th>nodrinkingWater</th>\n",
       "      <th>totLivestock</th>\n",
       "      <th>...</th>\n",
       "      <th>assam_lith_water</th>\n",
       "      <th>landuse_built</th>\n",
       "      <th>landuse_range_land</th>\n",
       "      <th>landuse_vegetation</th>\n",
       "      <th>landuse_water</th>\n",
       "      <th>x</th>\n",
       "      <th>y</th>\n",
       "      <th>yr</th>\n",
       "      <th>revenue_ci</th>\n",
       "      <th>revenue_ci_enc</th>\n",
       "    </tr>\n",
       "  </thead>\n",
       "  <tbody>\n",
       "    <tr>\n",
       "      <th>0</th>\n",
       "      <td>1.577866</td>\n",
       "      <td>-0.224950</td>\n",
       "      <td>2.734682</td>\n",
       "      <td>0.194115</td>\n",
       "      <td>1.772921</td>\n",
       "      <td>2.234660</td>\n",
       "      <td>2.405228</td>\n",
       "      <td>3.606359</td>\n",
       "      <td>0.505303</td>\n",
       "      <td>1.993656</td>\n",
       "      <td>...</td>\n",
       "      <td>1.0</td>\n",
       "      <td>0.0</td>\n",
       "      <td>0.0</td>\n",
       "      <td>0.0</td>\n",
       "      <td>0.0</td>\n",
       "      <td>89.904230</td>\n",
       "      <td>25.944062</td>\n",
       "      <td>2018</td>\n",
       "      <td>Dhubri (Pt)</td>\n",
       "      <td>42</td>\n",
       "    </tr>\n",
       "    <tr>\n",
       "      <th>1</th>\n",
       "      <td>1.369463</td>\n",
       "      <td>-0.224950</td>\n",
       "      <td>1.112648</td>\n",
       "      <td>0.194115</td>\n",
       "      <td>1.772921</td>\n",
       "      <td>2.234660</td>\n",
       "      <td>2.405228</td>\n",
       "      <td>3.075747</td>\n",
       "      <td>0.505303</td>\n",
       "      <td>1.993656</td>\n",
       "      <td>...</td>\n",
       "      <td>0.0</td>\n",
       "      <td>0.0</td>\n",
       "      <td>0.0</td>\n",
       "      <td>1.0</td>\n",
       "      <td>0.0</td>\n",
       "      <td>90.031077</td>\n",
       "      <td>26.070348</td>\n",
       "      <td>2018</td>\n",
       "      <td>Dhubri (Pt)</td>\n",
       "      <td>42</td>\n",
       "    </tr>\n",
       "    <tr>\n",
       "      <th>2</th>\n",
       "      <td>0.952657</td>\n",
       "      <td>-0.224950</td>\n",
       "      <td>1.112648</td>\n",
       "      <td>0.194115</td>\n",
       "      <td>1.772921</td>\n",
       "      <td>0.889296</td>\n",
       "      <td>1.162997</td>\n",
       "      <td>2.545135</td>\n",
       "      <td>0.505303</td>\n",
       "      <td>1.192787</td>\n",
       "      <td>...</td>\n",
       "      <td>0.0</td>\n",
       "      <td>0.0</td>\n",
       "      <td>0.0</td>\n",
       "      <td>1.0</td>\n",
       "      <td>0.0</td>\n",
       "      <td>90.182180</td>\n",
       "      <td>26.338457</td>\n",
       "      <td>2018</td>\n",
       "      <td>Bilasipara (Pt)</td>\n",
       "      <td>22</td>\n",
       "    </tr>\n",
       "    <tr>\n",
       "      <th>3</th>\n",
       "      <td>1.994673</td>\n",
       "      <td>3.232148</td>\n",
       "      <td>2.734682</td>\n",
       "      <td>0.194115</td>\n",
       "      <td>1.772921</td>\n",
       "      <td>2.234660</td>\n",
       "      <td>3.026344</td>\n",
       "      <td>4.136971</td>\n",
       "      <td>0.505303</td>\n",
       "      <td>2.394090</td>\n",
       "      <td>...</td>\n",
       "      <td>0.0</td>\n",
       "      <td>0.0</td>\n",
       "      <td>0.0</td>\n",
       "      <td>1.0</td>\n",
       "      <td>0.0</td>\n",
       "      <td>89.958831</td>\n",
       "      <td>26.041744</td>\n",
       "      <td>2018</td>\n",
       "      <td>Dhubri (Pt)</td>\n",
       "      <td>42</td>\n",
       "    </tr>\n",
       "    <tr>\n",
       "      <th>4</th>\n",
       "      <td>-0.506166</td>\n",
       "      <td>-0.224950</td>\n",
       "      <td>-0.509386</td>\n",
       "      <td>0.194115</td>\n",
       "      <td>-0.411057</td>\n",
       "      <td>-0.456069</td>\n",
       "      <td>-0.700351</td>\n",
       "      <td>-0.107926</td>\n",
       "      <td>-0.360096</td>\n",
       "      <td>-0.809385</td>\n",
       "      <td>...</td>\n",
       "      <td>0.0</td>\n",
       "      <td>0.0</td>\n",
       "      <td>0.0</td>\n",
       "      <td>1.0</td>\n",
       "      <td>0.0</td>\n",
       "      <td>90.420653</td>\n",
       "      <td>26.289320</td>\n",
       "      <td>2018</td>\n",
       "      <td>Chapar (Pt)</td>\n",
       "      <td>31</td>\n",
       "    </tr>\n",
       "    <tr>\n",
       "      <th>...</th>\n",
       "      <td>...</td>\n",
       "      <td>...</td>\n",
       "      <td>...</td>\n",
       "      <td>...</td>\n",
       "      <td>...</td>\n",
       "      <td>...</td>\n",
       "      <td>...</td>\n",
       "      <td>...</td>\n",
       "      <td>...</td>\n",
       "      <td>...</td>\n",
       "      <td>...</td>\n",
       "      <td>...</td>\n",
       "      <td>...</td>\n",
       "      <td>...</td>\n",
       "      <td>...</td>\n",
       "      <td>...</td>\n",
       "      <td>...</td>\n",
       "      <td>...</td>\n",
       "      <td>...</td>\n",
       "      <td>...</td>\n",
       "      <td>...</td>\n",
       "    </tr>\n",
       "    <tr>\n",
       "      <th>379694</th>\n",
       "      <td>0.327447</td>\n",
       "      <td>-0.224950</td>\n",
       "      <td>1.112648</td>\n",
       "      <td>0.324191</td>\n",
       "      <td>-0.411057</td>\n",
       "      <td>-0.456069</td>\n",
       "      <td>0.541881</td>\n",
       "      <td>0.422686</td>\n",
       "      <td>0.505303</td>\n",
       "      <td>0.391918</td>\n",
       "      <td>...</td>\n",
       "      <td>0.0</td>\n",
       "      <td>0.0</td>\n",
       "      <td>0.0</td>\n",
       "      <td>1.0</td>\n",
       "      <td>0.0</td>\n",
       "      <td>91.381506</td>\n",
       "      <td>26.688684</td>\n",
       "      <td>2022</td>\n",
       "      <td>Baksa</td>\n",
       "      <td>9</td>\n",
       "    </tr>\n",
       "    <tr>\n",
       "      <th>379695</th>\n",
       "      <td>-0.506166</td>\n",
       "      <td>-0.224950</td>\n",
       "      <td>-0.509386</td>\n",
       "      <td>0.324191</td>\n",
       "      <td>-0.411057</td>\n",
       "      <td>-0.456069</td>\n",
       "      <td>-0.079235</td>\n",
       "      <td>-0.638538</td>\n",
       "      <td>-0.360096</td>\n",
       "      <td>-0.408950</td>\n",
       "      <td>...</td>\n",
       "      <td>0.0</td>\n",
       "      <td>0.0</td>\n",
       "      <td>0.0</td>\n",
       "      <td>1.0</td>\n",
       "      <td>0.0</td>\n",
       "      <td>90.967072</td>\n",
       "      <td>26.675652</td>\n",
       "      <td>2022</td>\n",
       "      <td>Barnagar (Pt)</td>\n",
       "      <td>15</td>\n",
       "    </tr>\n",
       "    <tr>\n",
       "      <th>379696</th>\n",
       "      <td>0.327447</td>\n",
       "      <td>-0.224950</td>\n",
       "      <td>1.112648</td>\n",
       "      <td>0.152491</td>\n",
       "      <td>-0.411057</td>\n",
       "      <td>0.889296</td>\n",
       "      <td>0.541881</td>\n",
       "      <td>0.422686</td>\n",
       "      <td>0.505303</td>\n",
       "      <td>0.391918</td>\n",
       "      <td>...</td>\n",
       "      <td>0.0</td>\n",
       "      <td>0.0</td>\n",
       "      <td>0.0</td>\n",
       "      <td>1.0</td>\n",
       "      <td>0.0</td>\n",
       "      <td>90.981114</td>\n",
       "      <td>26.534397</td>\n",
       "      <td>2022</td>\n",
       "      <td>Barnagar (Pt)</td>\n",
       "      <td>15</td>\n",
       "    </tr>\n",
       "    <tr>\n",
       "      <th>379697</th>\n",
       "      <td>-0.089359</td>\n",
       "      <td>-0.224950</td>\n",
       "      <td>-0.509386</td>\n",
       "      <td>0.324191</td>\n",
       "      <td>-0.411057</td>\n",
       "      <td>-0.456069</td>\n",
       "      <td>-0.079235</td>\n",
       "      <td>-0.107926</td>\n",
       "      <td>-0.360096</td>\n",
       "      <td>-0.208733</td>\n",
       "      <td>...</td>\n",
       "      <td>0.0</td>\n",
       "      <td>0.0</td>\n",
       "      <td>0.0</td>\n",
       "      <td>1.0</td>\n",
       "      <td>0.0</td>\n",
       "      <td>91.283599</td>\n",
       "      <td>26.720332</td>\n",
       "      <td>2022</td>\n",
       "      <td>Jalah (Pt)</td>\n",
       "      <td>67</td>\n",
       "    </tr>\n",
       "    <tr>\n",
       "      <th>379698</th>\n",
       "      <td>0.327447</td>\n",
       "      <td>-0.224950</td>\n",
       "      <td>1.112648</td>\n",
       "      <td>0.324191</td>\n",
       "      <td>-0.411057</td>\n",
       "      <td>2.234660</td>\n",
       "      <td>0.541881</td>\n",
       "      <td>0.422686</td>\n",
       "      <td>0.505303</td>\n",
       "      <td>0.391918</td>\n",
       "      <td>...</td>\n",
       "      <td>0.0</td>\n",
       "      <td>0.0</td>\n",
       "      <td>0.0</td>\n",
       "      <td>1.0</td>\n",
       "      <td>0.0</td>\n",
       "      <td>91.435467</td>\n",
       "      <td>26.622641</td>\n",
       "      <td>2022</td>\n",
       "      <td>Baganpara (Pt)</td>\n",
       "      <td>5</td>\n",
       "    </tr>\n",
       "  </tbody>\n",
       "</table>\n",
       "<p>379699 rows × 67 columns</p>\n",
       "</div>"
      ],
      "text/plain": [
       "        ind_ppp_UNadj      aged     young  sexratio   percaay  deprived  \\\n",
       "0            1.577866 -0.224950  2.734682  0.194115  1.772921  2.234660   \n",
       "1            1.369463 -0.224950  1.112648  0.194115  1.772921  2.234660   \n",
       "2            0.952657 -0.224950  1.112648  0.194115  1.772921  0.889296   \n",
       "3            1.994673  3.232148  2.734682  0.194115  1.772921  2.234660   \n",
       "4           -0.506166 -0.224950 -0.509386  0.194115 -0.411057 -0.456069   \n",
       "...               ...       ...       ...       ...       ...       ...   \n",
       "379694       0.327447 -0.224950  1.112648  0.324191 -0.411057 -0.456069   \n",
       "379695      -0.506166 -0.224950 -0.509386  0.324191 -0.411057 -0.456069   \n",
       "379696       0.327447 -0.224950  1.112648  0.152491 -0.411057  0.889296   \n",
       "379697      -0.089359 -0.224950 -0.509386  0.324191 -0.411057 -0.456069   \n",
       "379698       0.327447 -0.224950  1.112648  0.324191 -0.411057  2.234660   \n",
       "\n",
       "         nophone  noSanitation  nodrinkingWater  totLivestock  ...  \\\n",
       "0       2.405228      3.606359         0.505303      1.993656  ...   \n",
       "1       2.405228      3.075747         0.505303      1.993656  ...   \n",
       "2       1.162997      2.545135         0.505303      1.192787  ...   \n",
       "3       3.026344      4.136971         0.505303      2.394090  ...   \n",
       "4      -0.700351     -0.107926        -0.360096     -0.809385  ...   \n",
       "...          ...           ...              ...           ...  ...   \n",
       "379694  0.541881      0.422686         0.505303      0.391918  ...   \n",
       "379695 -0.079235     -0.638538        -0.360096     -0.408950  ...   \n",
       "379696  0.541881      0.422686         0.505303      0.391918  ...   \n",
       "379697 -0.079235     -0.107926        -0.360096     -0.208733  ...   \n",
       "379698  0.541881      0.422686         0.505303      0.391918  ...   \n",
       "\n",
       "        assam_lith_water  landuse_built  landuse_range_land  \\\n",
       "0                    1.0            0.0                 0.0   \n",
       "1                    0.0            0.0                 0.0   \n",
       "2                    0.0            0.0                 0.0   \n",
       "3                    0.0            0.0                 0.0   \n",
       "4                    0.0            0.0                 0.0   \n",
       "...                  ...            ...                 ...   \n",
       "379694               0.0            0.0                 0.0   \n",
       "379695               0.0            0.0                 0.0   \n",
       "379696               0.0            0.0                 0.0   \n",
       "379697               0.0            0.0                 0.0   \n",
       "379698               0.0            0.0                 0.0   \n",
       "\n",
       "        landuse_vegetation  landuse_water          x          y    yr  \\\n",
       "0                      0.0            0.0  89.904230  25.944062  2018   \n",
       "1                      1.0            0.0  90.031077  26.070348  2018   \n",
       "2                      1.0            0.0  90.182180  26.338457  2018   \n",
       "3                      1.0            0.0  89.958831  26.041744  2018   \n",
       "4                      1.0            0.0  90.420653  26.289320  2018   \n",
       "...                    ...            ...        ...        ...   ...   \n",
       "379694                 1.0            0.0  91.381506  26.688684  2022   \n",
       "379695                 1.0            0.0  90.967072  26.675652  2022   \n",
       "379696                 1.0            0.0  90.981114  26.534397  2022   \n",
       "379697                 1.0            0.0  91.283599  26.720332  2022   \n",
       "379698                 1.0            0.0  91.435467  26.622641  2022   \n",
       "\n",
       "             revenue_ci  revenue_ci_enc  \n",
       "0           Dhubri (Pt)              42  \n",
       "1           Dhubri (Pt)              42  \n",
       "2       Bilasipara (Pt)              22  \n",
       "3           Dhubri (Pt)              42  \n",
       "4           Chapar (Pt)              31  \n",
       "...                 ...             ...  \n",
       "379694            Baksa               9  \n",
       "379695    Barnagar (Pt)              15  \n",
       "379696    Barnagar (Pt)              15  \n",
       "379697       Jalah (Pt)              67  \n",
       "379698   Baganpara (Pt)               5  \n",
       "\n",
       "[379699 rows x 67 columns]"
      ]
     },
     "execution_count": 266,
     "metadata": {},
     "output_type": "execute_result"
    }
   ],
   "source": [
    "X_std_imputed_drop"
   ]
  },
  {
   "cell_type": "code",
   "execution_count": 77,
   "id": "73ef88e5",
   "metadata": {},
   "outputs": [
    {
     "data": {
      "text/plain": [
       "26"
      ]
     },
     "execution_count": 77,
     "metadata": {},
     "output_type": "execute_result"
    }
   ],
   "source": [
    "len(['Count_Road', 'Sum_Roads',\n",
    "       'Count_Erosion', 'Sum_Erosion', 'Count_IM', 'Sum_IM', 'Count_new',\n",
    "       'Sum_new', 'Count_repair', 'Sum_repair', 'Count_relief', 'Sum_relief',\n",
    "       'Count_goods', 'Sum_goods', 'Count_Total', 'Sum_Total', 'Count_SDRF',\n",
    "       'Sum_SDRF', 'Count_SOPD', 'Sum_SOPD', 'Count_CIDF', 'Sum_CIDF',\n",
    "       'Count_LTIF', 'Sum_LTIF', 'Count_RIDF', 'Sum_RIDF'])"
   ]
  },
  {
   "cell_type": "code",
   "execution_count": 283,
   "id": "55054cfe",
   "metadata": {},
   "outputs": [],
   "source": [
    "X_std_imputed = X_std_imputed_drop.merge(tenders_2018_2022_standardized, on=['x','y','yr'])"
   ]
  },
  {
   "cell_type": "code",
   "execution_count": 286,
   "id": "6c3cc0f8",
   "metadata": {},
   "outputs": [],
   "source": [
    "X_std_imputed  = X_std_imputed[['ind_ppp_UNadj', 'aged', 'young', 'sexratio', 'percaay', 'deprived',\n",
    "       'nophone', 'noSanitation', 'nodrinkingWater', 'totLivestock',\n",
    "       'damage_POPULATION_AFFECTED', 'damage_humanliveslost',\n",
    "       'damage_animalsaffectedtotal', 'damage_animalsaffectedpoultry',\n",
    "       'damage_animalsaffectedbig', 'damage_animalsaffectedsmall',\n",
    "       'damage_animals_washed_total', 'damage_animals_washed_poultry',\n",
    "       'damage_animals_washed_big', 'damage_animals_washed_small',\n",
    "       'damage_Houses_damaged_fully', 'damage_Houses_damaged_partially',\n",
    "       'damage_croparea_AFFECTED', 'Embankment', 'Other', 'Road', 'Bridge',\n",
    "       'Rice', 'Salt', 'Oil', 'Dal', 'response_inmatesinReliefCamps',\n",
    "       'Relief_cam', 'Relief_dis', 'proximity_hosptial_rd',\n",
    "       'proximity_embankment_rd', 'proximity_rail_rd', 'proximity_local_rd',\n",
    "       'proximity_arterial_rd', 'ndbi', 'gmted_drainage_density_without_1',\n",
    "       'srtm_filled_dem', 'GCN250_ARCIII_average', 'Inundation', 'sum',\n",
    "       'assam_dist_from_major_rivers_updated_3857',\n",
    "       'strm_filled_slope_degrees', 'ndvi','Count_Roads_Bridges_Embankments', 'Sum_Roads_Bridges_Embankments',\n",
    "       'Count_Erosion', 'Sum_Erosion', 'Count_IM', 'Sum_IM', 'Count_new_const',\n",
    "       'Sum_new_const', 'Count_repair_rest_imp', 'Sum_repair_rest_imp',\n",
    "       'Count_relief_preparation', 'Sum_relief_preparation', 'Count_goods',\n",
    "       'Sum_goods', 'Count_Total', 'Sum_Total', 'Count_SDRF', 'Sum_SDRF',\n",
    "       'Count_SOPD', 'Sum_SOPD', 'Count_CIDF', 'Sum_CIDF', 'Count_LTIF',\n",
    "       'Sum_LTIF', 'Count_RIDF', 'Sum_RIDF','assam_soil_loam_silt_loam_silt_sandy_loam',\n",
    "       'assam_soil_loamy_sand_sand',\n",
    "       'assam_soil_rocky_other_non-soil_categories',\n",
    "       'assam_lith_neogene_sedimentary_rock',\n",
    "       'assam_lith_paleogene_sedementary rock', 'assam_lith_paleozoic_rock',\n",
    "       'assam_lith_quaternary_sediments',\n",
    "       'assam_lith_tertiary_sedimentary_rocks',\n",
    "       'assam_lith_undeveloped_precambrian_rock', 'assam_lith_water',\n",
    "       'landuse_built', 'landuse_range_land', 'landuse_vegetation',\n",
    "       'landuse_water', 'x', 'y', 'yr', 'revenue_ci', 'revenue_ci_enc']]\n",
    "X_std_imputed.columns = rena_cols"
   ]
  },
  {
   "cell_type": "code",
   "execution_count": 288,
   "id": "07604ead",
   "metadata": {},
   "outputs": [],
   "source": [
    "X_std_imputed.to_csv('D:/Projects/IDEA-FRM2/InputData/SEM_X_Imputed_RemovedAnomalies_new.csv',index=False)"
   ]
  },
  {
   "cell_type": "code",
   "execution_count": 290,
   "id": "c7669014",
   "metadata": {},
   "outputs": [
    {
     "data": {
      "text/plain": [
       "Index(['ind_ppp_UNadj', 'aged', 'young', 'sexratio', 'percaay', 'deprived',\n",
       "       'nophone', 'noSanitation', 'nodrinkingWater', 'totLivestock',\n",
       "       'damage_POPULATION_AFFECTED', 'damage_humanliveslost',\n",
       "       'damage_animalsaffectedtotal', 'damage_animalsaffectedpoultry',\n",
       "       'damage_animalsaffectedbig', 'damage_animalsaffectedsmall',\n",
       "       'damage_animals_washed_total', 'damage_animals_washed_poultry',\n",
       "       'damage_animals_washed_big', 'damage_animals_washed_small',\n",
       "       'damage_Houses_damaged_fully', 'damage_Houses_damaged_partially',\n",
       "       'damage_croparea_AFFECTED', 'Embankment', 'Other', 'Road', 'Bridge',\n",
       "       'Rice', 'Salt', 'Oil', 'Dal', 'response_inmatesinReliefCamps',\n",
       "       'Relief_cam', 'Relief_dis', 'proximity_hosptial_rd',\n",
       "       'proximity_embankment_rd', 'proximity_rail_rd', 'proximity_local_rd',\n",
       "       'proximity_arterial_rd', 'ndbi', 'gmted_drainage_density_without_1',\n",
       "       'srtm_filled_dem', 'GCN250_ARCIII_average', 'Inundation', 'sum',\n",
       "       'assam_dist_from_major_rivers_updated_3857',\n",
       "       'strm_filled_slope_degrees', 'ndvi', 'Count_Road', 'Sum_Roads',\n",
       "       'Count_Erosion', 'Sum_Erosion', 'Count_IM', 'Sum_IM', 'Count_new',\n",
       "       'Sum_new', 'Count_repair', 'Sum_repair', 'Count_relief', 'Sum_relief',\n",
       "       'Count_goods', 'Sum_goods', 'Count_Total', 'Sum_Total', 'Count_SDRF',\n",
       "       'Sum_SDRF', 'Count_SOPD', 'Sum_SOPD', 'Count_CIDF', 'Sum_CIDF',\n",
       "       'Count_LTIF', 'Sum_LTIF', 'Count_RIDF', 'Sum_RIDF',\n",
       "       'assam_soil_loam_silt_loam_silt_sandy_loam',\n",
       "       'assam_soil_loamy_sand_sand',\n",
       "       'assam_soil_rocky_other_non-soil_categories',\n",
       "       'assam_lith_neogene_sedimentary_rock',\n",
       "       'assam_lith_paleogene_sedementary rock', 'assam_lith_paleozoic_rock',\n",
       "       'assam_lith_quaternary_sediments',\n",
       "       'assam_lith_tertiary_sedimentary_rocks',\n",
       "       'assam_lith_undeveloped_precambrian_rock', 'assam_lith_water',\n",
       "       'landuse_built', 'landuse_range_land', 'landuse_vegetation',\n",
       "       'landuse_water', 'x', 'y', 'yr', 'revenue_ci', 'revenue_ci_enc'],\n",
       "      dtype='object')"
      ]
     },
     "execution_count": 290,
     "metadata": {},
     "output_type": "execute_result"
    }
   ],
   "source": [
    "X_std_imputed.columns"
   ]
  },
  {
   "cell_type": "code",
   "execution_count": 292,
   "id": "6f3d2e86",
   "metadata": {},
   "outputs": [],
   "source": [
    "con_col = ['ind_ppp_UNadj', 'aged', 'young', 'sexratio', 'percaay', 'deprived',\n",
    "       'nophone', 'noSanitation', 'nodrinkingWater', 'totLivestock',\n",
    "       'damage_POPULATION_AFFECTED', 'damage_humanliveslost',\n",
    "       'damage_animalsaffectedtotal', 'damage_animalsaffectedpoultry',\n",
    "       'damage_animalsaffectedbig', 'damage_animalsaffectedsmall',\n",
    "       'damage_animals_washed_total', 'damage_animals_washed_poultry',\n",
    "       'damage_animals_washed_big', 'damage_animals_washed_small',\n",
    "       'damage_Houses_damaged_fully', 'damage_Houses_damaged_partially',\n",
    "       'damage_croparea_AFFECTED', 'Embankment', 'Other', 'Road', 'Bridge',\n",
    "       'Rice', 'Salt', 'Oil', 'Dal', 'response_inmatesinReliefCamps',\n",
    "       'Relief_cam', 'Relief_dis', 'proximity_hosptial_rd',\n",
    "       'proximity_embankment_rd', 'proximity_rail_rd', 'proximity_local_rd',\n",
    "       'proximity_arterial_rd', 'ndbi', 'gmted_drainage_density_without_1',\n",
    "       'srtm_filled_dem', 'GCN250_ARCIII_average', 'Inundation', 'sum',\n",
    "       'assam_dist_from_major_rivers_updated_3857',\n",
    "       'strm_filled_slope_degrees', 'ndvi', 'Count_Road', 'Sum_Roads',\n",
    "       'Count_Erosion', 'Sum_Erosion', 'Count_IM', 'Sum_IM', 'Count_new',\n",
    "       'Sum_new', 'Count_repair', 'Sum_repair', 'Count_relief', 'Sum_relief',\n",
    "       'Count_goods', 'Sum_goods', 'Count_Total', 'Sum_Total', 'Count_SDRF',\n",
    "       'Sum_SDRF', 'Count_SOPD', 'Sum_SOPD', 'Count_CIDF', 'Sum_CIDF',\n",
    "       'Count_LTIF', 'Sum_LTIF', 'Count_RIDF', 'Sum_RIDF']\n",
    "cat_col = ['assam_soil_loam_silt_loam_silt_sandy_loam',\n",
    "       'assam_soil_loamy_sand_sand',\n",
    "       'assam_soil_rocky_other_non-soil_categories',\n",
    "       'assam_lith_neogene_sedimentary_rock',\n",
    "       'assam_lith_paleogene_sedementary rock', 'assam_lith_paleozoic_rock',\n",
    "       'assam_lith_quaternary_sediments',\n",
    "       'assam_lith_tertiary_sedimentary_rocks',\n",
    "       'assam_lith_undeveloped_precambrian_rock', 'assam_lith_water',\n",
    "       'landuse_built', 'landuse_range_land', 'landuse_vegetation',\n",
    "       'landuse_water']"
   ]
  },
  {
   "cell_type": "code",
   "execution_count": 291,
   "id": "28cac1c8",
   "metadata": {},
   "outputs": [
    {
     "ename": "TypeError",
     "evalue": "unhashable type: 'list'",
     "output_type": "error",
     "traceback": [
      "\u001b[1;31m---------------------------------------------------------------------------\u001b[0m",
      "\u001b[1;31mTypeError\u001b[0m                                 Traceback (most recent call last)",
      "\u001b[1;32m~\\AppData\\Local\\Temp/ipykernel_20632/892316695.py\u001b[0m in \u001b[0;36m<module>\u001b[1;34m\u001b[0m\n\u001b[1;32m----> 1\u001b[1;33m \u001b[0mX_std_imputed\u001b[0m\u001b[1;33m.\u001b[0m\u001b[0mgroupby\u001b[0m\u001b[1;33m(\u001b[0m\u001b[1;33m[\u001b[0m\u001b[1;34m'revenue_ci_enc'\u001b[0m\u001b[1;33m,\u001b[0m\u001b[1;34m'revenue_ci'\u001b[0m\u001b[1;33m,\u001b[0m\u001b[1;34m'yr'\u001b[0m\u001b[1;33m]\u001b[0m\u001b[1;33m)\u001b[0m\u001b[1;33m.\u001b[0m\u001b[0magg\u001b[0m\u001b[1;33m(\u001b[0m\u001b[1;33m{\u001b[0m\u001b[1;33m[\u001b[0m\u001b[1;34m'ind_ppp_UNadj'\u001b[0m\u001b[1;33m,\u001b[0m\u001b[1;34m'aged'\u001b[0m\u001b[1;33m]\u001b[0m\u001b[1;33m:\u001b[0m \u001b[1;33m[\u001b[0m\u001b[1;34m'mean'\u001b[0m\u001b[1;33m]\u001b[0m\u001b[1;33m}\u001b[0m\u001b[1;33m)\u001b[0m\u001b[1;33m\u001b[0m\u001b[1;33m\u001b[0m\u001b[0m\n\u001b[0m",
      "\u001b[1;31mTypeError\u001b[0m: unhashable type: 'list'"
     ]
    }
   ],
   "source": [
    "X_std_imputed.groupby(['revenue_ci_enc','revenue_ci','yr']).agg({['ind_ppp_UNadj','aged']: ['mean']})\n"
   ]
  },
  {
   "cell_type": "code",
   "execution_count": 281,
   "id": "6fc558c3",
   "metadata": {},
   "outputs": [],
   "source": [
    "rena_cols = ['ind_ppp_UNadj', 'aged', 'young', 'sexratio', 'percaay', 'deprived',\n",
    "       'nophone', 'noSanitation', 'nodrinkingWater', 'totLivestock',\n",
    "       'damage_POPULATION_AFFECTED', 'damage_humanliveslost',\n",
    "       'damage_animalsaffectedtotal', 'damage_animalsaffectedpoultry',\n",
    "       'damage_animalsaffectedbig', 'damage_animalsaffectedsmall',\n",
    "       'damage_animals_washed_total', 'damage_animals_washed_poultry',\n",
    "       'damage_animals_washed_big', 'damage_animals_washed_small',\n",
    "       'damage_Houses_damaged_fully', 'damage_Houses_damaged_partially',\n",
    "       'damage_croparea_AFFECTED', 'Embankment', 'Other', 'Road', 'Bridge',\n",
    "       'Rice', 'Salt', 'Oil', 'Dal', 'response_inmatesinReliefCamps',\n",
    "       'Relief_cam', 'Relief_dis', 'proximity_hosptial_rd',\n",
    "       'proximity_embankment_rd', 'proximity_rail_rd', 'proximity_local_rd',\n",
    "       'proximity_arterial_rd', 'ndbi', 'gmted_drainage_density_without_1',\n",
    "       'srtm_filled_dem', 'GCN250_ARCIII_average', 'Inundation', 'sum',\n",
    "       'assam_dist_from_major_rivers_updated_3857',\n",
    "       'strm_filled_slope_degrees', 'ndvi', 'Count_Road', 'Sum_Roads',\n",
    "       'Count_Erosion', 'Sum_Erosion', 'Count_IM', 'Sum_IM', 'Count_new',\n",
    "       'Sum_new', 'Count_repair', 'Sum_repair', 'Count_relief', 'Sum_relief',\n",
    "       'Count_goods', 'Sum_goods', 'Count_Total', 'Sum_Total', 'Count_SDRF',\n",
    "       'Sum_SDRF', 'Count_SOPD', 'Sum_SOPD', 'Count_CIDF', 'Sum_CIDF',\n",
    "       'Count_LTIF', 'Sum_LTIF', 'Count_RIDF', 'Sum_RIDF',\n",
    "       'assam_soil_loam_silt_loam_silt_sandy_loam',\n",
    "       'assam_soil_loamy_sand_sand',\n",
    "       'assam_soil_rocky_other_non-soil_categories',\n",
    "       'assam_lith_neogene_sedimentary_rock',\n",
    "       'assam_lith_paleogene_sedementary rock', 'assam_lith_paleozoic_rock',\n",
    "       'assam_lith_quaternary_sediments',\n",
    "       'assam_lith_tertiary_sedimentary_rocks',\n",
    "       'assam_lith_undeveloped_precambrian_rock', 'assam_lith_water',\n",
    "       'landuse_built', 'landuse_range_land', 'landuse_vegetation',\n",
    "       'landuse_water', 'x', 'y', 'yr', 'revenue_ci', 'revenue_ci_enc']"
   ]
  },
  {
   "cell_type": "code",
   "execution_count": 282,
   "id": "38e9de46",
   "metadata": {},
   "outputs": [
    {
     "data": {
      "text/plain": [
       "93"
      ]
     },
     "execution_count": 282,
     "metadata": {},
     "output_type": "execute_result"
    }
   ],
   "source": [
    "len(rena_cols)"
   ]
  },
  {
   "cell_type": "code",
   "execution_count": 293,
   "id": "bc88363c",
   "metadata": {},
   "outputs": [],
   "source": [
    "## CUMULATIVE"
   ]
  },
  {
   "cell_type": "code",
   "execution_count": 338,
   "id": "65d2d6ec",
   "metadata": {},
   "outputs": [],
   "source": [
    "demog_cols = ['ind_ppp_UNadj', 'aged', 'young', 'sexratio', 'percaay', 'deprived',\n",
    "       'nophone', 'noSanitation', 'nodrinkingWater', 'totLivestock','x', 'y', 'yr', 'revenue_ci', 'revenue_ci_enc','object_id']\n",
    "\n",
    "damage_cols = ['damage_POPULATION_AFFECTED', 'damage_humanliveslost',\n",
    "       'damage_animalsaffectedtotal', 'damage_animalsaffectedpoultry',\n",
    "       'damage_animalsaffectedbig', 'damage_animalsaffectedsmall',\n",
    "       'damage_animals_washed_total', 'damage_animals_washed_poultry',\n",
    "       'damage_animals_washed_big', 'damage_animals_washed_small',\n",
    "       'damage_Houses_damaged_fully', 'damage_Houses_damaged_partially',\n",
    "       'damage_croparea_AFFECTED', 'Embankment', 'Other', 'Road', 'Bridge','x', 'y', 'yr', 'revenue_ci', 'revenue_ci_enc','object_id']\n",
    "\n",
    "infa_cols = [ 'proximity_hosptial_rd',\n",
    "       'proximity_embankment_rd', 'proximity_rail_rd', 'proximity_local_rd',\n",
    "       'proximity_arterial_rd', 'ndbi','x', 'y', 'yr', 'revenue_ci', 'revenue_ci_enc','object_id']\n",
    "\n",
    "fld_cols = ['gmted_drainage_density_without_1',\n",
    "       'srtm_filled_dem', 'GCN250_ARCIII_average', 'Inundation', 'sum',\n",
    "       'assam_dist_from_major_rivers_updated_3857',\n",
    "       'strm_filled_slope_degrees', 'ndvi','x', 'y', 'yr', 'revenue_ci', 'revenue_ci_enc','object_id']\n",
    "\n",
    "fld_cols_cat = ['assam_soil_loam_silt_loam_silt_sandy_loam',\n",
    "       'assam_soil_loamy_sand_sand',\n",
    "       'assam_soil_rocky_other_non-soil_categories',\n",
    "       'assam_lith_neogene_sedimentary_rock',\n",
    "       'assam_lith_paleogene_sedementary rock', 'assam_lith_paleozoic_rock',\n",
    "       'assam_lith_quaternary_sediments',\n",
    "       'assam_lith_tertiary_sedimentary_rocks',\n",
    "       'assam_lith_undeveloped_precambrian_rock', 'assam_lith_water',\n",
    "       'landuse_built', 'landuse_range_land', 'landuse_vegetation',\n",
    "       'landuse_water','x', 'y', 'yr', 'revenue_ci', 'revenue_ci_enc','object_id']\n",
    "\n",
    "tender_cols = ['Count_Road', 'Sum_Roads',\n",
    "       'Count_Erosion', 'Sum_Erosion', 'Count_IM', 'Sum_IM', 'Count_new',\n",
    "       'Sum_new', 'Count_repair', 'Sum_repair', 'Count_relief', 'Sum_relief',\n",
    "       'Count_goods', 'Sum_goods', 'Count_Total', 'Sum_Total', 'Count_SDRF',\n",
    "       'Sum_SDRF', 'Count_SOPD', 'Sum_SOPD', 'Count_CIDF', 'Sum_CIDF',\n",
    "       'Count_LTIF', 'Sum_LTIF', 'Count_RIDF', 'Sum_RIDF','x', 'y', 'yr', 'revenue_ci', 'revenue_ci_enc','object_id']"
   ]
  },
  {
   "cell_type": "code",
   "execution_count": 295,
   "id": "a7af4186",
   "metadata": {},
   "outputs": [
    {
     "name": "stderr",
     "output_type": "stream",
     "text": [
      "C:\\Users\\saikr\\anaconda3\\lib\\site-packages\\IPython\\core\\interactiveshell.py:3444: DtypeWarning: Columns (74) have mixed types.Specify dtype option on import or set low_memory=False.\n",
      "  exec(code_obj, self.user_global_ns, self.user_ns)\n"
     ]
    }
   ],
   "source": [
    "MASTER = pd.read_csv('D:/Projects/IDEA-FRM2/InputData/SEM_Input.csv')"
   ]
  },
  {
   "cell_type": "code",
   "execution_count": 298,
   "id": "706bf201",
   "metadata": {},
   "outputs": [],
   "source": [
    "MASTER = MASTER[MASTER.yr>=2018]"
   ]
  },
  {
   "cell_type": "code",
   "execution_count": 307,
   "id": "acce092a",
   "metadata": {},
   "outputs": [],
   "source": [
    "points = gpd.GeoDataFrame(MASTER[['x','y','yr']],\n",
    "                          geometry=gpd.points_from_xy(MASTER[['x']], MASTER[['y']])\n",
    "                         ).set_crs('EPSG:4326')"
   ]
  },
  {
   "cell_type": "code",
   "execution_count": 308,
   "id": "18b04408",
   "metadata": {},
   "outputs": [
    {
     "name": "stderr",
     "output_type": "stream",
     "text": [
      "C:\\Users\\saikr\\anaconda3\\lib\\site-packages\\IPython\\core\\interactiveshell.py:3364: FutureWarning: The `op` parameter is deprecated and will be removed in a future release. Please use the `predicate` parameter instead.\n",
      "  if (await self.run_code(code, result,  async_=asy)):\n"
     ]
    }
   ],
   "source": [
    "points = gpd.sjoin(points, gpd.GeoDataFrame(object_id).to_crs('EPSG:4326'),how='left',op='within')"
   ]
  },
  {
   "cell_type": "code",
   "execution_count": 316,
   "id": "a267eb4e",
   "metadata": {},
   "outputs": [],
   "source": [
    "points = points.drop_duplicates(['x','y','yr'])[['x','y','yr','revenue_ci','district_3','object_id','HQ']]"
   ]
  },
  {
   "cell_type": "code",
   "execution_count": 318,
   "id": "7c048b4f",
   "metadata": {},
   "outputs": [],
   "source": [
    "MASTER2 = MASTER.merge(points,on=['x','y','yr'])"
   ]
  },
  {
   "cell_type": "code",
   "execution_count": 323,
   "id": "8761804e",
   "metadata": {},
   "outputs": [],
   "source": [
    "MASTER2.groupby(['object_id','yr'])[['ind_ppp_UNadj', 'aged', 'young', 'percaay', 'deprived',\n",
    "       'nophone', 'noSanitation', 'nodrinkingWater', 'totLivestock']].sum().reset_index().to_csv('D:\\Projects\\IDEA-FRM2\\InputData\\Cumulative\\demographicvulnerability.csv',index=False)"
   ]
  },
  {
   "cell_type": "code",
   "execution_count": 327,
   "id": "f023158d",
   "metadata": {},
   "outputs": [],
   "source": [
    "MASTER2.groupby(['object_id','yr'])[['proximity_hosptial_rd',\n",
    "       'proximity_embankment_rd', 'proximity_rail_rd', 'proximity_local_rd',\n",
    "       'proximity_arterial_rd', 'ndbi']].mean().reset_index().to_csv('D:\\Projects\\IDEA-FRM2\\InputData\\Cumulative\\infra_access.csv',index=False)"
   ]
  },
  {
   "cell_type": "code",
   "execution_count": 355,
   "id": "4ccf3965",
   "metadata": {},
   "outputs": [],
   "source": [
    "floodproneness_cum = MASTER2.groupby(['object_id','yr'])[['gmted_drainage_density_without_1',\n",
    "       'srtm_filled_dem', 'GCN250_ARCIII_average', 'Inundation', 'sum',\n",
    "       'assam_dist_from_major_rivers_updated_3857',\n",
    "       'strm_filled_slope_degrees', 'ndvi']].mean().reset_index()\n",
    "\n",
    "floodproneness_cum['assam_soil'] = MASTER2.groupby(['object_id','yr'])['assam_soil'].apply(pd.Series.mode).reset_index()['assam_soil']\n",
    "floodproneness_cum['assam_lith'] = MASTER2.groupby(['object_id','yr'])['assam_lith'].apply(pd.Series.mode).reset_index()['assam_lith']\n",
    "floodproneness_cum['landuse'] = MASTER2.groupby(['object_id','yr'])['land use'].apply(pd.Series.mode).reset_index()['land use']\n",
    "floodproneness_cum.to_csv(r'D:\\Projects\\IDEA-FRM2\\InputData\\Cumulative\\floodproneness.csv',index=False)"
   ]
  },
  {
   "cell_type": "code",
   "execution_count": 335,
   "id": "06ef8448",
   "metadata": {},
   "outputs": [
    {
     "data": {
      "text/plain": [
       "0.000000    56\n",
       "0.500000     5\n",
       "1.000000     5\n",
       "0.333333     5\n",
       "0.166667     4\n",
       "            ..\n",
       "1.137733     1\n",
       "0.146505     1\n",
       "0.096244     1\n",
       "0.130653     1\n",
       "0.350983     1\n",
       "Name: Inundation, Length: 816, dtype: int64"
      ]
     },
     "execution_count": 335,
     "metadata": {},
     "output_type": "execute_result"
    }
   ],
   "source": [
    "MASTER2.groupby(['object_id', 'yr']).Inundation.mean().value_counts()"
   ]
  },
  {
   "cell_type": "code",
   "execution_count": null,
   "id": "b2dad15b",
   "metadata": {},
   "outputs": [],
   "source": []
  }
 ],
 "metadata": {
  "kernelspec": {
   "display_name": "Python 3 (ipykernel)",
   "language": "python",
   "name": "python3"
  },
  "language_info": {
   "codemirror_mode": {
    "name": "ipython",
    "version": 3
   },
   "file_extension": ".py",
   "mimetype": "text/x-python",
   "name": "python",
   "nbconvert_exporter": "python",
   "pygments_lexer": "ipython3",
   "version": "3.9.13"
  }
 },
 "nbformat": 4,
 "nbformat_minor": 5
}
