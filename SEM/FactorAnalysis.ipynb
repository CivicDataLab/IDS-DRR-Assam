{
 "cells": [
  {
   "cell_type": "code",
   "execution_count": 1,
   "id": "2b421db7",
   "metadata": {},
   "outputs": [],
   "source": [
    "import semopy\n",
    "import pandas as pd"
   ]
  },
  {
   "cell_type": "code",
   "execution_count": 2,
   "id": "0c8c7546",
   "metadata": {},
   "outputs": [],
   "source": [
    "consolidated_sem_input_rc = pd.read_csv('SEM_InputData/SEM_Input_Consolidated_5Years.csv')"
   ]
  },
  {
   "cell_type": "code",
   "execution_count": 3,
   "id": "603a3690",
   "metadata": {},
   "outputs": [
    {
     "data": {
      "text/plain": [
       "Index(['object_id', 'gmted_drainage_density_without_1', 'srtm_filled_dem',\n",
       "       'GCN250_ARCIII_average', 'Inundation', 'sum',\n",
       "       'assam_dist_from_major_rivers_updated_3857',\n",
       "       'strm_filled_slope_degrees', 'ndvi', 'assam_soil_silt',\n",
       "       'assam_soil_loamysand', 'assam_soil_rocky', 'assam_lith_neogene',\n",
       "       'assam_lith_paleogene', 'assam_lith_paleozoic', 'assam_lith_quaternary',\n",
       "       'assam_lith_tertiary', 'assam_lith_undevelopedprecambrian',\n",
       "       'assam_lith_water', 'landuse_rangeland', 'landuse_vegetation',\n",
       "       'landuse_water', 'ind_ppp_UNadj', 'aged', 'young', 'percaay',\n",
       "       'deprived', 'nophone', 'noSanitation', 'nodrinkingWater',\n",
       "       'totLivestock', 'proximity_hosptial_rd', 'proximity_embankment_rd',\n",
       "       'proximity_rail_rd', 'proximity_local_rd', 'proximity_arterial_rd',\n",
       "       'ndbi', 'population_affected', 'crop_area_affected', 'human_lives_lost',\n",
       "       'roads_dam', 'bridges_dam', 'embankment_total',\n",
       "       'Count_Roads_Bridges_Embankments', 'Sum_Roads_Bridges_Embankments',\n",
       "       'Count_Erosion', 'Sum_Erosion', 'Count_IM', 'Sum_IM', 'Count_new_const',\n",
       "       'Sum_new_const', 'Count_repair_rest_imp', 'Sum_repair_rest_imp',\n",
       "       'Count_relief_preparation', 'Sum_relief_preparation', 'Count_goods',\n",
       "       'Sum_goods', 'Count_Total', 'Sum_Total', 'Count_SDRF', 'Sum_SDRF',\n",
       "       'Count_SOPD', 'Sum_SOPD', 'Count_CIDF', 'Sum_CIDF', 'Count_LTIF',\n",
       "       'Sum_LTIF', 'Count_RIDF', 'Sum_RIDF'],\n",
       "      dtype='object')"
      ]
     },
     "execution_count": 3,
     "metadata": {},
     "output_type": "execute_result"
    }
   ],
   "source": [
    "consolidated_sem_input_rc.columns"
   ]
  },
  {
   "cell_type": "code",
   "execution_count": 9,
   "id": "4dd4fcad",
   "metadata": {},
   "outputs": [],
   "source": [
    "consolidated_sem_input_rc_norm = pd.DataFrame()\n",
    "\n",
    "for column in consolidated_sem_input_rc.columns:\n",
    "    x = consolidated_sem_input_rc[column]\n",
    "    if column in ['object_id','district', 'revenue_cr']:\n",
    "        consolidated_sem_input_rc_norm[column] = x\n",
    "    else:\n",
    "        normalized = (x-min(x))/(max(x)-min(x))\n",
    "        consolidated_sem_input_rc_norm[column] = normalized"
   ]
  },
  {
   "cell_type": "code",
   "execution_count": 66,
   "id": "459d25d4",
   "metadata": {},
   "outputs": [
    {
     "name": "stderr",
     "output_type": "stream",
     "text": [
      "/home/krishna/anaconda3/lib/python3.9/site-packages/sklearn/cluster/_optics.py:903: RuntimeWarning: divide by zero encountered in true_divide\n",
      "  ratio = reachability_plot[:-1] / reachability_plot[1:]\n",
      "WARNING:root:Fisher Information Matrix is not PD.Moore-Penrose inverse will be used instead of Cholesky decomposition. See 10.1109/TSP.2012.2208105.\n"
     ]
    },
    {
     "name": "stdout",
     "output_type": "stream",
     "text": [
      "1 defaultdict(<class 'set'>, {'eta1_1': ['eta2', 'eta7', 'eta9', 'eta6'], 'eta2_1': ['eta5', 'eta13', 'eta3']})\n",
      "eta2 =~ assam_lith_quaternary + assam_lith_undevelopedprecambrian\n",
      "eta3 =~ Count_Total + Count_repair_rest_imp + Sum_Total + Count_SOPD + Count_Roads_Bridges_Embankments + Sum_repair_rest_imp + Count_IM + Sum_SOPD + Count_SDRF + Count_Erosion + Sum_Erosion + Sum_Roads_Bridges_Embankments\n",
      "eta5 =~ young + noSanitation + ind_ppp_UNadj + percaay + nophone + aged + deprived + population_affected\n",
      "eta6 =~ roads_dam + bridges_dam + embankment_total + population_affected\n",
      "eta7 =~ gmted_drainage_density_without_1 + srtm_filled_dem + ndbi + proximity_hosptial_rd + ndvi + GCN250_ARCIII_average + proximity_local_rd\n",
      "eta9 =~ ndvi + strm_filled_slope_degrees + GCN250_ARCIII_average + assam_soil_rocky\n",
      "eta13 =~ totLivestock + ind_ppp_UNadj\n",
      "DEFINE(latent) eta1_1 eta2_1\n",
      "eta1_1 =~ eta2 + eta7 + eta9\n",
      "eta2_1 =~ eta5 + eta13 + eta3\n"
     ]
    }
   ],
   "source": [
    "print(semopy.efa.explore_pine_model(consolidated_sem_input_rc_norm.fillna(0)))"
   ]
  },
  {
   "cell_type": "code",
   "execution_count": 67,
   "id": "e86a3c41",
   "metadata": {},
   "outputs": [
    {
     "name": "stderr",
     "output_type": "stream",
     "text": [
      "/home/krishna/anaconda3/lib/python3.9/site-packages/sklearn/cluster/_optics.py:903: RuntimeWarning: divide by zero encountered in true_divide\n",
      "  ratio = reachability_plot[:-1] / reachability_plot[1:]\n",
      "WARNING:root:Fisher Information Matrix is not PD.Moore-Penrose inverse will be used instead of Cholesky decomposition. See 10.1109/TSP.2012.2208105.\n"
     ]
    },
    {
     "name": "stdout",
     "output_type": "stream",
     "text": [
      "eta2 =~ assam_lith_quaternary + assam_lith_undevelopedprecambrian\n",
      "eta3 =~ Count_Total + Count_repair_rest_imp + Sum_Total + Count_SOPD + Count_Roads_Bridges_Embankments + Sum_repair_rest_imp + Count_IM + Sum_SOPD + Count_SDRF + Count_Erosion + Sum_Erosion + Sum_Roads_Bridges_Embankments\n",
      "eta5 =~ young + noSanitation + ind_ppp_UNadj + percaay + nophone + aged + deprived + population_affected\n",
      "eta6 =~ roads_dam + bridges_dam + embankment_total + population_affected\n",
      "eta7 =~ gmted_drainage_density_without_1 + srtm_filled_dem + ndbi + proximity_hosptial_rd + ndvi + GCN250_ARCIII_average + proximity_local_rd\n",
      "eta9 =~ ndvi + strm_filled_slope_degrees + GCN250_ARCIII_average + assam_soil_rocky\n",
      "eta13 =~ totLivestock + ind_ppp_UNadj\n",
      "\n"
     ]
    }
   ],
   "source": [
    "print(semopy.efa.explore_cfa_model(consolidated_sem_input_rc_norm.fillna(0)))"
   ]
  },
  {
   "cell_type": "code",
   "execution_count": 94,
   "id": "4e2ed044",
   "metadata": {},
   "outputs": [],
   "source": [
    "model_spec = \"\"\"\n",
    "# measurement model\n",
    "flood_impact =~  population_affected + roads_dam + bridges_dam + embankment_total + crop_area_affected\n",
    "\"\"\""
   ]
  },
  {
   "cell_type": "code",
   "execution_count": 95,
   "id": "e311951d",
   "metadata": {},
   "outputs": [],
   "source": [
    "model = semopy.Model(model_spec)"
   ]
  },
  {
   "cell_type": "code",
   "execution_count": 96,
   "id": "fbec0701",
   "metadata": {},
   "outputs": [
    {
     "name": "stderr",
     "output_type": "stream",
     "text": [
      "/home/krishna/anaconda3/lib/python3.9/site-packages/scipy/optimize/_numdiff.py:576: RuntimeWarning: invalid value encountered in subtract\n",
      "  df = fun(x) - f0\n"
     ]
    },
    {
     "data": {
      "text/plain": [
       "SolverResult(fun=0.17445074303248198, success=True, n_it=156, x=array([1.63523789e+00, 1.72522599e+00, 1.51045311e+00, 1.91525389e-01,\n",
       "       2.80699868e-02, 1.18426704e-03, 3.51493869e-02, 1.19506418e-02,\n",
       "       1.80303714e-02, 1.20864044e-02]), message='Optimization terminated successfully.', name_method='de', name_obj='MLW')"
      ]
     },
     "execution_count": 96,
     "metadata": {},
     "output_type": "execute_result"
    }
   ],
   "source": [
    "model.fit(consolidated_sem_input_rc_norm.fillna(0),\n",
    "         obj='MLW',\n",
    "         solver='de',\n",
    "        )"
   ]
  },
  {
   "cell_type": "code",
   "execution_count": 97,
   "id": "90197e9a",
   "metadata": {},
   "outputs": [],
   "source": [
    "coeff_df = model.inspect(std_est=True)"
   ]
  },
  {
   "cell_type": "code",
   "execution_count": 98,
   "id": "e8461dc5",
   "metadata": {},
   "outputs": [
    {
     "data": {
      "text/html": [
       "<div>\n",
       "<style scoped>\n",
       "    .dataframe tbody tr th:only-of-type {\n",
       "        vertical-align: middle;\n",
       "    }\n",
       "\n",
       "    .dataframe tbody tr th {\n",
       "        vertical-align: top;\n",
       "    }\n",
       "\n",
       "    .dataframe thead th {\n",
       "        text-align: right;\n",
       "    }\n",
       "</style>\n",
       "<table border=\"1\" class=\"dataframe\">\n",
       "  <thead>\n",
       "    <tr style=\"text-align: right;\">\n",
       "      <th></th>\n",
       "      <th>lval</th>\n",
       "      <th>op</th>\n",
       "      <th>rval</th>\n",
       "      <th>Estimate</th>\n",
       "      <th>Est. Std</th>\n",
       "      <th>Std. Err</th>\n",
       "      <th>z-value</th>\n",
       "      <th>p-value</th>\n",
       "    </tr>\n",
       "  </thead>\n",
       "  <tbody>\n",
       "    <tr>\n",
       "      <th>0</th>\n",
       "      <td>population_affected</td>\n",
       "      <td>~</td>\n",
       "      <td>flood_impact</td>\n",
       "      <td>1.000000</td>\n",
       "      <td>0.548619</td>\n",
       "      <td>-</td>\n",
       "      <td>-</td>\n",
       "      <td>-</td>\n",
       "    </tr>\n",
       "    <tr>\n",
       "      <th>1</th>\n",
       "      <td>roads_dam</td>\n",
       "      <td>~</td>\n",
       "      <td>flood_impact</td>\n",
       "      <td>1.635238</td>\n",
       "      <td>0.982167</td>\n",
       "      <td>0.202755</td>\n",
       "      <td>8.065101</td>\n",
       "      <td>0.0</td>\n",
       "    </tr>\n",
       "    <tr>\n",
       "      <th>2</th>\n",
       "      <td>bridges_dam</td>\n",
       "      <td>~</td>\n",
       "      <td>flood_impact</td>\n",
       "      <td>1.725226</td>\n",
       "      <td>0.816169</td>\n",
       "      <td>0.2198</td>\n",
       "      <td>7.849062</td>\n",
       "      <td>0.0</td>\n",
       "    </tr>\n",
       "    <tr>\n",
       "      <th>3</th>\n",
       "      <td>embankment_total</td>\n",
       "      <td>~</td>\n",
       "      <td>flood_impact</td>\n",
       "      <td>1.510453</td>\n",
       "      <td>0.663038</td>\n",
       "      <td>0.217125</td>\n",
       "      <td>6.956609</td>\n",
       "      <td>0.0</td>\n",
       "    </tr>\n",
       "    <tr>\n",
       "      <th>4</th>\n",
       "      <td>crop_area_affected</td>\n",
       "      <td>~</td>\n",
       "      <td>flood_impact</td>\n",
       "      <td>0.191525</td>\n",
       "      <td>0.189134</td>\n",
       "      <td>0.078503</td>\n",
       "      <td>2.439722</td>\n",
       "      <td>0.014699</td>\n",
       "    </tr>\n",
       "    <tr>\n",
       "      <th>5</th>\n",
       "      <td>flood_impact</td>\n",
       "      <td>~~</td>\n",
       "      <td>flood_impact</td>\n",
       "      <td>0.012086</td>\n",
       "      <td>1.000000</td>\n",
       "      <td>0.003104</td>\n",
       "      <td>3.894398</td>\n",
       "      <td>0.000098</td>\n",
       "    </tr>\n",
       "    <tr>\n",
       "      <th>6</th>\n",
       "      <td>population_affected</td>\n",
       "      <td>~~</td>\n",
       "      <td>population_affected</td>\n",
       "      <td>0.028070</td>\n",
       "      <td>0.699017</td>\n",
       "      <td>0.003037</td>\n",
       "      <td>9.242205</td>\n",
       "      <td>0.0</td>\n",
       "    </tr>\n",
       "    <tr>\n",
       "      <th>7</th>\n",
       "      <td>roads_dam</td>\n",
       "      <td>~~</td>\n",
       "      <td>roads_dam</td>\n",
       "      <td>0.001184</td>\n",
       "      <td>0.035348</td>\n",
       "      <td>0.001526</td>\n",
       "      <td>0.776139</td>\n",
       "      <td>0.437667</td>\n",
       "    </tr>\n",
       "    <tr>\n",
       "      <th>8</th>\n",
       "      <td>embankment_total</td>\n",
       "      <td>~~</td>\n",
       "      <td>embankment_total</td>\n",
       "      <td>0.035149</td>\n",
       "      <td>0.560381</td>\n",
       "      <td>0.003956</td>\n",
       "      <td>8.885505</td>\n",
       "      <td>0.0</td>\n",
       "    </tr>\n",
       "    <tr>\n",
       "      <th>9</th>\n",
       "      <td>crop_area_affected</td>\n",
       "      <td>~~</td>\n",
       "      <td>crop_area_affected</td>\n",
       "      <td>0.011951</td>\n",
       "      <td>0.964228</td>\n",
       "      <td>0.001261</td>\n",
       "      <td>9.474481</td>\n",
       "      <td>0.0</td>\n",
       "    </tr>\n",
       "    <tr>\n",
       "      <th>10</th>\n",
       "      <td>bridges_dam</td>\n",
       "      <td>~~</td>\n",
       "      <td>bridges_dam</td>\n",
       "      <td>0.018030</td>\n",
       "      <td>0.333869</td>\n",
       "      <td>0.002558</td>\n",
       "      <td>7.049773</td>\n",
       "      <td>0.0</td>\n",
       "    </tr>\n",
       "  </tbody>\n",
       "</table>\n",
       "</div>"
      ],
      "text/plain": [
       "                   lval  op                 rval  Estimate  Est. Std  \\\n",
       "0   population_affected   ~         flood_impact  1.000000  0.548619   \n",
       "1             roads_dam   ~         flood_impact  1.635238  0.982167   \n",
       "2           bridges_dam   ~         flood_impact  1.725226  0.816169   \n",
       "3      embankment_total   ~         flood_impact  1.510453  0.663038   \n",
       "4    crop_area_affected   ~         flood_impact  0.191525  0.189134   \n",
       "5          flood_impact  ~~         flood_impact  0.012086  1.000000   \n",
       "6   population_affected  ~~  population_affected  0.028070  0.699017   \n",
       "7             roads_dam  ~~            roads_dam  0.001184  0.035348   \n",
       "8      embankment_total  ~~     embankment_total  0.035149  0.560381   \n",
       "9    crop_area_affected  ~~   crop_area_affected  0.011951  0.964228   \n",
       "10          bridges_dam  ~~          bridges_dam  0.018030  0.333869   \n",
       "\n",
       "    Std. Err   z-value   p-value  \n",
       "0          -         -         -  \n",
       "1   0.202755  8.065101       0.0  \n",
       "2     0.2198  7.849062       0.0  \n",
       "3   0.217125  6.956609       0.0  \n",
       "4   0.078503  2.439722  0.014699  \n",
       "5   0.003104  3.894398  0.000098  \n",
       "6   0.003037  9.242205       0.0  \n",
       "7   0.001526  0.776139  0.437667  \n",
       "8   0.003956  8.885505       0.0  \n",
       "9   0.001261  9.474481       0.0  \n",
       "10  0.002558  7.049773       0.0  "
      ]
     },
     "execution_count": 98,
     "metadata": {},
     "output_type": "execute_result"
    }
   ],
   "source": [
    "coeff_df"
   ]
  },
  {
   "cell_type": "code",
   "execution_count": 99,
   "id": "88276d27",
   "metadata": {},
   "outputs": [
    {
     "name": "stdout",
     "output_type": "stream",
     "text": [
      "                    Value\n",
      "DoF              5.000000\n",
      "DoF Baseline    10.000000\n",
      "chi2            31.401134\n",
      "chi2 p-value     0.000008\n",
      "chi2 Baseline  374.262242\n",
      "CFI              0.927522\n",
      "GFI              0.916099\n",
      "AGFI             0.832197\n",
      "NFI              0.916099\n",
      "TLI              0.855043\n",
      "RMSEA            0.171751\n",
      "AIC             19.651099\n",
      "BIC             51.580667\n",
      "LogLik           0.174451\n"
     ]
    }
   ],
   "source": [
    "stats = semopy.calc_stats(model)\n",
    "print(stats.T)"
   ]
  },
  {
   "cell_type": "markdown",
   "id": "8dfa7fa0",
   "metadata": {},
   "source": [
    "Dof is positive = Over identified model."
   ]
  },
  {
   "cell_type": "code",
   "execution_count": 27,
   "id": "0d5b2b54",
   "metadata": {},
   "outputs": [],
   "source": [
    "data = semopy.examples.political_democracy.get_data()\n",
    "mod = semopy.examples.political_democracy.get_model()"
   ]
  },
  {
   "cell_type": "code",
   "execution_count": 29,
   "id": "12c14af9",
   "metadata": {},
   "outputs": [
    {
     "name": "stdout",
     "output_type": "stream",
     "text": [
      "# measurement model\n",
      "ind60 =~ x1 + x2 + x3\n",
      "dem60 =~ y1 + y2 + y3 + y4\n",
      "dem65 =~ y5 + y6 + y7 + y8\n",
      "# regressions\n",
      "dem60 ~ ind60\n",
      "dem65 ~ ind60 + dem60\n",
      "# residual correlations\n",
      "y1 ~~ y5\n",
      "y2 ~~ y4 + y6\n",
      "y3 ~~ y7\n",
      "y4 ~~ y8\n",
      "y6 ~~ y8\n"
     ]
    }
   ],
   "source": [
    "print(mod)"
   ]
  },
  {
   "cell_type": "code",
   "execution_count": null,
   "id": "0d8fea1c",
   "metadata": {},
   "outputs": [],
   "source": []
  }
 ],
 "metadata": {
  "kernelspec": {
   "display_name": "Python 3 (ipykernel)",
   "language": "python",
   "name": "python3"
  },
  "language_info": {
   "codemirror_mode": {
    "name": "ipython",
    "version": 3
   },
   "file_extension": ".py",
   "mimetype": "text/x-python",
   "name": "python",
   "nbconvert_exporter": "python",
   "pygments_lexer": "ipython3",
   "version": "3.9.13"
  }
 },
 "nbformat": 4,
 "nbformat_minor": 5
}
