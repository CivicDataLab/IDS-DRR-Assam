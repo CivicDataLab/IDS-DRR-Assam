{
 "cells": [
  {
   "cell_type": "code",
   "execution_count": 14,
   "id": "c5a30383",
   "metadata": {},
   "outputs": [],
   "source": [
    "import pandas as pd\n",
    "import os"
   ]
  },
  {
   "cell_type": "code",
   "execution_count": 15,
   "id": "06681810",
   "metadata": {},
   "outputs": [],
   "source": [
    "data_path = '/home/krishna/IDS-DRR-Data-Pipeline/Sources/FRIMS/data/raw_data/'\n",
    "cleaned_data_path = '/home/krishna/IDS-DRR-Data-Pipeline/Sources/FRIMS/data/cleaned_data/'\n",
    "variables_path = '/home/krishna/IDS-DRR-Data-Pipeline/Sources/FRIMS/data/variables/'"
   ]
  },
  {
   "cell_type": "code",
   "execution_count": 16,
   "id": "b4177686",
   "metadata": {},
   "outputs": [],
   "source": [
    "frims_rc_id_mapping = pd.read_csv('/home/krishna/IDS-DRR-Data-Pipeline/Sources/FRIMS/data/frims_rc_id_mapping.csv')\n",
    "frims_rc_id_mapping = frims_rc_id_mapping[['object_id','RC_Id']]"
   ]
  },
  {
   "cell_type": "code",
   "execution_count": 17,
   "id": "4c8b15d1",
   "metadata": {},
   "outputs": [],
   "source": [
    "df = pd.read_excel(data_path+'FRIMS_Inf_Damage_Data_21_july_2023.xlsx',\n",
    "                   sheet_name=0)"
   ]
  },
  {
   "cell_type": "code",
   "execution_count": 21,
   "id": "f6dacbe0",
   "metadata": {},
   "outputs": [],
   "source": [
    "df = df.rename(columns = {'Revenue Circle Id': 'RC_Id'})"
   ]
  },
  {
   "cell_type": "code",
   "execution_count": 22,
   "id": "67151f79",
   "metadata": {},
   "outputs": [],
   "source": [
    "df = df.merge(frims_rc_id_mapping, on='RC_Id', how='left')"
   ]
  },
  {
   "cell_type": "code",
   "execution_count": 23,
   "id": "2330e576",
   "metadata": {},
   "outputs": [
    {
     "data": {
      "text/plain": [
       "set()"
      ]
     },
     "execution_count": 23,
     "metadata": {},
     "output_type": "execute_result"
    }
   ],
   "source": [
    "unmapped_rcs = set(df[df['object_id'].isnull()]['RC_Id'].dropna().to_list())\n",
    "unmapped_rcs"
   ]
  },
  {
   "cell_type": "code",
   "execution_count": 24,
   "id": "a724f18f",
   "metadata": {},
   "outputs": [],
   "source": [
    "df['month'] = df['Report Date'].dt.month\n",
    "df['month'] = df.month.map(\"{:02}\".format)\n",
    "df['year'] = df['Report Date'].dt.year"
   ]
  },
  {
   "cell_type": "code",
   "execution_count": null,
   "id": "0645a641",
   "metadata": {},
   "outputs": [],
   "source": []
  },
  {
   "cell_type": "code",
   "execution_count": 26,
   "id": "7f906f9f",
   "metadata": {},
   "outputs": [],
   "source": [
    "infra_damages_df = df.groupby(['year', 'month', 'object_id', 'Type'])[['Id']].count().reset_index()"
   ]
  },
  {
   "cell_type": "code",
   "execution_count": 27,
   "id": "54bbd220",
   "metadata": {},
   "outputs": [],
   "source": [
    "infra_damages_df.columns = ['year', 'month', 'object_id', 'Type', 'num_damages']"
   ]
  },
  {
   "cell_type": "code",
   "execution_count": 28,
   "id": "004999f7",
   "metadata": {},
   "outputs": [],
   "source": [
    "infra_damages_df['year_month'] = infra_damages_df['year'].astype(str) + '_' + infra_damages_df['month'].astype(str)"
   ]
  },
  {
   "cell_type": "code",
   "execution_count": 29,
   "id": "6412961b",
   "metadata": {},
   "outputs": [],
   "source": [
    "variables = infra_damages_df.Type.unique()"
   ]
  },
  {
   "cell_type": "code",
   "execution_count": 30,
   "id": "5fa7abb3",
   "metadata": {
    "scrolled": true
   },
   "outputs": [],
   "source": [
    "for variable in variables:\n",
    "    variable_df = infra_damages_df[infra_damages_df['Type'] == variable]\n",
    "    \n",
    "    for year_month in variable_df['year_month'].unique():\n",
    "        variable_df_monthly = variable_df[variable_df['year_month']==year_month]  \n",
    "        \n",
    "        variable_df_monthly = variable_df_monthly.rename(columns = {'num_damages': variable})\n",
    "        variable_df_monthly = variable_df_monthly[['object_id', variable]]\n",
    "        if os.path.exists(variables_path+variable):\n",
    "            variable_df_monthly.to_csv(variables_path+variable+'/{}_{}.csv'.format(variable, year_month), index=False)\n",
    "        else:\n",
    "            os.mkdir(variables_path+variable)\n",
    "            variable_df_monthly.to_csv(variables_path+variable+'/{}_{}.csv'.format(variable, year_month), index=False)"
   ]
  },
  {
   "cell_type": "code",
   "execution_count": null,
   "id": "df09f45f",
   "metadata": {},
   "outputs": [],
   "source": [
    "df[df['Revenue Circle Id']==61]"
   ]
  },
  {
   "cell_type": "code",
   "execution_count": null,
   "id": "d92cf8b3",
   "metadata": {},
   "outputs": [],
   "source": [
    "frims_rc_id_mapping[frims_rc_id_mapping['RC_Id']==169]"
   ]
  },
  {
   "cell_type": "code",
   "execution_count": null,
   "id": "ceea980a",
   "metadata": {},
   "outputs": [],
   "source": []
  }
 ],
 "metadata": {
  "kernelspec": {
   "display_name": "Python 3 (ipykernel)",
   "language": "python",
   "name": "python3"
  },
  "language_info": {
   "codemirror_mode": {
    "name": "ipython",
    "version": 3
   },
   "file_extension": ".py",
   "mimetype": "text/x-python",
   "name": "python",
   "nbconvert_exporter": "python",
   "pygments_lexer": "ipython3",
   "version": "3.9.13"
  }
 },
 "nbformat": 4,
 "nbformat_minor": 5
}
