{
 "cells": [
  {
   "cell_type": "code",
   "execution_count": 1,
   "id": "7e70312c",
   "metadata": {},
   "outputs": [],
   "source": [
    "import urllib.request\n",
    "import camelot\n",
    "import pandas as pd\n",
    "import regex as re\n",
    "import pygsheets\n",
    "from datetime import date, timedelta, datetime\n",
    "import numpy as np\n",
    "import glob"
   ]
  },
  {
   "cell_type": "code",
   "execution_count": 2,
   "id": "6772ddc9",
   "metadata": {},
   "outputs": [],
   "source": [
    "def add_standard_subdistrict_column(df):\n",
    "    sub_districts = pd.read_csv('FRIMS_Daily_Reports/assam_sub_district_FRIMSDATA - assam_sub_district.csv')\n",
    "    #Fix the standard sub-district names\n",
    "    standard_sub_dist_names = list(sub_districts.sdtname)\n",
    "    #Empty list to store the standard names of each revenue-circle in our dataframe\n",
    "    standard_names = []\n",
    "\n",
    "    for rev_circle in list(df['Revenue circle']):\n",
    "        #Empty list to store scores\n",
    "        matches = []\n",
    "        #Position of selected state in the list. We need it because, we will have to rename it with stadard value later.\n",
    "        statepos = list(df['Revenue circle']).index(rev_circle)\n",
    "    \n",
    "        for standard in standard_sub_dist_names:\n",
    "            matches.append(similar(rev_circle, standard))    \n",
    "        \n",
    "        #Position of the maximum score in the list. We will use it to know what is the standard state name for every state.  \n",
    "        maxpos = matches.index(max(matches))\n",
    "        standard_names.append(standard_sub_dist_names[maxpos])\n",
    "\n",
    "\n",
    "    df['Sub-District'] = pd.DataFrame(standard_names)\n",
    "    return df"
   ]
  },
  {
   "cell_type": "code",
   "execution_count": 3,
   "id": "e209d906",
   "metadata": {},
   "outputs": [],
   "source": [
    "#Sequence Matcher helps us get the metric that measures how two strings are matching\n",
    "from difflib import SequenceMatcher\n",
    "\n",
    "#We will write a function that gives us matching score between two strings a and b. Higher the score,better the match\n",
    "def similar(a, b):\n",
    "    return SequenceMatcher(None, a, b).ratio()"
   ]
  },
  {
   "cell_type": "code",
   "execution_count": 420,
   "id": "959f8c70",
   "metadata": {},
   "outputs": [],
   "source": [
    "date = '18.07.2022'"
   ]
  },
  {
   "cell_type": "code",
   "execution_count": 131,
   "id": "3f1c329b",
   "metadata": {},
   "outputs": [
    {
     "data": {
      "text/plain": [
       "('D:/Projects/OCDS/FRIMS_Daily_Reports/FRIMS_01.06.2022.pdf',\n",
       " <http.client.HTTPMessage at 0x1d527a98040>)"
      ]
     },
     "execution_count": 131,
     "metadata": {},
     "output_type": "execute_result"
    }
   ],
   "source": [
    "daily_report_url = 'http://www.asdma.gov.in/pdf/flood_report/2022/Daily_Flood_Report_'+date+'.pdf'\n",
    "urllib.request.urlretrieve(daily_report_url, r\"D:/Projects/OCDS/FRIMS_Daily_Reports/FRIMS_\"+date+\".pdf\")"
   ]
  },
  {
   "cell_type": "code",
   "execution_count": 421,
   "id": "56951a5f",
   "metadata": {},
   "outputs": [
    {
     "data": {
      "text/plain": [
       "<TableList n=4>"
      ]
     },
     "execution_count": 421,
     "metadata": {},
     "output_type": "execute_result"
    }
   ],
   "source": [
    "pdf_file = r\"D:/Projects/OCDS/FRIMS_Daily_Reports/FRIMS_\"+date+\".pdf\"\n",
    "tables = camelot.read_pdf(pdf_file,pages='all')\n",
    "tables"
   ]
  },
  {
   "cell_type": "code",
   "execution_count": 422,
   "id": "8cedfe2e",
   "metadata": {},
   "outputs": [],
   "source": [
    "df = pd.DataFrame()\n",
    "for i in range(0,len(tables)):\n",
    "    df = pd.concat([df,tables[i].df],axis=0, ignore_index=True)"
   ]
  },
  {
   "cell_type": "markdown",
   "id": "0c2abecb",
   "metadata": {},
   "source": [
    "## Infrastructure Damaged - Embankment Affected"
   ]
  },
  {
   "cell_type": "code",
   "execution_count": 423,
   "id": "28894b3c",
   "metadata": {},
   "outputs": [
    {
     "name": "stderr",
     "output_type": "stream",
     "text": [
      "C:\\Users\\saikr\\AppData\\Local\\Temp/ipykernel_3836/1657678534.py:1: FutureWarning: The default value of regex will change from True to False in a future version.\n",
      "  df[0] = df[0].str.replace(r'\\n','')\n"
     ]
    }
   ],
   "source": [
    "df[0] = df[0].str.replace(r'\\n','')\n",
    "df[0] = df[0].str.lower()"
   ]
  },
  {
   "cell_type": "code",
   "execution_count": 428,
   "id": "c5ce9fea",
   "metadata": {},
   "outputs": [
    {
     "data": {
      "text/plain": [
       "66"
      ]
     },
     "execution_count": 428,
     "metadata": {},
     "output_type": "execute_result"
    }
   ],
   "source": [
    "start = df[df[0].isin(['infrastructure damaged - embankment affected','infrastructure damaged - embankments affected'])].index.values[0]\n",
    "start\n",
    "#df[df[0].isin(['infrastructure damaged - embankment breached','infrastructure damaged - embankments breached'])].index.values[0]"
   ]
  },
  {
   "cell_type": "code",
   "execution_count": 430,
   "id": "d826b404",
   "metadata": {},
   "outputs": [
    {
     "data": {
      "text/plain": [
       "69"
      ]
     },
     "execution_count": 430,
     "metadata": {},
     "output_type": "execute_result"
    }
   ],
   "source": [
    "for index,row in df[start+1:].iterrows():\n",
    "    if row[0]=='':\n",
    "        continue\n",
    "    else:\n",
    "        end = index\n",
    "        break\n",
    "end"
   ]
  },
  {
   "cell_type": "code",
   "execution_count": 431,
   "id": "ea609a02",
   "metadata": {},
   "outputs": [
    {
     "data": {
      "text/html": [
       "<div>\n",
       "<style scoped>\n",
       "    .dataframe tbody tr th:only-of-type {\n",
       "        vertical-align: middle;\n",
       "    }\n",
       "\n",
       "    .dataframe tbody tr th {\n",
       "        vertical-align: top;\n",
       "    }\n",
       "\n",
       "    .dataframe thead th {\n",
       "        text-align: right;\n",
       "    }\n",
       "</style>\n",
       "<table border=\"1\" class=\"dataframe\">\n",
       "  <thead>\n",
       "    <tr style=\"text-align: right;\">\n",
       "      <th></th>\n",
       "      <th>0</th>\n",
       "      <th>1</th>\n",
       "      <th>2</th>\n",
       "      <th>3</th>\n",
       "      <th>4</th>\n",
       "      <th>5</th>\n",
       "      <th>6</th>\n",
       "      <th>7</th>\n",
       "      <th>8</th>\n",
       "      <th>9</th>\n",
       "      <th>10</th>\n",
       "      <th>11</th>\n",
       "    </tr>\n",
       "  </thead>\n",
       "  <tbody>\n",
       "    <tr>\n",
       "      <th>66</th>\n",
       "      <td>infrastructure damaged - embankment affected</td>\n",
       "      <td>District</td>\n",
       "      <td>Numbe\\nr</td>\n",
       "      <td>Details</td>\n",
       "      <td></td>\n",
       "      <td></td>\n",
       "      <td></td>\n",
       "      <td></td>\n",
       "      <td></td>\n",
       "      <td></td>\n",
       "      <td></td>\n",
       "      <td>NaN</td>\n",
       "    </tr>\n",
       "    <tr>\n",
       "      <th>67</th>\n",
       "      <td></td>\n",
       "      <td>Biswanath</td>\n",
       "      <td>1</td>\n",
       "      <td>Gohpur - Sessa River R/Bank embankment | Ougur...</td>\n",
       "      <td></td>\n",
       "      <td></td>\n",
       "      <td></td>\n",
       "      <td></td>\n",
       "      <td></td>\n",
       "      <td></td>\n",
       "      <td></td>\n",
       "      <td>NaN</td>\n",
       "    </tr>\n",
       "    <tr>\n",
       "      <th>68</th>\n",
       "      <td></td>\n",
       "      <td>Total</td>\n",
       "      <td>1</td>\n",
       "      <td></td>\n",
       "      <td></td>\n",
       "      <td></td>\n",
       "      <td></td>\n",
       "      <td></td>\n",
       "      <td></td>\n",
       "      <td></td>\n",
       "      <td></td>\n",
       "      <td>NaN</td>\n",
       "    </tr>\n",
       "  </tbody>\n",
       "</table>\n",
       "</div>"
      ],
      "text/plain": [
       "                                              0          1         2   \\\n",
       "66  infrastructure damaged - embankment affected   District  Numbe\\nr   \n",
       "67                                                Biswanath         1   \n",
       "68                                                    Total         1   \n",
       "\n",
       "                                                   3  4  5  6  7  8  9  10  \\\n",
       "66                                            Details                        \n",
       "67  Gohpur - Sessa River R/Bank embankment | Ougur...                        \n",
       "68                                                                           \n",
       "\n",
       "     11  \n",
       "66  NaN  \n",
       "67  NaN  \n",
       "68  NaN  "
      ]
     },
     "execution_count": 431,
     "metadata": {},
     "output_type": "execute_result"
    }
   ],
   "source": [
    "df[start:end]"
   ]
  },
  {
   "cell_type": "code",
   "execution_count": 434,
   "id": "c2b308ce",
   "metadata": {},
   "outputs": [
    {
     "name": "stderr",
     "output_type": "stream",
     "text": [
      "C:\\Users\\saikr\\AppData\\Local\\Temp/ipykernel_3836/706613745.py:2: FutureWarning: The default value of regex will change from True to False in a future version.\n",
      "  kf.columns=kf.iloc[0].str.replace(r'\\n','')\n"
     ]
    }
   ],
   "source": [
    "df_embankment_affected = df.loc[start:end-1,:3].reset_index(drop=True)\n",
    "df_embankment_affected.columns=df_embankment_affected.iloc[0].str.replace(r'\\n','')\n",
    "df_embankment_affected = df_embankment_affected.loc[1:,:]"
   ]
  },
  {
   "cell_type": "code",
   "execution_count": 435,
   "id": "009b7a89",
   "metadata": {},
   "outputs": [
    {
     "name": "stderr",
     "output_type": "stream",
     "text": [
      "C:\\Users\\saikr\\AppData\\Local\\Temp/ipykernel_3836/198207134.py:1: FutureWarning: The default value of regex will change from True to False in a future version.\n",
      "  kf['District'] = kf['District'].str.replace(r'\\n','')\n",
      "C:\\Users\\saikr\\AppData\\Local\\Temp/ipykernel_3836/198207134.py:2: FutureWarning: The default value of regex will change from True to False in a future version.\n",
      "  kf['Details'] = kf['Details'].str.replace(r'\\n','')\n"
     ]
    },
    {
     "data": {
      "text/html": [
       "<div>\n",
       "<style scoped>\n",
       "    .dataframe tbody tr th:only-of-type {\n",
       "        vertical-align: middle;\n",
       "    }\n",
       "\n",
       "    .dataframe tbody tr th {\n",
       "        vertical-align: top;\n",
       "    }\n",
       "\n",
       "    .dataframe thead th {\n",
       "        text-align: right;\n",
       "    }\n",
       "</style>\n",
       "<table border=\"1\" class=\"dataframe\">\n",
       "  <thead>\n",
       "    <tr style=\"text-align: right;\">\n",
       "      <th></th>\n",
       "      <th>infrastructure damaged - embankment affected</th>\n",
       "      <th>District</th>\n",
       "      <th>Number</th>\n",
       "      <th>Details</th>\n",
       "    </tr>\n",
       "  </thead>\n",
       "  <tbody>\n",
       "    <tr>\n",
       "      <th>1</th>\n",
       "      <td></td>\n",
       "      <td>Biswanath</td>\n",
       "      <td>1</td>\n",
       "      <td>Gohpur - Sessa River R/Bank embankment | Ougur...</td>\n",
       "    </tr>\n",
       "    <tr>\n",
       "      <th>2</th>\n",
       "      <td></td>\n",
       "      <td>Total</td>\n",
       "      <td>1</td>\n",
       "      <td></td>\n",
       "    </tr>\n",
       "  </tbody>\n",
       "</table>\n",
       "</div>"
      ],
      "text/plain": [
       "0 infrastructure damaged - embankment affected   District Number  \\\n",
       "1                                               Biswanath      1   \n",
       "2                                                   Total      1   \n",
       "\n",
       "0                                            Details  \n",
       "1  Gohpur - Sessa River R/Bank embankment | Ougur...  \n",
       "2                                                     "
      ]
     },
     "execution_count": 435,
     "metadata": {},
     "output_type": "execute_result"
    }
   ],
   "source": [
    "df_embankment_affected['District'] = df_embankment_affected['District'].str.replace(r'\\n','')\n",
    "df_embankment_affected['Details'] = df_embankment_affected['Details'].str.replace(r'\\n','')\n",
    "df_embankment_affected"
   ]
  },
  {
   "cell_type": "code",
   "execution_count": 384,
   "id": "ee6d7b47",
   "metadata": {},
   "outputs": [
    {
     "data": {
      "text/plain": [
       "2"
      ]
     },
     "execution_count": 384,
     "metadata": {},
     "output_type": "execute_result"
    }
   ],
   "source": [
    "len(df_embankment_affected[df_embankment_affected.Number==''].index.values)"
   ]
  },
  {
   "cell_type": "code",
   "execution_count": 388,
   "id": "ec328eb9",
   "metadata": {},
   "outputs": [],
   "source": [
    "if len(df_embankment_affected[df_embankment_affected.Number==''].index.values) >0 :\n",
    "    df_embankment_affected['Details'][kf[kf.Number==''].index.values[0]-1] = kf['Details'][kf[kf.Number==''].index.values[0]-1]+' '+kf['District'][kf[kf.Number==''].index.values[0]]\n",
    "    kf['Details'][kf[kf.Number==''].index.values[0]] = np.nan "
   ]
  },
  {
   "cell_type": "code",
   "execution_count": 391,
   "id": "aff903eb",
   "metadata": {},
   "outputs": [
    {
     "data": {
      "text/html": [
       "<div>\n",
       "<style scoped>\n",
       "    .dataframe tbody tr th:only-of-type {\n",
       "        vertical-align: middle;\n",
       "    }\n",
       "\n",
       "    .dataframe tbody tr th {\n",
       "        vertical-align: top;\n",
       "    }\n",
       "\n",
       "    .dataframe thead th {\n",
       "        text-align: right;\n",
       "    }\n",
       "</style>\n",
       "<table border=\"1\" class=\"dataframe\">\n",
       "  <thead>\n",
       "    <tr style=\"text-align: right;\">\n",
       "      <th></th>\n",
       "      <th>infrastructure damaged - embankment affected</th>\n",
       "      <th>District</th>\n",
       "      <th>Number</th>\n",
       "      <th>Details</th>\n",
       "    </tr>\n",
       "  </thead>\n",
       "  <tbody>\n",
       "    <tr>\n",
       "      <th>1</th>\n",
       "      <td></td>\n",
       "      <td>Biswanath</td>\n",
       "      <td>1</td>\n",
       "      <td>Halem - Chattrang Embankent | Majgaon | As rep...</td>\n",
       "    </tr>\n",
       "    <tr>\n",
       "      <th>2</th>\n",
       "      <td></td>\n",
       "      <td>Nagaon</td>\n",
       "      <td>1</td>\n",
       "      <td>Raha - CHARAIHAGI TO TAKALATUP DYKE | PUB DARA...</td>\n",
       "    </tr>\n",
       "  </tbody>\n",
       "</table>\n",
       "</div>"
      ],
      "text/plain": [
       "0 infrastructure damaged - embankment affected   District Number  \\\n",
       "1                                               Biswanath      1   \n",
       "2                                                  Nagaon      1   \n",
       "\n",
       "0                                            Details  \n",
       "1  Halem - Chattrang Embankent | Majgaon | As rep...  \n",
       "2  Raha - CHARAIHAGI TO TAKALATUP DYKE | PUB DARA...  "
      ]
     },
     "execution_count": 391,
     "metadata": {},
     "output_type": "execute_result"
    }
   ],
   "source": [
    "kf.dropna()"
   ]
  },
  {
   "cell_type": "code",
   "execution_count": 274,
   "id": "67005a26",
   "metadata": {},
   "outputs": [],
   "source": [
    "dates = []\n",
    "for file in glob.glob('FRIMS_Daily_Reports/*.pdf'):\n",
    "    date = file.split('FRIMS_')[-1].split('.pdf')[0]\n",
    "    dates.append(date)\n",
    "done_dates = []\n",
    "issue_dates = []"
   ]
  },
  {
   "cell_type": "code",
   "execution_count": 405,
   "id": "c39c63e2",
   "metadata": {},
   "outputs": [],
   "source": [
    "issue_dates=['02.06.2022',\n",
    " '23.06.2022',\n",
    " '18.05.2022',\n",
    " '23.07.2022',\n",
    " '04.07.2022',\n",
    " '27.05.2022',\n",
    " '27.06.2022',\n",
    " '03.06.2022',\n",
    " '02.08.2022',\n",
    " '16.08.2022']"
   ]
  },
  {
   "cell_type": "code",
   "execution_count": 406,
   "id": "ca59c8ac",
   "metadata": {},
   "outputs": [
    {
     "name": "stdout",
     "output_type": "stream",
     "text": [
      "03.06.2022\n"
     ]
    },
    {
     "ename": "KeyError",
     "evalue": "'District'",
     "output_type": "error",
     "traceback": [
      "\u001b[1;31m---------------------------------------------------------------------------\u001b[0m",
      "\u001b[1;31mKeyError\u001b[0m                                  Traceback (most recent call last)",
      "\u001b[1;32m~\\anaconda3\\lib\\site-packages\\pandas\\core\\indexes\\base.py\u001b[0m in \u001b[0;36mget_loc\u001b[1;34m(self, key, method, tolerance)\u001b[0m\n\u001b[0;32m   3360\u001b[0m             \u001b[1;32mtry\u001b[0m\u001b[1;33m:\u001b[0m\u001b[1;33m\u001b[0m\u001b[1;33m\u001b[0m\u001b[0m\n\u001b[1;32m-> 3361\u001b[1;33m                 \u001b[1;32mreturn\u001b[0m \u001b[0mself\u001b[0m\u001b[1;33m.\u001b[0m\u001b[0m_engine\u001b[0m\u001b[1;33m.\u001b[0m\u001b[0mget_loc\u001b[0m\u001b[1;33m(\u001b[0m\u001b[0mcasted_key\u001b[0m\u001b[1;33m)\u001b[0m\u001b[1;33m\u001b[0m\u001b[1;33m\u001b[0m\u001b[0m\n\u001b[0m\u001b[0;32m   3362\u001b[0m             \u001b[1;32mexcept\u001b[0m \u001b[0mKeyError\u001b[0m \u001b[1;32mas\u001b[0m \u001b[0merr\u001b[0m\u001b[1;33m:\u001b[0m\u001b[1;33m\u001b[0m\u001b[1;33m\u001b[0m\u001b[0m\n",
      "\u001b[1;32m~\\anaconda3\\lib\\site-packages\\pandas\\_libs\\index.pyx\u001b[0m in \u001b[0;36mpandas._libs.index.IndexEngine.get_loc\u001b[1;34m()\u001b[0m\n",
      "\u001b[1;32m~\\anaconda3\\lib\\site-packages\\pandas\\_libs\\index.pyx\u001b[0m in \u001b[0;36mpandas._libs.index.IndexEngine.get_loc\u001b[1;34m()\u001b[0m\n",
      "\u001b[1;32m~\\anaconda3\\lib\\site-packages\\pandas\\_libs\\index.pyx\u001b[0m in \u001b[0;36mpandas._libs.index.IndexEngine._get_loc_duplicates\u001b[1;34m()\u001b[0m\n",
      "\u001b[1;32m~\\anaconda3\\lib\\site-packages\\pandas\\_libs\\index.pyx\u001b[0m in \u001b[0;36mpandas._libs.index.IndexEngine._maybe_get_bool_indexer\u001b[1;34m()\u001b[0m\n",
      "\u001b[1;32m~\\anaconda3\\lib\\site-packages\\pandas\\_libs\\index.pyx\u001b[0m in \u001b[0;36mpandas._libs.index.IndexEngine._unpack_bool_indexer\u001b[1;34m()\u001b[0m\n",
      "\u001b[1;31mKeyError\u001b[0m: 'District'",
      "\nThe above exception was the direct cause of the following exception:\n",
      "\u001b[1;31mKeyError\u001b[0m                                  Traceback (most recent call last)",
      "\u001b[1;32m~\\AppData\\Local\\Temp/ipykernel_3836/2547765424.py\u001b[0m in \u001b[0;36m<module>\u001b[1;34m\u001b[0m\n\u001b[0;32m     56\u001b[0m     \u001b[0mFRIMS_DF_DAMAGE_EMBANKMENT_AFFECTED\u001b[0m\u001b[1;33m.\u001b[0m\u001b[0mcolumns\u001b[0m\u001b[1;33m=\u001b[0m\u001b[0mFRIMS_DF_DAMAGE_EMBANKMENT_AFFECTED\u001b[0m\u001b[1;33m.\u001b[0m\u001b[0miloc\u001b[0m\u001b[1;33m[\u001b[0m\u001b[1;36m0\u001b[0m\u001b[1;33m]\u001b[0m\u001b[1;33m.\u001b[0m\u001b[0mstr\u001b[0m\u001b[1;33m.\u001b[0m\u001b[0mreplace\u001b[0m\u001b[1;33m(\u001b[0m\u001b[1;34mr'\\n'\u001b[0m\u001b[1;33m,\u001b[0m\u001b[1;34m''\u001b[0m\u001b[1;33m,\u001b[0m\u001b[0mregex\u001b[0m\u001b[1;33m=\u001b[0m\u001b[1;32mTrue\u001b[0m\u001b[1;33m)\u001b[0m\u001b[1;33m\u001b[0m\u001b[1;33m\u001b[0m\u001b[0m\n\u001b[0;32m     57\u001b[0m     \u001b[0mFRIMS_DF_DAMAGE_EMBANKMENT_AFFECTED\u001b[0m \u001b[1;33m=\u001b[0m \u001b[0mFRIMS_DF_DAMAGE_EMBANKMENT_AFFECTED\u001b[0m\u001b[1;33m.\u001b[0m\u001b[0mloc\u001b[0m\u001b[1;33m[\u001b[0m\u001b[1;36m1\u001b[0m\u001b[1;33m:\u001b[0m\u001b[1;33m,\u001b[0m\u001b[1;33m:\u001b[0m\u001b[1;33m]\u001b[0m\u001b[1;33m\u001b[0m\u001b[1;33m\u001b[0m\u001b[0m\n\u001b[1;32m---> 58\u001b[1;33m     \u001b[0mFRIMS_DF_DAMAGE_EMBANKMENT_AFFECTED\u001b[0m\u001b[1;33m[\u001b[0m\u001b[1;34m'District'\u001b[0m\u001b[1;33m]\u001b[0m \u001b[1;33m=\u001b[0m \u001b[0mFRIMS_DF_DAMAGE_EMBANKMENT_AFFECTED\u001b[0m\u001b[1;33m[\u001b[0m\u001b[1;34m'District'\u001b[0m\u001b[1;33m]\u001b[0m\u001b[1;33m.\u001b[0m\u001b[0mstr\u001b[0m\u001b[1;33m.\u001b[0m\u001b[0mreplace\u001b[0m\u001b[1;33m(\u001b[0m\u001b[1;34mr'\\n'\u001b[0m\u001b[1;33m,\u001b[0m\u001b[1;34m''\u001b[0m\u001b[1;33m,\u001b[0m\u001b[0mregex\u001b[0m\u001b[1;33m=\u001b[0m\u001b[1;32mTrue\u001b[0m\u001b[1;33m)\u001b[0m\u001b[1;33m\u001b[0m\u001b[1;33m\u001b[0m\u001b[0m\n\u001b[0m\u001b[0;32m     59\u001b[0m     \u001b[0mFRIMS_DF_DAMAGE_EMBANKMENT_AFFECTED\u001b[0m\u001b[1;33m[\u001b[0m\u001b[1;34m'Details'\u001b[0m\u001b[1;33m]\u001b[0m \u001b[1;33m=\u001b[0m \u001b[0mFRIMS_DF_DAMAGE_EMBANKMENT_AFFECTED\u001b[0m\u001b[1;33m[\u001b[0m\u001b[1;34m'Details'\u001b[0m\u001b[1;33m]\u001b[0m\u001b[1;33m.\u001b[0m\u001b[0mstr\u001b[0m\u001b[1;33m.\u001b[0m\u001b[0mreplace\u001b[0m\u001b[1;33m(\u001b[0m\u001b[1;34mr'\\n'\u001b[0m\u001b[1;33m,\u001b[0m\u001b[1;34m''\u001b[0m\u001b[1;33m,\u001b[0m\u001b[0mregex\u001b[0m\u001b[1;33m=\u001b[0m\u001b[1;32mTrue\u001b[0m\u001b[1;33m)\u001b[0m\u001b[1;33m\u001b[0m\u001b[1;33m\u001b[0m\u001b[0m\n\u001b[0;32m     60\u001b[0m \u001b[1;33m\u001b[0m\u001b[0m\n",
      "\u001b[1;32m~\\anaconda3\\lib\\site-packages\\pandas\\core\\frame.py\u001b[0m in \u001b[0;36m__getitem__\u001b[1;34m(self, key)\u001b[0m\n\u001b[0;32m   3456\u001b[0m             \u001b[1;32mif\u001b[0m \u001b[0mself\u001b[0m\u001b[1;33m.\u001b[0m\u001b[0mcolumns\u001b[0m\u001b[1;33m.\u001b[0m\u001b[0mnlevels\u001b[0m \u001b[1;33m>\u001b[0m \u001b[1;36m1\u001b[0m\u001b[1;33m:\u001b[0m\u001b[1;33m\u001b[0m\u001b[1;33m\u001b[0m\u001b[0m\n\u001b[0;32m   3457\u001b[0m                 \u001b[1;32mreturn\u001b[0m \u001b[0mself\u001b[0m\u001b[1;33m.\u001b[0m\u001b[0m_getitem_multilevel\u001b[0m\u001b[1;33m(\u001b[0m\u001b[0mkey\u001b[0m\u001b[1;33m)\u001b[0m\u001b[1;33m\u001b[0m\u001b[1;33m\u001b[0m\u001b[0m\n\u001b[1;32m-> 3458\u001b[1;33m             \u001b[0mindexer\u001b[0m \u001b[1;33m=\u001b[0m \u001b[0mself\u001b[0m\u001b[1;33m.\u001b[0m\u001b[0mcolumns\u001b[0m\u001b[1;33m.\u001b[0m\u001b[0mget_loc\u001b[0m\u001b[1;33m(\u001b[0m\u001b[0mkey\u001b[0m\u001b[1;33m)\u001b[0m\u001b[1;33m\u001b[0m\u001b[1;33m\u001b[0m\u001b[0m\n\u001b[0m\u001b[0;32m   3459\u001b[0m             \u001b[1;32mif\u001b[0m \u001b[0mis_integer\u001b[0m\u001b[1;33m(\u001b[0m\u001b[0mindexer\u001b[0m\u001b[1;33m)\u001b[0m\u001b[1;33m:\u001b[0m\u001b[1;33m\u001b[0m\u001b[1;33m\u001b[0m\u001b[0m\n\u001b[0;32m   3460\u001b[0m                 \u001b[0mindexer\u001b[0m \u001b[1;33m=\u001b[0m \u001b[1;33m[\u001b[0m\u001b[0mindexer\u001b[0m\u001b[1;33m]\u001b[0m\u001b[1;33m\u001b[0m\u001b[1;33m\u001b[0m\u001b[0m\n",
      "\u001b[1;32m~\\anaconda3\\lib\\site-packages\\pandas\\core\\indexes\\base.py\u001b[0m in \u001b[0;36mget_loc\u001b[1;34m(self, key, method, tolerance)\u001b[0m\n\u001b[0;32m   3361\u001b[0m                 \u001b[1;32mreturn\u001b[0m \u001b[0mself\u001b[0m\u001b[1;33m.\u001b[0m\u001b[0m_engine\u001b[0m\u001b[1;33m.\u001b[0m\u001b[0mget_loc\u001b[0m\u001b[1;33m(\u001b[0m\u001b[0mcasted_key\u001b[0m\u001b[1;33m)\u001b[0m\u001b[1;33m\u001b[0m\u001b[1;33m\u001b[0m\u001b[0m\n\u001b[0;32m   3362\u001b[0m             \u001b[1;32mexcept\u001b[0m \u001b[0mKeyError\u001b[0m \u001b[1;32mas\u001b[0m \u001b[0merr\u001b[0m\u001b[1;33m:\u001b[0m\u001b[1;33m\u001b[0m\u001b[1;33m\u001b[0m\u001b[0m\n\u001b[1;32m-> 3363\u001b[1;33m                 \u001b[1;32mraise\u001b[0m \u001b[0mKeyError\u001b[0m\u001b[1;33m(\u001b[0m\u001b[0mkey\u001b[0m\u001b[1;33m)\u001b[0m \u001b[1;32mfrom\u001b[0m \u001b[0merr\u001b[0m\u001b[1;33m\u001b[0m\u001b[1;33m\u001b[0m\u001b[0m\n\u001b[0m\u001b[0;32m   3364\u001b[0m \u001b[1;33m\u001b[0m\u001b[0m\n\u001b[0;32m   3365\u001b[0m         \u001b[1;32mif\u001b[0m \u001b[0mis_scalar\u001b[0m\u001b[1;33m(\u001b[0m\u001b[0mkey\u001b[0m\u001b[1;33m)\u001b[0m \u001b[1;32mand\u001b[0m \u001b[0misna\u001b[0m\u001b[1;33m(\u001b[0m\u001b[0mkey\u001b[0m\u001b[1;33m)\u001b[0m \u001b[1;32mand\u001b[0m \u001b[1;32mnot\u001b[0m \u001b[0mself\u001b[0m\u001b[1;33m.\u001b[0m\u001b[0mhasnans\u001b[0m\u001b[1;33m:\u001b[0m\u001b[1;33m\u001b[0m\u001b[1;33m\u001b[0m\u001b[0m\n",
      "\u001b[1;31mKeyError\u001b[0m: 'District'"
     ]
    }
   ],
   "source": [
    "for date in set(issue_dates):\n",
    "    print(date)\n",
    "    FRIMS_pdf_file = r\"D:/Projects/OCDS/FRIMS_Daily_Reports/FRIMS_\"+date+\".pdf\"\n",
    "    tables = camelot.read_pdf(FRIMS_pdf_file,pages='all')\n",
    "    \n",
    "    FRIMS_DF = pd.DataFrame()\n",
    "    \n",
    "    for i in range(0,len(tables)):\n",
    "        FRIMS_DF = pd.concat([FRIMS_DF,tables[i].df],axis=0, ignore_index=True)\n",
    "    \n",
    "    FRIMS_DF[0] = FRIMS_DF[0].str.replace(r'\\n','',regex=True)\n",
    "    FRIMS_DF[0] = FRIMS_DF[0].str.lower()\n",
    "    \n",
    "    try:\n",
    "        START_DAMAGE_EMBANKMENT_AFFECTED = FRIMS_DF[FRIMS_DF[0].isin(['infrastructure damaged - embankment affected',\n",
    "                                                                  'infrastructure damaged - embankments affected']\n",
    "                                                                )].index.values[0]\n",
    "    except:\n",
    "        issue_dates.append(date)\n",
    "        print('Issue with Embankment affected table - Row header across multiple pages')\n",
    "        print(\"----\")\n",
    "        pass\n",
    "    \n",
    "    \n",
    "    for index,row in FRIMS_DF[START_DAMAGE_EMBANKMENT_AFFECTED+1:].iterrows():\n",
    "        if row[0]=='':\n",
    "            continue\n",
    "        else:\n",
    "            END_DAMAGE_EMBANKMENT_AFFECTED = index\n",
    "        break\n",
    "    #try:\n",
    "        #END_DAMAGE_EMBANKMENT_AFFECTED = FRIMS_DF[FRIMS_DF[0]=='infrastructure damaged - road'].index.values[0]-2\n",
    "#     except:\n",
    "#         issue_dates.append(date)\n",
    "#         print('Issue with Road damage table - Row header across multiple pages')\n",
    "#         print(\"----\")\n",
    "#         continue\n",
    "    \n",
    "    if END_DAMAGE_EMBANKMENT_AFFECTED <= START_DAMAGE_EMBANKMENT_AFFECTED:\n",
    "        print(\"No data for: \",date)\n",
    "        done_dates.append(date)\n",
    "        print(\"----\")\n",
    "        continue\n",
    "    \n",
    "    FRIMS_DF_DAMAGE_EMBANKMENT_AFFECTED = FRIMS_DF.loc[START_DAMAGE_EMBANKMENT_AFFECTED:END_DAMAGE_EMBANKMENT_AFFECTED,:3].reset_index(drop=True)\n",
    "    \n",
    "    FRIMS_DF_DAMAGE_EMBANKMENT_AFFECTED.columns=FRIMS_DF_DAMAGE_EMBANKMENT_AFFECTED.iloc[0].str.replace(r'\\n','',regex=True)\n",
    "    FRIMS_DF_DAMAGE_EMBANKMENT_AFFECTED = FRIMS_DF_DAMAGE_EMBANKMENT_AFFECTED.loc[1:,:]\n",
    "    FRIMS_DF_DAMAGE_EMBANKMENT_AFFECTED['District'] = FRIMS_DF_DAMAGE_EMBANKMENT_AFFECTED['District'].str.replace(r'\\n','',regex=True)\n",
    "    FRIMS_DF_DAMAGE_EMBANKMENT_AFFECTED['Details'] = FRIMS_DF_DAMAGE_EMBANKMENT_AFFECTED['Details'].str.replace(r'\\n','',regex=True)\n",
    "    \n",
    "    #Club cells from different pages\n",
    "    if len(FRIMS_DF_DAMAGE_EMBANKMENT_AFFECTED[FRIMS_DF_DAMAGE_EMBANKMENT_AFFECTED.Number==''].index.values)>0:\n",
    "        \n",
    "        EMPTY_ROW_INDEX = FRIMS_DF_DAMAGE_EMBANKMENT_AFFECTED[FRIMS_DF_DAMAGE_EMBANKMENT_AFFECTED.Number==''].index.values[0]\n",
    "        \n",
    "        EMPTY_ROW_DETAIL = FRIMS_DF_DAMAGE_EMBANKMENT_AFFECTED['Details'][EMPTY_ROW_INDEX]\n",
    "        ROW_ABOVE_DETAIL = FRIMS_DF_DAMAGE_EMBANKMENT_AFFECTED['Details'][EMPTY_ROW_INDEX-1]\n",
    "        \n",
    "        try:\n",
    "            COMBINED_DETAIL = ROW_ABOVE_DETAIL+' '+EMPTY_ROW_DETAIL\n",
    "        except:\n",
    "            issue_dates.append(date)\n",
    "            print('Issue with new pages')\n",
    "            print(\"----\")\n",
    "        \n",
    "        FRIMS_DF_DAMAGE_EMBANKMENT_AFFECTED['Details'][EMPTY_ROW_INDEX-1] = COMBINED_DETAIL\n",
    "        FRIMS_DF_DAMAGE_EMBANKMENT_AFFECTED['Details'][EMPTY_ROW_INDEX] = np.nan\n",
    "        FRIMS_DF_DAMAGE_EMBANKMENT_AFFECTED = FRIMS_DF_DAMAGE_EMBANKMENT_AFFECTED.dropna()\n",
    "    \n",
    "    done_dates.append(date)\n",
    "    date = date.replace('.','-')\n",
    "    FRIMS_DF_DAMAGE_EMBANKMENT_AFFECTED['Date'] = date\n",
    "    FRIMS_DF_DAMAGE_EMBANKMENT_AFFECTED.reset_index(drop=True).to_csv(r'D:/Projects/OCDS/FRIMS_Daily_Reports/FRIMS_EMBANKMENTS_AFFECTED/FRIMS_DF_DAMAGE_EMBANKMENT_AFFECTED_'+str(date)+'.csv')\n",
    "    print('----')"
   ]
  },
  {
   "cell_type": "code",
   "execution_count": 416,
   "id": "86694aa7",
   "metadata": {},
   "outputs": [],
   "source": [
    "FRIMS_DAMAGE_EMBANKMENT_AFFECTED_DFS = []\n",
    "for FRIMS_DAMAGE_EMBANKMENT_AFFECTED_FILE in glob.glob(r'D:/Projects/OCDS/FRIMS_Daily_Reports/FRIMS_EMBANKMENTS_AFFECTED/FRIMS_DF_DAMAGE_EMBANKMENT_AFFECTED_*.csv'):\n",
    "    FRIMS_DF_DAMAGE_EMBANKMENT_AFFECTED = pd.read_csv(FRIMS_DAMAGE_EMBANKMENT_AFFECTED_FILE)\n",
    "    FRIMS_DF_DAMAGE_EMBANKMENT_AFFECTED = FRIMS_DF_DAMAGE_EMBANKMENT_AFFECTED.iloc[:,:]\n",
    "    FRIMS_DAMAGE_EMBANKMENT_AFFECTED_DFS.append(FRIMS_DF_DAMAGE_EMBANKMENT_AFFECTED)"
   ]
  },
  {
   "cell_type": "code",
   "execution_count": 339,
   "id": "e95c1bb7",
   "metadata": {},
   "outputs": [
    {
     "data": {
      "text/html": [
       "<div>\n",
       "<style scoped>\n",
       "    .dataframe tbody tr th:only-of-type {\n",
       "        vertical-align: middle;\n",
       "    }\n",
       "\n",
       "    .dataframe tbody tr th {\n",
       "        vertical-align: top;\n",
       "    }\n",
       "\n",
       "    .dataframe thead th {\n",
       "        text-align: right;\n",
       "    }\n",
       "</style>\n",
       "<table border=\"1\" class=\"dataframe\">\n",
       "  <thead>\n",
       "    <tr style=\"text-align: right;\">\n",
       "      <th></th>\n",
       "      <th>Unnamed: 0</th>\n",
       "      <th>infrastructure damaged - embankment affected</th>\n",
       "      <th>District</th>\n",
       "      <th>Number</th>\n",
       "      <th>Details</th>\n",
       "      <th>Date</th>\n",
       "    </tr>\n",
       "  </thead>\n",
       "  <tbody>\n",
       "    <tr>\n",
       "      <th>0</th>\n",
       "      <td>0</td>\n",
       "      <td>NaN</td>\n",
       "      <td>Bajali</td>\n",
       "      <td>1</td>\n",
       "      <td>Bajali - DRDA Bundh | Helona Rash Mandir | The...</td>\n",
       "      <td>01-07-2022</td>\n",
       "    </tr>\n",
       "    <tr>\n",
       "      <th>1</th>\n",
       "      <td>1</td>\n",
       "      <td>NaN</td>\n",
       "      <td>Dhubri</td>\n",
       "      <td>1</td>\n",
       "      <td>Chapar - Jamduar Pt-I Embankment | Jamduar Pt-...</td>\n",
       "      <td>01-07-2022</td>\n",
       "    </tr>\n",
       "    <tr>\n",
       "      <th>2</th>\n",
       "      <td>2</td>\n",
       "      <td>NaN</td>\n",
       "      <td>Dibrugarh</td>\n",
       "      <td>1</td>\n",
       "      <td>Tengakhat - T/Dyke along the L/Bank of River T...</td>\n",
       "      <td>01-07-2022</td>\n",
       "    </tr>\n",
       "    <tr>\n",
       "      <th>3</th>\n",
       "      <td>3</td>\n",
       "      <td>NaN</td>\n",
       "      <td>Karbi Anglong West</td>\n",
       "      <td>2</td>\n",
       "      <td>Donkamokam - Haldikrong Dyke | Haldikrong of K...</td>\n",
       "      <td>01-07-2022</td>\n",
       "    </tr>\n",
       "    <tr>\n",
       "      <th>4</th>\n",
       "      <td>4</td>\n",
       "      <td>NaN</td>\n",
       "      <td>Karimganj</td>\n",
       "      <td>1</td>\n",
       "      <td>Badarpur - Ledurkhal Sluice Gate | Mokoibhanga...</td>\n",
       "      <td>01-07-2022</td>\n",
       "    </tr>\n",
       "    <tr>\n",
       "      <th>5</th>\n",
       "      <td>5</td>\n",
       "      <td>NaN</td>\n",
       "      <td>Lakhimpur</td>\n",
       "      <td>4</td>\n",
       "      <td>Dhakuakhana - Korha Bund | Maj Jalbhari | Bank...</td>\n",
       "      <td>01-07-2022</td>\n",
       "    </tr>\n",
       "    <tr>\n",
       "      <th>6</th>\n",
       "      <td>6</td>\n",
       "      <td>NaN</td>\n",
       "      <td>Majuli</td>\n",
       "      <td>2</td>\n",
       "      <td>Majuli - Tuni dyke. | Namkatoni | Rain cuts on...</td>\n",
       "      <td>01-07-2022</td>\n",
       "    </tr>\n",
       "    <tr>\n",
       "      <th>7</th>\n",
       "      <td>7</td>\n",
       "      <td>NaN</td>\n",
       "      <td>Nagaon</td>\n",
       "      <td>2</td>\n",
       "      <td>Kampur - Uttar Changchaki And Dakhin Changchak...</td>\n",
       "      <td>01-07-2022</td>\n",
       "    </tr>\n",
       "    <tr>\n",
       "      <th>8</th>\n",
       "      <td>8</td>\n",
       "      <td>NaN</td>\n",
       "      <td>Sivasagar</td>\n",
       "      <td>1</td>\n",
       "      <td>Demow - Dehingia Gaon | Desang bund right bank...</td>\n",
       "      <td>01-07-2022</td>\n",
       "    </tr>\n",
       "  </tbody>\n",
       "</table>\n",
       "</div>"
      ],
      "text/plain": [
       "   Unnamed: 0  infrastructure damaged - embankment affected  \\\n",
       "0           0                                           NaN   \n",
       "1           1                                           NaN   \n",
       "2           2                                           NaN   \n",
       "3           3                                           NaN   \n",
       "4           4                                           NaN   \n",
       "5           5                                           NaN   \n",
       "6           6                                           NaN   \n",
       "7           7                                           NaN   \n",
       "8           8                                           NaN   \n",
       "\n",
       "             District  Number  \\\n",
       "0              Bajali       1   \n",
       "1              Dhubri       1   \n",
       "2           Dibrugarh       1   \n",
       "3  Karbi Anglong West       2   \n",
       "4           Karimganj       1   \n",
       "5           Lakhimpur       4   \n",
       "6              Majuli       2   \n",
       "7              Nagaon       2   \n",
       "8           Sivasagar       1   \n",
       "\n",
       "                                             Details        Date  \n",
       "0  Bajali - DRDA Bundh | Helona Rash Mandir | The...  01-07-2022  \n",
       "1  Chapar - Jamduar Pt-I Embankment | Jamduar Pt-...  01-07-2022  \n",
       "2  Tengakhat - T/Dyke along the L/Bank of River T...  01-07-2022  \n",
       "3  Donkamokam - Haldikrong Dyke | Haldikrong of K...  01-07-2022  \n",
       "4  Badarpur - Ledurkhal Sluice Gate | Mokoibhanga...  01-07-2022  \n",
       "5  Dhakuakhana - Korha Bund | Maj Jalbhari | Bank...  01-07-2022  \n",
       "6  Majuli - Tuni dyke. | Namkatoni | Rain cuts on...  01-07-2022  \n",
       "7  Kampur - Uttar Changchaki And Dakhin Changchak...  01-07-2022  \n",
       "8  Demow - Dehingia Gaon | Desang bund right bank...  01-07-2022  "
      ]
     },
     "execution_count": 339,
     "metadata": {},
     "output_type": "execute_result"
    }
   ],
   "source": [
    "FRIMS_DAMAGE_EMBANKMENT_AFFECTED_DFS[0]"
   ]
  },
  {
   "cell_type": "code",
   "execution_count": 417,
   "id": "ddc2cc5b",
   "metadata": {},
   "outputs": [],
   "source": [
    "FRIMS_DAMAGE_EMBANKMENT_AFFECTED_MASTER = pd.concat(FRIMS_DAMAGE_EMBANKMENT_AFFECTED_DFS)\n",
    "FRIMS_DAMAGE_EMBANKMENT_AFFECTED_MASTER.Date = pd.to_datetime(FRIMS_DAMAGE_EMBANKMENT_AFFECTED_MASTER.Date,format='%d-%m-%Y')"
   ]
  },
  {
   "cell_type": "code",
   "execution_count": 418,
   "id": "5ee63cd8",
   "metadata": {},
   "outputs": [],
   "source": [
    "FRIMS_DAMAGE_EMBANKMENT_AFFECTED_MASTER.sort_values(by='Date').reset_index(drop=True).to_csv(r'D:/Projects/OCDS/FRIMS_Daily_Reports/FRIMS_DAMAGE_EMBANKMENT_AFFECTED_MASTER.csv',index=False)"
   ]
  },
  {
   "cell_type": "code",
   "execution_count": 419,
   "id": "d6e6ff27",
   "metadata": {},
   "outputs": [
    {
     "data": {
      "text/plain": [
       "['02.06.2022',\n",
       " '23.06.2022',\n",
       " '18.05.2022',\n",
       " '23.07.2022',\n",
       " '04.07.2022',\n",
       " '27.05.2022',\n",
       " '27.06.2022',\n",
       " '03.06.2022',\n",
       " '02.08.2022',\n",
       " '16.08.2022']"
      ]
     },
     "execution_count": 419,
     "metadata": {},
     "output_type": "execute_result"
    }
   ],
   "source": [
    "issue_dates"
   ]
  },
  {
   "cell_type": "markdown",
   "id": "3dda3ab1",
   "metadata": {},
   "source": [
    "# OLD"
   ]
  },
  {
   "cell_type": "code",
   "execution_count": 15,
   "id": "7763ae15",
   "metadata": {},
   "outputs": [
    {
     "data": {
      "text/plain": [
       "'Karimganj'"
      ]
     },
     "execution_count": 15,
     "metadata": {},
     "output_type": "execute_result"
    }
   ],
   "source": [
    "'Karimgan\\nj'.replace('\\n','')"
   ]
  },
  {
   "cell_type": "code",
   "execution_count": 64,
   "id": "8a8675f5",
   "metadata": {},
   "outputs": [
    {
     "ename": "ValueError",
     "evalue": "invalid literal for int() with base 10: 'Nil'",
     "output_type": "error",
     "traceback": [
      "\u001b[1;31m---------------------------------------------------------------------------\u001b[0m",
      "\u001b[1;31mValueError\u001b[0m                                Traceback (most recent call last)",
      "\u001b[1;32m~\\AppData\\Local\\Temp/ipykernel_21276/2086865765.py\u001b[0m in \u001b[0;36m<module>\u001b[1;34m\u001b[0m\n\u001b[1;32m----> 1\u001b[1;33m \u001b[0mno_districts_affected\u001b[0m \u001b[1;33m=\u001b[0m \u001b[0mint\u001b[0m\u001b[1;33m(\u001b[0m\u001b[0mdf\u001b[0m\u001b[1;33m.\u001b[0m\u001b[0mloc\u001b[0m\u001b[1;33m[\u001b[0m\u001b[1;36m5\u001b[0m\u001b[1;33m,\u001b[0m\u001b[1;36m1\u001b[0m\u001b[1;33m]\u001b[0m\u001b[1;33m.\u001b[0m\u001b[0msplit\u001b[0m\u001b[1;33m(\u001b[0m\u001b[1;34m'\\n'\u001b[0m\u001b[1;33m)\u001b[0m\u001b[1;33m[\u001b[0m\u001b[1;36m0\u001b[0m\u001b[1;33m]\u001b[0m\u001b[1;33m.\u001b[0m\u001b[0mstrip\u001b[0m\u001b[1;33m(\u001b[0m\u001b[1;33m)\u001b[0m\u001b[1;33m)\u001b[0m\u001b[1;33m\u001b[0m\u001b[1;33m\u001b[0m\u001b[0m\n\u001b[0m\u001b[0;32m      2\u001b[0m \u001b[0mno_districts_affected\u001b[0m\u001b[1;33m\u001b[0m\u001b[1;33m\u001b[0m\u001b[0m\n",
      "\u001b[1;31mValueError\u001b[0m: invalid literal for int() with base 10: 'Nil'"
     ]
    }
   ],
   "source": [
    "no_districts_affected = int(df.loc[5,1].split('\\n')[0].strip())\n",
    "no_districts_affected"
   ]
  },
  {
   "cell_type": "code",
   "execution_count": 40,
   "id": "5af8b007",
   "metadata": {},
   "outputs": [],
   "source": [
    "def replace_newlines(s):\n",
    "    return s.replace('\\n','')\n",
    "\n",
    "df.iloc[:,0] = df.iloc[:,0].apply(replace_newlines)"
   ]
  },
  {
   "cell_type": "code",
   "execution_count": 41,
   "id": "1eb57e33",
   "metadata": {},
   "outputs": [
    {
     "data": {
      "text/html": [
       "<div>\n",
       "<style scoped>\n",
       "    .dataframe tbody tr th:only-of-type {\n",
       "        vertical-align: middle;\n",
       "    }\n",
       "\n",
       "    .dataframe tbody tr th {\n",
       "        vertical-align: top;\n",
       "    }\n",
       "\n",
       "    .dataframe thead th {\n",
       "        text-align: right;\n",
       "    }\n",
       "</style>\n",
       "<table border=\"1\" class=\"dataframe\">\n",
       "  <thead>\n",
       "    <tr style=\"text-align: right;\">\n",
       "      <th></th>\n",
       "      <th>0</th>\n",
       "      <th>1</th>\n",
       "      <th>2</th>\n",
       "      <th>3</th>\n",
       "      <th>4</th>\n",
       "      <th>5</th>\n",
       "      <th>6</th>\n",
       "      <th>7</th>\n",
       "      <th>8</th>\n",
       "    </tr>\n",
       "  </thead>\n",
       "  <tbody>\n",
       "    <tr>\n",
       "      <th>0</th>\n",
       "      <td>Population And Crop Area Affected</td>\n",
       "      <td>District</td>\n",
       "      <td>Male</td>\n",
       "      <td>Female</td>\n",
       "      <td>Children</td>\n",
       "      <td>Total Population</td>\n",
       "      <td>Population Details</td>\n",
       "      <td>Crop Area \\n( in Hect. )</td>\n",
       "      <td>Crop Area \\nDetails</td>\n",
       "    </tr>\n",
       "    <tr>\n",
       "      <th>1</th>\n",
       "      <td></td>\n",
       "      <td>Tamulpur</td>\n",
       "      <td>109</td>\n",
       "      <td>91</td>\n",
       "      <td>50</td>\n",
       "      <td>250</td>\n",
       "      <td>( Goreswar | \\n250 )</td>\n",
       "      <td>0.00</td>\n",
       "      <td>( Goreswar | \\n0.00 )</td>\n",
       "    </tr>\n",
       "  </tbody>\n",
       "</table>\n",
       "</div>"
      ],
      "text/plain": [
       "                                   0         1     2       3         4  \\\n",
       "0  Population And Crop Area Affected  District  Male  Female  Children   \n",
       "1                                     Tamulpur   109      91        50   \n",
       "\n",
       "                  5                     6                         7  \\\n",
       "0  Total Population    Population Details  Crop Area \\n( in Hect. )   \n",
       "1               250  ( Goreswar | \\n250 )                      0.00   \n",
       "\n",
       "                       8  \n",
       "0    Crop Area \\nDetails  \n",
       "1  ( Goreswar | \\n0.00 )  "
      ]
     },
     "execution_count": 41,
     "metadata": {},
     "output_type": "execute_result"
    }
   ],
   "source": [
    "start = df[0].str.find(\"Population\").to_list().index(0)\n",
    "#print(start)\n",
    "end = df[0].str.find(\"Relief\").to_list().index(0)-2\n",
    "#print(end)\n",
    "population_df = df.loc[start:end,:].reset_index(drop=True)\n",
    "population_df.iloc[0,:-2] = population_df.iloc[0,:-2].apply(replace_newlines)\n",
    "population_df"
   ]
  },
  {
   "cell_type": "code",
   "execution_count": 42,
   "id": "92960a14",
   "metadata": {},
   "outputs": [],
   "source": [
    "def prepare_population_affected_df():\n",
    "    start = df[0].str.find(\"Population\").to_list().index(0)\n",
    "    #print(start)\n",
    "    end = df[0].str.find(\"Relief\").to_list().index(0)-2\n",
    "    #print(end)\n",
    "    population_df = df.loc[start:end,:].reset_index(drop=True)\n",
    "    try:\n",
    "        population_df.iloc[0,:-2] = population_df.iloc[0,:-2].apply(replace_newlines)\n",
    "    except:\n",
    "        pass\n",
    "\n",
    "    \n",
    "    try:\n",
    "        population_details_index = df.loc[start,:].str.find('Population Details').to_list().index(0)\n",
    "    except:\n",
    "        population_details_index = 6\n",
    "    \n",
    "    l = ''\n",
    "    districts=[]\n",
    "    for idx, row in population_df.iloc[1:].iterrows():\n",
    "        district = row[1]\n",
    "        try:\n",
    "            float(row[population_details_index])\n",
    "        except:\n",
    "            if row[population_details_index]=='':\n",
    "                l = l+row[population_details_index+1]\n",
    "                for i in range(row[population_details_index+1].count('|')):\n",
    "                    districts.append(district.replace('\\n',''))\n",
    "            else:\n",
    "                l = l+row[population_details_index]\n",
    "                for i in range(row[population_details_index].count('|')):\n",
    "                    districts.append(district.replace('\\n',''))\n",
    "        else:\n",
    "            l = l+row[population_details_index+1]\n",
    "            for i in range(row[population_details_index+1].count('|')):\n",
    "                districts.append(district.replace('\\n',''))    \n",
    "            \n",
    "    #l = l+'''Kalaigaon | 1986 ),( Udalguri | 155 )'''\n",
    "    l = l.replace('\\n','').replace(')(','),(').replace(') (','),(').replace('), (','),(')\n",
    "    #print(l)\n",
    "    \n",
    "    revenue_circles = []\n",
    "    population_affected = []\n",
    "    for i in l.split(','):    \n",
    "        rev_circle = i.split('|')[0].strip()\n",
    "        rev_circle = re.sub(r'[^\\w\\s]', '', rev_circle).replace('\\n','').strip()\n",
    "    \n",
    "        pop_affected = i.split('|')[1].strip()\n",
    "        pop_affected = re.sub(r'[^\\w\\s]', '', pop_affected).replace('\\n','').strip()\n",
    "    \n",
    "        revenue_circles.append(rev_circle)\n",
    "        population_affected.append(pop_affected)\n",
    "    \n",
    "    population_affected_df = pd.DataFrame([districts, revenue_circles,population_affected]).T\n",
    "    \n",
    "    population_affected_df.columns = ['District', 'Revenue circle', 'Population affected']\n",
    "    population_affected_df = add_standard_subdistrict_column(population_affected_df)\n",
    "\n",
    "    \n",
    "    return population_df, population_affected_df"
   ]
  },
  {
   "cell_type": "code",
   "execution_count": 43,
   "id": "c4998512",
   "metadata": {},
   "outputs": [],
   "source": [
    "a, b = prepare_population_affected_df()\n",
    "b['Date'] = date.replace('.','-')"
   ]
  },
  {
   "cell_type": "code",
   "execution_count": 44,
   "id": "57457666",
   "metadata": {},
   "outputs": [
    {
     "data": {
      "text/html": [
       "<div>\n",
       "<style scoped>\n",
       "    .dataframe tbody tr th:only-of-type {\n",
       "        vertical-align: middle;\n",
       "    }\n",
       "\n",
       "    .dataframe tbody tr th {\n",
       "        vertical-align: top;\n",
       "    }\n",
       "\n",
       "    .dataframe thead th {\n",
       "        text-align: right;\n",
       "    }\n",
       "</style>\n",
       "<table border=\"1\" class=\"dataframe\">\n",
       "  <thead>\n",
       "    <tr style=\"text-align: right;\">\n",
       "      <th></th>\n",
       "      <th>District</th>\n",
       "      <th>Revenue circle</th>\n",
       "      <th>Population affected</th>\n",
       "      <th>Sub-District</th>\n",
       "      <th>Date</th>\n",
       "    </tr>\n",
       "  </thead>\n",
       "  <tbody>\n",
       "    <tr>\n",
       "      <th>0</th>\n",
       "      <td>Tamulpur</td>\n",
       "      <td>Goreswar</td>\n",
       "      <td>250</td>\n",
       "      <td>Goreswar</td>\n",
       "      <td>16-08-2022</td>\n",
       "    </tr>\n",
       "  </tbody>\n",
       "</table>\n",
       "</div>"
      ],
      "text/plain": [
       "   District Revenue circle Population affected Sub-District        Date\n",
       "0  Tamulpur       Goreswar                 250     Goreswar  16-08-2022"
      ]
     },
     "execution_count": 44,
     "metadata": {},
     "output_type": "execute_result"
    }
   ],
   "source": [
    "b"
   ]
  },
  {
   "cell_type": "code",
   "execution_count": 45,
   "id": "4f5df0fd",
   "metadata": {},
   "outputs": [
    {
     "data": {
      "text/html": [
       "<div>\n",
       "<style scoped>\n",
       "    .dataframe tbody tr th:only-of-type {\n",
       "        vertical-align: middle;\n",
       "    }\n",
       "\n",
       "    .dataframe tbody tr th {\n",
       "        vertical-align: top;\n",
       "    }\n",
       "\n",
       "    .dataframe thead th {\n",
       "        text-align: right;\n",
       "    }\n",
       "</style>\n",
       "<table border=\"1\" class=\"dataframe\">\n",
       "  <thead>\n",
       "    <tr style=\"text-align: right;\">\n",
       "      <th></th>\n",
       "      <th>0</th>\n",
       "      <th>1</th>\n",
       "      <th>2</th>\n",
       "      <th>3</th>\n",
       "      <th>4</th>\n",
       "      <th>5</th>\n",
       "      <th>6</th>\n",
       "      <th>7</th>\n",
       "      <th>8</th>\n",
       "    </tr>\n",
       "  </thead>\n",
       "  <tbody>\n",
       "    <tr>\n",
       "      <th>0</th>\n",
       "      <td>Population And Crop Area Affected</td>\n",
       "      <td>District</td>\n",
       "      <td>Male</td>\n",
       "      <td>Female</td>\n",
       "      <td>Children</td>\n",
       "      <td>Total Population</td>\n",
       "      <td>Population Details</td>\n",
       "      <td>Crop Area \\n( in Hect. )</td>\n",
       "      <td>Crop Area \\nDetails</td>\n",
       "    </tr>\n",
       "    <tr>\n",
       "      <th>1</th>\n",
       "      <td></td>\n",
       "      <td>Tamulpur</td>\n",
       "      <td>109</td>\n",
       "      <td>91</td>\n",
       "      <td>50</td>\n",
       "      <td>250</td>\n",
       "      <td>( Goreswar | \\n250 )</td>\n",
       "      <td>0.00</td>\n",
       "      <td>( Goreswar | \\n0.00 )</td>\n",
       "    </tr>\n",
       "  </tbody>\n",
       "</table>\n",
       "</div>"
      ],
      "text/plain": [
       "                                   0         1     2       3         4  \\\n",
       "0  Population And Crop Area Affected  District  Male  Female  Children   \n",
       "1                                     Tamulpur   109      91        50   \n",
       "\n",
       "                  5                     6                         7  \\\n",
       "0  Total Population    Population Details  Crop Area \\n( in Hect. )   \n",
       "1               250  ( Goreswar | \\n250 )                      0.00   \n",
       "\n",
       "                       8  \n",
       "0    Crop Area \\nDetails  \n",
       "1  ( Goreswar | \\n0.00 )  "
      ]
     },
     "execution_count": 45,
     "metadata": {},
     "output_type": "execute_result"
    }
   ],
   "source": [
    "a"
   ]
  },
  {
   "cell_type": "code",
   "execution_count": 51,
   "id": "801ea9a9",
   "metadata": {},
   "outputs": [
    {
     "data": {
      "text/plain": [
       "8"
      ]
     },
     "execution_count": 51,
     "metadata": {},
     "output_type": "execute_result"
    }
   ],
   "source": [
    "df.loc[start,:].str.find('Crop Area \\nDetails').to_list().index(0)"
   ]
  },
  {
   "cell_type": "code",
   "execution_count": 54,
   "id": "d7c0b465",
   "metadata": {},
   "outputs": [],
   "source": [
    "def prepare_croparea_affected_df(population_df):\n",
    "    start = df[0].str.find(\"Population\").to_list().index(0)\n",
    "    \n",
    "    \n",
    "    try:\n",
    "        croparea_details_index = df.loc[start,:].str.find('Crop Area Details').to_list().index(0)\n",
    "    \n",
    "        #print(croparea_details_index)\n",
    "    except:\n",
    "        try:\n",
    "            croparea_details_index = df.loc[start,:].str.find('Crop Area \\nDetails').to_list().index(0)\n",
    "        except:\n",
    "            croparea_details_index=9\n",
    "        \n",
    "        \n",
    "    l = ''\n",
    "    districts=[]\n",
    "    for idx, row in population_df[1:].iterrows():\n",
    "        district = row[1]\n",
    "    \n",
    "        try:\n",
    "            float(row[croparea_details_index].replace('\\n',''))\n",
    "        except:\n",
    "            if row[croparea_details_index]=='':\n",
    "                l = l+row[croparea_details_index+1]\n",
    "                #print(row[croparea_details_index+1])\n",
    "                for i in range(row[croparea_details_index+1].count('|')):\n",
    "                    districts.append(district.replace('\\n',''))\n",
    "            else:\n",
    "                l = l+row[croparea_details_index]\n",
    "                for i in range(row[croparea_details_index].count('|')):\n",
    "                    districts.append(district.replace('\\n',''))\n",
    "        else:\n",
    "            l = l+row[croparea_details_index+1]\n",
    "            #print(row[croparea_details_index+1])\n",
    "            for i in range(row[croparea_details_index+1].count('|')):\n",
    "                districts.append(district.replace('\\n',''))\n",
    "    \n",
    "    #l = l+'''Kalaigaon | 0.00 ),( Udalguri | 0.00 )'''\n",
    "    l = l.replace('\\n','').replace(')(','),(').replace(') (','),(').replace('), (','),(')\n",
    "    #print(l)\n",
    "            \n",
    "    revenue_circles = []\n",
    "    croparea_affected = []\n",
    "    for i in l.split(','):    \n",
    "        rev_circle = i.split('|')[0].strip()\n",
    "        rev_circle = re.sub(r'[^\\w\\s]', '', rev_circle).replace('\\n','').strip()\n",
    "    \n",
    "        crop_affected = i.split('|')[1].strip().replace(')','').replace('\\n','').strip()\n",
    "        crop_affected = float(crop_affected)\n",
    "    \n",
    "        revenue_circles.append(rev_circle)\n",
    "        croparea_affected.append(crop_affected)\n",
    "    \n",
    "    croparea_affected_df = pd.DataFrame([districts,revenue_circles,croparea_affected]).T\n",
    "    croparea_affected_df.columns=['District','Revenue circle','Crop area affected']\n",
    "    \n",
    "    croparea_affected_df = add_standard_subdistrict_column(croparea_affected_df)\n",
    "\n",
    "\n",
    "    return croparea_affected_df"
   ]
  },
  {
   "cell_type": "code",
   "execution_count": 55,
   "id": "f4dd8c47",
   "metadata": {},
   "outputs": [],
   "source": [
    "c = prepare_croparea_affected_df(a)\n",
    "c['Date'] = date.replace('.','-')"
   ]
  },
  {
   "cell_type": "code",
   "execution_count": 56,
   "id": "62c8ce80",
   "metadata": {},
   "outputs": [
    {
     "data": {
      "text/html": [
       "<div>\n",
       "<style scoped>\n",
       "    .dataframe tbody tr th:only-of-type {\n",
       "        vertical-align: middle;\n",
       "    }\n",
       "\n",
       "    .dataframe tbody tr th {\n",
       "        vertical-align: top;\n",
       "    }\n",
       "\n",
       "    .dataframe thead th {\n",
       "        text-align: right;\n",
       "    }\n",
       "</style>\n",
       "<table border=\"1\" class=\"dataframe\">\n",
       "  <thead>\n",
       "    <tr style=\"text-align: right;\">\n",
       "      <th></th>\n",
       "      <th>District</th>\n",
       "      <th>Revenue circle</th>\n",
       "      <th>Crop area affected</th>\n",
       "      <th>Sub-District</th>\n",
       "      <th>Date</th>\n",
       "    </tr>\n",
       "  </thead>\n",
       "  <tbody>\n",
       "    <tr>\n",
       "      <th>0</th>\n",
       "      <td>Tamulpur</td>\n",
       "      <td>Goreswar</td>\n",
       "      <td>0.0</td>\n",
       "      <td>Goreswar</td>\n",
       "      <td>16-08-2022</td>\n",
       "    </tr>\n",
       "  </tbody>\n",
       "</table>\n",
       "</div>"
      ],
      "text/plain": [
       "   District Revenue circle Crop area affected Sub-District        Date\n",
       "0  Tamulpur       Goreswar                0.0     Goreswar  16-08-2022"
      ]
     },
     "execution_count": 56,
     "metadata": {},
     "output_type": "execute_result"
    }
   ],
   "source": [
    "c"
   ]
  },
  {
   "cell_type": "markdown",
   "id": "3ddea137",
   "metadata": {},
   "source": [
    "# INMATES"
   ]
  },
  {
   "cell_type": "code",
   "execution_count": 57,
   "id": "c024b944",
   "metadata": {},
   "outputs": [
    {
     "name": "stdout",
     "output_type": "stream",
     "text": [
      "-1\n"
     ]
    },
    {
     "data": {
      "text/html": [
       "<div>\n",
       "<style scoped>\n",
       "    .dataframe tbody tr th:only-of-type {\n",
       "        vertical-align: middle;\n",
       "    }\n",
       "\n",
       "    .dataframe tbody tr th {\n",
       "        vertical-align: top;\n",
       "    }\n",
       "\n",
       "    .dataframe thead th {\n",
       "        text-align: right;\n",
       "    }\n",
       "</style>\n",
       "<table border=\"1\" class=\"dataframe\">\n",
       "  <thead>\n",
       "    <tr style=\"text-align: right;\">\n",
       "      <th></th>\n",
       "      <th>0</th>\n",
       "      <th>1</th>\n",
       "      <th>2</th>\n",
       "      <th>3</th>\n",
       "      <th>4</th>\n",
       "      <th>5</th>\n",
       "      <th>6</th>\n",
       "      <th>7</th>\n",
       "      <th>8</th>\n",
       "    </tr>\n",
       "  </thead>\n",
       "  <tbody>\n",
       "  </tbody>\n",
       "</table>\n",
       "</div>"
      ],
      "text/plain": [
       "Empty DataFrame\n",
       "Columns: [0, 1, 2, 3, 4, 5, 6, 7, 8]\n",
       "Index: []"
      ]
     },
     "execution_count": 57,
     "metadata": {},
     "output_type": "execute_result"
    }
   ],
   "source": [
    "start = df[0].str.find(\"Inmates\").to_list().index(0)\n",
    "end = df[0].str.find(\"Human\").to_list().index(0)-2\n",
    "print(end-start)\n",
    "inmates_df = df.loc[start:end,:]\n",
    "inmates_df"
   ]
  },
  {
   "cell_type": "code",
   "execution_count": 58,
   "id": "aaf0576c",
   "metadata": {},
   "outputs": [],
   "source": [
    "def prepare_camp_inmates_df():\n",
    "    start = df[0].str.find(\"Inmates\").to_list().index(0)\n",
    "    end = df[0].str.find(\"Human\").to_list().index(0)-2\n",
    "    if (end-start)==-1:\n",
    "        return pd.DataFrame(), pd.DataFrame()\n",
    "    \n",
    "    inmates_df = df.loc[start:end,:]\n",
    "    \n",
    "    inmates_details_index = df.loc[start,:].str.find('Revenue Circlewise').to_list().index(0)\n",
    "    \n",
    "    \n",
    "    l = ''\n",
    "    districts=[]\n",
    "    for idx, row in inmates_df[1:].iterrows():\n",
    "        district = row[1]\n",
    "    \n",
    "        try:\n",
    "            float(row[inmates_details_index])\n",
    "        except:\n",
    "            if row[inmates_details_index]=='':\n",
    "                l = l+row[inmates_details_index+1]\n",
    "                for i in range(row[inmates_details_index+1].count('|')):\n",
    "                    districts.append(district.replace('\\n',''))\n",
    "            else:\n",
    "                l = l+row[inmates_details_index]\n",
    "                for i in range(row[inmates_details_index].count('|')):\n",
    "                    districts.append(district.replace('\\n',''))\n",
    "        else:\n",
    "            l = l+row[inmates_details_index+1]\n",
    "            for i in range(row[inmates_details_index+1].count('|')):\n",
    "                districts.append(district.replace('\\n',''))\n",
    "                \n",
    "    l = l.replace('\\n','').replace(')(','),(').replace(') (','),(').replace('), (','),(')\n",
    "            \n",
    "    revenue_circles = []\n",
    "    inmates = []\n",
    "    \n",
    "    for i in l.split(','):\n",
    "        rev_circle = i.split('|')[0].strip()\n",
    "        rev_circle = re.sub(r'[^\\w\\s]', '', rev_circle).replace('\\n','').strip()\n",
    "    \n",
    "        inmate_num = i.split('|')[1].strip()\n",
    "        inmate_num = re.sub(r'[^\\w\\s]', '', inmate_num).replace('\\n','').strip()\n",
    "    \n",
    "        revenue_circles.append(rev_circle)\n",
    "        inmates.append(inmate_num)\n",
    "    \n",
    "    inmates_relief_df = pd.DataFrame([districts, revenue_circles,inmates]).T\n",
    "    inmates_relief_df.columns =['District','Revenue circle','inmates']\n",
    "    \n",
    "    inmates_relief_df = add_standard_subdistrict_column(inmates_relief_df)\n",
    "\n",
    "    return inmates_df, inmates_relief_df"
   ]
  },
  {
   "cell_type": "code",
   "execution_count": 30,
   "id": "ab9ad662",
   "metadata": {},
   "outputs": [],
   "source": [
    "d,e = prepare_camp_inmates_df()"
   ]
  },
  {
   "cell_type": "code",
   "execution_count": 31,
   "id": "a839b817",
   "metadata": {},
   "outputs": [
    {
     "data": {
      "text/html": [
       "<div>\n",
       "<style scoped>\n",
       "    .dataframe tbody tr th:only-of-type {\n",
       "        vertical-align: middle;\n",
       "    }\n",
       "\n",
       "    .dataframe tbody tr th {\n",
       "        vertical-align: top;\n",
       "    }\n",
       "\n",
       "    .dataframe thead th {\n",
       "        text-align: right;\n",
       "    }\n",
       "</style>\n",
       "<table border=\"1\" class=\"dataframe\">\n",
       "  <thead>\n",
       "    <tr style=\"text-align: right;\">\n",
       "      <th></th>\n",
       "    </tr>\n",
       "  </thead>\n",
       "  <tbody>\n",
       "  </tbody>\n",
       "</table>\n",
       "</div>"
      ],
      "text/plain": [
       "Empty DataFrame\n",
       "Columns: []\n",
       "Index: []"
      ]
     },
     "execution_count": 31,
     "metadata": {},
     "output_type": "execute_result"
    }
   ],
   "source": [
    "e"
   ]
  },
  {
   "cell_type": "code",
   "execution_count": null,
   "id": "fc228a2d",
   "metadata": {},
   "outputs": [],
   "source": []
  },
  {
   "cell_type": "code",
   "execution_count": 6,
   "id": "25df4cd1",
   "metadata": {},
   "outputs": [],
   "source": [
    "gc = pygsheets.authorize(service_file='FRIMS_Daily_Reports/idea-frm-500603810b1a.json')\n",
    "sh=gc.open('FRIMS_Daily_Reports')"
   ]
  },
  {
   "cell_type": "code",
   "execution_count": 9,
   "id": "d3b08649",
   "metadata": {},
   "outputs": [],
   "source": [
    "def upload_population_affected(population_affected_df):\n",
    "    wks = sh.worksheet('title','population_affected')\n",
    "    cells = wks.get_all_values(include_tailing_empty_rows=False, include_tailing_empty=False, returnas='matrix')\n",
    "    last_row = len(cells)\n",
    "    wks.set_dataframe(population_affected_df,(last_row+1,1),copy_head=False)\n",
    "\n",
    "    return None\n",
    "\n",
    "\n",
    "def upload_croparea_affected(crop_area_affected_df):\n",
    "    wks = sh.worksheet('title','crop_area_affected')\n",
    "    cells = wks.get_all_values(include_tailing_empty_rows=False, include_tailing_empty=False, returnas='matrix')\n",
    "    last_row = len(cells)\n",
    "    wks.set_dataframe(crop_area_affected_df,(last_row+1,1),copy_head=False)\n",
    "\n",
    "    return None\n",
    "\n",
    "def upload_inmates_affected(inmates_relief_df):\n",
    "    if inmates_relief_df.shape==(0,0):\n",
    "        return None\n",
    "    else:\n",
    "        wks = sh.worksheet('title','relief_camp_inmates')\n",
    "        cells = wks.get_all_values(include_tailing_empty_rows=False, include_tailing_empty=False, returnas='matrix')\n",
    "        last_row = len(cells)\n",
    "        wks.set_dataframe(inmates_relief_df,(last_row+1,1),copy_head=False)\n",
    "        return None"
   ]
  },
  {
   "cell_type": "code",
   "execution_count": 56,
   "id": "762dcee8",
   "metadata": {},
   "outputs": [],
   "source": [
    "upload_population_affected(b)\n",
    "upload_croparea_affected(c)\n",
    "upload_inmates_affected(e)"
   ]
  },
  {
   "cell_type": "code",
   "execution_count": 266,
   "id": "8fc8e0d2",
   "metadata": {},
   "outputs": [
    {
     "data": {
      "text/plain": [
       "True"
      ]
     },
     "execution_count": 266,
     "metadata": {},
     "output_type": "execute_result"
    }
   ],
   "source": []
  },
  {
   "cell_type": "code",
   "execution_count": 66,
   "id": "01b30b0d",
   "metadata": {},
   "outputs": [
    {
     "name": "stdout",
     "output_type": "stream",
     "text": [
      "20.08.2022\n",
      "http://www.asdma.gov.in/pdf/flood_report/2022/Daily_Flood_Report_20.08.2022.pdf\n"
     ]
    },
    {
     "ename": "IndexError",
     "evalue": "list index out of range",
     "output_type": "error",
     "traceback": [
      "\u001b[1;31m---------------------------------------------------------------------------\u001b[0m",
      "\u001b[1;31mIndexError\u001b[0m                                Traceback (most recent call last)",
      "\u001b[1;32m~\\AppData\\Local\\Temp/ipykernel_21276/1324559182.py\u001b[0m in \u001b[0;36m<module>\u001b[1;34m\u001b[0m\n\u001b[0;32m     46\u001b[0m         \u001b[0mdf\u001b[0m\u001b[1;33m.\u001b[0m\u001b[0miloc\u001b[0m\u001b[1;33m[\u001b[0m\u001b[1;33m:\u001b[0m\u001b[1;33m,\u001b[0m\u001b[1;36m0\u001b[0m\u001b[1;33m]\u001b[0m \u001b[1;33m=\u001b[0m \u001b[0mdf\u001b[0m\u001b[1;33m.\u001b[0m\u001b[0miloc\u001b[0m\u001b[1;33m[\u001b[0m\u001b[1;33m:\u001b[0m\u001b[1;33m,\u001b[0m\u001b[1;36m0\u001b[0m\u001b[1;33m]\u001b[0m\u001b[1;33m.\u001b[0m\u001b[0mapply\u001b[0m\u001b[1;33m(\u001b[0m\u001b[0mreplace_newlines\u001b[0m\u001b[1;33m)\u001b[0m\u001b[1;33m\u001b[0m\u001b[1;33m\u001b[0m\u001b[0m\n\u001b[0;32m     47\u001b[0m \u001b[1;33m\u001b[0m\u001b[0m\n\u001b[1;32m---> 48\u001b[1;33m         \u001b[0ma\u001b[0m\u001b[1;33m,\u001b[0m \u001b[0mpopulation_affected_df\u001b[0m \u001b[1;33m=\u001b[0m \u001b[0mprepare_population_affected_df\u001b[0m\u001b[1;33m(\u001b[0m\u001b[1;33m)\u001b[0m\u001b[1;33m\u001b[0m\u001b[1;33m\u001b[0m\u001b[0m\n\u001b[0m\u001b[0;32m     49\u001b[0m         \u001b[0mpopulation_affected_df\u001b[0m\u001b[1;33m[\u001b[0m\u001b[1;34m'Date'\u001b[0m\u001b[1;33m]\u001b[0m \u001b[1;33m=\u001b[0m \u001b[0mdate_string\u001b[0m\u001b[1;33m.\u001b[0m\u001b[0mreplace\u001b[0m\u001b[1;33m(\u001b[0m\u001b[1;34m'.'\u001b[0m\u001b[1;33m,\u001b[0m\u001b[1;34m'-'\u001b[0m\u001b[1;33m)\u001b[0m\u001b[1;33m\u001b[0m\u001b[1;33m\u001b[0m\u001b[0m\n\u001b[0;32m     50\u001b[0m         \u001b[0mcroparea_affected_df\u001b[0m \u001b[1;33m=\u001b[0m \u001b[0mprepare_croparea_affected_df\u001b[0m\u001b[1;33m(\u001b[0m\u001b[0ma\u001b[0m\u001b[1;33m)\u001b[0m\u001b[1;33m\u001b[0m\u001b[1;33m\u001b[0m\u001b[0m\n",
      "\u001b[1;32m~\\AppData\\Local\\Temp/ipykernel_21276/453026889.py\u001b[0m in \u001b[0;36mprepare_population_affected_df\u001b[1;34m()\u001b[0m\n\u001b[0;32m     46\u001b[0m         \u001b[0mrev_circle\u001b[0m \u001b[1;33m=\u001b[0m \u001b[0mre\u001b[0m\u001b[1;33m.\u001b[0m\u001b[0msub\u001b[0m\u001b[1;33m(\u001b[0m\u001b[1;34mr'[^\\w\\s]'\u001b[0m\u001b[1;33m,\u001b[0m \u001b[1;34m''\u001b[0m\u001b[1;33m,\u001b[0m \u001b[0mrev_circle\u001b[0m\u001b[1;33m)\u001b[0m\u001b[1;33m.\u001b[0m\u001b[0mreplace\u001b[0m\u001b[1;33m(\u001b[0m\u001b[1;34m'\\n'\u001b[0m\u001b[1;33m,\u001b[0m\u001b[1;34m''\u001b[0m\u001b[1;33m)\u001b[0m\u001b[1;33m.\u001b[0m\u001b[0mstrip\u001b[0m\u001b[1;33m(\u001b[0m\u001b[1;33m)\u001b[0m\u001b[1;33m\u001b[0m\u001b[1;33m\u001b[0m\u001b[0m\n\u001b[0;32m     47\u001b[0m \u001b[1;33m\u001b[0m\u001b[0m\n\u001b[1;32m---> 48\u001b[1;33m         \u001b[0mpop_affected\u001b[0m \u001b[1;33m=\u001b[0m \u001b[0mi\u001b[0m\u001b[1;33m.\u001b[0m\u001b[0msplit\u001b[0m\u001b[1;33m(\u001b[0m\u001b[1;34m'|'\u001b[0m\u001b[1;33m)\u001b[0m\u001b[1;33m[\u001b[0m\u001b[1;36m1\u001b[0m\u001b[1;33m]\u001b[0m\u001b[1;33m.\u001b[0m\u001b[0mstrip\u001b[0m\u001b[1;33m(\u001b[0m\u001b[1;33m)\u001b[0m\u001b[1;33m\u001b[0m\u001b[1;33m\u001b[0m\u001b[0m\n\u001b[0m\u001b[0;32m     49\u001b[0m         \u001b[0mpop_affected\u001b[0m \u001b[1;33m=\u001b[0m \u001b[0mre\u001b[0m\u001b[1;33m.\u001b[0m\u001b[0msub\u001b[0m\u001b[1;33m(\u001b[0m\u001b[1;34mr'[^\\w\\s]'\u001b[0m\u001b[1;33m,\u001b[0m \u001b[1;34m''\u001b[0m\u001b[1;33m,\u001b[0m \u001b[0mpop_affected\u001b[0m\u001b[1;33m)\u001b[0m\u001b[1;33m.\u001b[0m\u001b[0mreplace\u001b[0m\u001b[1;33m(\u001b[0m\u001b[1;34m'\\n'\u001b[0m\u001b[1;33m,\u001b[0m\u001b[1;34m''\u001b[0m\u001b[1;33m)\u001b[0m\u001b[1;33m.\u001b[0m\u001b[0mstrip\u001b[0m\u001b[1;33m(\u001b[0m\u001b[1;33m)\u001b[0m\u001b[1;33m\u001b[0m\u001b[1;33m\u001b[0m\u001b[0m\n\u001b[0;32m     50\u001b[0m \u001b[1;33m\u001b[0m\u001b[0m\n",
      "\u001b[1;31mIndexError\u001b[0m: list index out of range"
     ]
    }
   ],
   "source": [
    "gc = pygsheets.authorize(service_file='FRIMS_Daily_Reports/idea-frm-500603810b1a.json')\n",
    "sh=gc.open('FRIMS_Daily_Reports')\n",
    "\n",
    "for month in range(8,9):\n",
    "    if month in [5]:\n",
    "        max_date=32\n",
    "        min_date=29\n",
    "    elif month in [7]:\n",
    "        max_date=32\n",
    "        min_date=30\n",
    "    elif month in [8]:\n",
    "        max_date = 22\n",
    "        min_date=20\n",
    "\n",
    "    for day in range(min_date,max_date):\n",
    "        date = str(day)+'-'+str(month)+'-'+'2022'\n",
    "        if type(date)==str:\n",
    "            date = datetime.strptime(date, '%d-%m-%Y').date()\n",
    "        else:\n",
    "            date = date + timedelta(days=-1)\n",
    "        \n",
    "        if date.month<10:\n",
    "            date_month = '0'+str(date.month)\n",
    "        else:\n",
    "            date_month = str(date.month)\n",
    "        \n",
    "        if date.day<10:\n",
    "            date_day = '0'+str(date.day)\n",
    "        else:\n",
    "            date_day = str(date.day)\n",
    "        \n",
    "        date_string = date_day+'.'+date_month+'.'+str(date.year)\n",
    "        print(date_string)\n",
    "        \n",
    "        daily_report_url = 'http://www.asdma.gov.in/pdf/flood_report/2022/Daily_Flood_Report_'+date_string+'.pdf'\n",
    "        print(daily_report_url)\n",
    "        urllib.request.urlretrieve(daily_report_url, r\"D:/Projects/OCDS/FRIMS_Daily_Reports/FRIMS_\"+date_string+\".pdf\")\n",
    "        \n",
    "        pdf_file = r\"D:/Projects/OCDS/FRIMS_Daily_Reports/FRIMS_\"+date_string+\".pdf\"\n",
    "        tables = camelot.read_pdf(pdf_file,pages='all')\n",
    "        \n",
    "        global df\n",
    "        df = pd.DataFrame()\n",
    "        for i in range(0,len(tables)):\n",
    "            df = pd.concat([df,tables[i].df],axis=0, ignore_index=True)\n",
    "        df.iloc[:,0] = df.iloc[:,0].apply(replace_newlines)\n",
    "            \n",
    "        a, population_affected_df = prepare_population_affected_df()\n",
    "        population_affected_df['Date'] = date_string.replace('.','-')\n",
    "        croparea_affected_df = prepare_croparea_affected_df(a)\n",
    "        croparea_affected_df['Date'] = date_string.replace('.','-')\n",
    "        d,inmates_relief_df = prepare_camp_inmates_df()\n",
    "        if inmates_relief_df.shape==(0,0):\n",
    "            print('Empty')\n",
    "        else:\n",
    "            inmates_relief_df['Date'] = date_string.replace('.','-')\n",
    "        \n",
    "        \n",
    "        \n",
    "        upload_population_affected(population_affected_df)\n",
    "        upload_croparea_affected(croparea_affected_df)\n",
    "        upload_inmates_affected(inmates_relief_df)"
   ]
  },
  {
   "cell_type": "code",
   "execution_count": null,
   "id": "28417ed2",
   "metadata": {},
   "outputs": [],
   "source": [
    "#May 31 pending"
   ]
  },
  {
   "cell_type": "markdown",
   "id": "895e3ca1",
   "metadata": {},
   "source": [
    "# CUMULATIVE"
   ]
  },
  {
   "cell_type": "code",
   "execution_count": 436,
   "id": "2e162d53",
   "metadata": {},
   "outputs": [],
   "source": [
    "import pygsheets\n",
    "import re\n",
    "import pandas as pd\n",
    "import numpy as np\n",
    "from difflib import SequenceMatcher\n",
    "import dateutil.parser"
   ]
  },
  {
   "cell_type": "code",
   "execution_count": 438,
   "id": "a06d16fe",
   "metadata": {},
   "outputs": [],
   "source": [
    "google_client = pygsheets.authorize(service_file='idea-frm-500603810b1a.json')\n",
    "cumulative_FRIMS_google_sheet =google_client.open('Data request | FRIMS | ASDMA_shared with Dr Mazumdar')"
   ]
  },
  {
   "cell_type": "code",
   "execution_count": 695,
   "id": "a67e2c8e",
   "metadata": {},
   "outputs": [],
   "source": [
    "sheet_2017 = cumulative_FRIMS_google_sheet.worksheet('title','Cumulative Flood Report 2017')"
   ]
  },
  {
   "cell_type": "code",
   "execution_count": 696,
   "id": "2c9ee81b",
   "metadata": {},
   "outputs": [
    {
     "name": "stderr",
     "output_type": "stream",
     "text": [
      "C:\\Users\\saikr\\anaconda3\\lib\\site-packages\\pygsheets\\worksheet.py:1477: UserWarning: At least one column name in the data frame is an empty string. If this is a concern, please specify include_tailing_empty=False and/or ensure that each column containing data has a name.\n",
      "  warnings.warn('At least one column name in the data frame is an empty string. If this is a concern, please specify include_tailing_empty=False and/or ensure that each column containing data has a name.')\n"
     ]
    },
    {
     "data": {
      "text/plain": [
       "Index(['PARTICULARS', '',\n",
       "       'Cumulative from 31st March, 2017 till 16th October, 2017 ', '', '', '',\n",
       "       '', '', '', '', '', '', '', '', '', '', '', '', '', ''],\n",
       "      dtype='object')"
      ]
     },
     "execution_count": 696,
     "metadata": {},
     "output_type": "execute_result"
    }
   ],
   "source": [
    "df = sheet_2017.get_as_df()\n",
    "df.columns"
   ]
  },
  {
   "cell_type": "code",
   "execution_count": 697,
   "id": "e4468f35",
   "metadata": {},
   "outputs": [
    {
     "data": {
      "text/html": [
       "<div>\n",
       "<style scoped>\n",
       "    .dataframe tbody tr th:only-of-type {\n",
       "        vertical-align: middle;\n",
       "    }\n",
       "\n",
       "    .dataframe tbody tr th {\n",
       "        vertical-align: top;\n",
       "    }\n",
       "\n",
       "    .dataframe thead th {\n",
       "        text-align: right;\n",
       "    }\n",
       "</style>\n",
       "<table border=\"1\" class=\"dataframe\">\n",
       "  <thead>\n",
       "    <tr style=\"text-align: right;\">\n",
       "      <th></th>\n",
       "      <th>0</th>\n",
       "      <th>1</th>\n",
       "      <th>2</th>\n",
       "      <th>3</th>\n",
       "      <th>4</th>\n",
       "    </tr>\n",
       "  </thead>\n",
       "  <tbody>\n",
       "    <tr>\n",
       "      <th>0</th>\n",
       "      <td>No. of Districts Affected</td>\n",
       "      <td></td>\n",
       "      <td>31</td>\n",
       "      <td></td>\n",
       "      <td></td>\n",
       "    </tr>\n",
       "    <tr>\n",
       "      <th>1</th>\n",
       "      <td>Name of Districts Affected</td>\n",
       "      <td></td>\n",
       "      <td>1. Dhemaji, 2. Lakhimpur, 3. Biswanath, 4. Son...</td>\n",
       "      <td></td>\n",
       "      <td></td>\n",
       "    </tr>\n",
       "    <tr>\n",
       "      <th>2</th>\n",
       "      <td>No. of Revenue Circles affected</td>\n",
       "      <td></td>\n",
       "      <td>140</td>\n",
       "      <td></td>\n",
       "      <td></td>\n",
       "    </tr>\n",
       "    <tr>\n",
       "      <th>3</th>\n",
       "      <td>Names of Revenue Circles affected</td>\n",
       "      <td></td>\n",
       "      <td>Dhemaji</td>\n",
       "      <td></td>\n",
       "      <td>4</td>\n",
       "    </tr>\n",
       "    <tr>\n",
       "      <th>4</th>\n",
       "      <td></td>\n",
       "      <td></td>\n",
       "      <td>Lakhimpur</td>\n",
       "      <td></td>\n",
       "      <td>7</td>\n",
       "    </tr>\n",
       "    <tr>\n",
       "      <th>...</th>\n",
       "      <td>...</td>\n",
       "      <td>...</td>\n",
       "      <td>...</td>\n",
       "      <td>...</td>\n",
       "      <td>...</td>\n",
       "    </tr>\n",
       "    <tr>\n",
       "      <th>1698</th>\n",
       "      <td></td>\n",
       "      <td></td>\n",
       "      <td></td>\n",
       "      <td>·  1 Mosque (No. 2 Koiri Jame Masjid) and a ho...</td>\n",
       "      <td></td>\n",
       "    </tr>\n",
       "    <tr>\n",
       "      <th>1699</th>\n",
       "      <td></td>\n",
       "      <td>Majuli</td>\n",
       "      <td></td>\n",
       "      <td>·  Erosion at Salmora Gaon, 7 no. lot, by rive...</td>\n",
       "      <td></td>\n",
       "    </tr>\n",
       "    <tr>\n",
       "      <th>1700</th>\n",
       "      <td></td>\n",
       "      <td></td>\n",
       "      <td></td>\n",
       "      <td>·  Erosion at Sesuguri area under Atahguri GP.</td>\n",
       "      <td></td>\n",
       "    </tr>\n",
       "    <tr>\n",
       "      <th>1701</th>\n",
       "      <td></td>\n",
       "      <td></td>\n",
       "      <td></td>\n",
       "      <td>·  Erosion at Salmora Spur no. 1 and Salmora S...</td>\n",
       "      <td></td>\n",
       "    </tr>\n",
       "    <tr>\n",
       "      <th>1702</th>\n",
       "      <td></td>\n",
       "      <td></td>\n",
       "      <td></td>\n",
       "      <td>·  Erosion at Boxi Chapori, Vekeli, 2 no. Saku...</td>\n",
       "      <td></td>\n",
       "    </tr>\n",
       "  </tbody>\n",
       "</table>\n",
       "<p>1703 rows × 5 columns</p>\n",
       "</div>"
      ],
      "text/plain": [
       "                                      0       1  \\\n",
       "0            No. of Districts Affected            \n",
       "1            Name of Districts Affected           \n",
       "2      No. of Revenue Circles affected            \n",
       "3     Names of Revenue Circles affected           \n",
       "4                                                 \n",
       "...                                 ...     ...   \n",
       "1698                                              \n",
       "1699                                     Majuli   \n",
       "1700                                              \n",
       "1701                                              \n",
       "1702                                              \n",
       "\n",
       "                                                      2  \\\n",
       "0                                                    31   \n",
       "1     1. Dhemaji, 2. Lakhimpur, 3. Biswanath, 4. Son...   \n",
       "2                                                   140   \n",
       "3                                               Dhemaji   \n",
       "4                                             Lakhimpur   \n",
       "...                                                 ...   \n",
       "1698                                                      \n",
       "1699                                                      \n",
       "1700                                                      \n",
       "1701                                                      \n",
       "1702                                                      \n",
       "\n",
       "                                                      3  4  \n",
       "0                                                           \n",
       "1                                                           \n",
       "2                                                           \n",
       "3                                                        4  \n",
       "4                                                        7  \n",
       "...                                                 ... ..  \n",
       "1698  ·  1 Mosque (No. 2 Koiri Jame Masjid) and a ho...     \n",
       "1699  ·  Erosion at Salmora Gaon, 7 no. lot, by rive...     \n",
       "1700     ·  Erosion at Sesuguri area under Atahguri GP.     \n",
       "1701  ·  Erosion at Salmora Spur no. 1 and Salmora S...     \n",
       "1702  ·  Erosion at Boxi Chapori, Vekeli, 2 no. Saku...     \n",
       "\n",
       "[1703 rows x 5 columns]"
      ]
     },
     "execution_count": 697,
     "metadata": {},
     "output_type": "execute_result"
    }
   ],
   "source": [
    "df.columns = ['0', '1',\n",
    "       '2', '3', '4',  '',\n",
    "       '', '', '', '', '', '', '', '', '', '', '', '', '', '']\n",
    "df = df[['0', '1',\n",
    "       '2', '3','4']]\n",
    "df"
   ]
  },
  {
   "cell_type": "code",
   "execution_count": 745,
   "id": "fbe51b04",
   "metadata": {},
   "outputs": [
    {
     "data": {
      "text/html": [
       "<div>\n",
       "<style scoped>\n",
       "    .dataframe tbody tr th:only-of-type {\n",
       "        vertical-align: middle;\n",
       "    }\n",
       "\n",
       "    .dataframe tbody tr th {\n",
       "        vertical-align: top;\n",
       "    }\n",
       "\n",
       "    .dataframe thead th {\n",
       "        text-align: right;\n",
       "    }\n",
       "</style>\n",
       "<table border=\"1\" class=\"dataframe\">\n",
       "  <thead>\n",
       "    <tr style=\"text-align: right;\">\n",
       "      <th></th>\n",
       "      <th>0</th>\n",
       "      <th>1</th>\n",
       "      <th>2</th>\n",
       "      <th>3</th>\n",
       "      <th>4</th>\n",
       "    </tr>\n",
       "  </thead>\n",
       "  <tbody>\n",
       "    <tr>\n",
       "      <th>1358</th>\n",
       "      <td></td>\n",
       "      <td>Other:</td>\n",
       "      <td></td>\n",
       "      <td>Biswanath:</td>\n",
       "      <td></td>\n",
       "    </tr>\n",
       "  </tbody>\n",
       "</table>\n",
       "</div>"
      ],
      "text/plain": [
       "     0       1 2           3 4\n",
       "1358    Other:    Biswanath:  "
      ]
     },
     "execution_count": 745,
     "metadata": {},
     "output_type": "execute_result"
    }
   ],
   "source": [
    "df[df['1']=='Other:']"
   ]
  },
  {
   "cell_type": "code",
   "execution_count": 746,
   "id": "240b70ac",
   "metadata": {},
   "outputs": [
    {
     "data": {
      "text/plain": [
       "1563"
      ]
     },
     "execution_count": 746,
     "metadata": {},
     "output_type": "execute_result"
    }
   ],
   "source": [
    "start = df[df['1']=='Other:'].index[0]\n",
    "for index,row in df[start+1:].iterrows():\n",
    "    if row[1]=='':\n",
    "        continue\n",
    "    else:\n",
    "        end = index\n",
    "        break\n",
    "end"
   ]
  },
  {
   "cell_type": "code",
   "execution_count": 747,
   "id": "f4ba10b0",
   "metadata": {},
   "outputs": [
    {
     "data": {
      "text/html": [
       "<div>\n",
       "<style scoped>\n",
       "    .dataframe tbody tr th:only-of-type {\n",
       "        vertical-align: middle;\n",
       "    }\n",
       "\n",
       "    .dataframe tbody tr th {\n",
       "        vertical-align: top;\n",
       "    }\n",
       "\n",
       "    .dataframe thead th {\n",
       "        text-align: right;\n",
       "    }\n",
       "</style>\n",
       "<table border=\"1\" class=\"dataframe\">\n",
       "  <thead>\n",
       "    <tr style=\"text-align: right;\">\n",
       "      <th></th>\n",
       "      <th>0</th>\n",
       "      <th>1</th>\n",
       "      <th>2</th>\n",
       "      <th>3</th>\n",
       "      <th>4</th>\n",
       "    </tr>\n",
       "  </thead>\n",
       "  <tbody>\n",
       "    <tr>\n",
       "      <th>1358</th>\n",
       "      <td></td>\n",
       "      <td>Other:</td>\n",
       "      <td></td>\n",
       "      <td>Biswanath:</td>\n",
       "      <td></td>\n",
       "    </tr>\n",
       "    <tr>\n",
       "      <th>1359</th>\n",
       "      <td></td>\n",
       "      <td></td>\n",
       "      <td></td>\n",
       "      <td>·          About 4-5 Meters river bank of Barg...</td>\n",
       "      <td></td>\n",
       "    </tr>\n",
       "    <tr>\n",
       "      <th>1360</th>\n",
       "      <td></td>\n",
       "      <td></td>\n",
       "      <td></td>\n",
       "      <td>·           (Two) Nos. of Tree.</td>\n",
       "      <td></td>\n",
       "    </tr>\n",
       "    <tr>\n",
       "      <th>1361</th>\n",
       "      <td></td>\n",
       "      <td></td>\n",
       "      <td></td>\n",
       "      <td>·          1 Culvert damaged on Chatrang River.</td>\n",
       "      <td></td>\n",
       "    </tr>\n",
       "    <tr>\n",
       "      <th>1362</th>\n",
       "      <td></td>\n",
       "      <td></td>\n",
       "      <td></td>\n",
       "      <td>·          Erosion in Lalpukhuri village river...</td>\n",
       "      <td></td>\n",
       "    </tr>\n",
       "    <tr>\n",
       "      <th>...</th>\n",
       "      <td>...</td>\n",
       "      <td>...</td>\n",
       "      <td>...</td>\n",
       "      <td>...</td>\n",
       "      <td>...</td>\n",
       "    </tr>\n",
       "    <tr>\n",
       "      <th>1558</th>\n",
       "      <td></td>\n",
       "      <td></td>\n",
       "      <td></td>\n",
       "      <td>·          Rupacherra RA /WSS Steel floating b...</td>\n",
       "      <td></td>\n",
       "    </tr>\n",
       "    <tr>\n",
       "      <th>1559</th>\n",
       "      <td></td>\n",
       "      <td></td>\n",
       "      <td></td>\n",
       "      <td>Cachar:</td>\n",
       "      <td></td>\n",
       "    </tr>\n",
       "    <tr>\n",
       "      <th>1560</th>\n",
       "      <td></td>\n",
       "      <td></td>\n",
       "      <td></td>\n",
       "      <td>·          1 (One) Shutter of Banaimulla Sluic...</td>\n",
       "      <td></td>\n",
       "    </tr>\n",
       "    <tr>\n",
       "      <th>1561</th>\n",
       "      <td></td>\n",
       "      <td></td>\n",
       "      <td></td>\n",
       "      <td>·          Severe erosion occurred at Village ...</td>\n",
       "      <td></td>\n",
       "    </tr>\n",
       "    <tr>\n",
       "      <th>1562</th>\n",
       "      <td></td>\n",
       "      <td></td>\n",
       "      <td></td>\n",
       "      <td>·          Damage of Bokrajhar FIS at village ...</td>\n",
       "      <td></td>\n",
       "    </tr>\n",
       "  </tbody>\n",
       "</table>\n",
       "<p>205 rows × 5 columns</p>\n",
       "</div>"
      ],
      "text/plain": [
       "     0        1 2                                                   3 4 \n",
       "1358     Other:                                            Biswanath:   \n",
       "1359                ·          About 4-5 Meters river bank of Barg...   \n",
       "1360                                  ·           (Two) Nos. of Tree.   \n",
       "1361                  ·          1 Culvert damaged on Chatrang River.   \n",
       "1362                ·          Erosion in Lalpukhuri village river...   \n",
       "...  ..     ... ..                                                ... ..\n",
       "1558                ·          Rupacherra RA /WSS Steel floating b...   \n",
       "1559                                                          Cachar:   \n",
       "1560                ·          1 (One) Shutter of Banaimulla Sluic...   \n",
       "1561                ·          Severe erosion occurred at Village ...   \n",
       "1562                ·          Damage of Bokrajhar FIS at village ...   \n",
       "\n",
       "[205 rows x 5 columns]"
      ]
     },
     "execution_count": 747,
     "metadata": {},
     "output_type": "execute_result"
    }
   ],
   "source": [
    "k = df[start:end]\n",
    "k"
   ]
  },
  {
   "cell_type": "code",
   "execution_count": 748,
   "id": "caf354c4",
   "metadata": {},
   "outputs": [],
   "source": [
    "#k['3'][639]"
   ]
  },
  {
   "cell_type": "code",
   "execution_count": 749,
   "id": "5b3b93df",
   "metadata": {},
   "outputs": [],
   "source": [
    "pattern = '·\\xa0\\xa0\\xa0\\xa0\\xa0\\xa0\\xa0\\xa0\\xa0 '"
   ]
  },
  {
   "cell_type": "code",
   "execution_count": 750,
   "id": "3f5d83af",
   "metadata": {},
   "outputs": [
    {
     "name": "stderr",
     "output_type": "stream",
     "text": [
      "C:\\Users\\saikr\\AppData\\Local\\Temp/ipykernel_3836/26354630.py:1: SettingWithCopyWarning: \n",
      "A value is trying to be set on a copy of a slice from a DataFrame.\n",
      "Try using .loc[row_indexer,col_indexer] = value instead\n",
      "\n",
      "See the caveats in the documentation: https://pandas.pydata.org/pandas-docs/stable/user_guide/indexing.html#returning-a-view-versus-a-copy\n",
      "  k['to_count'] = k['3'].apply(lambda x: pattern in x)\n"
     ]
    }
   ],
   "source": [
    "k['to_count'] = k['3'].apply(lambda x: pattern in x)"
   ]
  },
  {
   "cell_type": "code",
   "execution_count": 751,
   "id": "33a3a61d",
   "metadata": {},
   "outputs": [
    {
     "name": "stderr",
     "output_type": "stream",
     "text": [
      "C:\\Users\\saikr\\AppData\\Local\\Temp/ipykernel_3836/4071421144.py:1: SettingWithCopyWarning: \n",
      "A value is trying to be set on a copy of a slice from a DataFrame.\n",
      "Try using .loc[row_indexer,col_indexer] = value instead\n",
      "\n",
      "See the caveats in the documentation: https://pandas.pydata.org/pandas-docs/stable/user_guide/indexing.html#returning-a-view-versus-a-copy\n",
      "  k['is_district'] = k['3'].apply(lambda x: (':' in x)&(len(x.split(' '))==1))\n"
     ]
    }
   ],
   "source": [
    "k['is_district'] = k['3'].apply(lambda x: (':' in x)&(len(x.split(' '))==1))"
   ]
  },
  {
   "cell_type": "code",
   "execution_count": 752,
   "id": "8b54008c",
   "metadata": {},
   "outputs": [
    {
     "data": {
      "text/html": [
       "<div>\n",
       "<style scoped>\n",
       "    .dataframe tbody tr th:only-of-type {\n",
       "        vertical-align: middle;\n",
       "    }\n",
       "\n",
       "    .dataframe tbody tr th {\n",
       "        vertical-align: top;\n",
       "    }\n",
       "\n",
       "    .dataframe thead th {\n",
       "        text-align: right;\n",
       "    }\n",
       "</style>\n",
       "<table border=\"1\" class=\"dataframe\">\n",
       "  <thead>\n",
       "    <tr style=\"text-align: right;\">\n",
       "      <th></th>\n",
       "      <th>0</th>\n",
       "      <th>1</th>\n",
       "      <th>2</th>\n",
       "      <th>3</th>\n",
       "      <th>4</th>\n",
       "      <th>to_count</th>\n",
       "      <th>is_district</th>\n",
       "    </tr>\n",
       "  </thead>\n",
       "  <tbody>\n",
       "    <tr>\n",
       "      <th>1358</th>\n",
       "      <td></td>\n",
       "      <td>Other:</td>\n",
       "      <td></td>\n",
       "      <td>Biswanath:</td>\n",
       "      <td></td>\n",
       "      <td>False</td>\n",
       "      <td>True</td>\n",
       "    </tr>\n",
       "    <tr>\n",
       "      <th>1359</th>\n",
       "      <td></td>\n",
       "      <td></td>\n",
       "      <td></td>\n",
       "      <td>·          About 4-5 Meters river bank of Barg...</td>\n",
       "      <td></td>\n",
       "      <td>True</td>\n",
       "      <td>False</td>\n",
       "    </tr>\n",
       "    <tr>\n",
       "      <th>1360</th>\n",
       "      <td></td>\n",
       "      <td></td>\n",
       "      <td></td>\n",
       "      <td>·           (Two) Nos. of Tree.</td>\n",
       "      <td></td>\n",
       "      <td>True</td>\n",
       "      <td>False</td>\n",
       "    </tr>\n",
       "    <tr>\n",
       "      <th>1361</th>\n",
       "      <td></td>\n",
       "      <td></td>\n",
       "      <td></td>\n",
       "      <td>·          1 Culvert damaged on Chatrang River.</td>\n",
       "      <td></td>\n",
       "      <td>True</td>\n",
       "      <td>False</td>\n",
       "    </tr>\n",
       "    <tr>\n",
       "      <th>1362</th>\n",
       "      <td></td>\n",
       "      <td></td>\n",
       "      <td></td>\n",
       "      <td>·          Erosion in Lalpukhuri village river...</td>\n",
       "      <td></td>\n",
       "      <td>True</td>\n",
       "      <td>False</td>\n",
       "    </tr>\n",
       "    <tr>\n",
       "      <th>...</th>\n",
       "      <td>...</td>\n",
       "      <td>...</td>\n",
       "      <td>...</td>\n",
       "      <td>...</td>\n",
       "      <td>...</td>\n",
       "      <td>...</td>\n",
       "      <td>...</td>\n",
       "    </tr>\n",
       "    <tr>\n",
       "      <th>1558</th>\n",
       "      <td></td>\n",
       "      <td></td>\n",
       "      <td></td>\n",
       "      <td>·          Rupacherra RA /WSS Steel floating b...</td>\n",
       "      <td></td>\n",
       "      <td>True</td>\n",
       "      <td>False</td>\n",
       "    </tr>\n",
       "    <tr>\n",
       "      <th>1559</th>\n",
       "      <td></td>\n",
       "      <td></td>\n",
       "      <td></td>\n",
       "      <td>Cachar:</td>\n",
       "      <td></td>\n",
       "      <td>False</td>\n",
       "      <td>True</td>\n",
       "    </tr>\n",
       "    <tr>\n",
       "      <th>1560</th>\n",
       "      <td></td>\n",
       "      <td></td>\n",
       "      <td></td>\n",
       "      <td>·          1 (One) Shutter of Banaimulla Sluic...</td>\n",
       "      <td></td>\n",
       "      <td>True</td>\n",
       "      <td>False</td>\n",
       "    </tr>\n",
       "    <tr>\n",
       "      <th>1561</th>\n",
       "      <td></td>\n",
       "      <td></td>\n",
       "      <td></td>\n",
       "      <td>·          Severe erosion occurred at Village ...</td>\n",
       "      <td></td>\n",
       "      <td>True</td>\n",
       "      <td>False</td>\n",
       "    </tr>\n",
       "    <tr>\n",
       "      <th>1562</th>\n",
       "      <td></td>\n",
       "      <td></td>\n",
       "      <td></td>\n",
       "      <td>·          Damage of Bokrajhar FIS at village ...</td>\n",
       "      <td></td>\n",
       "      <td>True</td>\n",
       "      <td>False</td>\n",
       "    </tr>\n",
       "  </tbody>\n",
       "</table>\n",
       "<p>205 rows × 7 columns</p>\n",
       "</div>"
      ],
      "text/plain": [
       "     0        1 2                                                   3 4   \\\n",
       "1358     Other:                                            Biswanath:      \n",
       "1359                ·          About 4-5 Meters river bank of Barg...      \n",
       "1360                                  ·           (Two) Nos. of Tree.      \n",
       "1361                  ·          1 Culvert damaged on Chatrang River.      \n",
       "1362                ·          Erosion in Lalpukhuri village river...      \n",
       "...  ..     ... ..                                                ... ..   \n",
       "1558                ·          Rupacherra RA /WSS Steel floating b...      \n",
       "1559                                                          Cachar:      \n",
       "1560                ·          1 (One) Shutter of Banaimulla Sluic...      \n",
       "1561                ·          Severe erosion occurred at Village ...      \n",
       "1562                ·          Damage of Bokrajhar FIS at village ...      \n",
       "\n",
       "      to_count  is_district  \n",
       "1358     False         True  \n",
       "1359      True        False  \n",
       "1360      True        False  \n",
       "1361      True        False  \n",
       "1362      True        False  \n",
       "...        ...          ...  \n",
       "1558      True        False  \n",
       "1559     False         True  \n",
       "1560      True        False  \n",
       "1561      True        False  \n",
       "1562      True        False  \n",
       "\n",
       "[205 rows x 7 columns]"
      ]
     },
     "execution_count": 752,
     "metadata": {},
     "output_type": "execute_result"
    }
   ],
   "source": [
    "k"
   ]
  },
  {
   "cell_type": "code",
   "execution_count": 753,
   "id": "1d416513",
   "metadata": {},
   "outputs": [],
   "source": [
    "d = dict()"
   ]
  },
  {
   "cell_type": "code",
   "execution_count": 754,
   "id": "5347bebf",
   "metadata": {},
   "outputs": [],
   "source": [
    "for index, row in k.iterrows():\n",
    "    if row['is_district']:\n",
    "        count = 0\n",
    "        district = row['3']\n",
    "        district=district.split(':')[0]\n",
    "        continue\n",
    "    elif row['to_count']:\n",
    "        count=count+1\n",
    "        d[district]=count\n",
    "        continue"
   ]
  },
  {
   "cell_type": "code",
   "execution_count": 755,
   "id": "f88bb950",
   "metadata": {},
   "outputs": [
    {
     "data": {
      "text/plain": [
       "{'Biswanath': 9,\n",
       " 'Sonitpur': 12,\n",
       " 'Udalguri': 16,\n",
       " 'Darrang': 9,\n",
       " 'Baksa': 1,\n",
       " 'Nalbari': 4,\n",
       " 'Barpeta': 2,\n",
       " 'Bongaigaon': 3,\n",
       " 'Chirang': 26,\n",
       " 'Kokrajhar': 5,\n",
       " 'Dhubri': 3,\n",
       " 'Goalpara': 4,\n",
       " 'Morigaon': 14,\n",
       " 'Nagaon': 7,\n",
       " 'Dima-Hasao': 2,\n",
       " 'Golaghat': 9,\n",
       " 'Jorhat': 7,\n",
       " 'Majuli': 5,\n",
       " 'Sivasagar': 25,\n",
       " 'Karimganj': 8,\n",
       " 'Hailakandi': 2,\n",
       " 'Cachar': 3}"
      ]
     },
     "execution_count": 755,
     "metadata": {},
     "output_type": "execute_result"
    }
   ],
   "source": [
    "d"
   ]
  },
  {
   "cell_type": "code",
   "execution_count": 756,
   "id": "71583a0e",
   "metadata": {},
   "outputs": [],
   "source": [
    "pd.DataFrame.from_dict(d, orient = 'index').to_csv('OTHER_DAMAGES_COUNT_2017.csv')"
   ]
  },
  {
   "cell_type": "code",
   "execution_count": null,
   "id": "a784ca1e",
   "metadata": {
    "scrolled": true
   },
   "outputs": [],
   "source": []
  }
 ],
 "metadata": {
  "kernelspec": {
   "display_name": "Python 3 (ipykernel)",
   "language": "python",
   "name": "python3"
  },
  "language_info": {
   "codemirror_mode": {
    "name": "ipython",
    "version": 3
   },
   "file_extension": ".py",
   "mimetype": "text/x-python",
   "name": "python",
   "nbconvert_exporter": "python",
   "pygments_lexer": "ipython3",
   "version": "3.9.7"
  }
 },
 "nbformat": 4,
 "nbformat_minor": 5
}
