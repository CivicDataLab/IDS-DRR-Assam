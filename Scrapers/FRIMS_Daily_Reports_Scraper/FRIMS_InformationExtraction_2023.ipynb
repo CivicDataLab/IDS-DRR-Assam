{
 "cells": [
  {
   "cell_type": "code",
   "execution_count": 9,
   "id": "1978448a",
   "metadata": {},
   "outputs": [],
   "source": [
    "import pandas as pd\n",
    "import regex as re\n",
    "import pygsheets\n",
    "from datetime import date, timedelta, datetime\n",
    "import numpy as np\n",
    "import geopandas as gpd"
   ]
  },
  {
   "cell_type": "code",
   "execution_count": 10,
   "id": "6f2f3445",
   "metadata": {},
   "outputs": [],
   "source": [
    "def get_revcircle_damages_dict(ROW):    \n",
    "    DETAIL = ROW['Details']\n",
    "    REV_CIRCLE_DAMAGES_DICT = dict()\n",
    "    \n",
    "    count = 0\n",
    "    rev_circles_identified = []\n",
    "    rev_circles_identifed_at = []\n",
    "    for REV_CIRCLE in REVENUE_CIRCLES:\n",
    "        if REV_CIRCLE in DETAIL:\n",
    "            rev_circles_identified.append(REV_CIRCLE)\n",
    "            rev_circles_identifed_at.append(DETAIL.index(REV_CIRCLE))\n",
    "            count = count+1\n",
    "    REV_CIRCLES_IDENTIFIED_DF = pd.DataFrame([rev_circles_identified,rev_circles_identifed_at]).T\n",
    "    REV_CIRCLES_IDENTIFIED_DF.columns = ['RevenueCircle','StringIndex']\n",
    "    REV_CIRCLES_IDENTIFIED_DF = REV_CIRCLES_IDENTIFIED_DF.sort_values(by='StringIndex').reset_index(drop=True)\n",
    "    \n",
    "    for i,val in enumerate(REV_CIRCLES_IDENTIFIED_DF.StringIndex):\n",
    "        StringStartIndex = val\n",
    "        if i+1 == len(REV_CIRCLES_IDENTIFIED_DF.StringIndex):\n",
    "            StringEndIndex = None\n",
    "        else:\n",
    "            StringEndIndex = REV_CIRCLES_IDENTIFIED_DF.StringIndex[i+1]\n",
    "        \n",
    "        SUB_DETAIL = DETAIL[StringStartIndex:StringEndIndex]\n",
    "        \n",
    "        if other_damages == True:\n",
    "            NO_DAMAGES = len(re.findall('\\|', SUB_DETAIL))\n",
    "            print(NO_DAMAGES)\n",
    "            REV_CIRCLE_DAMAGES_DICT[REV_CIRCLES_IDENTIFIED_DF.RevenueCircle[i].split('-')[0]] = NO_DAMAGES-1\n",
    "            continue \n",
    "            \n",
    "        NO_DAMAGES_DateAlgo = len(re.findall('2023',SUB_DETAIL)) + len(re.findall(r'\\d+/\\d+/\\d{2}\\s+', SUB_DETAIL)) + len(re.findall(r'\\d+-\\d+-\\d{2}\\s+', SUB_DETAIL)) + len(re.findall(r'\\d+\\.\\d+\\.\\d{2}\\s+', SUB_DETAIL))\n",
    "        # Number of 2022 in the DETAIL +  Number of dd/mm/22 in the DETAIL +  Number of dd-mm-22 in the DETAIL + Number of dd.mm.22 in the DETAIL\n",
    "        NO_DAMAGES_LongAlgo = len(re.findall('Long -',SUB_DETAIL)) \n",
    "    \n",
    "        if float(ROW['Number of Damages (Long)'])==float(ROW['Number']):\n",
    "            REV_CIRCLE_DAMAGES_DICT[REV_CIRCLES_IDENTIFIED_DF.RevenueCircle[i].split('-')[0]] = NO_DAMAGES_LongAlgo\n",
    "        elif float(ROW['Number of Damages (Long)'])>float(ROW['Number of Damages (Date)']):\n",
    "            REV_CIRCLE_DAMAGES_DICT[REV_CIRCLES_IDENTIFIED_DF.RevenueCircle[i].split('-')[0]] = NO_DAMAGES_LongAlgo\n",
    "        else:\n",
    "            REV_CIRCLE_DAMAGES_DICT[REV_CIRCLES_IDENTIFIED_DF.RevenueCircle[i].split('-')[0]] = NO_DAMAGES_DateAlgo\n",
    "    \n",
    "    \n",
    "    return REV_CIRCLE_DAMAGES_DICT    "
   ]
  },
  {
   "cell_type": "code",
   "execution_count": 11,
   "id": "912f04e4",
   "metadata": {},
   "outputs": [],
   "source": [
    "ASSAM_REVENUE_CIRCLES = pd.read_csv('Data/Assam_Maps/ASSAM_REVENUE_CIRCLES_FRIMS_NAMES.csv')\n",
    "ASSAM_REVENUE_CIRCLES.revenue_ci = ASSAM_REVENUE_CIRCLES.revenue_ci.str.replace(r'\\(Pt\\)','', regex=True)\n",
    "ASSAM_REVENUE_CIRCLES.revenue_ci = ASSAM_REVENUE_CIRCLES.revenue_ci.str.replace(r'\\(Pt-I\\)','', regex=True)\n",
    "ASSAM_REVENUE_CIRCLES.revenue_ci = ASSAM_REVENUE_CIRCLES.revenue_ci.str.replace(r'\\(Pt-II\\)','', regex=True)\n",
    "\n",
    "ASSAM_REVENUE_CIRCLES.revenue_ci = ASSAM_REVENUE_CIRCLES.revenue_ci.str.strip()"
   ]
  },
  {
   "cell_type": "markdown",
   "id": "a785d49a",
   "metadata": {},
   "source": [
    "# Table of Contents:\n",
    "* [Roads damaged per revenue circle](#roadsdamaged)\n",
    "* [Embankment damages per revenue circle](#embankmentdamages)\n",
    "* [Embankments affected per revenue circle](#embankmentaffected)\n",
    "* [Bridges damaged per revenue circle](#bridgesdamaged)"
   ]
  },
  {
   "cell_type": "markdown",
   "id": "c133c003",
   "metadata": {},
   "source": [
    "## EMBANKMENT AFFECTED <a class=\"anchor\" id=\"embankmentaffected\"></a>"
   ]
  },
  {
   "cell_type": "code",
   "execution_count": 126,
   "id": "0a116d6a",
   "metadata": {},
   "outputs": [
    {
     "data": {
      "text/html": [
       "<div>\n",
       "<style scoped>\n",
       "    .dataframe tbody tr th:only-of-type {\n",
       "        vertical-align: middle;\n",
       "    }\n",
       "\n",
       "    .dataframe tbody tr th {\n",
       "        vertical-align: top;\n",
       "    }\n",
       "\n",
       "    .dataframe thead th {\n",
       "        text-align: right;\n",
       "    }\n",
       "</style>\n",
       "<table border=\"1\" class=\"dataframe\">\n",
       "  <thead>\n",
       "    <tr style=\"text-align: right;\">\n",
       "      <th></th>\n",
       "      <th>Date</th>\n",
       "      <th>District</th>\n",
       "      <th>Number</th>\n",
       "      <th>Details</th>\n",
       "    </tr>\n",
       "  </thead>\n",
       "  <tbody>\n",
       "    <tr>\n",
       "      <th>31</th>\n",
       "      <td>2023-06-24</td>\n",
       "      <td>Nalbari</td>\n",
       "      <td>10</td>\n",
       "      <td>Nalbari - Pagaldia embankment | Bhadra | As pe...</td>\n",
       "    </tr>\n",
       "    <tr>\n",
       "      <th>32</th>\n",
       "      <td>2023-06-24</td>\n",
       "      <td>Kamrup</td>\n",
       "      <td>3</td>\n",
       "      <td>Hajo - Puthimari embankment | Hadal manakuchi ...</td>\n",
       "    </tr>\n",
       "    <tr>\n",
       "      <th>33</th>\n",
       "      <td>2023-06-24</td>\n",
       "      <td>Golaghat</td>\n",
       "      <td>1</td>\n",
       "      <td>Bokakhat - Un embankment portion of Alengmari ...</td>\n",
       "    </tr>\n",
       "    <tr>\n",
       "      <th>34</th>\n",
       "      <td>2023-06-24</td>\n",
       "      <td>Biswanath</td>\n",
       "      <td>1</td>\n",
       "      <td>Gohpur - Mild bank erosion is observed at R/Ba...</td>\n",
       "    </tr>\n",
       "    <tr>\n",
       "      <th>35</th>\n",
       "      <td>2023-06-25</td>\n",
       "      <td>Nalbari</td>\n",
       "      <td>7</td>\n",
       "      <td>Nalbari - Pagaldia embankment RB | Moiradanga ...</td>\n",
       "    </tr>\n",
       "  </tbody>\n",
       "</table>\n",
       "</div>"
      ],
      "text/plain": [
       "          Date   District  Number  \\\n",
       "31  2023-06-24    Nalbari      10   \n",
       "32  2023-06-24     Kamrup       3   \n",
       "33  2023-06-24   Golaghat       1   \n",
       "34  2023-06-24  Biswanath       1   \n",
       "35  2023-06-25    Nalbari       7   \n",
       "\n",
       "                                              Details  \n",
       "31  Nalbari - Pagaldia embankment | Bhadra | As pe...  \n",
       "32  Hajo - Puthimari embankment | Hadal manakuchi ...  \n",
       "33  Bokakhat - Un embankment portion of Alengmari ...  \n",
       "34  Gohpur - Mild bank erosion is observed at R/Ba...  \n",
       "35  Nalbari - Pagaldia embankment RB | Moiradanga ...  "
      ]
     },
     "execution_count": 126,
     "metadata": {},
     "output_type": "execute_result"
    }
   ],
   "source": [
    "embankments_affected_df = pd.read_csv('Data_2023/Cleaned Data/FRIMS_EMBANKMENTS_AFFECTED_MASTER_2023.csv')\n",
    "\n",
    "\n",
    "embankments_affected_df['Details'] = embankments_affected_df.Details.str.replace('Baghbar','Baghbor',regex=True)\n",
    "embankments_affected_df['Details'] = embankments_affected_df.Details.str.replace('Dotma','Dotoma',regex=True)\n",
    "embankments_affected_df['Details'] = embankments_affected_df.Details.str.replace('Palashbari','Palasbari',regex=True)\n",
    "embankments_affected_df['Details'] = embankments_affected_df.Details.str.replace('North Ghy','North\\nGuwahati',regex=True)\n",
    "embankments_affected_df['Details'] = embankments_affected_df.Details.str.replace('Khairabari','Khoirabari',regex=True)\n",
    "embankments_affected_df['Details'] = embankments_affected_df.Details.str.replace('Dangtol','Bongaigaon',regex=True)\n",
    "embankments_affected_df['Details'] = embankments_affected_df.Details.str.replace('Naduar','Na-Duar',regex=True)\n",
    "\n",
    "\n",
    "embankments_affected_df['District'] = embankments_affected_df.District.str.replace('Dima-Hasao','Dima Hasao',regex=True)\n",
    "embankments_affected_df['District'] = embankments_affected_df.District.str.replace('Sivasagar','Sivsagar',regex=True)\n",
    "\n",
    "\n",
    "embankments_affected_df.tail()"
   ]
  },
  {
   "cell_type": "code",
   "execution_count": 127,
   "id": "042a30d0",
   "metadata": {},
   "outputs": [
    {
     "name": "stdout",
     "output_type": "stream",
     "text": [
      "Dhemaji\n",
      "['Dhakuakhana -', 'Dhemaji -', 'Gogamukh -', 'Jonai -', 'Sissiborgaon -', 'Subansiri -']\n",
      "----\n",
      "Biswanath\n",
      "['Biswanath -', 'Gohpur -', 'Halem -']\n",
      "----\n",
      "Darrang\n",
      "['Dalgaon -', 'Khoirabari -', 'Mangaldoi -', 'Patharighat -', 'Sipajhar -']\n",
      "----\n",
      "Tamulpur\n",
      "['Bajali -', 'Goreswar -', 'Pathorighat -', 'Rangia -', 'Tamulpur -']\n",
      "----\n",
      "Golaghat\n",
      "['Bokakhat -', 'Dergaon -', 'Golaghat -', 'Khumtai -', 'Morangi -', 'Sarupathar -']\n",
      "----\n",
      "Goalpara\n",
      "['Balijana -', 'Dudhnoi -', 'Lakhipur -', 'Matia -', 'Rangjuli -']\n",
      "----\n",
      "Karimganj\n",
      "['Badarpur -', 'Karimganj -', 'Nilambazar -', 'Patherkandi -', 'RK Nagar -']\n",
      "----\n",
      "Lakhimpur\n",
      "['Bihpuria -', 'Dhakuakhana -', 'Kadam -', 'Narayanpur -', 'North Lakhimpur -', 'Nowboicha -', 'Subansiri -']\n",
      "----\n",
      "Nagaon\n",
      "['Dhing -', 'Kaliabor -', 'Kampur -', 'Nagaon -', 'Raha -', 'Rupahi -', 'Samaguri -']\n",
      "----\n",
      "Nalbari\n",
      "['Baganpara -', 'Banekuchi -', 'Barbhag -', 'Barkhetri -', 'Ghograpar -', 'Nalbari -', 'Pachim\\nNalbari -', 'Tihu -']\n",
      "----\n",
      "Bajali\n",
      "['Bajali -', 'Jalah -', 'Sarupeta -']\n",
      "----\n",
      "Kokrajhar\n",
      "['Bagribari -', 'Bhawraguri -', 'Chapar -', 'Dhubri -', 'Dotoma -', 'Golokganj -', 'Gossaigaon -', 'Kokrajhar -']\n",
      "----\n",
      "Kamrup\n",
      "['Azara -', 'Boko -', 'Chamaria -', 'Chhaygaon -', 'Goroimari -', 'Hajo -', 'Jalah -', 'Kamalpur -', 'Kayan -', 'Nagarbera -', 'North\\nGuwahati -', 'Palasbari -', 'Rangia -']\n",
      "----\n"
     ]
    },
    {
     "name": "stderr",
     "output_type": "stream",
     "text": [
      "/tmp/ipykernel_5402/797364889.py:10: SettingWithCopyWarning: \n",
      "A value is trying to be set on a copy of a slice from a DataFrame.\n",
      "Try using .loc[row_indexer,col_indexer] = value instead\n",
      "\n",
      "See the caveats in the documentation: https://pandas.pydata.org/pandas-docs/stable/user_guide/indexing.html#returning-a-view-versus-a-copy\n",
      "  FILTERED_DAMAGES_df['Detail_Length'] = FILTERED_DAMAGES_df['Details'].apply(lambda x: len(x))\n"
     ]
    }
   ],
   "source": [
    "global REVENUE_CIRCLES\n",
    "global other_damages\n",
    "other_damages = False\n",
    "\n",
    "FILTERED_DAMAGES_dfs = []\n",
    "\n",
    "for DISTRICT in embankments_affected_df.District.unique():\n",
    "    print(DISTRICT)\n",
    "    FILTERED_DAMAGES_df = embankments_affected_df[embankments_affected_df.District == DISTRICT]\n",
    "    FILTERED_DAMAGES_df['Detail_Length'] = FILTERED_DAMAGES_df['Details'].apply(lambda x: len(x))\n",
    "    FILTERED_DAMAGES_df = FILTERED_DAMAGES_df.sort_values(by=['Detail_Length'])\n",
    "    \n",
    "    FILTERED_DAMAGES_df = FILTERED_DAMAGES_df.drop_duplicates(['District','Number','Date'],keep='last')\n",
    "    \n",
    "    FILTERED_DAMAGES_df['Number of Damages (Date)'] = FILTERED_DAMAGES_df.Details.apply(lambda x: \n",
    "                                     len(re.findall('2023', x))+len(re.findall(r'\\d+/\\d+/\\d{2}\\s+',x))+len(re.findall(r'\\d+-\\d+-\\d{2}\\s+',x))+len(re.findall(r'\\d+\\.\\d+\\.\\d{2}\\s+', x)))\n",
    "    FILTERED_DAMAGES_df['Number of Damages (Long)'] = FILTERED_DAMAGES_df.Details.apply(lambda x: \n",
    "                                     len(re.findall('Long -', x)))\n",
    "        \n",
    "    \n",
    "    REVENUE_CIRCLES = [REV_CIRCLE.strip()+' -' for REV_CIRCLE in list(ASSAM_REVENUE_CIRCLES[ASSAM_REVENUE_CIRCLES.district_35==DISTRICT.upper()].revenue_ci)]\n",
    "    print(REVENUE_CIRCLES)\n",
    "    print('----')\n",
    "    FILTERED_DAMAGES_df['NumberofDamages_RevenueCircle_level'] = FILTERED_DAMAGES_df.apply(get_revcircle_damages_dict, axis=1)\n",
    "    FILTERED_DAMAGES_dfs.append(FILTERED_DAMAGES_df)"
   ]
  },
  {
   "cell_type": "code",
   "execution_count": 128,
   "id": "916776c7",
   "metadata": {},
   "outputs": [],
   "source": [
    "MASTER_DAMAGES = pd.concat(FILTERED_DAMAGES_dfs).reset_index(drop=True)\n",
    "MASTER_DAMAGES.District = MASTER_DAMAGES.District.str.upper()"
   ]
  },
  {
   "cell_type": "code",
   "execution_count": 129,
   "id": "e0e70349",
   "metadata": {},
   "outputs": [],
   "source": [
    "embankment_affected_revcircle_df = pd.DataFrame(columns=['District','RevenueCircle','Number of damages','Date'])\n",
    "i = 0\n",
    "for idx, row in MASTER_DAMAGES.iterrows():\n",
    "    damages_dict = row['NumberofDamages_RevenueCircle_level']\n",
    "    for key in damages_dict.keys():\n",
    "        rev_circle = key\n",
    "        no_damages = damages_dict[key]\n",
    "        \n",
    "        embankment_affected_revcircle_df.loc[i,'RevenueCircle'] = rev_circle\n",
    "        embankment_affected_revcircle_df.loc[i,'District'] = row['District']\n",
    "        embankment_affected_revcircle_df.loc[i,'Number of damages'] = no_damages\n",
    "        embankment_affected_revcircle_df.loc[i,'Date'] = row['Date']\n",
    "        i=i+1\n",
    "embankment_affected_revcircle_df.Date = pd.to_datetime(embankment_affected_revcircle_df.Date)"
   ]
  },
  {
   "cell_type": "code",
   "execution_count": 130,
   "id": "877e76f8",
   "metadata": {},
   "outputs": [],
   "source": [
    "embankment_affected_revcircle_df.RevenueCircle =embankment_affected_revcircle_df.RevenueCircle.str.strip()\n",
    "embankment_affected_revcircle_df.loc[embankment_affected_revcircle_df.RevenueCircle == 'Na', 'RevenueCircle'] = 'Na-Duar'"
   ]
  },
  {
   "cell_type": "code",
   "execution_count": 131,
   "id": "4ff4f626",
   "metadata": {},
   "outputs": [],
   "source": [
    "embankment_affected_revcircle_df = pd.merge(embankment_affected_revcircle_df,\n",
    "                                ASSAM_REVENUE_CIRCLES[['district_35', 'revenue_ci','object_id']],\n",
    "                                left_on=['District', 'RevenueCircle'],\n",
    "                                right_on=['district_35', 'revenue_ci'],\n",
    "                                how='left')"
   ]
  },
  {
   "cell_type": "code",
   "execution_count": 132,
   "id": "e08c0b6b",
   "metadata": {},
   "outputs": [],
   "source": [
    "embankment_affected_revcircle_df = embankment_affected_revcircle_df[['Date','object_id','revenue_ci','District','Number of damages']]"
   ]
  },
  {
   "cell_type": "code",
   "execution_count": 133,
   "id": "bcba3078",
   "metadata": {},
   "outputs": [],
   "source": [
    "embankment_affected_revcircle_df.to_csv('Data_2023/Cleaned Data/RC_FRIMS_EMBANKMENTS_AFFECTED_MASTER_2023.csv', index=False)"
   ]
  },
  {
   "cell_type": "markdown",
   "id": "dad480d1",
   "metadata": {},
   "source": [
    "## EMBANKMENT BREACHES <a class=\"anchor\" id=\"embankmentbreaches\"></a>"
   ]
  },
  {
   "cell_type": "code",
   "execution_count": 100,
   "id": "9b28bd4e",
   "metadata": {},
   "outputs": [
    {
     "data": {
      "text/html": [
       "<div>\n",
       "<style scoped>\n",
       "    .dataframe tbody tr th:only-of-type {\n",
       "        vertical-align: middle;\n",
       "    }\n",
       "\n",
       "    .dataframe tbody tr th {\n",
       "        vertical-align: top;\n",
       "    }\n",
       "\n",
       "    .dataframe thead th {\n",
       "        text-align: right;\n",
       "    }\n",
       "</style>\n",
       "<table border=\"1\" class=\"dataframe\">\n",
       "  <thead>\n",
       "    <tr style=\"text-align: right;\">\n",
       "      <th></th>\n",
       "      <th>Date</th>\n",
       "      <th>District</th>\n",
       "      <th>Number</th>\n",
       "      <th>Details</th>\n",
       "    </tr>\n",
       "  </thead>\n",
       "  <tbody>\n",
       "    <tr>\n",
       "      <th>17</th>\n",
       "      <td>2023-06-22</td>\n",
       "      <td>Biswanath</td>\n",
       "      <td>1</td>\n",
       "      <td>Gohpur - Chatrang river R/Bank embankment brea...</td>\n",
       "    </tr>\n",
       "    <tr>\n",
       "      <th>18</th>\n",
       "      <td>2023-06-22</td>\n",
       "      <td>Nalbari</td>\n",
       "      <td>1</td>\n",
       "      <td>Nalbari - Pagaldia river at Nalbari sonkuriha ...</td>\n",
       "    </tr>\n",
       "    <tr>\n",
       "      <th>19</th>\n",
       "      <td>2023-06-23</td>\n",
       "      <td>Biswanath</td>\n",
       "      <td>1</td>\n",
       "      <td>Gohpur - Chatrang P&amp;R D Bund | At L/Bank or Ri...</td>\n",
       "    </tr>\n",
       "    <tr>\n",
       "      <th>20</th>\n",
       "      <td>2023-06-24</td>\n",
       "      <td>Darrang</td>\n",
       "      <td>4</td>\n",
       "      <td>Mangaldoi - CM Dutta Bund FIS | At village Mol...</td>\n",
       "    </tr>\n",
       "    <tr>\n",
       "      <th>21</th>\n",
       "      <td>2023-06-25</td>\n",
       "      <td>Darrang</td>\n",
       "      <td>3</td>\n",
       "      <td>Mangaldoi - CM Dutta | At village Mollapara | ...</td>\n",
       "    </tr>\n",
       "  </tbody>\n",
       "</table>\n",
       "</div>"
      ],
      "text/plain": [
       "          Date   District  Number  \\\n",
       "17  2023-06-22  Biswanath       1   \n",
       "18  2023-06-22    Nalbari       1   \n",
       "19  2023-06-23  Biswanath       1   \n",
       "20  2023-06-24    Darrang       4   \n",
       "21  2023-06-25    Darrang       3   \n",
       "\n",
       "                                              Details  \n",
       "17  Gohpur - Chatrang river R/Bank embankment brea...  \n",
       "18  Nalbari - Pagaldia river at Nalbari sonkuriha ...  \n",
       "19  Gohpur - Chatrang P&R D Bund | At L/Bank or Ri...  \n",
       "20  Mangaldoi - CM Dutta Bund FIS | At village Mol...  \n",
       "21  Mangaldoi - CM Dutta | At village Mollapara | ...  "
      ]
     },
     "execution_count": 100,
     "metadata": {},
     "output_type": "execute_result"
    }
   ],
   "source": [
    "embankments_breached_df = pd.read_csv('Data_2023/Cleaned Data/FRIMS_EMBANKMENTS_BREACHED_MASTER_2023.csv')\n",
    "\n",
    "embankments_breached_df['Details'] = embankments_breached_df.Details.str.replace('Baghbar','Baghbor',regex=True)\n",
    "embankments_breached_df['Details'] = embankments_breached_df.Details.str.replace('Dotma','Dotoma',regex=True)\n",
    "embankments_breached_df['Details'] = embankments_breached_df.Details.str.replace('Palashbari','Palasbari',regex=True)\n",
    "embankments_breached_df['Details'] = embankments_breached_df.Details.str.replace('North Ghy','North\\nGuwahati',regex=True)\n",
    "embankments_breached_df['Details'] = embankments_breached_df.Details.str.replace('Khairabari','Khoirabari',regex=True)\n",
    "embankments_breached_df['Details'] = embankments_breached_df.Details.str.replace('Dangtol','Bongaigaon',regex=True)\n",
    "embankments_breached_df['Details'] = embankments_breached_df.Details.str.replace('Naduar','Na-Duar',regex=True)\n",
    "\n",
    "\n",
    "embankments_breached_df['District'] = embankments_breached_df.District.str.replace('Dima-Hasao','Dima Hasao',regex=True)\n",
    "embankments_breached_df['District'] = embankments_breached_df.District.str.replace('Sivasagar','Sivsagar',regex=True)\n",
    "\n",
    "\n",
    "embankments_breached_df.tail()"
   ]
  },
  {
   "cell_type": "code",
   "execution_count": 101,
   "id": "461d4ece",
   "metadata": {},
   "outputs": [
    {
     "name": "stdout",
     "output_type": "stream",
     "text": [
      "Biswanath\n",
      "['Biswanath -', 'Gohpur -', 'Halem -']\n",
      "----\n",
      "Lakhimpur\n",
      "['Bihpuria -', 'Dhakuakhana -', 'Kadam -', 'Narayanpur -', 'North Lakhimpur -', 'Nowboicha -', 'Subansiri -']\n",
      "----\n",
      "Darrang\n",
      "['Dalgaon -', 'Khoirabari -', 'Mangaldoi -', 'Patharighat -', 'Sipajhar -']\n",
      "----\n",
      "Goalpara\n",
      "['Balijana -', 'Dudhnoi -', 'Lakhipur -', 'Matia -', 'Rangjuli -']\n",
      "----\n",
      "Udalguri\n",
      "['Dalgaon -', 'Dhekiajuli -', 'Harisinga -', 'Kalaigaon -', 'Khoirabari -', 'Mangaldoi -', 'Mazbat -', 'Pathorighat -', 'Udalguri -']\n",
      "----\n",
      "Sonitpur\n",
      "['Chariduar -', 'Dhekiajuli -', 'Na-Duar -', 'Tezpur -']\n",
      "----\n",
      "Nagaon\n",
      "['Dhing -', 'Kaliabor -', 'Kampur -', 'Nagaon -', 'Raha -', 'Rupahi -', 'Samaguri -']\n",
      "----\n",
      "Baksa\n",
      "['Baganpara -', 'Barama -', 'Barnagar -', 'Baska -', 'Ghograpar -', 'Jalah -', 'Sarupeta -']\n",
      "----\n",
      "Nalbari\n",
      "['Baganpara -', 'Banekuchi -', 'Barbhag -', 'Barkhetri -', 'Ghograpar -', 'Nalbari -', 'Pachim\\nNalbari -', 'Tihu -']\n",
      "----\n",
      "Bajali\n",
      "['Bajali -', 'Jalah -', 'Sarupeta -']\n",
      "----\n"
     ]
    },
    {
     "name": "stderr",
     "output_type": "stream",
     "text": [
      "/tmp/ipykernel_5402/1701030496.py:10: SettingWithCopyWarning: \n",
      "A value is trying to be set on a copy of a slice from a DataFrame.\n",
      "Try using .loc[row_indexer,col_indexer] = value instead\n",
      "\n",
      "See the caveats in the documentation: https://pandas.pydata.org/pandas-docs/stable/user_guide/indexing.html#returning-a-view-versus-a-copy\n",
      "  FILTERED_DAMAGES_df['Detail_Length'] = FILTERED_DAMAGES_df['Details'].apply(lambda x: len(x))\n"
     ]
    }
   ],
   "source": [
    "global REVENUE_CIRCLES\n",
    "global other_damages\n",
    "other_damages = False\n",
    "\n",
    "FILTERED_DAMAGES_dfs = []\n",
    "\n",
    "for DISTRICT in embankments_breached_df.District.unique():\n",
    "    print(DISTRICT)\n",
    "    FILTERED_DAMAGES_df = embankments_breached_df[embankments_breached_df.District == DISTRICT]\n",
    "    FILTERED_DAMAGES_df['Detail_Length'] = FILTERED_DAMAGES_df['Details'].apply(lambda x: len(x))\n",
    "    FILTERED_DAMAGES_df = FILTERED_DAMAGES_df.sort_values(by=['Detail_Length'])\n",
    "    \n",
    "    FILTERED_DAMAGES_df = FILTERED_DAMAGES_df.drop_duplicates(['District','Number','Date'],keep='last')\n",
    "    \n",
    "    FILTERED_DAMAGES_df['Number of Damages (Date)'] = FILTERED_DAMAGES_df.Details.apply(lambda x: \n",
    "                                     len(re.findall('2022', x))+len(re.findall(r'\\d+/\\d+/\\d{2}\\s+',x))+len(re.findall(r'\\d+-\\d+-\\d{2}\\s+',x))+len(re.findall(r'\\d+\\.\\d+\\.\\d{2}\\s+', x)))\n",
    "    FILTERED_DAMAGES_df['Number of Damages (Long)'] = FILTERED_DAMAGES_df.Details.apply(lambda x: \n",
    "                                     len(re.findall('Long -', x)))\n",
    "        \n",
    "    \n",
    "    REVENUE_CIRCLES = [REV_CIRCLE.strip()+' -' for REV_CIRCLE in list(ASSAM_REVENUE_CIRCLES[ASSAM_REVENUE_CIRCLES.district_35==DISTRICT.upper()].revenue_ci)]\n",
    "    print(REVENUE_CIRCLES)\n",
    "    print('----')\n",
    "    FILTERED_DAMAGES_df['NumberofDamages_RevenueCircle_level'] = FILTERED_DAMAGES_df.apply(get_revcircle_damages_dict, axis=1)\n",
    "    FILTERED_DAMAGES_dfs.append(FILTERED_DAMAGES_df)"
   ]
  },
  {
   "cell_type": "code",
   "execution_count": 102,
   "id": "2a35e056",
   "metadata": {},
   "outputs": [],
   "source": [
    "MASTER_DAMAGES = pd.concat(FILTERED_DAMAGES_dfs).reset_index(drop=True)\n",
    "MASTER_DAMAGES.District = MASTER_DAMAGES.District.str.upper()"
   ]
  },
  {
   "cell_type": "code",
   "execution_count": 103,
   "id": "16df1628",
   "metadata": {},
   "outputs": [],
   "source": [
    "embankment_breaches_revcircle_df = pd.DataFrame(columns=['District','RevenueCircle','Number of damages','Date'])\n",
    "i = 0\n",
    "for idx, row in MASTER_DAMAGES.iterrows():\n",
    "    damages_dict = row['NumberofDamages_RevenueCircle_level']\n",
    "    for key in damages_dict.keys():\n",
    "        rev_circle = key\n",
    "        no_damages = damages_dict[key]\n",
    "        \n",
    "        embankment_breaches_revcircle_df.loc[i,'RevenueCircle'] = rev_circle\n",
    "        embankment_breaches_revcircle_df.loc[i,'District'] = row['District']\n",
    "        embankment_breaches_revcircle_df.loc[i,'Number of damages'] = no_damages\n",
    "        embankment_breaches_revcircle_df.loc[i,'Date'] = row['Date']\n",
    "        i=i+1\n",
    "embankment_breaches_revcircle_df.Date = pd.to_datetime(embankment_breaches_revcircle_df.Date)"
   ]
  },
  {
   "cell_type": "code",
   "execution_count": 104,
   "id": "1ed9cddd",
   "metadata": {},
   "outputs": [],
   "source": [
    "embankment_breaches_revcircle_df.RevenueCircle =embankment_breaches_revcircle_df.RevenueCircle.str.strip()\n",
    "embankment_breaches_revcircle_df.loc[embankment_breaches_revcircle_df.RevenueCircle == 'Na', 'RevenueCircle'] = 'Na-Duar'"
   ]
  },
  {
   "cell_type": "code",
   "execution_count": 105,
   "id": "d75a9362",
   "metadata": {},
   "outputs": [],
   "source": [
    "embankment_breaches_revcircle_df = pd.merge(embankment_breaches_revcircle_df,\n",
    "                                ASSAM_REVENUE_CIRCLES[['district_35', 'revenue_ci','object_id']],\n",
    "                                left_on=['District', 'RevenueCircle'],\n",
    "                                right_on=['district_35', 'revenue_ci'],\n",
    "                                how='left')"
   ]
  },
  {
   "cell_type": "code",
   "execution_count": 106,
   "id": "e1ed7399",
   "metadata": {},
   "outputs": [],
   "source": [
    "embankment_breaches_revcircle_df = embankment_breaches_revcircle_df[['Date','object_id','revenue_ci','District','Number of damages']]"
   ]
  },
  {
   "cell_type": "code",
   "execution_count": 107,
   "id": "5c4fd8f5",
   "metadata": {},
   "outputs": [],
   "source": [
    "embankment_breaches_revcircle_df.to_csv('Data_2023/Cleaned Data/RC_FRIMS_EMBANKMENTS_BREACHED_MASTER_2023.csv', index=False)"
   ]
  },
  {
   "cell_type": "markdown",
   "id": "a313391e",
   "metadata": {},
   "source": [
    "## BRIDGES DAMAGED <a class=\"anchor\" id=\"bridgesdamaged\"></a>"
   ]
  },
  {
   "cell_type": "code",
   "execution_count": 63,
   "id": "cf53c2fa",
   "metadata": {},
   "outputs": [
    {
     "data": {
      "text/html": [
       "<div>\n",
       "<style scoped>\n",
       "    .dataframe tbody tr th:only-of-type {\n",
       "        vertical-align: middle;\n",
       "    }\n",
       "\n",
       "    .dataframe tbody tr th {\n",
       "        vertical-align: top;\n",
       "    }\n",
       "\n",
       "    .dataframe thead th {\n",
       "        text-align: right;\n",
       "    }\n",
       "</style>\n",
       "<table border=\"1\" class=\"dataframe\">\n",
       "  <thead>\n",
       "    <tr style=\"text-align: right;\">\n",
       "      <th></th>\n",
       "      <th>Date</th>\n",
       "      <th>District</th>\n",
       "      <th>Number</th>\n",
       "      <th>Details</th>\n",
       "    </tr>\n",
       "  </thead>\n",
       "  <tbody>\n",
       "    <tr>\n",
       "      <th>19</th>\n",
       "      <td>2023-06-23</td>\n",
       "      <td>Barpeta</td>\n",
       "      <td>3</td>\n",
       "      <td>Baghbor - 1. RCC BR No. 7/1 (Barpeta Baghbor r...</td>\n",
       "    </tr>\n",
       "    <tr>\n",
       "      <th>20</th>\n",
       "      <td>2023-06-23</td>\n",
       "      <td>Bajali</td>\n",
       "      <td>2</td>\n",
       "      <td>Sarupeta - RCC Br. No. 2/1 | Sarupeta Gaon | R...</td>\n",
       "    </tr>\n",
       "    <tr>\n",
       "      <th>21</th>\n",
       "      <td>2023-06-24</td>\n",
       "      <td>Dhubri</td>\n",
       "      <td>1</td>\n",
       "      <td>Dhubri - APPROACHES OF SPT BR. NO. 3/1 AND ROA...</td>\n",
       "    </tr>\n",
       "    <tr>\n",
       "      <th>22</th>\n",
       "      <td>2023-06-25</td>\n",
       "      <td>Bongaigaon</td>\n",
       "      <td>2</td>\n",
       "      <td>Srijangram - Golapara to Kirtanpara road | Gol...</td>\n",
       "    </tr>\n",
       "    <tr>\n",
       "      <th>23</th>\n",
       "      <td>2023-06-25</td>\n",
       "      <td>Kokrajhar</td>\n",
       "      <td>1</td>\n",
       "      <td>Dotoma - Rabhapara ward no.4 to Ward no5 conne...</td>\n",
       "    </tr>\n",
       "  </tbody>\n",
       "</table>\n",
       "</div>"
      ],
      "text/plain": [
       "          Date    District  Number  \\\n",
       "19  2023-06-23     Barpeta       3   \n",
       "20  2023-06-23      Bajali       2   \n",
       "21  2023-06-24      Dhubri       1   \n",
       "22  2023-06-25  Bongaigaon       2   \n",
       "23  2023-06-25   Kokrajhar       1   \n",
       "\n",
       "                                              Details  \n",
       "19  Baghbor - 1. RCC BR No. 7/1 (Barpeta Baghbor r...  \n",
       "20  Sarupeta - RCC Br. No. 2/1 | Sarupeta Gaon | R...  \n",
       "21  Dhubri - APPROACHES OF SPT BR. NO. 3/1 AND ROA...  \n",
       "22  Srijangram - Golapara to Kirtanpara road | Gol...  \n",
       "23  Dotoma - Rabhapara ward no.4 to Ward no5 conne...  "
      ]
     },
     "execution_count": 63,
     "metadata": {},
     "output_type": "execute_result"
    }
   ],
   "source": [
    "bridges_df = pd.read_csv('Data_2023/Cleaned Data/FRIMS_BRIDGES_DAMAGED_MASTER_2023.csv')\n",
    "\n",
    "\n",
    "bridges_df['Details'] = bridges_df.Details.str.replace('Baghbar','Baghbor',regex=True)\n",
    "bridges_df['Details'] = bridges_df.Details.str.replace('Dotma','Dotoma',regex=True)\n",
    "bridges_df['Details'] = bridges_df.Details.str.replace('Palashbari','Palasbari',regex=True)\n",
    "bridges_df['Details'] = bridges_df.Details.str.replace('North Ghy','North\\nGuwahati',regex=True)\n",
    "bridges_df['Details'] = bridges_df.Details.str.replace('Khairabari','Khoirabari',regex=True)\n",
    "bridges_df['Details'] = bridges_df.Details.str.replace('Dangtol','Bongaigaon',regex=True)\n",
    "bridges_df['Details'] = bridges_df.Details.str.replace('Naduar','Na-Duar',regex=True)\n",
    "\n",
    "\n",
    "bridges_df['District'] = bridges_df.District.str.replace('Dima-Hasao','Dima Hasao',regex=True)\n",
    "bridges_df['District'] = bridges_df.District.str.replace('Sivasagar','Sivsagar',regex=True)\n",
    "\n",
    "\n",
    "bridges_df.tail()"
   ]
  },
  {
   "cell_type": "code",
   "execution_count": 64,
   "id": "83e59710",
   "metadata": {},
   "outputs": [
    {
     "name": "stdout",
     "output_type": "stream",
     "text": [
      "Dhemaji\n",
      "['Dhakuakhana -', 'Dhemaji -', 'Gogamukh -', 'Jonai -', 'Sissiborgaon -', 'Subansiri -']\n",
      "----\n",
      "Sonitpur\n",
      "['Chariduar -', 'Dhekiajuli -', 'Na-Duar -', 'Tezpur -']\n",
      "----\n",
      "Darrang\n",
      "['Dalgaon -', 'Khoirabari -', 'Mangaldoi -', 'Patharighat -', 'Sipajhar -']\n",
      "----\n",
      "Kokrajhar\n",
      "['Bagribari -', 'Bhawraguri -', 'Chapar -', 'Dhubri -', 'Dotoma -', 'Golokganj -', 'Gossaigaon -', 'Kokrajhar -']\n",
      "----\n",
      "Barpeta\n",
      "['Baghbor -', 'Barnagar -', 'Barpeta -', 'Chenga -', 'Kalgachia -', 'Sarthebari -']\n",
      "----\n",
      "Bongaigaon\n",
      "['Boitamari -', 'Bongaigaon -', 'Manikpur -', 'Sidli -', 'Srijangram -']\n",
      "----\n",
      "Baksa\n",
      "['Baganpara -', 'Barama -', 'Barnagar -', 'Baska -', 'Ghograpar -', 'Jalah -', 'Sarupeta -']\n",
      "----\n",
      "Nalbari\n",
      "['Baganpara -', 'Banekuchi -', 'Barbhag -', 'Barkhetri -', 'Ghograpar -', 'Nalbari -', 'Pachim\\nNalbari -', 'Tihu -']\n",
      "----\n",
      "Dhubri\n",
      "['Agamoni -', 'Bagribari -', 'Bilasipara -', 'Chapar -', 'Dhubri -', 'Golakganj -', 'Gossaigaon -']\n",
      "----\n",
      "Biswanath\n",
      "['Biswanath -', 'Gohpur -', 'Halem -']\n",
      "----\n",
      "Bajali\n",
      "['Bajali -', 'Jalah -', 'Sarupeta -']\n",
      "----\n"
     ]
    },
    {
     "name": "stderr",
     "output_type": "stream",
     "text": [
      "/tmp/ipykernel_5402/1577161483.py:10: SettingWithCopyWarning: \n",
      "A value is trying to be set on a copy of a slice from a DataFrame.\n",
      "Try using .loc[row_indexer,col_indexer] = value instead\n",
      "\n",
      "See the caveats in the documentation: https://pandas.pydata.org/pandas-docs/stable/user_guide/indexing.html#returning-a-view-versus-a-copy\n",
      "  FILTERED_DAMAGES_df['Detail_Length'] = FILTERED_DAMAGES_df['Details'].apply(lambda x: len(x))\n"
     ]
    }
   ],
   "source": [
    "global REVENUE_CIRCLES\n",
    "global other_damages\n",
    "other_damages = False\n",
    "\n",
    "FILTERED_DAMAGES_dfs = []\n",
    "\n",
    "for DISTRICT in bridges_df.District.unique():\n",
    "    print(DISTRICT)\n",
    "    FILTERED_DAMAGES_df = bridges_df[bridges_df.District == DISTRICT]\n",
    "    FILTERED_DAMAGES_df['Detail_Length'] = FILTERED_DAMAGES_df['Details'].apply(lambda x: len(x))\n",
    "    FILTERED_DAMAGES_df = FILTERED_DAMAGES_df.sort_values(by=['Detail_Length'])\n",
    "    \n",
    "    FILTERED_DAMAGES_df = FILTERED_DAMAGES_df.drop_duplicates(['District','Number','Date'],keep='last')\n",
    "    \n",
    "    FILTERED_DAMAGES_df['Number of Damages (Date)'] = FILTERED_DAMAGES_df.Details.apply(lambda x: \n",
    "                                     len(re.findall('2022', x))+len(re.findall(r'\\d+/\\d+/\\d{2}\\s+',x))+len(re.findall(r'\\d+-\\d+-\\d{2}\\s+',x))+len(re.findall(r'\\d+\\.\\d+\\.\\d{2}\\s+', x)))\n",
    "    FILTERED_DAMAGES_df['Number of Damages (Long)'] = FILTERED_DAMAGES_df.Details.apply(lambda x: \n",
    "                                     len(re.findall('Long -', x)))\n",
    "        \n",
    "    \n",
    "    REVENUE_CIRCLES = [REV_CIRCLE.strip()+' -' for REV_CIRCLE in list(ASSAM_REVENUE_CIRCLES[ASSAM_REVENUE_CIRCLES.district_35==DISTRICT.upper()].revenue_ci)]\n",
    "    print(REVENUE_CIRCLES)\n",
    "    print('----')\n",
    "    FILTERED_DAMAGES_df['NumberofDamages_RevenueCircle_level'] = FILTERED_DAMAGES_df.apply(get_revcircle_damages_dict, axis=1)\n",
    "    FILTERED_DAMAGES_dfs.append(FILTERED_DAMAGES_df)"
   ]
  },
  {
   "cell_type": "code",
   "execution_count": 65,
   "id": "393ba6e1",
   "metadata": {},
   "outputs": [],
   "source": [
    "MASTER_DAMAGES = pd.concat(FILTERED_DAMAGES_dfs).reset_index(drop=True)\n",
    "MASTER_DAMAGES.District = MASTER_DAMAGES.District.str.upper()"
   ]
  },
  {
   "cell_type": "code",
   "execution_count": 66,
   "id": "b2512901",
   "metadata": {},
   "outputs": [],
   "source": [
    "bridges_revcircle_df = pd.DataFrame(columns=['District','RevenueCircle','Number of damages','Date'])\n",
    "i = 0\n",
    "for idx, row in MASTER_DAMAGES.iterrows():\n",
    "    damages_dict = row['NumberofDamages_RevenueCircle_level']\n",
    "    for key in damages_dict.keys():\n",
    "        rev_circle = key\n",
    "        no_damages = damages_dict[key]\n",
    "        \n",
    "        bridges_revcircle_df.loc[i,'RevenueCircle'] = rev_circle\n",
    "        bridges_revcircle_df.loc[i,'District'] = row['District']\n",
    "        bridges_revcircle_df.loc[i,'Number of damages'] = no_damages\n",
    "        bridges_revcircle_df.loc[i,'Date'] = row['Date']\n",
    "        i=i+1\n",
    "bridges_revcircle_df.Date = pd.to_datetime(bridges_revcircle_df.Date)"
   ]
  },
  {
   "cell_type": "code",
   "execution_count": 67,
   "id": "c75f14a7",
   "metadata": {},
   "outputs": [],
   "source": [
    "bridges_revcircle_df.RevenueCircle =bridges_revcircle_df.RevenueCircle.str.strip()\n",
    "bridges_revcircle_df.loc[bridges_revcircle_df.RevenueCircle == 'Na', 'RevenueCircle'] = 'Na-Duar'"
   ]
  },
  {
   "cell_type": "code",
   "execution_count": 68,
   "id": "8d008364",
   "metadata": {},
   "outputs": [],
   "source": [
    "bridges_revcircle_df = pd.merge(bridges_revcircle_df,\n",
    "                                ASSAM_REVENUE_CIRCLES[['district_35', 'revenue_ci','object_id']],\n",
    "                                left_on=['District', 'RevenueCircle'],\n",
    "                                right_on=['district_35', 'revenue_ci'],\n",
    "                                how='left')"
   ]
  },
  {
   "cell_type": "code",
   "execution_count": 87,
   "id": "0d22d847",
   "metadata": {},
   "outputs": [],
   "source": [
    "bridges_revcircle_df = bridges_revcircle_df[['Date','object_id','revenue_ci','District','Number of damages']]"
   ]
  },
  {
   "cell_type": "code",
   "execution_count": 88,
   "id": "ef1349b1",
   "metadata": {},
   "outputs": [],
   "source": [
    "bridges_revcircle_df.to_csv('Data_2023/Cleaned Data/RC_FRIMS_BRIDGES_DAMAGED_MASTER_2023.csv', index=False)"
   ]
  },
  {
   "cell_type": "markdown",
   "id": "84144e55",
   "metadata": {},
   "source": [
    "## ROADS DAMAGED <a class=\"anchor\" id=\"roadsdamaged\"></a>"
   ]
  },
  {
   "cell_type": "code",
   "execution_count": 89,
   "id": "5a94d2f6",
   "metadata": {},
   "outputs": [
    {
     "data": {
      "text/html": [
       "<div>\n",
       "<style scoped>\n",
       "    .dataframe tbody tr th:only-of-type {\n",
       "        vertical-align: middle;\n",
       "    }\n",
       "\n",
       "    .dataframe tbody tr th {\n",
       "        vertical-align: top;\n",
       "    }\n",
       "\n",
       "    .dataframe thead th {\n",
       "        text-align: right;\n",
       "    }\n",
       "</style>\n",
       "<table border=\"1\" class=\"dataframe\">\n",
       "  <thead>\n",
       "    <tr style=\"text-align: right;\">\n",
       "      <th></th>\n",
       "      <th>Date</th>\n",
       "      <th>District</th>\n",
       "      <th>Number</th>\n",
       "      <th>Details</th>\n",
       "    </tr>\n",
       "  </thead>\n",
       "  <tbody>\n",
       "    <tr>\n",
       "      <th>0</th>\n",
       "      <td>2023-06-11</td>\n",
       "      <td>Biswanath</td>\n",
       "      <td>1</td>\n",
       "      <td>Gohpur - Singarajan to Sutardoloni Kutcha Road...</td>\n",
       "    </tr>\n",
       "    <tr>\n",
       "      <th>1</th>\n",
       "      <td>2023-06-12</td>\n",
       "      <td>Biswanath</td>\n",
       "      <td>6</td>\n",
       "      <td>Gohpur - Road from Borigaon to Deonabori. (A c...</td>\n",
       "    </tr>\n",
       "    <tr>\n",
       "      <th>2</th>\n",
       "      <td>2023-06-12</td>\n",
       "      <td>Darrang</td>\n",
       "      <td>1</td>\n",
       "      <td>Mangaldoi - Approach road Noanadi Kachia Bund ...</td>\n",
       "    </tr>\n",
       "    <tr>\n",
       "      <th>3</th>\n",
       "      <td>2023-06-13</td>\n",
       "      <td>Lakhimpur</td>\n",
       "      <td>1</td>\n",
       "      <td>Narayanpur - Balikuchi Bishnupur Road at Ch 35...</td>\n",
       "    </tr>\n",
       "    <tr>\n",
       "      <th>4</th>\n",
       "      <td>2023-06-14</td>\n",
       "      <td>Dhemaji</td>\n",
       "      <td>2</td>\n",
       "      <td>Dhemaji - PWD Deptt. Road from Jiadhal charial...</td>\n",
       "    </tr>\n",
       "  </tbody>\n",
       "</table>\n",
       "</div>"
      ],
      "text/plain": [
       "         Date   District  Number  \\\n",
       "0  2023-06-11  Biswanath       1   \n",
       "1  2023-06-12  Biswanath       6   \n",
       "2  2023-06-12    Darrang       1   \n",
       "3  2023-06-13  Lakhimpur       1   \n",
       "4  2023-06-14    Dhemaji       2   \n",
       "\n",
       "                                             Details  \n",
       "0  Gohpur - Singarajan to Sutardoloni Kutcha Road...  \n",
       "1  Gohpur - Road from Borigaon to Deonabori. (A c...  \n",
       "2  Mangaldoi - Approach road Noanadi Kachia Bund ...  \n",
       "3  Narayanpur - Balikuchi Bishnupur Road at Ch 35...  \n",
       "4  Dhemaji - PWD Deptt. Road from Jiadhal charial...  "
      ]
     },
     "execution_count": 89,
     "metadata": {},
     "output_type": "execute_result"
    }
   ],
   "source": [
    "roads_damaged_df = pd.read_csv('Data_2023/Cleaned Data/FRIMS_ROADS_DAMAGED_MASTER_2023.csv')\n",
    "\n",
    "roads_damaged_df['Details'] = roads_damaged_df.Details.str.replace('Baghbar','Baghbor',regex=True)\n",
    "roads_damaged_df['Details'] = roads_damaged_df.Details.str.replace('Dotma','Dotoma',regex=True)\n",
    "roads_damaged_df['Details'] = roads_damaged_df.Details.str.replace('Palashbari','Palasbari',regex=True)\n",
    "roads_damaged_df['Details'] = roads_damaged_df.Details.str.replace('North Ghy','North\\nGuwahati',regex=True)\n",
    "roads_damaged_df['Details'] = roads_damaged_df.Details.str.replace('Khairabari','Khoirabari',regex=True)\n",
    "roads_damaged_df['Details'] = roads_damaged_df.Details.str.replace('Dangtol','Bongaigaon',regex=True)\n",
    "roads_damaged_df['Details'] = roads_damaged_df.Details.str.replace('Naduar','Na-Duar',regex=True)\n",
    "\n",
    "\n",
    "roads_damaged_df['District'] = roads_damaged_df.District.str.replace('Dima-Hasao','Dima Hasao',regex=True)\n",
    "roads_damaged_df['District'] = roads_damaged_df.District.str.replace('Sivasagar','Sivsagar',regex=True)\n",
    "\n",
    "\n",
    "roads_damaged_df.head()"
   ]
  },
  {
   "cell_type": "code",
   "execution_count": 90,
   "id": "af78287e",
   "metadata": {},
   "outputs": [],
   "source": [
    "roads_damaged_df = roads_damaged_df.sort_values(by='Date')"
   ]
  },
  {
   "cell_type": "code",
   "execution_count": 91,
   "id": "a78b3bdc",
   "metadata": {},
   "outputs": [
    {
     "name": "stdout",
     "output_type": "stream",
     "text": [
      "Biswanath\n",
      "['Biswanath -', 'Gohpur -', 'Halem -']\n",
      "----\n",
      "Darrang\n",
      "['Dalgaon -', 'Khoirabari -', 'Mangaldoi -', 'Patharighat -', 'Sipajhar -']\n",
      "----\n",
      "Lakhimpur\n",
      "['Bihpuria -', 'Dhakuakhana -', 'Kadam -', 'Narayanpur -', 'North Lakhimpur -', 'Nowboicha -', 'Subansiri -']\n",
      "----\n",
      "Dhemaji\n",
      "['Dhakuakhana -', 'Dhemaji -', 'Gogamukh -', 'Jonai -', 'Sissiborgaon -', 'Subansiri -']\n",
      "----\n",
      "Dima Hasao\n",
      "['Haflong -', 'Mahur -', 'Maibong -', 'Umrangso -']\n",
      "----\n",
      "Nalbari\n",
      "['Baganpara -', 'Banekuchi -', 'Barbhag -', 'Barkhetri -', 'Ghograpar -', 'Nalbari -', 'Pachim\\nNalbari -', 'Tihu -']\n",
      "----\n",
      "Goalpara\n",
      "['Balijana -', 'Dudhnoi -', 'Lakhipur -', 'Matia -', 'Rangjuli -']\n",
      "----\n",
      "Tamulpur\n",
      "['Bajali -', 'Goreswar -', 'Pathorighat -', 'Rangia -', 'Tamulpur -']\n",
      "----\n",
      "Udalguri\n",
      "['Dalgaon -', 'Dhekiajuli -', 'Harisinga -', 'Kalaigaon -', 'Khoirabari -', 'Mangaldoi -', 'Mazbat -', 'Pathorighat -', 'Udalguri -']\n",
      "----\n",
      "Kamrup\n",
      "['Azara -', 'Boko -', 'Chamaria -', 'Chhaygaon -', 'Goroimari -', 'Hajo -', 'Jalah -', 'Kamalpur -', 'Kayan -', 'Nagarbera -', 'North\\nGuwahati -', 'Palasbari -', 'Rangia -']\n",
      "----\n",
      "Cachar\n",
      "['Katigorah -', 'Lakhipur -', 'Silchar -', 'Sonai -', 'Udharbond -']\n",
      "----\n",
      "Nagaon\n",
      "['Dhing -', 'Kaliabor -', 'Kampur -', 'Nagaon -', 'Raha -', 'Rupahi -', 'Samaguri -']\n",
      "----\n",
      "Kokrajhar\n",
      "['Bagribari -', 'Bhawraguri -', 'Chapar -', 'Dhubri -', 'Dotoma -', 'Golokganj -', 'Gossaigaon -', 'Kokrajhar -']\n",
      "----\n",
      "Chirang\n",
      "['Barnagar -', 'Bengtal -', 'Bijni -', 'Kokrajhar -', 'Sidli -']\n",
      "----\n",
      "Baksa\n",
      "['Baganpara -', 'Barama -', 'Barnagar -', 'Baska -', 'Ghograpar -', 'Jalah -', 'Sarupeta -']\n",
      "----\n",
      "Golaghat\n",
      "['Bokakhat -', 'Dergaon -', 'Golaghat -', 'Khumtai -', 'Morangi -', 'Sarupathar -']\n",
      "----\n",
      "Karimganj\n",
      "['Badarpur -', 'Karimganj -', 'Nilambazar -', 'Patherkandi -', 'RK Nagar -']\n",
      "----\n",
      "Bongaigaon\n",
      "['Boitamari -', 'Bongaigaon -', 'Manikpur -', 'Sidli -', 'Srijangram -']\n",
      "----\n",
      "Dhubri\n",
      "['Agamoni -', 'Bagribari -', 'Bilasipara -', 'Chapar -', 'Dhubri -', 'Golakganj -', 'Gossaigaon -']\n",
      "----\n",
      "Barpeta\n",
      "['Baghbor -', 'Barnagar -', 'Barpeta -', 'Chenga -', 'Kalgachia -', 'Sarthebari -']\n",
      "----\n",
      "Bajali\n",
      "['Bajali -', 'Jalah -', 'Sarupeta -']\n",
      "----\n",
      "Majuli\n",
      "['Majuli -', 'Ujani Majuli -']\n",
      "----\n"
     ]
    },
    {
     "name": "stderr",
     "output_type": "stream",
     "text": [
      "/tmp/ipykernel_5402/993252146.py:10: SettingWithCopyWarning: \n",
      "A value is trying to be set on a copy of a slice from a DataFrame.\n",
      "Try using .loc[row_indexer,col_indexer] = value instead\n",
      "\n",
      "See the caveats in the documentation: https://pandas.pydata.org/pandas-docs/stable/user_guide/indexing.html#returning-a-view-versus-a-copy\n",
      "  FILTERED_DAMAGES_df['Detail_Length'] = FILTERED_DAMAGES_df['Details'].apply(lambda x: len(x))\n"
     ]
    }
   ],
   "source": [
    "global REVENUE_CIRCLES\n",
    "global other_damages\n",
    "other_damages = False\n",
    "\n",
    "FILTERED_DAMAGES_dfs = []\n",
    "\n",
    "for DISTRICT in roads_damaged_df.District.unique():\n",
    "    print(DISTRICT)\n",
    "    FILTERED_DAMAGES_df = roads_damaged_df[roads_damaged_df.District == DISTRICT]\n",
    "    FILTERED_DAMAGES_df['Detail_Length'] = FILTERED_DAMAGES_df['Details'].apply(lambda x: len(x))\n",
    "    FILTERED_DAMAGES_df = FILTERED_DAMAGES_df.sort_values(by=['Detail_Length'])\n",
    "    \n",
    "    FILTERED_DAMAGES_df = FILTERED_DAMAGES_df.drop_duplicates(['District','Number','Date'],keep='last')\n",
    "    \n",
    "    FILTERED_DAMAGES_df['Number of Damages (Date)'] = FILTERED_DAMAGES_df.Details.apply(lambda x: \n",
    "                                     len(re.findall('2023', x))+len(re.findall(r'\\d+/\\d+/\\d{2}\\s+',x))+len(re.findall(r'\\d+-\\d+-\\d{2}\\s+',x))+len(re.findall(r'\\d+\\.\\d+\\.\\d{2}\\s+', x)))\n",
    "    FILTERED_DAMAGES_df['Number of Damages (Long)'] = FILTERED_DAMAGES_df.Details.apply(lambda x: \n",
    "                                     len(re.findall('Long -', x)))\n",
    "        \n",
    "    \n",
    "    REVENUE_CIRCLES = [REV_CIRCLE.strip()+' -' for REV_CIRCLE in list(ASSAM_REVENUE_CIRCLES[ASSAM_REVENUE_CIRCLES.district_35==DISTRICT.upper()].revenue_ci)]\n",
    "    print(REVENUE_CIRCLES)\n",
    "    print('----')\n",
    "    FILTERED_DAMAGES_df['NumberofDamages_RevenueCircle_level'] = FILTERED_DAMAGES_df.apply(get_revcircle_damages_dict, axis=1)\n",
    "    FILTERED_DAMAGES_dfs.append(FILTERED_DAMAGES_df)"
   ]
  },
  {
   "cell_type": "code",
   "execution_count": 92,
   "id": "87003805",
   "metadata": {},
   "outputs": [],
   "source": [
    "MASTER_DAMAGES = pd.concat(FILTERED_DAMAGES_dfs).reset_index(drop=True)\n",
    "MASTER_DAMAGES.District = MASTER_DAMAGES.District.str.upper()"
   ]
  },
  {
   "cell_type": "code",
   "execution_count": 93,
   "id": "aa29c742",
   "metadata": {},
   "outputs": [],
   "source": [
    "road_damages_revcircle_df = pd.DataFrame(columns=['District','RevenueCircle','Number of damages','Date'])\n",
    "i = 0\n",
    "for idx, row in MASTER_DAMAGES.iterrows():\n",
    "    damages_dict = row['NumberofDamages_RevenueCircle_level']\n",
    "    for key in damages_dict.keys():\n",
    "        rev_circle = key\n",
    "        no_damages = damages_dict[key]\n",
    "        \n",
    "        road_damages_revcircle_df.loc[i,'RevenueCircle'] = rev_circle\n",
    "        road_damages_revcircle_df.loc[i,'District'] = row['District']\n",
    "        road_damages_revcircle_df.loc[i,'Number of damages'] = no_damages\n",
    "        road_damages_revcircle_df.loc[i,'Date'] = row['Date']\n",
    "        i=i+1\n",
    "road_damages_revcircle_df.Date = pd.to_datetime(road_damages_revcircle_df.Date)"
   ]
  },
  {
   "cell_type": "code",
   "execution_count": 94,
   "id": "5c766531",
   "metadata": {},
   "outputs": [],
   "source": [
    "road_damages_revcircle_df.RevenueCircle =road_damages_revcircle_df.RevenueCircle.str.strip()\n",
    "road_damages_revcircle_df.loc[road_damages_revcircle_df.RevenueCircle == 'Na', 'RevenueCircle'] = 'Na-Duar'"
   ]
  },
  {
   "cell_type": "code",
   "execution_count": 95,
   "id": "4cfcb40f",
   "metadata": {},
   "outputs": [],
   "source": [
    "road_damages_revcircle_df = pd.merge(road_damages_revcircle_df,\n",
    "                                ASSAM_REVENUE_CIRCLES[['district_35', 'revenue_ci','object_id']],\n",
    "                                left_on=['District', 'RevenueCircle'],\n",
    "                                right_on=['district_35', 'revenue_ci'],\n",
    "                                how='left')"
   ]
  },
  {
   "cell_type": "code",
   "execution_count": 96,
   "id": "78432eca",
   "metadata": {},
   "outputs": [],
   "source": [
    "road_damages_revcircle_df = road_damages_revcircle_df[['Date','object_id','revenue_ci','District','Number of damages']]"
   ]
  },
  {
   "cell_type": "code",
   "execution_count": 97,
   "id": "4088e965",
   "metadata": {},
   "outputs": [],
   "source": [
    "road_damages_revcircle_df.to_csv('Data_2023/Cleaned Data/RC_FRIMS_ROADS_DAMAGED_MASTER_2023.csv', index=False)"
   ]
  },
  {
   "cell_type": "code",
   "execution_count": null,
   "id": "0722d0b5",
   "metadata": {},
   "outputs": [],
   "source": []
  },
  {
   "cell_type": "code",
   "execution_count": null,
   "id": "7ab331ef",
   "metadata": {},
   "outputs": [],
   "source": []
  },
  {
   "cell_type": "code",
   "execution_count": null,
   "id": "85706de4",
   "metadata": {},
   "outputs": [],
   "source": []
  },
  {
   "cell_type": "code",
   "execution_count": null,
   "id": "fd29e101",
   "metadata": {},
   "outputs": [],
   "source": []
  },
  {
   "cell_type": "markdown",
   "id": "da33ba4b",
   "metadata": {},
   "source": [
    "# Lat-Lons"
   ]
  },
  {
   "cell_type": "code",
   "execution_count": 333,
   "id": "998423c4",
   "metadata": {},
   "outputs": [],
   "source": [
    "df = pd.read_csv('Data_2023/Cleaned Data/FRIMS_ROADS_DAMAGED_MASTER_2023.csv')"
   ]
  },
  {
   "cell_type": "code",
   "execution_count": 362,
   "id": "8953a43f",
   "metadata": {},
   "outputs": [],
   "source": [
    "\n",
    "dates_list = []\n",
    "locs_list = []\n",
    "\n",
    "for idx, row in df.iterrows():\n",
    "    details = row['Details']\n",
    "    long_lats = re.findall('\\d{1,2}\\.\\d{6}', details)\n",
    "    locs_list.append(long_lats)\n",
    "    #long_lats = [x for x in long_lats if float(x) != 0]\n",
    "    dates = [row['Date']]*len(long_lats)\n",
    "    dates_list.append(dates)"
   ]
  },
  {
   "cell_type": "code",
   "execution_count": 378,
   "id": "170cac14",
   "metadata": {},
   "outputs": [],
   "source": [
    "longitudes = []\n",
    "latitudes = []\n",
    "\n",
    "for loc in flatten_list(locs_list):\n",
    "    if float(loc)==0:\n",
    "        pass\n",
    "    elif float(loc) < 80:\n",
    "        latitudes.append(loc)\n",
    "    else:\n",
    "        longitudes.append(loc)"
   ]
  },
  {
   "cell_type": "code",
   "execution_count": 379,
   "id": "c290f34b",
   "metadata": {},
   "outputs": [
    {
     "data": {
      "text/plain": [
       "561"
      ]
     },
     "execution_count": 379,
     "metadata": {},
     "output_type": "execute_result"
    }
   ],
   "source": [
    "len(longitudes)"
   ]
  },
  {
   "cell_type": "code",
   "execution_count": 380,
   "id": "c38eb038",
   "metadata": {},
   "outputs": [
    {
     "data": {
      "text/plain": [
       "562"
      ]
     },
     "execution_count": 380,
     "metadata": {},
     "output_type": "execute_result"
    }
   ],
   "source": [
    "len(latitudes)"
   ]
  },
  {
   "cell_type": "code",
   "execution_count": 368,
   "id": "89b32a15",
   "metadata": {},
   "outputs": [
    {
     "data": {
      "text/plain": [
       "1530"
      ]
     },
     "execution_count": 368,
     "metadata": {},
     "output_type": "execute_result"
    }
   ],
   "source": [
    "len(flatten_list(dates_list))"
   ]
  },
  {
   "cell_type": "code",
   "execution_count": 244,
   "id": "f29e9a96",
   "metadata": {},
   "outputs": [],
   "source": [
    "breaches_lat_lon_df = pd.DataFrame([dates_list, longitudes_list,latitudes_list]).T\n",
    "breaches_lat_lon_df.columns = ['Date', 'Longitude', 'Latitude']\n",
    "breaches_lat_lon_df.to_csv('Data_2023/Cleaned Data/LAT_LONS_FRIMS_ROADS_DAMAGED_MASTER_2023.csv')"
   ]
  },
  {
   "cell_type": "code",
   "execution_count": 353,
   "id": "acfc52b7",
   "metadata": {},
   "outputs": [],
   "source": [
    "def flatten_list(nested_list):\n",
    "    flattened_list = []\n",
    "    for item in nested_list:\n",
    "        if isinstance(item, list):\n",
    "            flattened_list.extend(flatten_list(item))\n",
    "        else:\n",
    "            flattened_list.append(item)\n",
    "    return flattened_list"
   ]
  },
  {
   "cell_type": "code",
   "execution_count": 246,
   "id": "db8082ef",
   "metadata": {},
   "outputs": [
    {
     "data": {
      "text/html": [
       "<div>\n",
       "<style scoped>\n",
       "    .dataframe tbody tr th:only-of-type {\n",
       "        vertical-align: middle;\n",
       "    }\n",
       "\n",
       "    .dataframe tbody tr th {\n",
       "        vertical-align: top;\n",
       "    }\n",
       "\n",
       "    .dataframe thead th {\n",
       "        text-align: right;\n",
       "    }\n",
       "</style>\n",
       "<table border=\"1\" class=\"dataframe\">\n",
       "  <thead>\n",
       "    <tr style=\"text-align: right;\">\n",
       "      <th></th>\n",
       "      <th>Date</th>\n",
       "      <th>Longitude</th>\n",
       "      <th>Latitude</th>\n",
       "    </tr>\n",
       "  </thead>\n",
       "  <tbody>\n",
       "    <tr>\n",
       "      <th>0</th>\n",
       "      <td>2023-06-11</td>\n",
       "      <td>93.692991</td>\n",
       "      <td>26.929787</td>\n",
       "    </tr>\n",
       "    <tr>\n",
       "      <th>1</th>\n",
       "      <td>2023-06-12</td>\n",
       "      <td>93.628575</td>\n",
       "      <td>26.906926</td>\n",
       "    </tr>\n",
       "    <tr>\n",
       "      <th>2</th>\n",
       "      <td>2023-06-12</td>\n",
       "      <td>93.613828</td>\n",
       "      <td>26.882800</td>\n",
       "    </tr>\n",
       "    <tr>\n",
       "      <th>3</th>\n",
       "      <td>2023-06-12</td>\n",
       "      <td>93.733003</td>\n",
       "      <td>26.909405</td>\n",
       "    </tr>\n",
       "    <tr>\n",
       "      <th>4</th>\n",
       "      <td>2023-06-12</td>\n",
       "      <td>93.732312</td>\n",
       "      <td>26.914872</td>\n",
       "    </tr>\n",
       "    <tr>\n",
       "      <th>...</th>\n",
       "      <td>...</td>\n",
       "      <td>...</td>\n",
       "      <td>...</td>\n",
       "    </tr>\n",
       "    <tr>\n",
       "      <th>556</th>\n",
       "      <td>2023-06-25</td>\n",
       "      <td>90.850761</td>\n",
       "      <td>None</td>\n",
       "    </tr>\n",
       "    <tr>\n",
       "      <th>557</th>\n",
       "      <td>2023-06-25</td>\n",
       "      <td>90.826664</td>\n",
       "      <td>None</td>\n",
       "    </tr>\n",
       "    <tr>\n",
       "      <th>558</th>\n",
       "      <td>2023-06-25</td>\n",
       "      <td>90.859797</td>\n",
       "      <td>None</td>\n",
       "    </tr>\n",
       "    <tr>\n",
       "      <th>559</th>\n",
       "      <td>2023-06-25</td>\n",
       "      <td>90.848786</td>\n",
       "      <td>None</td>\n",
       "    </tr>\n",
       "    <tr>\n",
       "      <th>560</th>\n",
       "      <td>2023-06-25</td>\n",
       "      <td>90.803956</td>\n",
       "      <td>None</td>\n",
       "    </tr>\n",
       "  </tbody>\n",
       "</table>\n",
       "<p>561 rows × 3 columns</p>\n",
       "</div>"
      ],
      "text/plain": [
       "           Date  Longitude   Latitude\n",
       "0    2023-06-11  93.692991  26.929787\n",
       "1    2023-06-12  93.628575  26.906926\n",
       "2    2023-06-12  93.613828  26.882800\n",
       "3    2023-06-12  93.733003  26.909405\n",
       "4    2023-06-12  93.732312  26.914872\n",
       "..          ...        ...        ...\n",
       "556  2023-06-25  90.850761       None\n",
       "557  2023-06-25  90.826664       None\n",
       "558  2023-06-25  90.859797       None\n",
       "559  2023-06-25  90.848786       None\n",
       "560  2023-06-25  90.803956       None\n",
       "\n",
       "[561 rows x 3 columns]"
      ]
     },
     "execution_count": 246,
     "metadata": {},
     "output_type": "execute_result"
    }
   ],
   "source": [
    "breaches_lat_lon_df"
   ]
  },
  {
   "cell_type": "code",
   "execution_count": null,
   "id": "9af9e974",
   "metadata": {},
   "outputs": [],
   "source": []
  }
 ],
 "metadata": {
  "kernelspec": {
   "display_name": "Python 3 (ipykernel)",
   "language": "python",
   "name": "python3"
  },
  "language_info": {
   "codemirror_mode": {
    "name": "ipython",
    "version": 3
   },
   "file_extension": ".py",
   "mimetype": "text/x-python",
   "name": "python",
   "nbconvert_exporter": "python",
   "pygments_lexer": "ipython3",
   "version": "3.9.13"
  }
 },
 "nbformat": 4,
 "nbformat_minor": 5
}
