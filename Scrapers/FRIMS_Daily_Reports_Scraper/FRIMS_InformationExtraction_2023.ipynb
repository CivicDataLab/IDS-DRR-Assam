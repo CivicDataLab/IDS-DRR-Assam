{
 "cells": [
  {
   "cell_type": "code",
   "execution_count": 1,
   "id": "1978448a",
   "metadata": {},
   "outputs": [],
   "source": [
    "import pandas as pd\n",
    "import regex as re\n",
    "import pygsheets\n",
    "from datetime import date, timedelta, datetime\n",
    "import numpy as np\n",
    "import geopandas as gpd"
   ]
  },
  {
   "cell_type": "code",
   "execution_count": 129,
   "id": "49d7ba17",
   "metadata": {},
   "outputs": [],
   "source": [
    "def get_revcircle_damages_dict(ROW):    \n",
    "    DETAIL = ROW['Details']\n",
    "    REV_CIRCLE_DAMAGES_DICT = dict()\n",
    "    \n",
    "    count = 0\n",
    "    rev_circles_identified = []\n",
    "    rev_circles_identifed_at = []\n",
    "    for REV_CIRCLE in REVENUE_CIRCLES:\n",
    "        if REV_CIRCLE in DETAIL:\n",
    "            rev_circles_identified.append(REV_CIRCLE)\n",
    "            rev_circles_identifed_at.append(DETAIL.index(REV_CIRCLE))\n",
    "            count = count+1\n",
    "    REV_CIRCLES_IDENTIFIED_DF = pd.DataFrame([rev_circles_identified,rev_circles_identifed_at]).T\n",
    "    REV_CIRCLES_IDENTIFIED_DF.columns = ['RevenueCircle','StringIndex']\n",
    "    REV_CIRCLES_IDENTIFIED_DF = REV_CIRCLES_IDENTIFIED_DF.sort_values(by='StringIndex').reset_index(drop=True)\n",
    "    \n",
    "    for i,val in enumerate(REV_CIRCLES_IDENTIFIED_DF.StringIndex):\n",
    "        StringStartIndex = val\n",
    "        if i+1 == len(REV_CIRCLES_IDENTIFIED_DF.StringIndex):\n",
    "            StringEndIndex = None\n",
    "        else:\n",
    "            StringEndIndex = REV_CIRCLES_IDENTIFIED_DF.StringIndex[i+1]\n",
    "        \n",
    "        SUB_DETAIL = DETAIL[StringStartIndex:StringEndIndex]\n",
    "        \n",
    "        if other_damages == True:\n",
    "            NO_DAMAGES = len(re.findall('\\|', SUB_DETAIL))\n",
    "            print(NO_DAMAGES)\n",
    "            REV_CIRCLE_DAMAGES_DICT[REV_CIRCLES_IDENTIFIED_DF.RevenueCircle[i].split('-')[0]] = NO_DAMAGES-1\n",
    "            continue \n",
    "            \n",
    "        NO_DAMAGES_DateAlgo = len(re.findall('2023',SUB_DETAIL)) + len(re.findall(r'\\d+/\\d+/\\d{2}\\s+', SUB_DETAIL)) + len(re.findall(r'\\d+-\\d+-\\d{2}\\s+', SUB_DETAIL)) + len(re.findall(r'\\d+\\.\\d+\\.\\d{2}\\s+', SUB_DETAIL))\n",
    "        # Number of 2022 in the DETAIL +  Number of dd/mm/22 in the DETAIL +  Number of dd-mm-22 in the DETAIL + Number of dd.mm.22 in the DETAIL\n",
    "        NO_DAMAGES_LongAlgo = len(re.findall('Long -',SUB_DETAIL)) \n",
    "    \n",
    "        if float(ROW['Number of Damages (Long)'])==float(ROW['Number']):\n",
    "            REV_CIRCLE_DAMAGES_DICT[REV_CIRCLES_IDENTIFIED_DF.RevenueCircle[i].split('-')[0]] = NO_DAMAGES_LongAlgo\n",
    "        elif float(ROW['Number of Damages (Long)'])>float(ROW['Number of Damages (Date)']):\n",
    "            REV_CIRCLE_DAMAGES_DICT[REV_CIRCLES_IDENTIFIED_DF.RevenueCircle[i].split('-')[0]] = NO_DAMAGES_LongAlgo\n",
    "        else:\n",
    "            REV_CIRCLE_DAMAGES_DICT[REV_CIRCLES_IDENTIFIED_DF.RevenueCircle[i].split('-')[0]] = NO_DAMAGES_DateAlgo\n",
    "    \n",
    "    \n",
    "    return REV_CIRCLE_DAMAGES_DICT    "
   ]
  },
  {
   "cell_type": "code",
   "execution_count": 118,
   "id": "912f04e4",
   "metadata": {},
   "outputs": [],
   "source": [
    "ASSAM_REVENUE_CIRCLES = pd.read_csv('Data/Assam_Maps/ASSAM_REVENUE_CIRCLES_FRIMS_NAMES.csv')\n",
    "ASSAM_REVENUE_CIRCLES.revenue_ci = ASSAM_REVENUE_CIRCLES.revenue_ci.str.replace(r'\\(Pt\\)','', regex=True)\n",
    "ASSAM_REVENUE_CIRCLES.revenue_ci = ASSAM_REVENUE_CIRCLES.revenue_ci.str.replace(r'\\(Pt-I\\)','', regex=True)\n",
    "ASSAM_REVENUE_CIRCLES.revenue_ci = ASSAM_REVENUE_CIRCLES.revenue_ci.str.replace(r'\\(Pt-II\\)','', regex=True)\n",
    "\n",
    "ASSAM_REVENUE_CIRCLES.revenue_ci = ASSAM_REVENUE_CIRCLES.revenue_ci.str.strip()"
   ]
  },
  {
   "cell_type": "markdown",
   "id": "4ef1fba9",
   "metadata": {},
   "source": [
    "# Table of Contents:\n",
    "* [Roads damaged per revenue circle](#roadsdamaged)\n",
    "* [Embankment damages per revenue circle](#embankmentdamages)\n",
    "* [Embankments affected per revenue circle](#embankmentaffected)\n",
    "* [Bridges damaged per revenue circle](#bridgesdamaged)"
   ]
  },
  {
   "cell_type": "markdown",
   "id": "52fd2eba",
   "metadata": {},
   "source": [
    "## EMBANKMENT AFFECTED <a class=\"anchor\" id=\"embankmentaffected\"></a>"
   ]
  },
  {
   "cell_type": "code",
   "execution_count": 153,
   "id": "8cb9a304",
   "metadata": {},
   "outputs": [
    {
     "ename": "AttributeError",
     "evalue": "'DataFrame' object has no attribute 'Details'",
     "output_type": "error",
     "traceback": [
      "\u001b[0;31m---------------------------------------------------------------------------\u001b[0m",
      "\u001b[0;31mAttributeError\u001b[0m                            Traceback (most recent call last)",
      "\u001b[0;32m/tmp/ipykernel_5155/874418068.py\u001b[0m in \u001b[0;36m<module>\u001b[0;34m\u001b[0m\n\u001b[1;32m      2\u001b[0m \u001b[0;34m\u001b[0m\u001b[0m\n\u001b[1;32m      3\u001b[0m \u001b[0;34m\u001b[0m\u001b[0m\n\u001b[0;32m----> 4\u001b[0;31m \u001b[0membankments_affected_df\u001b[0m\u001b[0;34m[\u001b[0m\u001b[0;34m'Details'\u001b[0m\u001b[0;34m]\u001b[0m \u001b[0;34m=\u001b[0m \u001b[0membankments_affected_df\u001b[0m\u001b[0;34m.\u001b[0m\u001b[0mDetails\u001b[0m\u001b[0;34m.\u001b[0m\u001b[0mstr\u001b[0m\u001b[0;34m.\u001b[0m\u001b[0mreplace\u001b[0m\u001b[0;34m(\u001b[0m\u001b[0;34m'Baghbar'\u001b[0m\u001b[0;34m,\u001b[0m\u001b[0;34m'Baghbor'\u001b[0m\u001b[0;34m,\u001b[0m\u001b[0mregex\u001b[0m\u001b[0;34m=\u001b[0m\u001b[0;32mTrue\u001b[0m\u001b[0;34m)\u001b[0m\u001b[0;34m\u001b[0m\u001b[0;34m\u001b[0m\u001b[0m\n\u001b[0m\u001b[1;32m      5\u001b[0m \u001b[0membankments_affected_df\u001b[0m\u001b[0;34m[\u001b[0m\u001b[0;34m'Details'\u001b[0m\u001b[0;34m]\u001b[0m \u001b[0;34m=\u001b[0m \u001b[0membankments_affected_df\u001b[0m\u001b[0;34m.\u001b[0m\u001b[0mDetails\u001b[0m\u001b[0;34m.\u001b[0m\u001b[0mstr\u001b[0m\u001b[0;34m.\u001b[0m\u001b[0mreplace\u001b[0m\u001b[0;34m(\u001b[0m\u001b[0;34m'Dotma'\u001b[0m\u001b[0;34m,\u001b[0m\u001b[0;34m'Dotoma'\u001b[0m\u001b[0;34m,\u001b[0m\u001b[0mregex\u001b[0m\u001b[0;34m=\u001b[0m\u001b[0;32mTrue\u001b[0m\u001b[0;34m)\u001b[0m\u001b[0;34m\u001b[0m\u001b[0;34m\u001b[0m\u001b[0m\n\u001b[1;32m      6\u001b[0m \u001b[0membankments_affected_df\u001b[0m\u001b[0;34m[\u001b[0m\u001b[0;34m'Details'\u001b[0m\u001b[0;34m]\u001b[0m \u001b[0;34m=\u001b[0m \u001b[0membankments_affected_df\u001b[0m\u001b[0;34m.\u001b[0m\u001b[0mDetails\u001b[0m\u001b[0;34m.\u001b[0m\u001b[0mstr\u001b[0m\u001b[0;34m.\u001b[0m\u001b[0mreplace\u001b[0m\u001b[0;34m(\u001b[0m\u001b[0;34m'Palashbari'\u001b[0m\u001b[0;34m,\u001b[0m\u001b[0;34m'Palasbari'\u001b[0m\u001b[0;34m,\u001b[0m\u001b[0mregex\u001b[0m\u001b[0;34m=\u001b[0m\u001b[0;32mTrue\u001b[0m\u001b[0;34m)\u001b[0m\u001b[0;34m\u001b[0m\u001b[0;34m\u001b[0m\u001b[0m\n",
      "\u001b[0;32m~/anaconda3/lib/python3.9/site-packages/pandas/core/generic.py\u001b[0m in \u001b[0;36m__getattr__\u001b[0;34m(self, name)\u001b[0m\n\u001b[1;32m   5485\u001b[0m         ):\n\u001b[1;32m   5486\u001b[0m             \u001b[0;32mreturn\u001b[0m \u001b[0mself\u001b[0m\u001b[0;34m[\u001b[0m\u001b[0mname\u001b[0m\u001b[0;34m]\u001b[0m\u001b[0;34m\u001b[0m\u001b[0;34m\u001b[0m\u001b[0m\n\u001b[0;32m-> 5487\u001b[0;31m         \u001b[0;32mreturn\u001b[0m \u001b[0mobject\u001b[0m\u001b[0;34m.\u001b[0m\u001b[0m__getattribute__\u001b[0m\u001b[0;34m(\u001b[0m\u001b[0mself\u001b[0m\u001b[0;34m,\u001b[0m \u001b[0mname\u001b[0m\u001b[0;34m)\u001b[0m\u001b[0;34m\u001b[0m\u001b[0;34m\u001b[0m\u001b[0m\n\u001b[0m\u001b[1;32m   5488\u001b[0m \u001b[0;34m\u001b[0m\u001b[0m\n\u001b[1;32m   5489\u001b[0m     \u001b[0;32mdef\u001b[0m \u001b[0m__setattr__\u001b[0m\u001b[0;34m(\u001b[0m\u001b[0mself\u001b[0m\u001b[0;34m,\u001b[0m \u001b[0mname\u001b[0m\u001b[0;34m:\u001b[0m \u001b[0mstr\u001b[0m\u001b[0;34m,\u001b[0m \u001b[0mvalue\u001b[0m\u001b[0;34m)\u001b[0m \u001b[0;34m->\u001b[0m \u001b[0;32mNone\u001b[0m\u001b[0;34m:\u001b[0m\u001b[0;34m\u001b[0m\u001b[0;34m\u001b[0m\u001b[0m\n",
      "\u001b[0;31mAttributeError\u001b[0m: 'DataFrame' object has no attribute 'Details'"
     ]
    }
   ],
   "source": [
    "embankments_affected_df = pd.read_csv('Data_2023/Cleaned Data/FRIMS_EMBANKMENTS_AFFECTED_MASTER_2023.csv')\n",
    "\n",
    "\n",
    "embankments_affected_df['Details'] = embankments_affected_df.Details.str.replace('Baghbar','Baghbor',regex=True)\n",
    "embankments_affected_df['Details'] = embankments_affected_df.Details.str.replace('Dotma','Dotoma',regex=True)\n",
    "embankments_affected_df['Details'] = embankments_affected_df.Details.str.replace('Palashbari','Palasbari',regex=True)\n",
    "embankments_affected_df['Details'] = embankments_affected_df.Details.str.replace('North Ghy','North\\nGuwahati',regex=True)\n",
    "embankments_affected_df['Details'] = embankments_affected_df.Details.str.replace('Khairabari','Khoirabari',regex=True)\n",
    "embankments_affected_df['Details'] = embankments_affected_df.Details.str.replace('Dangtol','Bongaigaon',regex=True)\n",
    "embankments_affected_df['Details'] = embankments_affected_df.Details.str.replace('Naduar','Na-Duar',regex=True)\n",
    "\n",
    "\n",
    "embankments_affected_df['District'] = embankments_affected_df.District.str.replace('Dima-Hasao','Dima Hasao',regex=True)\n",
    "embankments_affected_df['District'] = embankments_affected_df.District.str.replace('Sivasagar','Sivsagar',regex=True)\n",
    "\n",
    "\n",
    "embankments_affected_df.tail()"
   ]
  },
  {
   "cell_type": "code",
   "execution_count": 152,
   "id": "5cd63d87",
   "metadata": {},
   "outputs": [
    {
     "name": "stdout",
     "output_type": "stream",
     "text": [
      "Dhemaji\n"
     ]
    },
    {
     "ename": "KeyError",
     "evalue": "'Details'",
     "output_type": "error",
     "traceback": [
      "\u001b[0;31m---------------------------------------------------------------------------\u001b[0m",
      "\u001b[0;31mKeyError\u001b[0m                                  Traceback (most recent call last)",
      "\u001b[0;32m~/anaconda3/lib/python3.9/site-packages/pandas/core/indexes/base.py\u001b[0m in \u001b[0;36mget_loc\u001b[0;34m(self, key, method, tolerance)\u001b[0m\n\u001b[1;32m   3360\u001b[0m             \u001b[0;32mtry\u001b[0m\u001b[0;34m:\u001b[0m\u001b[0;34m\u001b[0m\u001b[0;34m\u001b[0m\u001b[0m\n\u001b[0;32m-> 3361\u001b[0;31m                 \u001b[0;32mreturn\u001b[0m \u001b[0mself\u001b[0m\u001b[0;34m.\u001b[0m\u001b[0m_engine\u001b[0m\u001b[0;34m.\u001b[0m\u001b[0mget_loc\u001b[0m\u001b[0;34m(\u001b[0m\u001b[0mcasted_key\u001b[0m\u001b[0;34m)\u001b[0m\u001b[0;34m\u001b[0m\u001b[0;34m\u001b[0m\u001b[0m\n\u001b[0m\u001b[1;32m   3362\u001b[0m             \u001b[0;32mexcept\u001b[0m \u001b[0mKeyError\u001b[0m \u001b[0;32mas\u001b[0m \u001b[0merr\u001b[0m\u001b[0;34m:\u001b[0m\u001b[0;34m\u001b[0m\u001b[0;34m\u001b[0m\u001b[0m\n",
      "\u001b[0;32m~/anaconda3/lib/python3.9/site-packages/pandas/_libs/index.pyx\u001b[0m in \u001b[0;36mpandas._libs.index.IndexEngine.get_loc\u001b[0;34m()\u001b[0m\n",
      "\u001b[0;32m~/anaconda3/lib/python3.9/site-packages/pandas/_libs/index.pyx\u001b[0m in \u001b[0;36mpandas._libs.index.IndexEngine.get_loc\u001b[0;34m()\u001b[0m\n",
      "\u001b[0;32mpandas/_libs/hashtable_class_helper.pxi\u001b[0m in \u001b[0;36mpandas._libs.hashtable.PyObjectHashTable.get_item\u001b[0;34m()\u001b[0m\n",
      "\u001b[0;32mpandas/_libs/hashtable_class_helper.pxi\u001b[0m in \u001b[0;36mpandas._libs.hashtable.PyObjectHashTable.get_item\u001b[0;34m()\u001b[0m\n",
      "\u001b[0;31mKeyError\u001b[0m: 'Details'",
      "\nThe above exception was the direct cause of the following exception:\n",
      "\u001b[0;31mKeyError\u001b[0m                                  Traceback (most recent call last)",
      "\u001b[0;32m/tmp/ipykernel_5155/797364889.py\u001b[0m in \u001b[0;36m<module>\u001b[0;34m\u001b[0m\n\u001b[1;32m      8\u001b[0m     \u001b[0mprint\u001b[0m\u001b[0;34m(\u001b[0m\u001b[0mDISTRICT\u001b[0m\u001b[0;34m)\u001b[0m\u001b[0;34m\u001b[0m\u001b[0;34m\u001b[0m\u001b[0m\n\u001b[1;32m      9\u001b[0m     \u001b[0mFILTERED_DAMAGES_df\u001b[0m \u001b[0;34m=\u001b[0m \u001b[0membankments_affected_df\u001b[0m\u001b[0;34m[\u001b[0m\u001b[0membankments_affected_df\u001b[0m\u001b[0;34m.\u001b[0m\u001b[0mDistrict\u001b[0m \u001b[0;34m==\u001b[0m \u001b[0mDISTRICT\u001b[0m\u001b[0;34m]\u001b[0m\u001b[0;34m\u001b[0m\u001b[0;34m\u001b[0m\u001b[0m\n\u001b[0;32m---> 10\u001b[0;31m     \u001b[0mFILTERED_DAMAGES_df\u001b[0m\u001b[0;34m[\u001b[0m\u001b[0;34m'Detail_Length'\u001b[0m\u001b[0;34m]\u001b[0m \u001b[0;34m=\u001b[0m \u001b[0mFILTERED_DAMAGES_df\u001b[0m\u001b[0;34m[\u001b[0m\u001b[0;34m'Details'\u001b[0m\u001b[0;34m]\u001b[0m\u001b[0;34m.\u001b[0m\u001b[0mapply\u001b[0m\u001b[0;34m(\u001b[0m\u001b[0;32mlambda\u001b[0m \u001b[0mx\u001b[0m\u001b[0;34m:\u001b[0m \u001b[0mlen\u001b[0m\u001b[0;34m(\u001b[0m\u001b[0mx\u001b[0m\u001b[0;34m)\u001b[0m\u001b[0;34m)\u001b[0m\u001b[0;34m\u001b[0m\u001b[0;34m\u001b[0m\u001b[0m\n\u001b[0m\u001b[1;32m     11\u001b[0m     \u001b[0mFILTERED_DAMAGES_df\u001b[0m \u001b[0;34m=\u001b[0m \u001b[0mFILTERED_DAMAGES_df\u001b[0m\u001b[0;34m.\u001b[0m\u001b[0msort_values\u001b[0m\u001b[0;34m(\u001b[0m\u001b[0mby\u001b[0m\u001b[0;34m=\u001b[0m\u001b[0;34m[\u001b[0m\u001b[0;34m'Detail_Length'\u001b[0m\u001b[0;34m]\u001b[0m\u001b[0;34m)\u001b[0m\u001b[0;34m\u001b[0m\u001b[0;34m\u001b[0m\u001b[0m\n\u001b[1;32m     12\u001b[0m \u001b[0;34m\u001b[0m\u001b[0m\n",
      "\u001b[0;32m~/anaconda3/lib/python3.9/site-packages/pandas/core/frame.py\u001b[0m in \u001b[0;36m__getitem__\u001b[0;34m(self, key)\u001b[0m\n\u001b[1;32m   3456\u001b[0m             \u001b[0;32mif\u001b[0m \u001b[0mself\u001b[0m\u001b[0;34m.\u001b[0m\u001b[0mcolumns\u001b[0m\u001b[0;34m.\u001b[0m\u001b[0mnlevels\u001b[0m \u001b[0;34m>\u001b[0m \u001b[0;36m1\u001b[0m\u001b[0;34m:\u001b[0m\u001b[0;34m\u001b[0m\u001b[0;34m\u001b[0m\u001b[0m\n\u001b[1;32m   3457\u001b[0m                 \u001b[0;32mreturn\u001b[0m \u001b[0mself\u001b[0m\u001b[0;34m.\u001b[0m\u001b[0m_getitem_multilevel\u001b[0m\u001b[0;34m(\u001b[0m\u001b[0mkey\u001b[0m\u001b[0;34m)\u001b[0m\u001b[0;34m\u001b[0m\u001b[0;34m\u001b[0m\u001b[0m\n\u001b[0;32m-> 3458\u001b[0;31m             \u001b[0mindexer\u001b[0m \u001b[0;34m=\u001b[0m \u001b[0mself\u001b[0m\u001b[0;34m.\u001b[0m\u001b[0mcolumns\u001b[0m\u001b[0;34m.\u001b[0m\u001b[0mget_loc\u001b[0m\u001b[0;34m(\u001b[0m\u001b[0mkey\u001b[0m\u001b[0;34m)\u001b[0m\u001b[0;34m\u001b[0m\u001b[0;34m\u001b[0m\u001b[0m\n\u001b[0m\u001b[1;32m   3459\u001b[0m             \u001b[0;32mif\u001b[0m \u001b[0mis_integer\u001b[0m\u001b[0;34m(\u001b[0m\u001b[0mindexer\u001b[0m\u001b[0;34m)\u001b[0m\u001b[0;34m:\u001b[0m\u001b[0;34m\u001b[0m\u001b[0;34m\u001b[0m\u001b[0m\n\u001b[1;32m   3460\u001b[0m                 \u001b[0mindexer\u001b[0m \u001b[0;34m=\u001b[0m \u001b[0;34m[\u001b[0m\u001b[0mindexer\u001b[0m\u001b[0;34m]\u001b[0m\u001b[0;34m\u001b[0m\u001b[0;34m\u001b[0m\u001b[0m\n",
      "\u001b[0;32m~/anaconda3/lib/python3.9/site-packages/pandas/core/indexes/base.py\u001b[0m in \u001b[0;36mget_loc\u001b[0;34m(self, key, method, tolerance)\u001b[0m\n\u001b[1;32m   3361\u001b[0m                 \u001b[0;32mreturn\u001b[0m \u001b[0mself\u001b[0m\u001b[0;34m.\u001b[0m\u001b[0m_engine\u001b[0m\u001b[0;34m.\u001b[0m\u001b[0mget_loc\u001b[0m\u001b[0;34m(\u001b[0m\u001b[0mcasted_key\u001b[0m\u001b[0;34m)\u001b[0m\u001b[0;34m\u001b[0m\u001b[0;34m\u001b[0m\u001b[0m\n\u001b[1;32m   3362\u001b[0m             \u001b[0;32mexcept\u001b[0m \u001b[0mKeyError\u001b[0m \u001b[0;32mas\u001b[0m \u001b[0merr\u001b[0m\u001b[0;34m:\u001b[0m\u001b[0;34m\u001b[0m\u001b[0;34m\u001b[0m\u001b[0m\n\u001b[0;32m-> 3363\u001b[0;31m                 \u001b[0;32mraise\u001b[0m \u001b[0mKeyError\u001b[0m\u001b[0;34m(\u001b[0m\u001b[0mkey\u001b[0m\u001b[0;34m)\u001b[0m \u001b[0;32mfrom\u001b[0m \u001b[0merr\u001b[0m\u001b[0;34m\u001b[0m\u001b[0;34m\u001b[0m\u001b[0m\n\u001b[0m\u001b[1;32m   3364\u001b[0m \u001b[0;34m\u001b[0m\u001b[0m\n\u001b[1;32m   3365\u001b[0m         \u001b[0;32mif\u001b[0m \u001b[0mis_scalar\u001b[0m\u001b[0;34m(\u001b[0m\u001b[0mkey\u001b[0m\u001b[0;34m)\u001b[0m \u001b[0;32mand\u001b[0m \u001b[0misna\u001b[0m\u001b[0;34m(\u001b[0m\u001b[0mkey\u001b[0m\u001b[0;34m)\u001b[0m \u001b[0;32mand\u001b[0m \u001b[0;32mnot\u001b[0m \u001b[0mself\u001b[0m\u001b[0;34m.\u001b[0m\u001b[0mhasnans\u001b[0m\u001b[0;34m:\u001b[0m\u001b[0;34m\u001b[0m\u001b[0;34m\u001b[0m\u001b[0m\n",
      "\u001b[0;31mKeyError\u001b[0m: 'Details'"
     ]
    }
   ],
   "source": [
    "global REVENUE_CIRCLES\n",
    "global other_damages\n",
    "other_damages = False\n",
    "\n",
    "FILTERED_DAMAGES_dfs = []\n",
    "\n",
    "for DISTRICT in embankments_affected_df.District.unique():\n",
    "    print(DISTRICT)\n",
    "    FILTERED_DAMAGES_df = embankments_affected_df[embankments_affected_df.District == DISTRICT]\n",
    "    FILTERED_DAMAGES_df['Detail_Length'] = FILTERED_DAMAGES_df['Details'].apply(lambda x: len(x))\n",
    "    FILTERED_DAMAGES_df = FILTERED_DAMAGES_df.sort_values(by=['Detail_Length'])\n",
    "    \n",
    "    FILTERED_DAMAGES_df = FILTERED_DAMAGES_df.drop_duplicates(['District','Number','Date'],keep='last')\n",
    "    \n",
    "    FILTERED_DAMAGES_df['Number of Damages (Date)'] = FILTERED_DAMAGES_df.Details.apply(lambda x: \n",
    "                                     len(re.findall('2023', x))+len(re.findall(r'\\d+/\\d+/\\d{2}\\s+',x))+len(re.findall(r'\\d+-\\d+-\\d{2}\\s+',x))+len(re.findall(r'\\d+\\.\\d+\\.\\d{2}\\s+', x)))\n",
    "    FILTERED_DAMAGES_df['Number of Damages (Long)'] = FILTERED_DAMAGES_df.Details.apply(lambda x: \n",
    "                                     len(re.findall('Long -', x)))\n",
    "        \n",
    "    \n",
    "    REVENUE_CIRCLES = [REV_CIRCLE.strip()+' -' for REV_CIRCLE in list(ASSAM_REVENUE_CIRCLES[ASSAM_REVENUE_CIRCLES.district_35==DISTRICT.upper()].revenue_ci)]\n",
    "    print(REVENUE_CIRCLES)\n",
    "    print('----')\n",
    "    FILTERED_DAMAGES_df['NumberofDamages_RevenueCircle_level'] = FILTERED_DAMAGES_df.apply(get_revcircle_damages_dict, axis=1)\n",
    "    FILTERED_DAMAGES_dfs.append(FILTERED_DAMAGES_df)"
   ]
  },
  {
   "cell_type": "code",
   "execution_count": 132,
   "id": "06a8aa59",
   "metadata": {},
   "outputs": [],
   "source": [
    "MASTER_DAMAGES = pd.concat(FILTERED_DAMAGES_dfs).reset_index(drop=True)"
   ]
  },
  {
   "cell_type": "code",
   "execution_count": 134,
   "id": "5b195c50",
   "metadata": {},
   "outputs": [],
   "source": [
    "embankment_affected_revcircle_df = pd.DataFrame(columns=['District','RevenueCircle','Number of damages','Date'])\n",
    "i = 0\n",
    "for idx, row in MASTER_DAMAGES.iterrows():\n",
    "    damages_dict = row['NumberofDamages_RevenueCircle_level']\n",
    "    for key in damages_dict.keys():\n",
    "        rev_circle = key\n",
    "        no_damages = damages_dict[key]\n",
    "        \n",
    "        embankment_affected_revcircle_df.loc[i,'RevenueCircle'] = rev_circle\n",
    "        embankment_affected_revcircle_df.loc[i,'District'] = row['District']\n",
    "        embankment_affected_revcircle_df.loc[i,'Number of damages'] = no_damages\n",
    "        embankment_affected_revcircle_df.loc[i,'Date'] = row['Date']\n",
    "        i=i+1\n",
    "embankment_affected_revcircle_df.Date = pd.to_datetime(embankment_affected_revcircle_df.Date)"
   ]
  },
  {
   "cell_type": "code",
   "execution_count": 135,
   "id": "8532a994",
   "metadata": {},
   "outputs": [],
   "source": [
    "embankment_affected_revcircle_df.to_csv('Data_2023/Cleaned Data/RC_FRIMS_EMBANKMENTS_AFFECTED_MASTER_2023.csv', index=False)"
   ]
  },
  {
   "cell_type": "markdown",
   "id": "d70dac87",
   "metadata": {},
   "source": [
    "## BRIDGES DAMAGED <a class=\"anchor\" id=\"bridgesdamaged\"></a>"
   ]
  },
  {
   "cell_type": "code",
   "execution_count": 136,
   "id": "561e859d",
   "metadata": {},
   "outputs": [
    {
     "data": {
      "text/html": [
       "<div>\n",
       "<style scoped>\n",
       "    .dataframe tbody tr th:only-of-type {\n",
       "        vertical-align: middle;\n",
       "    }\n",
       "\n",
       "    .dataframe tbody tr th {\n",
       "        vertical-align: top;\n",
       "    }\n",
       "\n",
       "    .dataframe thead th {\n",
       "        text-align: right;\n",
       "    }\n",
       "</style>\n",
       "<table border=\"1\" class=\"dataframe\">\n",
       "  <thead>\n",
       "    <tr style=\"text-align: right;\">\n",
       "      <th></th>\n",
       "      <th>Date</th>\n",
       "      <th>District</th>\n",
       "      <th>Number</th>\n",
       "      <th>Details</th>\n",
       "    </tr>\n",
       "  </thead>\n",
       "  <tbody>\n",
       "    <tr>\n",
       "      <th>19</th>\n",
       "      <td>2023-06-23</td>\n",
       "      <td>Barpeta</td>\n",
       "      <td>3</td>\n",
       "      <td>Baghbor - 1. RCC BR No. 7/1 (Barpeta Baghbor r...</td>\n",
       "    </tr>\n",
       "    <tr>\n",
       "      <th>20</th>\n",
       "      <td>2023-06-23</td>\n",
       "      <td>Bajali</td>\n",
       "      <td>2</td>\n",
       "      <td>Sarupeta - RCC Br. No. 2/1 | Sarupeta Gaon | R...</td>\n",
       "    </tr>\n",
       "    <tr>\n",
       "      <th>21</th>\n",
       "      <td>2023-06-24</td>\n",
       "      <td>Dhubri</td>\n",
       "      <td>1</td>\n",
       "      <td>Dhubri - APPROACHES OF SPT BR. NO. 3/1 AND ROA...</td>\n",
       "    </tr>\n",
       "    <tr>\n",
       "      <th>22</th>\n",
       "      <td>2023-06-25</td>\n",
       "      <td>Bongaigaon</td>\n",
       "      <td>2</td>\n",
       "      <td>Srijangram - Golapara to Kirtanpara road | Gol...</td>\n",
       "    </tr>\n",
       "    <tr>\n",
       "      <th>23</th>\n",
       "      <td>2023-06-25</td>\n",
       "      <td>Kokrajhar</td>\n",
       "      <td>1</td>\n",
       "      <td>Dotoma - Rabhapara ward no.4 to Ward no5 conne...</td>\n",
       "    </tr>\n",
       "  </tbody>\n",
       "</table>\n",
       "</div>"
      ],
      "text/plain": [
       "          Date    District  Number  \\\n",
       "19  2023-06-23     Barpeta       3   \n",
       "20  2023-06-23      Bajali       2   \n",
       "21  2023-06-24      Dhubri       1   \n",
       "22  2023-06-25  Bongaigaon       2   \n",
       "23  2023-06-25   Kokrajhar       1   \n",
       "\n",
       "                                              Details  \n",
       "19  Baghbor - 1. RCC BR No. 7/1 (Barpeta Baghbor r...  \n",
       "20  Sarupeta - RCC Br. No. 2/1 | Sarupeta Gaon | R...  \n",
       "21  Dhubri - APPROACHES OF SPT BR. NO. 3/1 AND ROA...  \n",
       "22  Srijangram - Golapara to Kirtanpara road | Gol...  \n",
       "23  Dotoma - Rabhapara ward no.4 to Ward no5 conne...  "
      ]
     },
     "execution_count": 136,
     "metadata": {},
     "output_type": "execute_result"
    }
   ],
   "source": [
    "bridges_df = pd.read_csv('Data_2023/Cleaned Data/FRIMS_BRIDGES_DAMAGED_MASTER_2023.csv')\n",
    "\n",
    "\n",
    "bridges_df['Details'] = bridges_df.Details.str.replace('Baghbar','Baghbor',regex=True)\n",
    "bridges_df['Details'] = bridges_df.Details.str.replace('Dotma','Dotoma',regex=True)\n",
    "bridges_df['Details'] = bridges_df.Details.str.replace('Palashbari','Palasbari',regex=True)\n",
    "bridges_df['Details'] = bridges_df.Details.str.replace('North Ghy','North\\nGuwahati',regex=True)\n",
    "bridges_df['Details'] = bridges_df.Details.str.replace('Khairabari','Khoirabari',regex=True)\n",
    "bridges_df['Details'] = bridges_df.Details.str.replace('Dangtol','Bongaigaon',regex=True)\n",
    "bridges_df['Details'] = bridges_df.Details.str.replace('Naduar','Na-Duar',regex=True)\n",
    "\n",
    "\n",
    "bridges_df['District'] = bridges_df.District.str.replace('Dima-Hasao','Dima Hasao',regex=True)\n",
    "\n",
    "\n",
    "bridges_df.tail()"
   ]
  },
  {
   "cell_type": "code",
   "execution_count": 137,
   "id": "e61016bd",
   "metadata": {},
   "outputs": [
    {
     "name": "stdout",
     "output_type": "stream",
     "text": [
      "Dhemaji\n",
      "['Dhakuakhana -', 'Dhemaji -', 'Gogamukh -', 'Jonai -', 'Sissiborgaon -', 'Subansiri -']\n",
      "----\n",
      "Sonitpur\n",
      "['Chariduar -', 'Dhekiajuli -', 'Na-Duar -', 'Tezpur -']\n",
      "----\n",
      "Darrang\n",
      "['Dalgaon -', 'Khoirabari -', 'Mangaldoi -', 'Patharighat -', 'Sipajhar -']\n",
      "----\n",
      "Kokrajhar\n",
      "['Bagribari -', 'Bhawraguri -', 'Chapar -', 'Dhubri -', 'Dotoma -', 'Golokganj -', 'Gossaigaon -', 'Kokrajhar -']\n",
      "----\n",
      "Barpeta\n",
      "['Baghbor -', 'Barnagar -', 'Barpeta -', 'Chenga -', 'Kalgachia -', 'Sarthebari -']\n",
      "----\n",
      "Bongaigaon\n",
      "['Boitamari -', 'Bongaigaon -', 'Manikpur -', 'Sidli -', 'Srijangram -']\n",
      "----\n",
      "Baksa\n",
      "['Baganpara -', 'Barama -', 'Barnagar -', 'Baska -', 'Ghograpar -', 'Jalah -', 'Sarupeta -']\n",
      "----\n",
      "Nalbari\n",
      "['Baganpara -', 'Banekuchi -', 'Barbhag -', 'Barkhetri -', 'Ghograpar -', 'Nalbari -', 'Pachim\\nNalbari -', 'Tihu -']\n",
      "----\n",
      "Dhubri\n",
      "['Agamoni -', 'Bagribari -', 'Bilasipara -', 'Chapar -', 'Dhubri -', 'Golakganj -', 'Gossaigaon -']\n",
      "----\n",
      "Biswanath\n",
      "['Biswanath -', 'Gohpur -', 'Halem -']\n",
      "----\n",
      "Bajali\n",
      "['Bajali -', 'Jalah -', 'Sarupeta -']\n",
      "----\n"
     ]
    },
    {
     "name": "stderr",
     "output_type": "stream",
     "text": [
      "/tmp/ipykernel_5155/1577161483.py:10: SettingWithCopyWarning: \n",
      "A value is trying to be set on a copy of a slice from a DataFrame.\n",
      "Try using .loc[row_indexer,col_indexer] = value instead\n",
      "\n",
      "See the caveats in the documentation: https://pandas.pydata.org/pandas-docs/stable/user_guide/indexing.html#returning-a-view-versus-a-copy\n",
      "  FILTERED_DAMAGES_df['Detail_Length'] = FILTERED_DAMAGES_df['Details'].apply(lambda x: len(x))\n"
     ]
    }
   ],
   "source": [
    "global REVENUE_CIRCLES\n",
    "global other_damages\n",
    "other_damages = False\n",
    "\n",
    "FILTERED_DAMAGES_dfs = []\n",
    "\n",
    "for DISTRICT in bridges_df.District.unique():\n",
    "    print(DISTRICT)\n",
    "    FILTERED_DAMAGES_df = bridges_df[bridges_df.District == DISTRICT]\n",
    "    FILTERED_DAMAGES_df['Detail_Length'] = FILTERED_DAMAGES_df['Details'].apply(lambda x: len(x))\n",
    "    FILTERED_DAMAGES_df = FILTERED_DAMAGES_df.sort_values(by=['Detail_Length'])\n",
    "    \n",
    "    FILTERED_DAMAGES_df = FILTERED_DAMAGES_df.drop_duplicates(['District','Number','Date'],keep='last')\n",
    "    \n",
    "    FILTERED_DAMAGES_df['Number of Damages (Date)'] = FILTERED_DAMAGES_df.Details.apply(lambda x: \n",
    "                                     len(re.findall('2022', x))+len(re.findall(r'\\d+/\\d+/\\d{2}\\s+',x))+len(re.findall(r'\\d+-\\d+-\\d{2}\\s+',x))+len(re.findall(r'\\d+\\.\\d+\\.\\d{2}\\s+', x)))\n",
    "    FILTERED_DAMAGES_df['Number of Damages (Long)'] = FILTERED_DAMAGES_df.Details.apply(lambda x: \n",
    "                                     len(re.findall('Long -', x)))\n",
    "        \n",
    "    \n",
    "    REVENUE_CIRCLES = [REV_CIRCLE.strip()+' -' for REV_CIRCLE in list(ASSAM_REVENUE_CIRCLES[ASSAM_REVENUE_CIRCLES.district_35==DISTRICT.upper()].revenue_ci)]\n",
    "    print(REVENUE_CIRCLES)\n",
    "    print('----')\n",
    "    FILTERED_DAMAGES_df['NumberofDamages_RevenueCircle_level'] = FILTERED_DAMAGES_df.apply(get_revcircle_damages_dict, axis=1)\n",
    "    FILTERED_DAMAGES_dfs.append(FILTERED_DAMAGES_df)"
   ]
  },
  {
   "cell_type": "code",
   "execution_count": 138,
   "id": "c5345006",
   "metadata": {},
   "outputs": [],
   "source": [
    "MASTER_DAMAGES = pd.concat(FILTERED_DAMAGES_dfs).reset_index(drop=True)"
   ]
  },
  {
   "cell_type": "code",
   "execution_count": 139,
   "id": "9676c284",
   "metadata": {},
   "outputs": [],
   "source": [
    "bridges_revcircle_df = pd.DataFrame(columns=['District','RevenueCircle','Number of damages','Date'])\n",
    "i = 0\n",
    "for idx, row in MASTER_DAMAGES.iterrows():\n",
    "    damages_dict = row['NumberofDamages_RevenueCircle_level']\n",
    "    for key in damages_dict.keys():\n",
    "        rev_circle = key\n",
    "        no_damages = damages_dict[key]\n",
    "        \n",
    "        bridges_revcircle_df.loc[i,'RevenueCircle'] = rev_circle\n",
    "        bridges_revcircle_df.loc[i,'District'] = row['District']\n",
    "        bridges_revcircle_df.loc[i,'Number of damages'] = no_damages\n",
    "        bridges_revcircle_df.loc[i,'Date'] = row['Date']\n",
    "        i=i+1\n",
    "bridges_revcircle_df.Date = pd.to_datetime(bridges_revcircle_df.Date)"
   ]
  },
  {
   "cell_type": "code",
   "execution_count": 140,
   "id": "ee1bbb8b",
   "metadata": {},
   "outputs": [],
   "source": [
    "bridges_revcircle_df.RevenueCircle = bridges_revcircle_df.RevenueCircle.str.replace('Na','Na-Duar')"
   ]
  },
  {
   "cell_type": "code",
   "execution_count": 141,
   "id": "14574d3c",
   "metadata": {},
   "outputs": [],
   "source": [
    "bridges_revcircle_df.to_csv('Data_2023/Cleaned Data/RC_FRIMS_BRIDGES_DAMAGED_MASTER_2023.csv', index=False)"
   ]
  },
  {
   "cell_type": "markdown",
   "id": "be221776",
   "metadata": {},
   "source": [
    "## ROADS DAMAGED <a class=\"anchor\" id=\"roadsdamaged\"></a>"
   ]
  },
  {
   "cell_type": "code",
   "execution_count": null,
   "id": "2e7de324",
   "metadata": {},
   "outputs": [],
   "source": []
  },
  {
   "cell_type": "code",
   "execution_count": 142,
   "id": "5a94d2f6",
   "metadata": {},
   "outputs": [
    {
     "data": {
      "text/html": [
       "<div>\n",
       "<style scoped>\n",
       "    .dataframe tbody tr th:only-of-type {\n",
       "        vertical-align: middle;\n",
       "    }\n",
       "\n",
       "    .dataframe tbody tr th {\n",
       "        vertical-align: top;\n",
       "    }\n",
       "\n",
       "    .dataframe thead th {\n",
       "        text-align: right;\n",
       "    }\n",
       "</style>\n",
       "<table border=\"1\" class=\"dataframe\">\n",
       "  <thead>\n",
       "    <tr style=\"text-align: right;\">\n",
       "      <th></th>\n",
       "      <th>Date</th>\n",
       "      <th>District</th>\n",
       "      <th>Number</th>\n",
       "      <th>Details</th>\n",
       "    </tr>\n",
       "  </thead>\n",
       "  <tbody>\n",
       "    <tr>\n",
       "      <th>0</th>\n",
       "      <td>2023-06-11</td>\n",
       "      <td>Biswanath</td>\n",
       "      <td>1</td>\n",
       "      <td>Gohpur - Singarajan to Sutardoloni Kutcha Road...</td>\n",
       "    </tr>\n",
       "    <tr>\n",
       "      <th>1</th>\n",
       "      <td>2023-06-12</td>\n",
       "      <td>Biswanath</td>\n",
       "      <td>6</td>\n",
       "      <td>Gohpur - Road from Borigaon to Deonabori. (A c...</td>\n",
       "    </tr>\n",
       "    <tr>\n",
       "      <th>2</th>\n",
       "      <td>2023-06-12</td>\n",
       "      <td>Darrang</td>\n",
       "      <td>1</td>\n",
       "      <td>Mangaldoi - Approach road Noanadi Kachia Bund ...</td>\n",
       "    </tr>\n",
       "    <tr>\n",
       "      <th>3</th>\n",
       "      <td>2023-06-13</td>\n",
       "      <td>Lakhimpur</td>\n",
       "      <td>1</td>\n",
       "      <td>Narayanpur - Balikuchi Bishnupur Road at Ch 35...</td>\n",
       "    </tr>\n",
       "    <tr>\n",
       "      <th>4</th>\n",
       "      <td>2023-06-14</td>\n",
       "      <td>Dhemaji</td>\n",
       "      <td>2</td>\n",
       "      <td>Dhemaji - PWD Deptt. Road from Jiadhal charial...</td>\n",
       "    </tr>\n",
       "  </tbody>\n",
       "</table>\n",
       "</div>"
      ],
      "text/plain": [
       "         Date   District  Number  \\\n",
       "0  2023-06-11  Biswanath       1   \n",
       "1  2023-06-12  Biswanath       6   \n",
       "2  2023-06-12    Darrang       1   \n",
       "3  2023-06-13  Lakhimpur       1   \n",
       "4  2023-06-14    Dhemaji       2   \n",
       "\n",
       "                                             Details  \n",
       "0  Gohpur - Singarajan to Sutardoloni Kutcha Road...  \n",
       "1  Gohpur - Road from Borigaon to Deonabori. (A c...  \n",
       "2  Mangaldoi - Approach road Noanadi Kachia Bund ...  \n",
       "3  Narayanpur - Balikuchi Bishnupur Road at Ch 35...  \n",
       "4  Dhemaji - PWD Deptt. Road from Jiadhal charial...  "
      ]
     },
     "execution_count": 142,
     "metadata": {},
     "output_type": "execute_result"
    }
   ],
   "source": [
    "roads_damaged_df = pd.read_csv('Data_2023/Cleaned Data/FRIMS_ROADS_DAMAGED_MASTER_2023.csv')\n",
    "\n",
    "roads_damaged_df['Details'] = roads_damaged_df.Details.str.replace('Baghbar','Baghbor',regex=True)\n",
    "roads_damaged_df['Details'] = roads_damaged_df.Details.str.replace('Dotma','Dotoma',regex=True)\n",
    "roads_damaged_df['Details'] = roads_damaged_df.Details.str.replace('Palashbari','Palasbari',regex=True)\n",
    "roads_damaged_df['Details'] = roads_damaged_df.Details.str.replace('North Ghy','North\\nGuwahati',regex=True)\n",
    "roads_damaged_df['Details'] = roads_damaged_df.Details.str.replace('Khairabari','Khoirabari',regex=True)\n",
    "roads_damaged_df['Details'] = roads_damaged_df.Details.str.replace('Dangtol','Bongaigaon',regex=True)\n",
    "roads_damaged_df['Details'] = roads_damaged_df.Details.str.replace('Naduar','Na-Duar',regex=True)\n",
    "\n",
    "\n",
    "roads_damaged_df['District'] = roads_damaged_df.District.str.replace('Dima-Hasao','Dima Hasao',regex=True)\n",
    "\n",
    "\n",
    "roads_damaged_df.head()"
   ]
  },
  {
   "cell_type": "code",
   "execution_count": 143,
   "id": "af78287e",
   "metadata": {},
   "outputs": [],
   "source": [
    "roads_damaged_df = roads_damaged_df.sort_values(by='Date')"
   ]
  },
  {
   "cell_type": "code",
   "execution_count": 144,
   "id": "a78b3bdc",
   "metadata": {},
   "outputs": [
    {
     "name": "stdout",
     "output_type": "stream",
     "text": [
      "Biswanath\n",
      "['Biswanath -', 'Gohpur -', 'Halem -']\n",
      "----\n",
      "Darrang\n",
      "['Dalgaon -', 'Khoirabari -', 'Mangaldoi -', 'Patharighat -', 'Sipajhar -']\n",
      "----\n",
      "Lakhimpur\n",
      "['Bihpuria -', 'Dhakuakhana -', 'Kadam -', 'Narayanpur -', 'North Lakhimpur -', 'Nowboicha -', 'Subansiri -']\n",
      "----\n",
      "Dhemaji\n",
      "['Dhakuakhana -', 'Dhemaji -', 'Gogamukh -', 'Jonai -', 'Sissiborgaon -', 'Subansiri -']\n",
      "----\n",
      "Dima Hasao\n",
      "['Haflong -', 'Mahur -', 'Maibong -', 'Umrangso -']\n",
      "----\n",
      "Nalbari\n",
      "['Baganpara -', 'Banekuchi -', 'Barbhag -', 'Barkhetri -', 'Ghograpar -', 'Nalbari -', 'Pachim\\nNalbari -', 'Tihu -']\n",
      "----\n",
      "Goalpara\n",
      "['Balijana -', 'Dudhnoi -', 'Lakhipur -', 'Matia -', 'Rangjuli -']\n",
      "----\n",
      "Tamulpur\n",
      "['Bajali -', 'Goreswar -', 'Pathorighat -', 'Rangia -', 'Tamulpur -']\n",
      "----\n",
      "Udalguri\n",
      "['Dalgaon -', 'Dhekiajuli -', 'Harisinga -', 'Kalaigaon -', 'Khoirabari -', 'Mangaldoi -', 'Mazbat -', 'Pathorighat -', 'Udalguri -']\n",
      "----\n",
      "Kamrup\n",
      "['Azara -', 'Boko -', 'Chamaria -', 'Chhaygaon -', 'Goroimari -', 'Hajo -', 'Jalah -', 'Kamalpur -', 'Kayan -', 'Nagarbera -', 'North\\nGuwahati -', 'Palasbari -', 'Rangia -']\n",
      "----\n",
      "Cachar\n",
      "['Katigorah -', 'Lakhipur -', 'Silchar -', 'Sonai -', 'Udharbond -']\n",
      "----\n",
      "Nagaon\n",
      "['Dhing -', 'Kaliabor -', 'Kampur -', 'Nagaon -', 'Raha -', 'Rupahi -', 'Samaguri -']\n",
      "----\n",
      "Kokrajhar\n",
      "['Bagribari -', 'Bhawraguri -', 'Chapar -', 'Dhubri -', 'Dotoma -', 'Golokganj -', 'Gossaigaon -', 'Kokrajhar -']\n",
      "----\n",
      "Chirang\n",
      "['Barnagar -', 'Bengtal -', 'Bijni -', 'Kokrajhar -', 'Sidli -']\n",
      "----\n",
      "Baksa\n",
      "['Baganpara -', 'Barama -', 'Barnagar -', 'Baska -', 'Ghograpar -', 'Jalah -', 'Sarupeta -']\n",
      "----\n",
      "Golaghat\n",
      "['Bokakhat -', 'Dergaon -', 'Golaghat -', 'Khumtai -', 'Morangi -', 'Sarupathar -']\n",
      "----\n",
      "Karimganj\n",
      "['Badarpur -', 'Karimganj -', 'Nilambazar -', 'Patherkandi -', 'RK Nagar -']\n",
      "----\n",
      "Bongaigaon\n",
      "['Boitamari -', 'Bongaigaon -', 'Manikpur -', 'Sidli -', 'Srijangram -']\n",
      "----\n",
      "Dhubri\n",
      "['Agamoni -', 'Bagribari -', 'Bilasipara -', 'Chapar -', 'Dhubri -', 'Golakganj -', 'Gossaigaon -']\n",
      "----\n",
      "Barpeta\n",
      "['Baghbor -', 'Barnagar -', 'Barpeta -', 'Chenga -', 'Kalgachia -', 'Sarthebari -']\n",
      "----\n",
      "Bajali\n",
      "['Bajali -', 'Jalah -', 'Sarupeta -']\n",
      "----\n",
      "Majuli\n",
      "['Majuli -', 'Ujani Majuli -']\n",
      "----\n"
     ]
    },
    {
     "name": "stderr",
     "output_type": "stream",
     "text": [
      "/tmp/ipykernel_5155/993252146.py:10: SettingWithCopyWarning: \n",
      "A value is trying to be set on a copy of a slice from a DataFrame.\n",
      "Try using .loc[row_indexer,col_indexer] = value instead\n",
      "\n",
      "See the caveats in the documentation: https://pandas.pydata.org/pandas-docs/stable/user_guide/indexing.html#returning-a-view-versus-a-copy\n",
      "  FILTERED_DAMAGES_df['Detail_Length'] = FILTERED_DAMAGES_df['Details'].apply(lambda x: len(x))\n"
     ]
    }
   ],
   "source": [
    "global REVENUE_CIRCLES\n",
    "global other_damages\n",
    "other_damages = False\n",
    "\n",
    "FILTERED_DAMAGES_dfs = []\n",
    "\n",
    "for DISTRICT in roads_damaged_df.District.unique():\n",
    "    print(DISTRICT)\n",
    "    FILTERED_DAMAGES_df = roads_damaged_df[roads_damaged_df.District == DISTRICT]\n",
    "    FILTERED_DAMAGES_df['Detail_Length'] = FILTERED_DAMAGES_df['Details'].apply(lambda x: len(x))\n",
    "    FILTERED_DAMAGES_df = FILTERED_DAMAGES_df.sort_values(by=['Detail_Length'])\n",
    "    \n",
    "    FILTERED_DAMAGES_df = FILTERED_DAMAGES_df.drop_duplicates(['District','Number','Date'],keep='last')\n",
    "    \n",
    "    FILTERED_DAMAGES_df['Number of Damages (Date)'] = FILTERED_DAMAGES_df.Details.apply(lambda x: \n",
    "                                     len(re.findall('2023', x))+len(re.findall(r'\\d+/\\d+/\\d{2}\\s+',x))+len(re.findall(r'\\d+-\\d+-\\d{2}\\s+',x))+len(re.findall(r'\\d+\\.\\d+\\.\\d{2}\\s+', x)))\n",
    "    FILTERED_DAMAGES_df['Number of Damages (Long)'] = FILTERED_DAMAGES_df.Details.apply(lambda x: \n",
    "                                     len(re.findall('Long -', x)))\n",
    "        \n",
    "    \n",
    "    REVENUE_CIRCLES = [REV_CIRCLE.strip()+' -' for REV_CIRCLE in list(ASSAM_REVENUE_CIRCLES[ASSAM_REVENUE_CIRCLES.district_35==DISTRICT.upper()].revenue_ci)]\n",
    "    print(REVENUE_CIRCLES)\n",
    "    print('----')\n",
    "    FILTERED_DAMAGES_df['NumberofDamages_RevenueCircle_level'] = FILTERED_DAMAGES_df.apply(get_revcircle_damages_dict, axis=1)\n",
    "    FILTERED_DAMAGES_dfs.append(FILTERED_DAMAGES_df)"
   ]
  },
  {
   "cell_type": "code",
   "execution_count": 145,
   "id": "87003805",
   "metadata": {},
   "outputs": [],
   "source": [
    "MASTER_DAMAGES = pd.concat(FILTERED_DAMAGES_dfs).reset_index(drop=True)"
   ]
  },
  {
   "cell_type": "code",
   "execution_count": 146,
   "id": "3c3730f6",
   "metadata": {},
   "outputs": [
    {
     "data": {
      "text/html": [
       "<div>\n",
       "<style scoped>\n",
       "    .dataframe tbody tr th:only-of-type {\n",
       "        vertical-align: middle;\n",
       "    }\n",
       "\n",
       "    .dataframe tbody tr th {\n",
       "        vertical-align: top;\n",
       "    }\n",
       "\n",
       "    .dataframe thead th {\n",
       "        text-align: right;\n",
       "    }\n",
       "</style>\n",
       "<table border=\"1\" class=\"dataframe\">\n",
       "  <thead>\n",
       "    <tr style=\"text-align: right;\">\n",
       "      <th></th>\n",
       "      <th>Date</th>\n",
       "      <th>District</th>\n",
       "      <th>Number</th>\n",
       "      <th>Details</th>\n",
       "      <th>Detail_Length</th>\n",
       "      <th>Number of Damages (Date)</th>\n",
       "      <th>Number of Damages (Long)</th>\n",
       "      <th>NumberofDamages_RevenueCircle_level</th>\n",
       "    </tr>\n",
       "  </thead>\n",
       "  <tbody>\n",
       "    <tr>\n",
       "      <th>87</th>\n",
       "      <td>2023-06-21</td>\n",
       "      <td>Bongaigaon</td>\n",
       "      <td>17</td>\n",
       "      <td>Manikpur - Dangaigaon kirtanpara Road | Dangai...</td>\n",
       "      <td>3834</td>\n",
       "      <td>17</td>\n",
       "      <td>17</td>\n",
       "      <td>{'Manikpur ': 2, 'Bongaigaon ': 6, 'Srijangram...</td>\n",
       "    </tr>\n",
       "    <tr>\n",
       "      <th>88</th>\n",
       "      <td>2023-06-25</td>\n",
       "      <td>Bongaigaon</td>\n",
       "      <td>22</td>\n",
       "      <td>Manikpur - NH-31 to Garugaon Road | Garugaon |...</td>\n",
       "      <td>4261</td>\n",
       "      <td>19</td>\n",
       "      <td>19</td>\n",
       "      <td>{'Manikpur ': 14, 'Srijangram ': 5}</td>\n",
       "    </tr>\n",
       "    <tr>\n",
       "      <th>89</th>\n",
       "      <td>2023-06-20</td>\n",
       "      <td>Bongaigaon</td>\n",
       "      <td>26</td>\n",
       "      <td>Bongaigaon - Pachim Bhadragaon to Digdari Road...</td>\n",
       "      <td>5559</td>\n",
       "      <td>26</td>\n",
       "      <td>26</td>\n",
       "      <td>{'Bongaigaon ': 2, 'Boitamari ': 3, 'Manikpur ...</td>\n",
       "    </tr>\n",
       "    <tr>\n",
       "      <th>90</th>\n",
       "      <td>2023-06-24</td>\n",
       "      <td>Bongaigaon</td>\n",
       "      <td>43</td>\n",
       "      <td>Bongaigaon - Kashidoba Kakoijana Road | Kashid...</td>\n",
       "      <td>9983</td>\n",
       "      <td>43</td>\n",
       "      <td>43</td>\n",
       "      <td>{'Bongaigaon ': 9, 'Boitamari ': 6, 'Manikpur ...</td>\n",
       "    </tr>\n",
       "  </tbody>\n",
       "</table>\n",
       "</div>"
      ],
      "text/plain": [
       "          Date    District  Number  \\\n",
       "87  2023-06-21  Bongaigaon      17   \n",
       "88  2023-06-25  Bongaigaon      22   \n",
       "89  2023-06-20  Bongaigaon      26   \n",
       "90  2023-06-24  Bongaigaon      43   \n",
       "\n",
       "                                              Details  Detail_Length  \\\n",
       "87  Manikpur - Dangaigaon kirtanpara Road | Dangai...           3834   \n",
       "88  Manikpur - NH-31 to Garugaon Road | Garugaon |...           4261   \n",
       "89  Bongaigaon - Pachim Bhadragaon to Digdari Road...           5559   \n",
       "90  Bongaigaon - Kashidoba Kakoijana Road | Kashid...           9983   \n",
       "\n",
       "    Number of Damages (Date)  Number of Damages (Long)  \\\n",
       "87                        17                        17   \n",
       "88                        19                        19   \n",
       "89                        26                        26   \n",
       "90                        43                        43   \n",
       "\n",
       "                  NumberofDamages_RevenueCircle_level  \n",
       "87  {'Manikpur ': 2, 'Bongaigaon ': 6, 'Srijangram...  \n",
       "88                {'Manikpur ': 14, 'Srijangram ': 5}  \n",
       "89  {'Bongaigaon ': 2, 'Boitamari ': 3, 'Manikpur ...  \n",
       "90  {'Bongaigaon ': 9, 'Boitamari ': 6, 'Manikpur ...  "
      ]
     },
     "execution_count": 146,
     "metadata": {},
     "output_type": "execute_result"
    }
   ],
   "source": [
    "## Checking reveuue circle names\n",
    "dc = 'Bongaigaon'\n",
    "MASTER_DAMAGES[MASTER_DAMAGES.District==dc]\n"
   ]
  },
  {
   "cell_type": "code",
   "execution_count": 147,
   "id": "ed46c07f",
   "metadata": {},
   "outputs": [
    {
     "data": {
      "text/plain": [
       "{'Bongaigaon ': 2, 'Boitamari ': 3, 'Manikpur ': 7, 'Srijangram ': 14}"
      ]
     },
     "execution_count": 147,
     "metadata": {},
     "output_type": "execute_result"
    }
   ],
   "source": [
    "MASTER_DAMAGES[MASTER_DAMAGES.District==dc].NumberofDamages_RevenueCircle_level[89]"
   ]
  },
  {
   "cell_type": "code",
   "execution_count": 148,
   "id": "c5c89516",
   "metadata": {},
   "outputs": [
    {
     "data": {
      "text/plain": [
       "24"
      ]
     },
     "execution_count": 148,
     "metadata": {},
     "output_type": "execute_result"
    }
   ],
   "source": [
    "14+3+5+2"
   ]
  },
  {
   "cell_type": "code",
   "execution_count": 149,
   "id": "aa29c742",
   "metadata": {},
   "outputs": [],
   "source": [
    "road_damages_revcircle_df = pd.DataFrame(columns=['District','RevenueCircle','Number of damages','Date'])\n",
    "i = 0\n",
    "for idx, row in MASTER_DAMAGES.iterrows():\n",
    "    damages_dict = row['NumberofDamages_RevenueCircle_level']\n",
    "    for key in damages_dict.keys():\n",
    "        rev_circle = key\n",
    "        no_damages = damages_dict[key]\n",
    "        \n",
    "        road_damages_revcircle_df.loc[i,'RevenueCircle'] = rev_circle\n",
    "        road_damages_revcircle_df.loc[i,'District'] = row['District']\n",
    "        road_damages_revcircle_df.loc[i,'Number of damages'] = no_damages\n",
    "        road_damages_revcircle_df.loc[i,'Date'] = row['Date']\n",
    "        i=i+1\n",
    "road_damages_revcircle_df.Date = pd.to_datetime(road_damages_revcircle_df.Date)"
   ]
  },
  {
   "cell_type": "code",
   "execution_count": 150,
   "id": "95efd2ba",
   "metadata": {},
   "outputs": [],
   "source": [
    "road_damages_revcircle_df.to_csv('Data_2023/Cleaned Data/RC_FRIMS_ROADS_DAMAGED_MASTER_2023.csv', index=False)"
   ]
  },
  {
   "cell_type": "code",
   "execution_count": null,
   "id": "15458bea",
   "metadata": {},
   "outputs": [],
   "source": []
  },
  {
   "cell_type": "code",
   "execution_count": null,
   "id": "5ff36b9d",
   "metadata": {},
   "outputs": [],
   "source": []
  },
  {
   "cell_type": "code",
   "execution_count": null,
   "id": "4fabbaf9",
   "metadata": {},
   "outputs": [],
   "source": []
  },
  {
   "cell_type": "code",
   "execution_count": null,
   "id": "9dc72bd8",
   "metadata": {},
   "outputs": [],
   "source": []
  },
  {
   "cell_type": "code",
   "execution_count": null,
   "id": "f223517b",
   "metadata": {},
   "outputs": [],
   "source": []
  },
  {
   "cell_type": "code",
   "execution_count": null,
   "id": "58295884",
   "metadata": {},
   "outputs": [],
   "source": []
  },
  {
   "cell_type": "code",
   "execution_count": null,
   "id": "2864b24a",
   "metadata": {},
   "outputs": [],
   "source": []
  },
  {
   "cell_type": "code",
   "execution_count": null,
   "id": "88941c5b",
   "metadata": {},
   "outputs": [],
   "source": []
  },
  {
   "cell_type": "code",
   "execution_count": null,
   "id": "0f7f1f9f",
   "metadata": {},
   "outputs": [],
   "source": []
  },
  {
   "cell_type": "code",
   "execution_count": null,
   "id": "2a17abbb",
   "metadata": {},
   "outputs": [],
   "source": []
  },
  {
   "cell_type": "code",
   "execution_count": null,
   "id": "3376642c",
   "metadata": {},
   "outputs": [],
   "source": []
  },
  {
   "cell_type": "code",
   "execution_count": null,
   "id": "4d233292",
   "metadata": {},
   "outputs": [],
   "source": []
  },
  {
   "cell_type": "code",
   "execution_count": null,
   "id": "5eb0c2cd",
   "metadata": {},
   "outputs": [],
   "source": []
  }
 ],
 "metadata": {
  "kernelspec": {
   "display_name": "Python 3 (ipykernel)",
   "language": "python",
   "name": "python3"
  },
  "language_info": {
   "codemirror_mode": {
    "name": "ipython",
    "version": 3
   },
   "file_extension": ".py",
   "mimetype": "text/x-python",
   "name": "python",
   "nbconvert_exporter": "python",
   "pygments_lexer": "ipython3",
   "version": "3.9.13"
  }
 },
 "nbformat": 4,
 "nbformat_minor": 5
}
