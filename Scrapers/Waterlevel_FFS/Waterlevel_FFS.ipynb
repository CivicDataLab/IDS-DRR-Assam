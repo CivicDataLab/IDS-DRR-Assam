{
 "cells": [
  {
   "cell_type": "markdown",
   "id": "08aa69d1",
   "metadata": {
    "collapsed": true
   },
   "source": [
    "# Scraping Waterlevel data from Flood forecast Stations\n",
    "\n",
    "The Central Water Commission (CWC) collects and maintains water level data from Flood forecast stations. This data is made available by the CWC here - [Link](https://ffs.india-water.gov.in/). This notebook scrapes data from flood forecast stations in Assam from this website."
   ]
  },
  {
   "cell_type": "code",
   "execution_count": 3,
   "id": "2d4c0a07",
   "metadata": {},
   "outputs": [
    {
     "name": "stdout",
     "output_type": "stream",
     "text": [
      "https://ffs.india-water.gov.in/iam/api/layer-station//all/0035-CDBNG,029CDBNG,009%20%20%20%20%20-srdcbe,011-UBDDIB,015-LGDHYD,009-CDBNG,028-LGDHYD,027-LGDHYD,017-LGDHYD,049-CDBNG,031-MGD1LKN,023-mgd4ptn,006-UKDPUNE,013-lkdhyd,011-SRDCBE,022-CDBNG,014-lgdhyd,006-MGD1LKN,016-LGDHYD,013-lgdhyd,027-cdbng,0044-CDBNG,011-mgd4ptn,CW1WAR000056,012-TDSURAT,002-mgd2lkn,007-MGD1LKN,004-CDBNG,037-LKDHYD,010-MGD1LKn,039-TDSURAT,020-mgd4ptn,013-SRDCBE,003-SWRDKOCHI\n"
     ]
    }
   ],
   "source": [
    "master_url='https://ffs.india-water.gov.in/iam/api/layer-station//all/0035-CDBNG,029CDBNG,009%20%20%20%20%20-srdcbe,011-UBDDIB,015-LGDHYD,009-CDBNG,028-LGDHYD,027-LGDHYD,017-LGDHYD,049-CDBNG,031-MGD1LKN,023-mgd4ptn,006-UKDPUNE,013-lkdhyd,011-SRDCBE,022-CDBNG,014-lgdhyd,006-MGD1LKN,016-LGDHYD,013-lgdhyd,027-cdbng,0044-CDBNG,011-mgd4ptn,CW1WAR000056,012-TDSURAT,002-mgd2lkn,007-MGD1LKN,004-CDBNG,037-LKDHYD,010-MGD1LKn,039-TDSURAT,020-mgd4ptn,013-SRDCBE,003-SWRDKOCHI'\n",
    "print(master_url)"
   ]
  },
  {
   "cell_type": "code",
   "execution_count": 3,
   "id": "e1280571",
   "metadata": {},
   "outputs": [
    {
     "name": "stdout",
     "output_type": "stream",
     "text": [
      "https://ffs.india-water.gov.in/iam/api/flood-forecast-static/specification/?specification=%7B%22where%22:%7B%22expression%22:%7B%22valueIsRelationField%22:false,%22fieldName%22:%22type%22,%22operator%22:%22eq%22,%22value%22:%22Level%22%7D%7D,%22or%22:%7B%22expression%22:%7B%22valueIsRelationField%22:false,%22fieldName%22:%22type%22,%22operator%22:%22eq%22,%22value%22:%22Inflow%22%7D%7D%7D\n"
     ]
    }
   ],
   "source": [
    "station_more_details_url = 'https://ffs.india-water.gov.in/iam/api/flood-forecast-static/specification/?specification=%7B%22where%22:%7B%22expression%22:%7B%22valueIsRelationField%22:false,%22fieldName%22:%22type%22,%22operator%22:%22eq%22,%22value%22:%22Level%22%7D%7D,%22or%22:%7B%22expression%22:%7B%22valueIsRelationField%22:false,%22fieldName%22:%22type%22,%22operator%22:%22eq%22,%22value%22:%22Inflow%22%7D%7D%7D'\n",
    "print(station_more_details_url)"
   ]
  },
  {
   "cell_type": "code",
   "execution_count": 4,
   "id": "c4cad104",
   "metadata": {},
   "outputs": [
    {
     "name": "stdout",
     "output_type": "stream",
     "text": [
      "https://ffs.india-water.gov.in/iam/api/layer-station/specification/?specification=%7B%22where%22:%7B%22expression%22:%7B%22valueIsRelationField%22:false,%22fieldName%22:%22floodForecastStaticStationCode.type%22,%22operator%22:%22eq%22,%22value%22:%22Level%22%7D%7D,%22or%22:%7B%22expression%22:%7B%22valueIsRelationField%22:false,%22fieldName%22:%22floodForecastStaticStationCode.type%22,%22operator%22:%22eq%22,%22value%22:%22Inflow%22%7D%7D%7D\n"
     ]
    }
   ],
   "source": [
    "print(station_address_details_url)\n",
    "\n",
    "# When you have the station id.\n",
    "station_address_details_url = 'https://ffs.india-water.gov.in/iam/api/layer-station/029-LBDJPG'"
   ]
  },
  {
   "cell_type": "code",
   "execution_count": 1,
   "id": "3598df26",
   "metadata": {},
   "outputs": [],
   "source": [
    "import requests\n",
    "import pandas as pd\n",
    "import geopandas as gpd\n",
    "from shapely.geometry import Point # Shapely for converting latitude/longtitude to geometry"
   ]
  },
  {
   "cell_type": "code",
   "execution_count": 4,
   "id": "9f011652",
   "metadata": {},
   "outputs": [
    {
     "name": "stderr",
     "output_type": "stream",
     "text": [
      "C:\\Users\\saikr\\anaconda3\\lib\\site-packages\\urllib3\\connectionpool.py:1013: InsecureRequestWarning: Unverified HTTPS request is being made to host 'ffs.india-water.gov.in'. Adding certificate verification is strongly advised. See: https://urllib3.readthedocs.io/en/1.26.x/advanced-usage.html#ssl-warnings\n",
      "  warnings.warn(\n"
     ]
    },
    {
     "data": {
      "text/html": [
       "<div>\n",
       "<style scoped>\n",
       "    .dataframe tbody tr th:only-of-type {\n",
       "        vertical-align: middle;\n",
       "    }\n",
       "\n",
       "    .dataframe tbody tr th {\n",
       "        vertical-align: top;\n",
       "    }\n",
       "\n",
       "    .dataframe thead th {\n",
       "        text-align: right;\n",
       "    }\n",
       "</style>\n",
       "<table border=\"1\" class=\"dataframe\">\n",
       "  <thead>\n",
       "    <tr style=\"text-align: right;\">\n",
       "      <th></th>\n",
       "      <th>name</th>\n",
       "      <th>stationCode</th>\n",
       "      <th>lat</th>\n",
       "      <th>lon</th>\n",
       "    </tr>\n",
       "  </thead>\n",
       "  <tbody>\n",
       "    <tr>\n",
       "      <th>0</th>\n",
       "      <td>Yingkiong</td>\n",
       "      <td>009NEID3</td>\n",
       "      <td>28.620000</td>\n",
       "      <td>95.030000</td>\n",
       "    </tr>\n",
       "    <tr>\n",
       "      <th>1</th>\n",
       "      <td>Kalisindh Dam</td>\n",
       "      <td>038-CDJAPR</td>\n",
       "      <td>24.482706</td>\n",
       "      <td>76.223006</td>\n",
       "    </tr>\n",
       "    <tr>\n",
       "      <th>2</th>\n",
       "      <td>Parwan pick-up Weir</td>\n",
       "      <td>040-CDJAPR</td>\n",
       "      <td>24.712894</td>\n",
       "      <td>76.555764</td>\n",
       "    </tr>\n",
       "    <tr>\n",
       "      <th>3</th>\n",
       "      <td>Bamni (Ballarsha)</td>\n",
       "      <td>017-WGDNGP</td>\n",
       "      <td>19.814444</td>\n",
       "      <td>79.379167</td>\n",
       "    </tr>\n",
       "    <tr>\n",
       "      <th>4</th>\n",
       "      <td>Samdoli (Seasonal)</td>\n",
       "      <td>003-UKDPUNE</td>\n",
       "      <td>16.856389</td>\n",
       "      <td>74.496667</td>\n",
       "    </tr>\n",
       "  </tbody>\n",
       "</table>\n",
       "</div>"
      ],
      "text/plain": [
       "                  name  stationCode        lat        lon\n",
       "0           Yingkiong      009NEID3  28.620000  95.030000\n",
       "1        Kalisindh Dam   038-CDJAPR  24.482706  76.223006\n",
       "2  Parwan pick-up Weir   040-CDJAPR  24.712894  76.555764\n",
       "3    Bamni (Ballarsha)   017-WGDNGP  19.814444  79.379167\n",
       "4   Samdoli (Seasonal)  003-UKDPUNE  16.856389  74.496667"
      ]
     },
     "execution_count": 4,
     "metadata": {},
     "output_type": "execute_result"
    }
   ],
   "source": [
    "#URL containing FFS Station locations\n",
    "station_location_url = 'https://ffs.india-water.gov.in/iam/api/layer-station-geo/specification/?specification=%7B%22where%22:%7B%22expression%22:%7B%22valueIsRelationField%22:false,%22fieldName%22:%22layerStationStationCode.floodForecastStaticStationCode.type%22,%22operator%22:%22eq%22,%22value%22:%22Level%22%7D%7D,%22or%22:%7B%22expression%22:%7B%22valueIsRelationField%22:false,%22fieldName%22:%22layerStationStationCode.floodForecastStaticStationCode.type%22,%22operator%22:%22eq%22,%22value%22:%22Inflow%22%7D%7D%7D'\n",
    "\n",
    "r = requests.get(station_location_url,verify=False)\n",
    "txt = r.json()\n",
    "station_locations_df = pd.DataFrame(txt)\n",
    "station_locations_df = station_locations_df[['name','stationCode', 'lat', 'lon']]\n",
    "station_locations_df.head()"
   ]
  },
  {
   "cell_type": "code",
   "execution_count": 5,
   "id": "c7b49004",
   "metadata": {},
   "outputs": [],
   "source": [
    "station_locations_df.to_csv('station_coordinates.csv',index=False)"
   ]
  },
  {
   "cell_type": "code",
   "execution_count": 6,
   "id": "fb7cdfa5",
   "metadata": {},
   "outputs": [
    {
     "name": "stderr",
     "output_type": "stream",
     "text": [
      "C:\\Users\\saikr\\anaconda3\\lib\\site-packages\\urllib3\\connectionpool.py:1013: InsecureRequestWarning: Unverified HTTPS request is being made to host 'ffs.india-water.gov.in'. Adding certificate verification is strongly advised. See: https://urllib3.readthedocs.io/en/1.26.x/advanced-usage.html#ssl-warnings\n",
      "  warnings.warn(\n"
     ]
    },
    {
     "data": {
      "text/html": [
       "<div>\n",
       "<style scoped>\n",
       "    .dataframe tbody tr th:only-of-type {\n",
       "        vertical-align: middle;\n",
       "    }\n",
       "\n",
       "    .dataframe tbody tr th {\n",
       "        vertical-align: top;\n",
       "    }\n",
       "\n",
       "    .dataframe thead th {\n",
       "        text-align: right;\n",
       "    }\n",
       "</style>\n",
       "<table border=\"1\" class=\"dataframe\">\n",
       "  <thead>\n",
       "    <tr style=\"text-align: right;\">\n",
       "      <th></th>\n",
       "      <th>@class</th>\n",
       "      <th>stationCode</th>\n",
       "      <th>accessibility</th>\n",
       "      <th>address</th>\n",
       "      <th>airport</th>\n",
       "      <th>altitude</th>\n",
       "      <th>bank</th>\n",
       "      <th>busStand</th>\n",
       "      <th>catchmentArea</th>\n",
       "      <th>combinedWith</th>\n",
       "      <th>...</th>\n",
       "      <th>stationTypeId</th>\n",
       "      <th>streamLocalriverId</th>\n",
       "      <th>subdivisionalOfficeId</th>\n",
       "      <th>tahsilId</th>\n",
       "      <th>villageId</th>\n",
       "      <th>wellPurposeExplorationStationCode</th>\n",
       "      <th>wellPurposeId</th>\n",
       "      <th>wellSubtypeId</th>\n",
       "      <th>wellTypeId</th>\n",
       "      <th>wellUseId</th>\n",
       "    </tr>\n",
       "  </thead>\n",
       "  <tbody>\n",
       "    <tr>\n",
       "      <th>0</th>\n",
       "      <td>com.eptisa.dto.SimpleLayerStationDto</td>\n",
       "      <td>009NEID3</td>\n",
       "      <td>BY road &amp; Helicopter</td>\n",
       "      <td></td>\n",
       "      <td>Pasighat</td>\n",
       "      <td>NaN</td>\n",
       "      <td>Left</td>\n",
       "      <td>Yingkiong</td>\n",
       "      <td>NaN</td>\n",
       "      <td>None</td>\n",
       "      <td>...</td>\n",
       "      <td>1</td>\n",
       "      <td>1247.0</td>\n",
       "      <td>1485</td>\n",
       "      <td>1121101009</td>\n",
       "      <td>NaN</td>\n",
       "      <td>None</td>\n",
       "      <td>None</td>\n",
       "      <td>None</td>\n",
       "      <td>None</td>\n",
       "      <td>None</td>\n",
       "    </tr>\n",
       "    <tr>\n",
       "      <th>1</th>\n",
       "      <td>com.eptisa.dto.SimpleLayerStationDto</td>\n",
       "      <td>038-CDJAPR</td>\n",
       "      <td></td>\n",
       "      <td></td>\n",
       "      <td></td>\n",
       "      <td>NaN</td>\n",
       "      <td>None</td>\n",
       "      <td></td>\n",
       "      <td>NaN</td>\n",
       "      <td>None</td>\n",
       "      <td>...</td>\n",
       "      <td>1</td>\n",
       "      <td>146.0</td>\n",
       "      <td>144</td>\n",
       "      <td>1081191004</td>\n",
       "      <td>NaN</td>\n",
       "      <td>None</td>\n",
       "      <td>None</td>\n",
       "      <td>None</td>\n",
       "      <td>None</td>\n",
       "      <td>None</td>\n",
       "    </tr>\n",
       "    <tr>\n",
       "      <th>2</th>\n",
       "      <td>com.eptisa.dto.SimpleLayerStationDto</td>\n",
       "      <td>040-CDJAPR</td>\n",
       "      <td></td>\n",
       "      <td></td>\n",
       "      <td></td>\n",
       "      <td>NaN</td>\n",
       "      <td>None</td>\n",
       "      <td></td>\n",
       "      <td>NaN</td>\n",
       "      <td>None</td>\n",
       "      <td>...</td>\n",
       "      <td>1</td>\n",
       "      <td>1301.0</td>\n",
       "      <td>144</td>\n",
       "      <td>1081191003</td>\n",
       "      <td>NaN</td>\n",
       "      <td>None</td>\n",
       "      <td>None</td>\n",
       "      <td>None</td>\n",
       "      <td>None</td>\n",
       "      <td>None</td>\n",
       "    </tr>\n",
       "    <tr>\n",
       "      <th>3</th>\n",
       "      <td>com.eptisa.dto.SimpleLayerStationDto</td>\n",
       "      <td>017-WGDNGP</td>\n",
       "      <td></td>\n",
       "      <td></td>\n",
       "      <td></td>\n",
       "      <td>171.28</td>\n",
       "      <td>Left</td>\n",
       "      <td></td>\n",
       "      <td>46020.0</td>\n",
       "      <td>None</td>\n",
       "      <td>...</td>\n",
       "      <td>1</td>\n",
       "      <td>243.0</td>\n",
       "      <td>119</td>\n",
       "      <td>1271131003</td>\n",
       "      <td>NaN</td>\n",
       "      <td>None</td>\n",
       "      <td>None</td>\n",
       "      <td>None</td>\n",
       "      <td>None</td>\n",
       "      <td>None</td>\n",
       "    </tr>\n",
       "    <tr>\n",
       "      <th>4</th>\n",
       "      <td>com.eptisa.dto.SimpleLayerStationDto</td>\n",
       "      <td>003-UKDPUNE</td>\n",
       "      <td>CONNECTED BY ROAD</td>\n",
       "      <td>OFFICE OF JUNIOR ENGINEER, CENTRAL WATER COMMI...</td>\n",
       "      <td>KOLHAPUR - 47KM</td>\n",
       "      <td>538.00</td>\n",
       "      <td>Left</td>\n",
       "      <td>SAMDOLI</td>\n",
       "      <td>1948.0</td>\n",
       "      <td>None</td>\n",
       "      <td>...</td>\n",
       "      <td>1</td>\n",
       "      <td>290.0</td>\n",
       "      <td>91</td>\n",
       "      <td>1271351005</td>\n",
       "      <td>NaN</td>\n",
       "      <td>None</td>\n",
       "      <td>None</td>\n",
       "      <td>None</td>\n",
       "      <td>None</td>\n",
       "      <td>None</td>\n",
       "    </tr>\n",
       "  </tbody>\n",
       "</table>\n",
       "<p>5 rows × 68 columns</p>\n",
       "</div>"
      ],
      "text/plain": [
       "                                 @class  stationCode          accessibility  \\\n",
       "0  com.eptisa.dto.SimpleLayerStationDto     009NEID3  BY road & Helicopter    \n",
       "1  com.eptisa.dto.SimpleLayerStationDto   038-CDJAPR                          \n",
       "2  com.eptisa.dto.SimpleLayerStationDto   040-CDJAPR                          \n",
       "3  com.eptisa.dto.SimpleLayerStationDto   017-WGDNGP                          \n",
       "4  com.eptisa.dto.SimpleLayerStationDto  003-UKDPUNE      CONNECTED BY ROAD   \n",
       "\n",
       "                                             address          airport  \\\n",
       "0                                                           Pasighat    \n",
       "1                                                                       \n",
       "2                                                                       \n",
       "3                                                                       \n",
       "4  OFFICE OF JUNIOR ENGINEER, CENTRAL WATER COMMI...  KOLHAPUR - 47KM   \n",
       "\n",
       "   altitude  bank   busStand  catchmentArea combinedWith  ... stationTypeId  \\\n",
       "0       NaN  Left  Yingkiong            NaN         None  ...             1   \n",
       "1       NaN  None                       NaN         None  ...             1   \n",
       "2       NaN  None                       NaN         None  ...             1   \n",
       "3    171.28  Left                   46020.0         None  ...             1   \n",
       "4    538.00  Left    SAMDOLI         1948.0         None  ...             1   \n",
       "\n",
       "  streamLocalriverId subdivisionalOfficeId    tahsilId villageId  \\\n",
       "0             1247.0                  1485  1121101009       NaN   \n",
       "1              146.0                   144  1081191004       NaN   \n",
       "2             1301.0                   144  1081191003       NaN   \n",
       "3              243.0                   119  1271131003       NaN   \n",
       "4              290.0                    91  1271351005       NaN   \n",
       "\n",
       "  wellPurposeExplorationStationCode wellPurposeId wellSubtypeId wellTypeId  \\\n",
       "0                              None          None          None       None   \n",
       "1                              None          None          None       None   \n",
       "2                              None          None          None       None   \n",
       "3                              None          None          None       None   \n",
       "4                              None          None          None       None   \n",
       "\n",
       "  wellUseId  \n",
       "0      None  \n",
       "1      None  \n",
       "2      None  \n",
       "3      None  \n",
       "4      None  \n",
       "\n",
       "[5 rows x 68 columns]"
      ]
     },
     "execution_count": 6,
     "metadata": {},
     "output_type": "execute_result"
    }
   ],
   "source": [
    "#URL containing FFS Station details\n",
    "\n",
    "station_details_url = 'https://ffs.india-water.gov.in/iam/api/layer-station/specification/?specification=%7B%22where%22:%7B%22expression%22:%7B%22valueIsRelationField%22:false,%22fieldName%22:%22floodForecastStaticStationCode.type%22,%22operator%22:%22eq%22,%22value%22:%22Level%22%7D%7D,%22or%22:%7B%22expression%22:%7B%22valueIsRelationField%22:false,%22fieldName%22:%22floodForecastStaticStationCode.type%22,%22operator%22:%22eq%22,%22value%22:%22Inflow%22%7D%7D%7D'\n",
    "\n",
    "r = requests.get(station_address_details_url,verify=False)\n",
    "txt = r.json()\n",
    "station_details_df = pd.DataFrame(txt)\n",
    "station_details_df.head()\n"
   ]
  },
  {
   "cell_type": "code",
   "execution_count": 7,
   "id": "607c0cc3",
   "metadata": {},
   "outputs": [],
   "source": [
    "station_details_df.to_csv('station_details.csv',index=False)"
   ]
  },
  {
   "cell_type": "code",
   "execution_count": 8,
   "id": "e4eeb555",
   "metadata": {},
   "outputs": [],
   "source": [
    "assam_polygon = gpd.read_file('Assam.geojson')"
   ]
  },
  {
   "cell_type": "code",
   "execution_count": 9,
   "id": "e57f6c42",
   "metadata": {},
   "outputs": [
    {
     "name": "stderr",
     "output_type": "stream",
     "text": [
      "C:\\Users\\saikr\\anaconda3\\lib\\site-packages\\pyproj\\crs\\crs.py:130: FutureWarning: '+init=<authority>:<code>' syntax is deprecated. '<authority>:<code>' is the preferred initialization method. When making the change, be mindful of axis order changes: https://pyproj4.github.io/pyproj/stable/gotchas.html#axis-order-changes-in-proj-6\n",
      "  in_crs_string = _prepare_from_proj_string(in_crs_string)\n",
      "C:\\Users\\saikr\\anaconda3\\lib\\site-packages\\IPython\\core\\interactiveshell.py:3364: FutureWarning: The `op` parameter is deprecated and will be removed in a future release. Please use the `predicate` parameter instead.\n",
      "  if (await self.run_code(code, result,  async_=asy)):\n"
     ]
    }
   ],
   "source": [
    "stations = pd.read_csv('station_coordinates.csv')\n",
    "\n",
    "# creating a geometry column \n",
    "geometry = [Point(xy) for xy in zip(stations['lon'], stations['lat'])]# Coordinate reference system : WGS84\n",
    "crs = {'init': 'epsg:4326'}# Creating a Geographic data frame \n",
    "stations_gdf = gpd.GeoDataFrame(stations, crs=crs, geometry=geometry)\n",
    "\n",
    "#Spatial join with assam state\n",
    "gpd.sjoin(stations_gdf.to_crs('EPSG:4326'),assam_polygon.to_crs('EPSG:4326'),how=\"inner\", op=\"within\").to_file('assam_stations.geojson',driver='GeoJSON')"
   ]
  },
  {
   "cell_type": "code",
   "execution_count": 11,
   "id": "fe54c420",
   "metadata": {},
   "outputs": [
    {
     "data": {
      "text/html": [
       "<div>\n",
       "<style scoped>\n",
       "    .dataframe tbody tr th:only-of-type {\n",
       "        vertical-align: middle;\n",
       "    }\n",
       "\n",
       "    .dataframe tbody tr th {\n",
       "        vertical-align: top;\n",
       "    }\n",
       "\n",
       "    .dataframe thead th {\n",
       "        text-align: right;\n",
       "    }\n",
       "</style>\n",
       "<table border=\"1\" class=\"dataframe\">\n",
       "  <thead>\n",
       "    <tr style=\"text-align: right;\">\n",
       "      <th></th>\n",
       "      <th>name</th>\n",
       "      <th>stationCode</th>\n",
       "      <th>lat</th>\n",
       "      <th>lon</th>\n",
       "      <th>index_right</th>\n",
       "      <th>ST_NM</th>\n",
       "      <th>geometry</th>\n",
       "    </tr>\n",
       "  </thead>\n",
       "  <tbody>\n",
       "    <tr>\n",
       "      <th>0</th>\n",
       "      <td>Annapurnaghat</td>\n",
       "      <td>010-MBDGHY</td>\n",
       "      <td>24.832778</td>\n",
       "      <td>92.791667</td>\n",
       "      <td>0</td>\n",
       "      <td>Assam</td>\n",
       "      <td>POINT (92.79167 24.83278)</td>\n",
       "    </tr>\n",
       "    <tr>\n",
       "      <th>1</th>\n",
       "      <td>Numaligarh</td>\n",
       "      <td>024-UBDDIB</td>\n",
       "      <td>26.631181</td>\n",
       "      <td>93.730419</td>\n",
       "      <td>0</td>\n",
       "      <td>Assam</td>\n",
       "      <td>POINT (93.73042 26.63118)</td>\n",
       "    </tr>\n",
       "    <tr>\n",
       "      <th>2</th>\n",
       "      <td>Tezpur</td>\n",
       "      <td>031-UBDDIB</td>\n",
       "      <td>26.615833</td>\n",
       "      <td>92.796944</td>\n",
       "      <td>0</td>\n",
       "      <td>Assam</td>\n",
       "      <td>POINT (92.79694 26.61583)</td>\n",
       "    </tr>\n",
       "    <tr>\n",
       "      <th>3</th>\n",
       "      <td>Dharamtul</td>\n",
       "      <td>034-UBDDIB</td>\n",
       "      <td>26.168333</td>\n",
       "      <td>92.358611</td>\n",
       "      <td>0</td>\n",
       "      <td>Assam</td>\n",
       "      <td>POINT (92.35861 26.16833)</td>\n",
       "    </tr>\n",
       "    <tr>\n",
       "      <th>4</th>\n",
       "      <td>Goalpara</td>\n",
       "      <td>002-MBDGHY</td>\n",
       "      <td>26.197222</td>\n",
       "      <td>90.638889</td>\n",
       "      <td>0</td>\n",
       "      <td>Assam</td>\n",
       "      <td>POINT (90.63889 26.19722)</td>\n",
       "    </tr>\n",
       "  </tbody>\n",
       "</table>\n",
       "</div>"
      ],
      "text/plain": [
       "            name stationCode        lat        lon  index_right  ST_NM  \\\n",
       "0  Annapurnaghat  010-MBDGHY  24.832778  92.791667            0  Assam   \n",
       "1     Numaligarh  024-UBDDIB  26.631181  93.730419            0  Assam   \n",
       "2         Tezpur  031-UBDDIB  26.615833  92.796944            0  Assam   \n",
       "3      Dharamtul  034-UBDDIB  26.168333  92.358611            0  Assam   \n",
       "4       Goalpara  002-MBDGHY  26.197222  90.638889            0  Assam   \n",
       "\n",
       "                    geometry  \n",
       "0  POINT (92.79167 24.83278)  \n",
       "1  POINT (93.73042 26.63118)  \n",
       "2  POINT (92.79694 26.61583)  \n",
       "3  POINT (92.35861 26.16833)  \n",
       "4  POINT (90.63889 26.19722)  "
      ]
     },
     "execution_count": 11,
     "metadata": {},
     "output_type": "execute_result"
    }
   ],
   "source": [
    "assam_stations_gdf = gpd.read_file('assam_stations.geojson')\n",
    "assam_stations_gdf.head()"
   ]
  },
  {
   "cell_type": "code",
   "execution_count": 34,
   "id": "dda2e106",
   "metadata": {},
   "outputs": [
    {
     "name": "stdout",
     "output_type": "stream",
     "text": [
      "01-11-01-002\n"
     ]
    },
    {
     "name": "stderr",
     "output_type": "stream",
     "text": [
      "C:\\Users\\saikr\\anaconda3\\lib\\site-packages\\urllib3\\connectionpool.py:1013: InsecureRequestWarning: Unverified HTTPS request is being made to host 'ffs.india-water.gov.in'. Adding certificate verification is strongly advised. See: https://urllib3.readthedocs.io/en/1.26.x/advanced-usage.html#ssl-warnings\n",
      "  warnings.warn(\n"
     ]
    },
    {
     "name": "stdout",
     "output_type": "stream",
     "text": [
      "01-11-01-008\n"
     ]
    },
    {
     "name": "stderr",
     "output_type": "stream",
     "text": [
      "C:\\Users\\saikr\\anaconda3\\lib\\site-packages\\urllib3\\connectionpool.py:1013: InsecureRequestWarning: Unverified HTTPS request is being made to host 'ffs.india-water.gov.in'. Adding certificate verification is strongly advised. See: https://urllib3.readthedocs.io/en/1.26.x/advanced-usage.html#ssl-warnings\n",
      "  warnings.warn(\n"
     ]
    },
    {
     "name": "stdout",
     "output_type": "stream",
     "text": [
      "BV000FS\n"
     ]
    },
    {
     "name": "stderr",
     "output_type": "stream",
     "text": [
      "C:\\Users\\saikr\\anaconda3\\lib\\site-packages\\urllib3\\connectionpool.py:1013: InsecureRequestWarning: Unverified HTTPS request is being made to host 'ffs.india-water.gov.in'. Adding certificate verification is strongly advised. See: https://urllib3.readthedocs.io/en/1.26.x/advanced-usage.html#ssl-warnings\n",
      "  warnings.warn(\n"
     ]
    },
    {
     "name": "stdout",
     "output_type": "stream",
     "text": [
      "01-11-01-007\n"
     ]
    },
    {
     "name": "stderr",
     "output_type": "stream",
     "text": [
      "C:\\Users\\saikr\\anaconda3\\lib\\site-packages\\urllib3\\connectionpool.py:1013: InsecureRequestWarning: Unverified HTTPS request is being made to host 'ffs.india-water.gov.in'. Adding certificate verification is strongly advised. See: https://urllib3.readthedocs.io/en/1.26.x/advanced-usage.html#ssl-warnings\n",
      "  warnings.warn(\n"
     ]
    },
    {
     "name": "stdout",
     "output_type": "stream",
     "text": [
      "01-11-01-006\n"
     ]
    },
    {
     "name": "stderr",
     "output_type": "stream",
     "text": [
      "C:\\Users\\saikr\\anaconda3\\lib\\site-packages\\urllib3\\connectionpool.py:1013: InsecureRequestWarning: Unverified HTTPS request is being made to host 'ffs.india-water.gov.in'. Adding certificate verification is strongly advised. See: https://urllib3.readthedocs.io/en/1.26.x/advanced-usage.html#ssl-warnings\n",
      "  warnings.warn(\n"
     ]
    },
    {
     "name": "stdout",
     "output_type": "stream",
     "text": [
      "01-11-13-001\n"
     ]
    },
    {
     "name": "stderr",
     "output_type": "stream",
     "text": [
      "C:\\Users\\saikr\\anaconda3\\lib\\site-packages\\urllib3\\connectionpool.py:1013: InsecureRequestWarning: Unverified HTTPS request is being made to host 'ffs.india-water.gov.in'. Adding certificate verification is strongly advised. See: https://urllib3.readthedocs.io/en/1.26.x/advanced-usage.html#ssl-warnings\n",
      "  warnings.warn(\n"
     ]
    },
    {
     "name": "stdout",
     "output_type": "stream",
     "text": [
      "bv000f5\n"
     ]
    },
    {
     "name": "stderr",
     "output_type": "stream",
     "text": [
      "C:\\Users\\saikr\\anaconda3\\lib\\site-packages\\urllib3\\connectionpool.py:1013: InsecureRequestWarning: Unverified HTTPS request is being made to host 'ffs.india-water.gov.in'. Adding certificate verification is strongly advised. See: https://urllib3.readthedocs.io/en/1.26.x/advanced-usage.html#ssl-warnings\n",
      "  warnings.warn(\n"
     ]
    },
    {
     "name": "stdout",
     "output_type": "stream",
     "text": [
      "01-10-23-001\n"
     ]
    },
    {
     "name": "stderr",
     "output_type": "stream",
     "text": [
      "C:\\Users\\saikr\\anaconda3\\lib\\site-packages\\urllib3\\connectionpool.py:1013: InsecureRequestWarning: Unverified HTTPS request is being made to host 'ffs.india-water.gov.in'. Adding certificate verification is strongly advised. See: https://urllib3.readthedocs.io/en/1.26.x/advanced-usage.html#ssl-warnings\n",
      "  warnings.warn(\n"
     ]
    },
    {
     "name": "stdout",
     "output_type": "stream",
     "text": [
      "BKA00D7\n"
     ]
    },
    {
     "name": "stderr",
     "output_type": "stream",
     "text": [
      "C:\\Users\\saikr\\anaconda3\\lib\\site-packages\\urllib3\\connectionpool.py:1013: InsecureRequestWarning: Unverified HTTPS request is being made to host 'ffs.india-water.gov.in'. Adding certificate verification is strongly advised. See: https://urllib3.readthedocs.io/en/1.26.x/advanced-usage.html#ssl-warnings\n",
      "  warnings.warn(\n"
     ]
    },
    {
     "name": "stdout",
     "output_type": "stream",
     "text": [
      "057-UBDDIB\n"
     ]
    },
    {
     "name": "stderr",
     "output_type": "stream",
     "text": [
      "C:\\Users\\saikr\\anaconda3\\lib\\site-packages\\urllib3\\connectionpool.py:1013: InsecureRequestWarning: Unverified HTTPS request is being made to host 'ffs.india-water.gov.in'. Adding certificate verification is strongly advised. See: https://urllib3.readthedocs.io/en/1.26.x/advanced-usage.html#ssl-warnings\n",
      "  warnings.warn(\n"
     ]
    },
    {
     "name": "stdout",
     "output_type": "stream",
     "text": [
      "021-MDSIL\n"
     ]
    },
    {
     "name": "stderr",
     "output_type": "stream",
     "text": [
      "C:\\Users\\saikr\\anaconda3\\lib\\site-packages\\urllib3\\connectionpool.py:1013: InsecureRequestWarning: Unverified HTTPS request is being made to host 'ffs.india-water.gov.in'. Adding certificate verification is strongly advised. See: https://urllib3.readthedocs.io/en/1.26.x/advanced-usage.html#ssl-warnings\n",
      "  warnings.warn(\n"
     ]
    },
    {
     "name": "stdout",
     "output_type": "stream",
     "text": [
      "009-mdsil\n"
     ]
    },
    {
     "name": "stderr",
     "output_type": "stream",
     "text": [
      "C:\\Users\\saikr\\anaconda3\\lib\\site-packages\\urllib3\\connectionpool.py:1013: InsecureRequestWarning: Unverified HTTPS request is being made to host 'ffs.india-water.gov.in'. Adding certificate verification is strongly advised. See: https://urllib3.readthedocs.io/en/1.26.x/advanced-usage.html#ssl-warnings\n",
      "  warnings.warn(\n"
     ]
    },
    {
     "name": "stdout",
     "output_type": "stream",
     "text": [
      "018-MDSIL\n"
     ]
    },
    {
     "name": "stderr",
     "output_type": "stream",
     "text": [
      "C:\\Users\\saikr\\anaconda3\\lib\\site-packages\\urllib3\\connectionpool.py:1013: InsecureRequestWarning: Unverified HTTPS request is being made to host 'ffs.india-water.gov.in'. Adding certificate verification is strongly advised. See: https://urllib3.readthedocs.io/en/1.26.x/advanced-usage.html#ssl-warnings\n",
      "  warnings.warn(\n"
     ]
    },
    {
     "name": "stdout",
     "output_type": "stream",
     "text": [
      "019-MDSIL\n"
     ]
    },
    {
     "name": "stderr",
     "output_type": "stream",
     "text": [
      "C:\\Users\\saikr\\anaconda3\\lib\\site-packages\\urllib3\\connectionpool.py:1013: InsecureRequestWarning: Unverified HTTPS request is being made to host 'ffs.india-water.gov.in'. Adding certificate verification is strongly advised. See: https://urllib3.readthedocs.io/en/1.26.x/advanced-usage.html#ssl-warnings\n",
      "  warnings.warn(\n"
     ]
    },
    {
     "name": "stdout",
     "output_type": "stream",
     "text": [
      "024- MDSIL\n"
     ]
    },
    {
     "name": "stderr",
     "output_type": "stream",
     "text": [
      "C:\\Users\\saikr\\anaconda3\\lib\\site-packages\\urllib3\\connectionpool.py:1013: InsecureRequestWarning: Unverified HTTPS request is being made to host 'ffs.india-water.gov.in'. Adding certificate verification is strongly advised. See: https://urllib3.readthedocs.io/en/1.26.x/advanced-usage.html#ssl-warnings\n",
      "  warnings.warn(\n"
     ]
    },
    {
     "name": "stdout",
     "output_type": "stream",
     "text": [
      "027- MDSIL\n"
     ]
    },
    {
     "name": "stderr",
     "output_type": "stream",
     "text": [
      "C:\\Users\\saikr\\anaconda3\\lib\\site-packages\\urllib3\\connectionpool.py:1013: InsecureRequestWarning: Unverified HTTPS request is being made to host 'ffs.india-water.gov.in'. Adding certificate verification is strongly advised. See: https://urllib3.readthedocs.io/en/1.26.x/advanced-usage.html#ssl-warnings\n",
      "  warnings.warn(\n"
     ]
    },
    {
     "name": "stdout",
     "output_type": "stream",
     "text": [
      "028- MDSIL\n"
     ]
    },
    {
     "name": "stderr",
     "output_type": "stream",
     "text": [
      "C:\\Users\\saikr\\anaconda3\\lib\\site-packages\\urllib3\\connectionpool.py:1013: InsecureRequestWarning: Unverified HTTPS request is being made to host 'ffs.india-water.gov.in'. Adding certificate verification is strongly advised. See: https://urllib3.readthedocs.io/en/1.26.x/advanced-usage.html#ssl-warnings\n",
      "  warnings.warn(\n"
     ]
    },
    {
     "name": "stdout",
     "output_type": "stream",
     "text": [
      "016-MBDGHY\n"
     ]
    },
    {
     "name": "stderr",
     "output_type": "stream",
     "text": [
      "C:\\Users\\saikr\\anaconda3\\lib\\site-packages\\urllib3\\connectionpool.py:1013: InsecureRequestWarning: Unverified HTTPS request is being made to host 'ffs.india-water.gov.in'. Adding certificate verification is strongly advised. See: https://urllib3.readthedocs.io/en/1.26.x/advanced-usage.html#ssl-warnings\n",
      "  warnings.warn(\n"
     ]
    },
    {
     "name": "stdout",
     "output_type": "stream",
     "text": [
      "01-11-06-003\n"
     ]
    },
    {
     "name": "stderr",
     "output_type": "stream",
     "text": [
      "C:\\Users\\saikr\\anaconda3\\lib\\site-packages\\urllib3\\connectionpool.py:1013: InsecureRequestWarning: Unverified HTTPS request is being made to host 'ffs.india-water.gov.in'. Adding certificate verification is strongly advised. See: https://urllib3.readthedocs.io/en/1.26.x/advanced-usage.html#ssl-warnings\n",
      "  warnings.warn(\n"
     ]
    },
    {
     "name": "stdout",
     "output_type": "stream",
     "text": [
      "01-11-03-001\n"
     ]
    },
    {
     "name": "stderr",
     "output_type": "stream",
     "text": [
      "C:\\Users\\saikr\\anaconda3\\lib\\site-packages\\urllib3\\connectionpool.py:1013: InsecureRequestWarning: Unverified HTTPS request is being made to host 'ffs.india-water.gov.in'. Adding certificate verification is strongly advised. See: https://urllib3.readthedocs.io/en/1.26.x/advanced-usage.html#ssl-warnings\n",
      "  warnings.warn(\n"
     ]
    },
    {
     "name": "stdout",
     "output_type": "stream",
     "text": [
      "012-MBDGHY\n"
     ]
    },
    {
     "name": "stderr",
     "output_type": "stream",
     "text": [
      "C:\\Users\\saikr\\anaconda3\\lib\\site-packages\\urllib3\\connectionpool.py:1013: InsecureRequestWarning: Unverified HTTPS request is being made to host 'ffs.india-water.gov.in'. Adding certificate verification is strongly advised. See: https://urllib3.readthedocs.io/en/1.26.x/advanced-usage.html#ssl-warnings\n",
      "  warnings.warn(\n"
     ]
    },
    {
     "data": {
      "text/html": [
       "<div>\n",
       "<style scoped>\n",
       "    .dataframe tbody tr th:only-of-type {\n",
       "        vertical-align: middle;\n",
       "    }\n",
       "\n",
       "    .dataframe tbody tr th {\n",
       "        vertical-align: top;\n",
       "    }\n",
       "\n",
       "    .dataframe thead th {\n",
       "        text-align: right;\n",
       "    }\n",
       "</style>\n",
       "<table border=\"1\" class=\"dataframe\">\n",
       "  <thead>\n",
       "    <tr style=\"text-align: right;\">\n",
       "      <th></th>\n",
       "      <th>stationCode</th>\n",
       "      <th>Date</th>\n",
       "      <th>Time</th>\n",
       "      <th>dataValue</th>\n",
       "      <th>datatypeCode</th>\n",
       "    </tr>\n",
       "  </thead>\n",
       "  <tbody>\n",
       "    <tr>\n",
       "      <th>0</th>\n",
       "      <td>010-MBDGHY</td>\n",
       "      <td>2016-04-07</td>\n",
       "      <td>00:00:00</td>\n",
       "      <td>17.47</td>\n",
       "      <td>HHS</td>\n",
       "    </tr>\n",
       "    <tr>\n",
       "      <th>1</th>\n",
       "      <td>010-MBDGHY</td>\n",
       "      <td>2016-04-07</td>\n",
       "      <td>01:00:00</td>\n",
       "      <td>17.44</td>\n",
       "      <td>HHS</td>\n",
       "    </tr>\n",
       "    <tr>\n",
       "      <th>2</th>\n",
       "      <td>010-MBDGHY</td>\n",
       "      <td>2016-04-07</td>\n",
       "      <td>02:00:00</td>\n",
       "      <td>17.40</td>\n",
       "      <td>HHS</td>\n",
       "    </tr>\n",
       "    <tr>\n",
       "      <th>3</th>\n",
       "      <td>010-MBDGHY</td>\n",
       "      <td>2016-04-07</td>\n",
       "      <td>03:00:00</td>\n",
       "      <td>17.36</td>\n",
       "      <td>HHS</td>\n",
       "    </tr>\n",
       "    <tr>\n",
       "      <th>4</th>\n",
       "      <td>010-MBDGHY</td>\n",
       "      <td>2016-04-07</td>\n",
       "      <td>04:00:00</td>\n",
       "      <td>17.32</td>\n",
       "      <td>HHS</td>\n",
       "    </tr>\n",
       "    <tr>\n",
       "      <th>...</th>\n",
       "      <td>...</td>\n",
       "      <td>...</td>\n",
       "      <td>...</td>\n",
       "      <td>...</td>\n",
       "      <td>...</td>\n",
       "    </tr>\n",
       "    <tr>\n",
       "      <th>2124068</th>\n",
       "      <td>012-MBDGHY</td>\n",
       "      <td>2022-07-26</td>\n",
       "      <td>17:00:00</td>\n",
       "      <td>25.04</td>\n",
       "      <td>HHS</td>\n",
       "    </tr>\n",
       "    <tr>\n",
       "      <th>2124069</th>\n",
       "      <td>012-MBDGHY</td>\n",
       "      <td>2022-07-26</td>\n",
       "      <td>18:00:00</td>\n",
       "      <td>25.03</td>\n",
       "      <td>HHS</td>\n",
       "    </tr>\n",
       "    <tr>\n",
       "      <th>2124070</th>\n",
       "      <td>012-MBDGHY</td>\n",
       "      <td>2022-07-26</td>\n",
       "      <td>19:00:00</td>\n",
       "      <td>25.03</td>\n",
       "      <td>HHS</td>\n",
       "    </tr>\n",
       "    <tr>\n",
       "      <th>2124071</th>\n",
       "      <td>012-MBDGHY</td>\n",
       "      <td>2022-07-26</td>\n",
       "      <td>20:00:00</td>\n",
       "      <td>25.03</td>\n",
       "      <td>HHS</td>\n",
       "    </tr>\n",
       "    <tr>\n",
       "      <th>2124072</th>\n",
       "      <td>012-MBDGHY</td>\n",
       "      <td>2022-07-26</td>\n",
       "      <td>21:00:00</td>\n",
       "      <td>25.03</td>\n",
       "      <td>HHS</td>\n",
       "    </tr>\n",
       "  </tbody>\n",
       "</table>\n",
       "<p>2124073 rows × 5 columns</p>\n",
       "</div>"
      ],
      "text/plain": [
       "        stationCode        Date      Time  dataValue datatypeCode\n",
       "0        010-MBDGHY  2016-04-07  00:00:00      17.47          HHS\n",
       "1        010-MBDGHY  2016-04-07  01:00:00      17.44          HHS\n",
       "2        010-MBDGHY  2016-04-07  02:00:00      17.40          HHS\n",
       "3        010-MBDGHY  2016-04-07  03:00:00      17.36          HHS\n",
       "4        010-MBDGHY  2016-04-07  04:00:00      17.32          HHS\n",
       "...             ...         ...       ...        ...          ...\n",
       "2124068  012-MBDGHY  2022-07-26  17:00:00      25.04          HHS\n",
       "2124069  012-MBDGHY  2022-07-26  18:00:00      25.03          HHS\n",
       "2124070  012-MBDGHY  2022-07-26  19:00:00      25.03          HHS\n",
       "2124071  012-MBDGHY  2022-07-26  20:00:00      25.03          HHS\n",
       "2124072  012-MBDGHY  2022-07-26  21:00:00      25.03          HHS\n",
       "\n",
       "[2124073 rows x 5 columns]"
      ]
     },
     "execution_count": 34,
     "metadata": {},
     "output_type": "execute_result"
    }
   ],
   "source": [
    "startDate = '2016-01-01'\n",
    "endDate = '2022-07-30'\n",
    "\n",
    "master_df = pd.read_csv('Waterlevel_assam_stations.csv')\n",
    "\n",
    "for stationCode in list(assam_stations_df.stationCode):\n",
    "    print(stationCode)\n",
    "    dynamic_url = 'https://ffs.india-water.gov.in/iam/api/new-entry-data/specification/sorted?sort-criteria=%7B%22sortOrderDtos%22:%5B%7B%22sortDirection%22:%22ASC%22,%22field%22:%22id.dataTime%22%7D%5D%7D&specification=%7B%22where%22:%7B%22where%22:%7B%22where%22:%7B%22expression%22:%7B%22valueIsRelationField%22:false,%22fieldName%22:%22id.stationCode%22,%22operator%22:%22eq%22,%22value%22:%22'+stationCode+'%22%7D%7D,%22and%22:%7B%22expression%22:%7B%22valueIsRelationField%22:false,%22fieldName%22:%22id.datatypeCode%22,%22operator%22:%22eq%22,%22value%22:%22HHS%22%7D%7D%7D,%22and%22:%7B%22expression%22:%7B%22valueIsRelationField%22:false,%22fieldName%22:%22dataValue%22,%22operator%22:%22null%22,%22value%22:%22false%22%7D%7D%7D,%22and%22:%7B%22expression%22:%7B%22valueIsRelationField%22:false,%22fieldName%22:%22id.dataTime%22,%22operator%22:%22btn%22,%22value%22:%22'+startDate+'T16:49:44.574,'+endDate+'T16:49:44.574%22%7D%7D%7D'\n",
    "    r = requests.get(dynamic_url,verify=False)\n",
    "    txt = r.json()\n",
    "    df = pd.DataFrame(txt)\n",
    "    df['Date'] = df.id.apply(lambda x: x['dataTime'].split('T')[0])\n",
    "    df['Time'] = df.id.apply(lambda x: x['dataTime'].split('T')[1])\n",
    "    df = df[['stationCode','Date','Time','dataValue','datatypeCode']]\n",
    "    master_df = pd.concat([master_df,df],ignore_index=True)\n",
    "    master_df.to_csv('Waterlevel_assam_stations.csv',index=False)\n",
    "\n",
    "\n",
    "master_df\n"
   ]
  },
  {
   "cell_type": "markdown",
   "id": "269a3296",
   "metadata": {},
   "source": [
    "## References:\n",
    "1. https://pib.gov.in/newsite/PrintRelease.aspx?relid=181066\n",
    "2. http://jalshakti-dowr.gov.in/schemes-projects-programmes/schemes/flood-forecasting\n",
    "3. https://indiawris.gov.in/wiki/doku.php?id=cwc_national_flood_forecasting_network\n",
    "4. http://iced.cag.gov.in/wp-content/uploads/2016-17/NTP%2002/VD%20Roy.pdf\n",
    "5. http://cwc.gov.in/sites/default/files/final-appraisal-report-2020-publication-no..pdf"
   ]
  },
  {
   "cell_type": "markdown",
   "id": "d2b2d788",
   "metadata": {},
   "source": [
    "There are three divisions in Assam:\n",
    "1. Upper Brahmaputra Division, Dibrugarh (UBDDIB): As per 2020, 19 stations\n",
    "2. Middle Brahmaputra Divison, Guwahati (MBDGHY): As per 2020, 15 stations\n",
    "3. Lower Brahmaputra Division, Jalpaiguri (LBDJPG): As per 2020, 8 stations"
   ]
  },
  {
   "cell_type": "code",
   "execution_count": 12,
   "id": "df473c56",
   "metadata": {},
   "outputs": [
    {
     "data": {
      "text/html": [
       "<div>\n",
       "<style scoped>\n",
       "    .dataframe tbody tr th:only-of-type {\n",
       "        vertical-align: middle;\n",
       "    }\n",
       "\n",
       "    .dataframe tbody tr th {\n",
       "        vertical-align: top;\n",
       "    }\n",
       "\n",
       "    .dataframe thead th {\n",
       "        text-align: right;\n",
       "    }\n",
       "</style>\n",
       "<table border=\"1\" class=\"dataframe\">\n",
       "  <thead>\n",
       "    <tr style=\"text-align: right;\">\n",
       "      <th></th>\n",
       "      <th>stationCode</th>\n",
       "      <th>Date</th>\n",
       "      <th>Time</th>\n",
       "      <th>dataValue</th>\n",
       "      <th>datatypeCode</th>\n",
       "    </tr>\n",
       "  </thead>\n",
       "  <tbody>\n",
       "    <tr>\n",
       "      <th>0</th>\n",
       "      <td>010-MBDGHY</td>\n",
       "      <td>2016-04-07</td>\n",
       "      <td>00:00:00</td>\n",
       "      <td>17.47</td>\n",
       "      <td>HHS</td>\n",
       "    </tr>\n",
       "    <tr>\n",
       "      <th>1</th>\n",
       "      <td>010-MBDGHY</td>\n",
       "      <td>2016-04-07</td>\n",
       "      <td>01:00:00</td>\n",
       "      <td>17.44</td>\n",
       "      <td>HHS</td>\n",
       "    </tr>\n",
       "    <tr>\n",
       "      <th>2</th>\n",
       "      <td>010-MBDGHY</td>\n",
       "      <td>2016-04-07</td>\n",
       "      <td>02:00:00</td>\n",
       "      <td>17.40</td>\n",
       "      <td>HHS</td>\n",
       "    </tr>\n",
       "    <tr>\n",
       "      <th>3</th>\n",
       "      <td>010-MBDGHY</td>\n",
       "      <td>2016-04-07</td>\n",
       "      <td>03:00:00</td>\n",
       "      <td>17.36</td>\n",
       "      <td>HHS</td>\n",
       "    </tr>\n",
       "    <tr>\n",
       "      <th>4</th>\n",
       "      <td>010-MBDGHY</td>\n",
       "      <td>2016-04-07</td>\n",
       "      <td>04:00:00</td>\n",
       "      <td>17.32</td>\n",
       "      <td>HHS</td>\n",
       "    </tr>\n",
       "    <tr>\n",
       "      <th>...</th>\n",
       "      <td>...</td>\n",
       "      <td>...</td>\n",
       "      <td>...</td>\n",
       "      <td>...</td>\n",
       "      <td>...</td>\n",
       "    </tr>\n",
       "    <tr>\n",
       "      <th>2124068</th>\n",
       "      <td>012-MBDGHY</td>\n",
       "      <td>2022-07-26</td>\n",
       "      <td>17:00:00</td>\n",
       "      <td>25.04</td>\n",
       "      <td>HHS</td>\n",
       "    </tr>\n",
       "    <tr>\n",
       "      <th>2124069</th>\n",
       "      <td>012-MBDGHY</td>\n",
       "      <td>2022-07-26</td>\n",
       "      <td>18:00:00</td>\n",
       "      <td>25.03</td>\n",
       "      <td>HHS</td>\n",
       "    </tr>\n",
       "    <tr>\n",
       "      <th>2124070</th>\n",
       "      <td>012-MBDGHY</td>\n",
       "      <td>2022-07-26</td>\n",
       "      <td>19:00:00</td>\n",
       "      <td>25.03</td>\n",
       "      <td>HHS</td>\n",
       "    </tr>\n",
       "    <tr>\n",
       "      <th>2124071</th>\n",
       "      <td>012-MBDGHY</td>\n",
       "      <td>2022-07-26</td>\n",
       "      <td>20:00:00</td>\n",
       "      <td>25.03</td>\n",
       "      <td>HHS</td>\n",
       "    </tr>\n",
       "    <tr>\n",
       "      <th>2124072</th>\n",
       "      <td>012-MBDGHY</td>\n",
       "      <td>2022-07-26</td>\n",
       "      <td>21:00:00</td>\n",
       "      <td>25.03</td>\n",
       "      <td>HHS</td>\n",
       "    </tr>\n",
       "  </tbody>\n",
       "</table>\n",
       "<p>2124073 rows × 5 columns</p>\n",
       "</div>"
      ],
      "text/plain": [
       "        stationCode        Date      Time  dataValue datatypeCode\n",
       "0        010-MBDGHY  2016-04-07  00:00:00      17.47          HHS\n",
       "1        010-MBDGHY  2016-04-07  01:00:00      17.44          HHS\n",
       "2        010-MBDGHY  2016-04-07  02:00:00      17.40          HHS\n",
       "3        010-MBDGHY  2016-04-07  03:00:00      17.36          HHS\n",
       "4        010-MBDGHY  2016-04-07  04:00:00      17.32          HHS\n",
       "...             ...         ...       ...        ...          ...\n",
       "2124068  012-MBDGHY  2022-07-26  17:00:00      25.04          HHS\n",
       "2124069  012-MBDGHY  2022-07-26  18:00:00      25.03          HHS\n",
       "2124070  012-MBDGHY  2022-07-26  19:00:00      25.03          HHS\n",
       "2124071  012-MBDGHY  2022-07-26  20:00:00      25.03          HHS\n",
       "2124072  012-MBDGHY  2022-07-26  21:00:00      25.03          HHS\n",
       "\n",
       "[2124073 rows x 5 columns]"
      ]
     },
     "execution_count": 12,
     "metadata": {},
     "output_type": "execute_result"
    }
   ],
   "source": [
    "master_df = pd.read_csv('Waterlevel_assam_stations.csv')\n",
    "master_df"
   ]
  }
 ],
 "metadata": {
  "kernelspec": {
   "display_name": "Python 3 (ipykernel)",
   "language": "python",
   "name": "python3"
  },
  "language_info": {
   "codemirror_mode": {
    "name": "ipython",
    "version": 3
   },
   "file_extension": ".py",
   "mimetype": "text/x-python",
   "name": "python",
   "nbconvert_exporter": "python",
   "pygments_lexer": "ipython3",
   "version": "3.9.7"
  }
 },
 "nbformat": 4,
 "nbformat_minor": 5
}
